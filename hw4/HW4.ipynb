{
 "cells": [
  {
   "cell_type": "code",
   "execution_count": 1,
   "id": "febf97e8",
   "metadata": {},
   "outputs": [
    {
     "name": "stdout",
     "output_type": "stream",
     "text": [
      "[name: \"/device:CPU:0\"\n",
      "device_type: \"CPU\"\n",
      "memory_limit: 268435456\n",
      "locality {\n",
      "}\n",
      "incarnation: 7314146411290390110\n",
      "xla_global_id: -1\n",
      "]\n"
     ]
    }
   ],
   "source": [
    "from tensorflow.python.client import device_lib\n",
    "print(device_lib.list_local_devices())"
   ]
  },
  {
   "cell_type": "code",
   "execution_count": 2,
   "id": "55528c01",
   "metadata": {},
   "outputs": [
    {
     "name": "stdout",
     "output_type": "stream",
     "text": [
      "Downloading data from https://storage.googleapis.com/tensorflow/tf-keras-datasets/imdb.npz\n",
      "17464789/17464789 [==============================] - 0s 0us/step\n"
     ]
    }
   ],
   "source": [
    "from tensorflow.keras.datasets import imdb\n",
    "(train_data, train_labels), (test_data, test_labels) = imdb.load_data(\n",
    "    num_words=10000)"
   ]
  },
  {
   "cell_type": "code",
   "execution_count": 3,
   "id": "810403c2",
   "metadata": {},
   "outputs": [
    {
     "data": {
      "text/plain": [
       "array([0, 1, 0, 1, 0, 0, 0, 1, 1, 1, 1, 0, 0, 1, 1, 1, 0, 1, 0, 0, 0, 0,\n",
       "       1, 0, 1, 1, 0, 1, 1, 1, 1, 1, 0, 1, 1, 1, 1, 0, 0, 1, 0, 0, 1, 0,\n",
       "       1, 0, 0, 0, 1, 1, 1, 1, 1, 1, 1, 1, 0, 0, 0, 0, 1, 0, 1, 1, 0, 1,\n",
       "       1, 0, 1, 1, 0, 0, 1, 1, 0, 1, 0, 0, 0, 0, 1, 0, 0, 1, 1, 1, 1, 0,\n",
       "       0, 1, 0, 0, 1, 1, 0, 1, 1, 0, 0, 1], dtype=int64)"
      ]
     },
     "execution_count": 3,
     "metadata": {},
     "output_type": "execute_result"
    }
   ],
   "source": [
    "train_labels[1000:1100] "
   ]
  },
  {
   "cell_type": "code",
   "execution_count": 4,
   "id": "3000d80a",
   "metadata": {},
   "outputs": [
    {
     "name": "stdout",
     "output_type": "stream",
     "text": [
      "Downloading data from https://storage.googleapis.com/tensorflow/tf-keras-datasets/imdb_word_index.json\n",
      "1641221/1641221 [==============================] - 0s 0us/step\n"
     ]
    }
   ],
   "source": [
    "word_index = imdb.get_word_index() #1\n",
    "reverse_word_index = dict(\n",
    " [(value, key) for (key, value) in word_index.items()]) #2\n",
    "\n",
    "article_list = []\n",
    "for n in range(1000,1100):\n",
    "    decoded_review = \" \".join([reverse_word_index.get(i - 3, \"?\") for i in train_data[n]]) #3 \n",
    "    article_list.append((n,decoded_review))"
   ]
  },
  {
   "cell_type": "code",
   "execution_count": 5,
   "id": "e852f1a7",
   "metadata": {},
   "outputs": [
    {
     "data": {
      "text/plain": [
       "[(1000,\n",
       "  \"? although i had seen ? in a theater way back in ? i couldn't remember anything of the plot except for vague images of kurt thomas running and fighting against a backdrop of stone walls and disappointment regarding the ending br br after reading some of the other reviews i picked up a copy of the newly released dvd to once again enter the world of ? br br it turns out this is one of those films produced during the '80s that would go directly to video today the film stars champion ? kurt thomas as jonathan ? ? out of the blue to ? the nation of ? to enter and hopefully win the game a ? ? ? by the khan who encourages his people by yelling what sounds like ? power the goal of the mission involves the star wars defense system jonathan is trained in the martial arts by princess ? who never speaks or leaves the house once trained tries to blend in with the locals by wearing a bright red ? with ? of blue and white needless to say ? finds himself running and fighting for his life along the stone streets of ? on his way to a date with destiny and the game br br star kurt thomas was ill served by director robert ? who it looks like was never on the set the so called script is just this side of incompetent see other reviews for the many ? throughout the town of ? has a few good moments but is ultimately ruined by bad editing the ending ? still there's the ? of a good action adventure here a hong kong version with more visceral action and faster pace might even be pretty good\"),\n",
       " (1001,\n",
       "  \"? i had never seen a silent movie until july 24 2005 i had never seen a movie with mary pickford in it i've seen thousands of movies very few are hypnotic to me i found last of the ? and unforgettable ray liotta to be hypnotic so consider the source as you read this i started watching tess of the storm country on tcm just to see who this mary pickford was who has been credited by many for ? hollywood i had no idea what i was in for two hours later i ? out of it and realized i'd watched one of the most beautiful women i had ever seen playing a role perfectly suited to her imagine a movie fan in ? having never seen anyone that gorgeous and that ? before you would have to see her again and again the setting was perfect for a girl that ? she was a poor ? couldn't speak the king's english but you had to admire her what a movie time to start my mary pickford movie collection\"),\n",
       " (1002,\n",
       "  \"? apparently most viewer knows nothing about the history of europe including germany ? and the whole central and eastern europe as well as the hitler and ? era ? and a lot of forgotten trials all over europe was a revenge and injustice of the winners what do you think why were not any american british french or soviet ? after the wwii there were no american british etc war crimes there were no ? no ? no tokyo no ? no ? no berlin no ? and so on the germans had war crimes too but in ? the justice was not a real consideration the main point was ? ? germany must ? that was also a book title in america 1941 br br this film is an awful ? american ? ? full of error lie propaganda prejudice and injustice and first of all full of ? but not surprisingly why wasn't enough the ? process itself this film is a nightmare total darkness after 60 years this darkness and hate and ? and lack of self criticism is the real cause of the ? in korea vietnam cambodia ? iraq and so forth and there are no american war criminals bravo america very clever even ? would become ? of it\"),\n",
       " (1003,\n",
       "  '? very slight spoiler br br this movie despite being only on tv is absolutely excellent i ? t really pay attention to the differences in looks or accents so i can t really comment on that the acting in this was so good i had to ? myself and say remember it s only a movie this ? t really happen as i sat and listened to harris and quinn talk i knew that it was exactly what john and paul would be talking about had they actually had this meeting the ? comments and burns from john were right on with his character especially in the restaurant as was his depression while paul was very easy going and laid back both actors did and excellent job and i was thrilled to have seen this movie it s a wicked experience for any beatles fan and prepare for a few surprises'),\n",
       " (1004,\n",
       "  \"? in one respect it's like 'the wizard of oz ' with paris in black and white and the ? in color but it's supposedly about ? love ? and moral ? while actually being about designer ? shots of the ? lots of big expensive cars and music and dancing ? that suggest ? minnelli on one of his off days watchable but a remarkable example of desperate dark plot material and ? style heading in opposite directions was this the model for 'the talented mister ? does anyone sense an ? between jean ? and matt damon\"),\n",
       " (1005,\n",
       "  '? i bought this dvd without any previous reference but the names of john huston ? welch mae west and farrah fawcett on its cover i found the brazilian title very weird but i decided to watch expecting to see a funny comedy maybe like switch however the non sense story is awful and hard to be described ? ? rex reed is ? to a surgery to change his sex in ? and he returns to hollywood telling that she is to be myra ? ? welch and claiming half the property of his uncle buck loner john huston along the days myra and her alter ego ? corrupt a young couple in her ? academy with kinky sex in a certain moment the messy screenplay is so confused that i believe the whole story was only a mind trip of ? induced by the accident unfortunately the ? of ? welch and farrah fawcett are not enough to hold this flick my vote is three br br title brazil ? ? ? ? ? man woman up to a point'),\n",
       " (1006,\n",
       "  \"? the premise is amazing and the some of the acting notably sally ? and anthony ? is charming but this film is near unwatchable the music sounds as if it comes from some sort of the ? free online site and the lyrics as if they were written with a ? ? open on the lap most of the singing is off key i think they may have filmed with the singing ? and put in the music under it the dialogue is really stupid and trite the movie works best when it is actually talking about the real estate but unfortunately it ? to often into stupid ? sub plots i found myself checking my watch after ? first twenty minutes and after 40 wondering ? is it ever going to end '\"),\n",
       " (1007,\n",
       "  \"? martin sheen michelle phillips stuart ? and the late ? ? are the human stars of this movie about a young man looking for answers about his brother's death mr sheen mr ? and mr ? all turn in first rate performances in their respective roles ms phillips has the slightly less than ? task of trying to spice up a made for tv movie twenty five years ago by ? the sex interest in an otherwise ? film the real star however is the california kid a 1934 ford ? borrowed from jake ? put before a camera and given a ? that'll leave the viewer ? ? and holding the edge of the seat with breathless anticipation br br the action scenes are spectacular although some of the dialog is a bit lame making for a fine ? ? this is how all car movies should be made br br try to catch this one on the late movie channel it's well worth the missed sleep\"),\n",
       " (1008,\n",
       "  \"? when i read other comment i decided to watch this movie br br first cast specially michael madsen and ? ? good enough br br film very intelligence and interesting because cast have a lot of international specially european actor and actress like from turkey and ? br br second story is basic and you can guess but if you interesting action good play you'll like in my opinion br br third final chapter is not special or interesting it's regular like other action movies br br finally i recommend to watch this movie and i hope you'll love it enjoy d\"),\n",
       " (1009,\n",
       "  \"? this is one of those movies like dave american ? and local hero that holds a viewer's interest time and again lightweight movies seldom win oscars but whoever did the casting for ? deserves one even after one has seen the movie and knows what is coming it's still enjoyable to watch how the various plot ? develop true all the drama is melodrama but that's entirely fitting for a movie with a soap opera background my favorite line comes from whoopi goldberg now why can't i write sh t like that i think it's unfortunate that the tv and website censors insist on all this unnecessary ?\"),\n",
       " (1010,\n",
       "  \"? i went to see hamlet because i was in between jobs i figured 4 hours would be great i've been a fan of branagh dead again henry v i was completely overwhelmed by the direction acting cinematography that this film captured like other reviews the 4 hours passes ? branagh doesn't play hamlet he is hamlet he was born for this when i watch this film i'm constantly trying to find faults i've looked at the goofs and haven't noticed them how he was able to move the camera in and out of the hall with all the mirrors is a mystery to me this movie was shot in 70 ? it's a shame that columbia hasn't released a widescreen version of this on vhs i own a dvd player and i'd take this over titanic any day so columbia if you're listening put this film out the way it should be watched and i don't know what happened at the oscars this should have swept best picture best actor best direction best cinematography what films were they watching i felt sorry for branagh at the oscars when he did a tribute to shakespeare on the screen they should have been giving a tribute to branagh for bringing us one of the greatest films of all time\"),\n",
       " (1011,\n",
       "  \"? i just watched this movie in one word ? the story is bad the acting is if possible even worse the movie has one or two nice moments but thats it and having those two small good moments doesn't make up for anything in between before or after those moments a ? of a movie not even worth watching on tv\"),\n",
       " (1012,\n",
       "  \"? n b spoilers within ? an artistic director to an operatic production naturally and inevitably means you are going to get a piece of that director's mind but directing a wagner opera is an especially ? task as he was perhaps the most explicit opera composer in terms of what things should look like and how they should unfold hans ? ? loads this filming of ? ? final masterpiece with enough ? ideas to cause it to nearly burst at the ? you get more than a piece of the director you get the whole ? ? and then some ? is to be admired for his ? for ? back the covers on the ? aspects of german history but does it work to ? that desire to a wagner opera already ? with its own concepts br br the scenes with the knights of the holy grail in acts i and iii are especially laden with visual allegory and symbolism these are drawn come from ? own time from long before and go well beyond if you know what these things mean they can ? ? vision for you but not necessarily enhance ? vision if you don't know what they mean they're simply confusing if not annoying i won't bother ? the plot of the opera here suffice it to say it is a typical ? ? of diverse elements in this case a ? of the holy grail legend with the principles practices and ? of christianity the theme of redemption plays the main role here as in nearly every wagner opera br br i personally had to sweat to get through ? first act amidst my jarring ? the music saved the day but act ii picks up the pace here we meet ? the evil ? out to ? the wandering innocent fool ? the greatest ? of them all ? will be used to ? him to the dark side after an initial ? with more symbols these get stripped away and the long gorgeous ? ? between young fool and ? really takes off finally the film starts working a genuine magic and it is ? due to ? choosing to set things naturally and simply suddenly the acting starts to work the ? actress edith clever and the ? soprano of ? ? team to create a wondrous ? suddenly the music seems to come to life and make vivid the inner turmoil of the two characters the camera work stays simple and quietly fluid in other words wagner is allowed to tell his story more on his own terms and it works beautifully for me it was the most engrossing part of the film br br with the re entrance of the knights in part 2 of act iii the weird ? ? unfortunately creep back in some other loony ? ideas using a huge wagner death mask as a major set piece causing the ? ? ? to ? ? large dressing the act iii knights in all manner of costumes ? and makeup what is the director saying that the knights are a bunch of ? that they express multiple or timeless layers of significance beyond their surface functions it's ? guess the ? \\x96 just after the incredibly touching ? of ? by ? \\x96 of rear projection footage of the conductor ? in modern day realism his orchestra in the studio this completely ? my dramatic thread ? a few minutes to ? the complete ? of having any time pass between acts ii and iii when we meet the knight and narrator ? again he should be an old old man and ? should re emerge as a world weary but ? middle aged man but certainly the most bizarre stroke is to split the ? character into male female ? some find this the most brilliant stroke no doubt i can credit ? ? who plays ? 2 with acting of strength and dignity she also happens to be the best lip ? of the whole cast but please ? conception of ? is already so complex his growth from a completely innocent boy who knows nothing of his past to his breakthrough realization in act ii of what ? eternal wound means and how it has become his own to his return as the great ? of act iii \\x96 this is the journey of a masterfully constructed character the ? sexual emphasis is just ? and absurd and what's with this nonsense about a ? ? and ? can't we just accept a mentor apprentice relationship which is ? ? in act iii br br the ? ? ? under ? jordan plays with passion and beauty though the chorus is disappointing but after watching this film i only wanted to whip out my ? led recording highly recommended and get my ? ? straight again the film experience for me ? from bizarre to entertaining to ? to ? credit he's created a visually ? work and he certainly offers a unique take on an important opera but instead of sticking to ? he seems to have wanted to bring in all things ? the man the life the enormous influence all of it in crude symbolic code ? the opera is already full of ? symbolism the grail the ? the holy ? ? ? ever bleeding wound ? self ? the kiss ? curse and on and on this is not to mention the musical symbolism sounding constantly in the score in the form of ? ? system ? itself is one huge symbol getting back to my first paragraph question ? whole ? is all way too much for me but if this project sounds like something to ? your fancy then go for it i won't recommend just staying away from this you may find yourself ? satisfied or if you need something to crack your wagner ? try it but please please don't stop here ? is in a late very ? league of its own\"),\n",
       " (1013,\n",
       "  \"? i'm a big fan of morgan freeman 'the ? ? ranks at the top of my all time favorite movies but i have to admit that i have often wondered about his choice of roles so many of his titles were big budget clichés with no heart ? items or ? for me marks the return of freeman to a role that truly showcases his considerable acting talents br br freeman plays an ? ? big time hollywood actor who hasn't worked in several years he has been offered a part in an ? ? picture for which he is doing some research at a ? store in a poor neighborhood in la after being stranded there by his ? driver freeman is offered a ride home by ? girl scarlet paz vega whom he has semi ? before she can take him home however scarlet has a big job interview she needs to get to and freeman agrees to tag along in exchange for the ride br br the movie follows scarlet and freeman to several locations but the movie is really just a character piece about the interactions between the two freeman is the quintessential ? hollywood type who hasn't heard of target and doesn't know his own ? number or even what day of the week it is he ? wisdom from the ? ? ? thru his 'the whole world is but a ? mentality and repeatedly calls ? job interview an ? and yet he has a way with people a way of affecting them that ? beyond his fame he is a fan of humanity he studies them asks ? questions about them and ? in their quirks where others would simply be annoyed in scarlet he sees the stubborn proud loner that he was he sees the man he used to be br br scarlet for her part displays a fierce pride and sharp tongue that serve to hide her own ? about herself vega plays the role with a connection to freeman that ? the line between an almost ? love and physical attraction although she plays it beautifully and it's not at all as creepy as it sounds but even as she feels her connection to freeman grow scarlet has a keen eye for the reality of their different worlds and cuts thru ? hollywood bull hit with a sharp ? that refuses to accept anything but the truth br br the movie is smart funny and well written with dialogue that is simple but effective i read one imdb review that said the lines were ? which i think is a ? of realistic human speech there are no big ? here no deep soul searching moments and so the trick is i think to show how people in ordinary everyday life can ? connections with one another and i think freeman and vega pull it off beautifully painting a picture of a bond between two people that ? like sun on the ocean ? and ? long after it's gone it lives on in your memories ? you with what might have been ok that was a bit ? but i really did like the performances and the movie i would definitely recommend it\"),\n",
       " (1014,\n",
       "  \"? they had me from the first show br br welcome to ? county a sleepy little ? like place with one slight difference the sheriff is really satan there's the spoiler not like you wouldn't figure it out in 10 minutes anyway br br oh but that's not all it turns out that satan has a son named ? some people are trying to keep him good but it's an ? battle sheriff buck satan knows who ? is and likes to spend time with him teaching him the ways of darkness subtle ? he doesn't always come off as evil most of the time he's a hero everyone owes him a big favor because he often sets up a ? and saves them from it so every time you think someone will finally take him down one of his friends comes out of nowhere to ? it br br in one of my favorite episodes lucas and ? were out in the woods in a cabin and some guys with guns decided to rob them lucas used it as an excuse to teach ? a lesson about evil br br the ? ted was ? to shoot them lucas told ? that ted had half a conscience if he had no conscience he would have shot them by now if he had a real conscience he never would have become a criminal so he started calling him half ted it was pretty funny he was ? the criminals and of course he stayed 10 steps ahead of half ted at all times and of course he was in complete control at all times they actually had you ? satan br br very very excellent show it was one of my favorite horror shows of all time twilight zone night stalker circle of fear american gothic supernatural br br that's good company\"),\n",
       " (1015,\n",
       "  \"? paris je t'aime 2006 is a film made up of 18 segments you can do the ? 18 segments in ? minutes means each director had seven minutes to tell her or his story the movie is based on the premise that you can indeed tell a story in that short amount of time the premise works almost all of the segments are powerful complete and satisfying each presents a different aspect of the ? experience and almost every director draws forth outstanding performances from a cast of great and near great actors br br there were so many powerful portrayals in this film that it's hard to pick one or two favorites probably the most memorable to me were juliette ? as a ? mother in the segment place des ? gena rowlands as an aging beauty in ? latin ? ? ? as a maid in the segment ? du ? and ? ? as a ? mail ? who has learned to speak french so she can visit paris ? ? segment br br special mention must be given to ? ? probably the ? little boy to ever ? an american tourist in a ? ? station segment ? br br this is an outstanding movie my wife and i decided to rent it in a few months so we can catch some of the subtle points we surely missed however paris is photographed so beautifully that i would suggest that you try to see it on a large screen in any case don't miss it\"),\n",
       " (1016,\n",
       "  \"? what was with all the turkish actors no offense but i thought it was all for nothing for all these actors the film had no script to test any actors acting skill or ability it ? next to nothing i bought this film to see michael madsen he is one of my favorite actors but this film was another failure for him the script was so bad their was just nothing to sink your teeth into and all the characters were two dimensional madsen tried to act like a hard ass but the script and direction didn't even allow him to do enough with his character to make it more interesting or 3 dimensional br br even the sound effects of the ? at the beginning of the film sounded like the noise of paint ball guns when they are fired in a ? it was really weird and they didn't sound like real guns a video game had better sound effects than this film there was also a really annoying bloke at the beginning of the film who was a member of the robbery gang he had this american whining voice like a girl shouting lines like lets get the f k out of here and what are we going to do man he sounded like a girl as a positive it was funny to watch and it made me laugh too for a few seconds ? ? dumb film poor madsen he will ? back\"),\n",
       " (1017,\n",
       "  '? this is one of the funniest movies that i have seen this year the people that made it must be so incredibly whacked and twisted it is a beautiful thing there were a lot of quality one liners this movie blew uncle sam out of the water it was made by ? same people i think'),\n",
       " (1018,\n",
       "  \"? as others have noted this movie is criminally inaccurate in its portrayal of the ? life and i for one was very annoyed and offended by its transformation of her rape into a tragic love affair by the ? that her rapist was responsible for ? her talent ' by its complete disregard for her work by the way it turned her into a sex object on and on you get the idea also i find it disturbing that people who aren't familiar with ? will see this film and walk away with that kind of impression of her\"),\n",
       " (1019,\n",
       "  \"? the sun was not shining it was too wet to play so i went to the movies that cold cold wet date day br br the cat in the hat was the name of the flick and when it was over my stomach was sick br br mike myers played the cat his humor was lame and kids ? see this the humor was not tame br br the film was like drinking milk from a ? cow so it is fun to have fun yet the filmmakers didn't know how br br this film in short is atrocious the acting was bad the plot was ? too much and the humor was surprisingly very crude br br it starts with conrad and sally a rule ? and a future sheriff when their mother has to go to work she gets mrs ? to ? possibly the lone funny part in the movie is when mrs ? is watching a ? court room a la c span she soon falls asleep and here comes the cat br br the film starts to spiral out of control the cat came to try to let the kids have some fun he's got thing 1 and thing 2 who suddenly start ? the house he ? a tv ? and accidentally ? his tail off and when the cat goes full carmen miranda it's not funny possibly his only funny disguise is as a hippie ? and there's a fish who tries warning the kids about the cat br br too bad he didn't warn us this film was as much fun as sour milk or ? your tail off br br soon the kids are outside looking for the family dog who has the key to a ? on his collar if the ? is not locked soon their house will be home to the ? universe here it gets a little more interesting but not enough to save the film br br the acting overall is horrible mike meyers brings his brand of ? austin powers humor to the cat saying things like you dirty ho and imagining himself as a woman for the rest of his life after a ? in the ? while posing as a ? spencer ? is great as the trouble making conrad and ? fanning is cute as sally though they alone are not enough to save this horrendous ? ? waiting to kill john ritter accident waiting to happen alec ? slick and ? lawrence quinn is disgusting ever trying to woo the kids mom who is played by kelly preston and sean hayes is mr ? mom's boss and is also the voice of the fish the latter three are also bland br br overall if i were a parent i would not take my kids who are into ? humor cause there's plenty of it and more save your 7 00 and see something else as the late great dr seuss once said br br it is fun to have fun but you have to know how really universal stop ? already turning over in his grave br br like my mom always says ? killed the cat the cat in the hat out of\"),\n",
       " (1020,\n",
       "  \"? okay i rented this movie because of the director he has made some interesting flicks in the past if you haven't seen ? you are missing a fun ride anyway i had my doubts about this movie from the beginning but i decided to suck it up and give it a look it's bad very bad if you haven't seen the movie and don't mind spoilers read ahead first of all the old saying ? can't judge a book by it's ? applies here the box for this flick seems to indicate that jill is the stone fox with long hair with highlights the back of the box has a cool shot of the red leather jill and some other shots the description makes you want to rent the movie because it sounds good you start watching it and suddenly you find out that the movie takes place inexplicably in 1977 jill is a total dog who is not the girl on the cover the movie is not quite as predictable as you would think and that's not a good thing characters do so many stupid things without any ? of motivation it's embarrassing to watch 10 minutes before the end of the movie dolph and another lady have sex for no good reason also what was the point of having dolph kill this other lady in cold blood who had been helping him anthony ? the director should have seen a stinker when he read the script had it been set in the underworld of the new ? and made the characters halfway intelligent it might have been decent to set it in the 70's makes no sense and has no bearing on the story whatsoever avoid it\"),\n",
       " (1021,\n",
       "  \"? this movie feels so empty in every scene in the movie the maximum number of actors on the screen is like 10 because everything was shot in front of a blue screen there are never really any extras and the movie just feels weird br br the acting was horrible it's so obvious this was in front of a blue screen because all of the action scenes you can see the actor actress wondering around half running when they should be running for their lives looking at the floor for their marks br br spoilers also you'll find yourself ? your head watching the movie at one point at sky ? home base they have like 100 planes sitting on the ? they have advanced warning an attack is coming so what do they do nothing all of the planes get blown up and yet again the only person fighting back is the sky captain br br the entire world is under attack and he's the only person ever fighting back at the very end of the movie you see hundreds of ? taking off finally but what do they do nothing the movie is over\"),\n",
       " (1022,\n",
       "  \"? it may have not been up for academy awards and admittedly it's pretty cheesy but it's just so much fun nothing makes me smile like bill and ted lovable optimistic and hilarious bill and ted are a great way to ? br br although i love excellent adventure bogus journey is funnier to me death is ? hilarious and bill and ted are even more endearing people give me grief about loving this movie but only really pretentious movie ? will say it's not even a bit entertaining if you like this you'll probably also be a fan of wayne's world dude where's my car and dumb and dumber admit it though foolish they make you grin and turn your ? box over so watch them just for kicks and ?\"),\n",
       " (1023,\n",
       "  \"? two kinds of movies we like are 1 westerns and 2 movies from 30 or 40 years ago we ought to have liked a man called ? but br br but this picture is ? annoying and stupid from start to finish since there is nobody in the story good or bad to warm up to there is nobody to ? the necessary suspense to keep the viewer interested no ? among the guys trying to steal the gold and no ? among those trying to protect it ? has a pretty girl friend but there's no reason why she ? all over the guy or why she wants to be in the same room with this no account pig br br the film also suffers from an ? and ? musical score and from extremely bad writing and direction by ? ? br br of the last 30 older movies rented from netflix or video vault this was the rock bottom the only true dud in the bunch\"),\n",
       " (1024,\n",
       "  \"? this is the best movie i have ever seen br br i've seen the movie on dutch television sometime in 1988 br br that month they were showing a ? movie every sunday night br br the next week there was another great movie involving a train rather than a bus the name of which i don't remember if you know it please let me know in any case how can i get to see this movie again a dvd of this movie where please tell me at ? let ? ? br br the next week there was another great movie involving a train rather than a bus the name of which i don't remember if you know it please let me know in any case how can i get to see this movie again a dvd of this movie where please tell me at ? let ? ?\"),\n",
       " (1025,\n",
       "  \"? as a fan of author john le ? i've slowly been working my way through both his books and the adaptations of them i found this 1987 adaptation of le ? ? at my local library and sat down to watch it thinking i would know what to expect i was surprised to discover that my expectations were ? in this miniseries a fine cross between a spy thriller and a human drama br br peter ? gives a great performance as ? ? the perfect spy of the title carrying on in the long tradition of le ? strong main characters ? is also quite possibly the best ? plays ? who in fact contains many shades of author le ? as a man forced to spend his entire life lying and ? sometimes out of ? and other times just to survive with the consequence of him becoming a perfect spy ? plays ? to perfection as a man always on the run if not from others then from himself ? alone makes the six or so hours of this miniseries worth seeing from his performance alone br br ? ? is a fantastic supporting cast ray ? gives one of his finest performances as ? con man father rick who as le ? has said is based strongly on the author's own father ? plays a man who comes in and out of ? life and is one of the those responsible for ? becoming a perfect spy in fact if it wasn't for ? performance a year after this in a very british coup this would the finest performance of his sadly too short career br br the rest of the supporting is excellent as well from caroline john as ? mother to alan howard as his spy mentor to ? ? as the young ? friend turned ? to jane booker as ? wife the supporting cast is fantastic special mention should be made of the three young actors who played the younger ? jonathan ? nicholas ? and ? taylor who establish the young man who would become the man played so well by peter ? br br the production values of the miniseries are strong as well as the miniseries adaptations of ? ? soldier spy and ? people proved these stories can only be told in miniseries format the locations are excellent from the english locations to the those scattered across eastern europe and the usa as are the sets by chris ? the cinematography of elmer ? adds an extra ? of realism to the world of the miniseries yet the highlight of the miniseries is really the script br br ? arthur ? ? the job of adapting the six hundred or so page novel excellently the novel was largely at least in its early parts ? in that ? early life ? much of john le ? life the script for this miniseries is no exception as it ? the development of ? ? from young boy to a perfect spy never once does the miniseries ? from its purpose of telling a fine human drama in the context of the world of espionage if one ever wants proof that a spy thriller can be tense and fascinating without ever having one gun fight fist fight or james bond style car chase this would be the proof while the miniseries is six plus hours long it never wastes a moment and it all the better for it br br though it might be overlong for some for those who don't have very short attention ? here is a must see from the performances of peter ? and ray ? to fine production values and a fine literary script a perfect spy is one of the finest miniseries who can expect to see it is a fascinating trip down the history of the cold war yet it is more then that it is also a trip down what john le ? has called the secret path the path of the spy the man who must lie and ? to survive as much a human drama as a spy thriller a perfect spy isn't to be missed\"),\n",
       " (1026,\n",
       "  \"? remakes and sequels have been a ? of cinema from the beginning of the media it is pretty much a hit or miss venture though if you take what's good of the original and build upon it and update key features too current standards you can have a success note such films like the thief of bagdad ? 1940 or king kong 1933 2005 succeeded in their attempts others like king kong 1976 fail miserably br br brief encounter 1945 is the ? for this film it is as perfect as could be made on such a subject and we rate it imdb ten the story is simple love ? found by accident and ? lost why it just happened for the two 2 principals involved at the wrong time these are portrayed in a convincing and sensitive manner by ? howard and ? johnson neither are ? leading star material but quality character actors for the details watch the film br br now what went wrong a t v movie remade practically scene for scene with name actors richard burton and sophia loren should have at least scored imdb six both actors though appear ? just showing up to punch their time ? and pick up their ? neither are involved with their characters or with each other you do not believe they are in love or when they finally separate it is any great loss to either of them that should not be and that's why it fails in its intent sometimes it is just better to leave things alone\"),\n",
       " (1027,\n",
       "  '? this film revolves as much around japanese culture as it does the lives of one modern japanese family physical contact is ? upon for those over 7 especially in public hence all that ? instead of ? even when you are close friends relatives ballroom dancing involves putting your arms around someone else and that in public too never the less ballroom dancing is on the quite immensely popular people who do ballroom dancing in japan are viewed a bit like ? in the west many more would like to than do but are ? by the culture a delightful family film which any amateur dancer would enjoy for the dance sequences alone i understand that it was more popular than titanic in japan i guess the japanese are just like the rest of us they like to be ? too'),\n",
       " (1028,\n",
       "  \"? the story for the first aired television installment of columbo is simple one half of successful mystery writing team does away with the other frames an unseen mafia group is ? by an admirer does away with the admirer and is tricked up by the ? columbo br br with that said this is still one of the most entertaining in the show's history ? tremendously by the work of the late jack cassidy and star peter falk br br besides the ? of being directed by a young steven spielberg the episode also has a air of the macabre because of the future of two of its stars cassidy and barbara ? the two share several scenes together and it is poignant that both would die ? within a decade of this filming cassidy in an apartment fire and ? at the hands of ? yet to be found after over three decades br br now both ? are true life mysteries\"),\n",
       " (1029,\n",
       "  \"? adorable i saw domestic ? in ? in october with my kids we all liked it so much that we saw it a second time with my parents i haven't heard them laugh like that in years it was the first time that i can remember seeing a movie that my parents and my kids could enjoy it's really cute and we can't wait for it to come out on dvd they need to make more movies like domestic ? it is refreshing to go to a movie that three different generations can enjoy and not be embarrassed i have not seen a movie this cute since my big fat greek wedding i loved ? sterling as the mother she was also in austin powers howard ? is in this too and he is hilarious i remember him from ?\"),\n",
       " (1030,\n",
       "  \"? starting off here's a synopsis porno queen ? lee ? ? is murdered by her ? lover max george shannon in a game of sexual russian ? ? other lover icy lesbian casting agent ? stone mary ? provides an ? for max but ? has an agenda of her own and a plan involving the seduction of innocent actress julie ? again in a web of sexual mind games when the ? identities are ? ? the stage is set for vengeance as passionate as the most ? ? encounter br br though this movie is quite obscure and never got much attention i find it to be a sexy suspenseful gem cult ? ? has one of her best ever roles and she and sexy innocent ? play off each other well the unsettling music provided by ? kingsley plus two original songs all american boy you say you've never let me down and the ? sally go ? the ? ? a memorable soundtrack theodore ? direction is sharp with everything photographed in muted earth tones that perfectly suggest ? business ? under ? upper ? with tons of great new york atmosphere ? ? friend and fellow ? giving a great performance in a small role and exotic ? van ? as ? ex wife in a comic sub plot this sub plot though amusing looks like it belongs in another movie altogether however i'm not complaining as the film is smooth even as it changes ? and is a hell of a lot more interesting that the erotic thriller garbage currently being ? out br br trivia sugar ? was originally rated x soft core and released by general film corporation in 1973 i am the proud owner of an original one sheet poster lucky me in 1977 the movie was cut for an r and re released by troma team which now offers it uncut on ? mary ? was the wife of theodore ? at the time and was reportedly uncomfortable performing the graphic lesbian ? sex scenes with him ? behind the camera she can also be seen in two of his earlier productions ? 1970 and silent night bloody night 1972\"),\n",
       " (1031,\n",
       "  \"? ? from the real life exploits of chuck ? and steve ? in ? new york the ? is high energy and good natured br br but be warned casual racial ? flow off the ? of wallace ? and little jackie cooper the very first shot might be startling this is true to the time it was set and the time it was made and it also speaks to the diversity of population in that neck of the woods it certainly adds to the gritty flavor of the atmosphere br br ? as ? is the ? thunder at the center of the action a loud mouth saloon keeper with his own fire ? and he has a soft spot for ? orphan cooper raft as ? is ? ? better looking rival in almost every ? ? could never turn down a dare and loved attention leading up to a jump off the brooklyn bridge it is still ? whether he actually jumped or used a ? br br ? is as ? as ever with a put on irish american accent he is just the gruff sort of character to draw children cats and ladies in distress this is possibly the most ? character raft ever played and he even gets to throw in a little dancing as well as a show of leg and again he mistakes the leading lady lovely fay ? for a prostitute cooper is as tough as either of them though he gets a chance to turn on the tears br br the highlight isn't the jump off the bridge but a no holds ? ? between ? and ? that in ? looks like a real ? between the principals it's sure someone ? more than an ego\"),\n",
       " (1032,\n",
       "  \"? i already know that critics and some audiences say that it was a satire there were numerous political and social messages the names make refer to some other names etc it might be i cannot realize such things i don't want to do anyway because i am not interested in i am interested in ? as for the movie itself again it is said that the movie is clever and dramatically powerful i could not see anything which we don't see in monster movies except the scene which takes place in a office in the second half yes that scene says somethings about humanity but it does not make the movie brilliant the movie is entertaining mildly and exciting in some moments or scenes but no more than that as for the biggest flaw of the movie it is visual effects it was just shocking i could not pull myself together for a while because i had expected a realistic monster because it is not one of the old ? movies it was made in 2006 but it was not it is like if you don't believe that there is a monster you cannot care about if you agree with me about this i highly recommend you ? that is extremely realistic the design of the monster is not interesting but at least planned there is an effort dramatically powerful critique some critics talk about it as if it is a kurosawa movie yes it is rather a drama than a thriller or action but it should not mean that it is dramatically powerful i don't want to compare the host with other monster movies but i try to mean that the host does not do something that other monster movies do not do by the way may be some people call the movie masterpiece because of their sympathy for asian cinema yes i like asian cinema too but this is the fact\"),\n",
       " (1033,\n",
       "  \"? i went to the movie theater this afternoon expecting to be ? by scoop happily the film ? expectations at least a little bit it's nothing heavy nothing deep and not anywhere as good as any number of real allen masterpieces but it's also completely enjoyable as a light ? comedy there's something kind of simple and sweet about it cute was the word i heard from people in the audience as they were walking out after the show it doesn't feel like allen set out to create a masterpiece here it feels like he wanted to make a little comedy and have fun doing it compared to just about everything hollywood is producing allen's stuff has a tendency to charm even the ? stuff these days it's just refreshing to go to a movie made by an actual human being\"),\n",
       " (1034,\n",
       "  \"? there are many people in our lives that we meet only once in our lifetime but for some reason or another we remember those persons for the rest of our lives these once in a lifetime friendships occur between people with long ? between and there are always some natural reasons for why we don't meet these people anymore we don't always even know their names as we are never presented to each other and sometimes we even forget to ask what their names are it's funny how common humanity makes occasional friends and we like to keep it as such because ? might spoil fond memories or we don't know do they we are too afraid to check that out br br the movie ? ? just caught me watching it i never had intention to watch it through but because the discussion between the couple seemed interesting i gave a look for the rest of the film i didn't know what to expect from it but nor did the young couple they had time to discuss with each other until the sunrise and anything could happen before they had to separate i believe this film has had good reviews because the situation is something that everybody on this planet has at least once or twice lived through it makes us all think about all those people we have met only once in our lives\"),\n",
       " (1035,\n",
       "  \"? many reviews here explain the story and characters of ? ? in some detail so i won't do that i just want to add my comment that i believe the film is a wonderful ? of life br br at the beginning myrtle gordon is remembering how ? it was to act when she was 17 when she had youth and energy and felt she knew the truth experience has left her emotionally fragile wondering what her life has been for and indeed if she can even continue living a tragic accident ? a personal crisis that almost ? her br br almost but not quite at the ? hour she ? the power of her art and ? herself i'm going to bury that bastard she says of fellow actor maurice as she goes on stage it seems almost sadistic when ? director ? people from helping her when she arrives hopelessly drunk for her first performance he knows however that she has to have the guts to make it herself if she is to make it at all br br some critics wonder if this triumph is just a temporary pause on ? ? path i believe this is truly her ? ? she opens like a flower to new possibilities of life and action she sees a way forward it is tremendously moving br br gena rowlands is superb the film is superb thank you mr cassavetes wherever you are\"),\n",
       " (1036,\n",
       "  '? this is one of my favorite movies of all time i loved rain man with dustin hoffman and tom cruise this movie is in some ways similar but makes rain man seem artificial shallow ? and trivial by comparison'),\n",
       " (1037,\n",
       "  \"? it seems there's a bit of a curse out there when it comes to gay cinema namely happy endings aren't very common beautiful thing ? gay films tend to end in broken relationships or ? death and some like come ? just end period br br the creators of this horrid piece of nonsense have a thing or two to learn about plot direction and ? within the first ten minutes of this film i found myself a bit confused and even more so after the first glimpse of ? ? character having a little ? session it seems this film was randomly ? together without the slightest attempt at continuity or ? there's no real way to tell when you're viewing the present or some sort of ? flashback i could only take so much before it became truly unappealing br br stephen ? of the new york times called this film ? beautiful and utterly real well it seems that stephen invested in beer ? prior to viewing as this is truly far from beautiful due to all the praise this film received i expected something worth watching sadly the film lived down to its title and by the end of the movie which provided no resolution whatsoever i might add it's plain to see that the writers the director and the film have all come ?\"),\n",
       " (1038,\n",
       "  \"? it's a real challenge to make a movie about a baby being ? by wild ? and the mother being wrongly accused of murder funny but against all odds this one succeeds meryl streep gives the performance of her life melodramatic overwrought but with that comic genius that keeps you laughing even as a mother struggles with the ultimate horror br br if comedies about the ? being eaten by dogs are not your cup of tea you might be uncomfortable watching this and yes it is an odd choice of topic for a farce but really very little of the movie has anything to do with that as it focuses on giving streep a showcase for her aussie accent and facial ? br br throwing in a slam at media bias and ? and disregard for either the truth or ? gives the movie the chance to make the daring point that those things are bad\"),\n",
       " (1039,\n",
       "  \"? this is a wonderfully written and well acted psychological drama it is not really a horror flick so those looking for something like the ring or the grudge will be disappointed what really surprised me about this film was the intelligence and subtle attention to detail in the plot and the effort made to be ? consistent i also appreciated the absence of dr phil ? or new age ? rather than ? an agenda the filmmakers just told the story told it well and let the viewer think about it the sparse ? were reminiscent of ? paintings and amazingly effective br br a great example of how to make a good film on a small budget without big studios star actors big name directors this was far better than many of hitchcock's films special effects or clever plot twists\"),\n",
       " (1040,\n",
       "  \"? contrary to most other ? i deeply hate this series br br it starts out looking interesting with mysterious aliens and giant robots and i kept my hopes up until the very last episode at the end of it i still didn't understand what the alien attacks were all about maybe i missed something who knows and realized that i had sat through 26 episodes ? mainly of the characters' own self hating ? and self ? it actually ? between alien robot fights and these dark depressing ? on and off scenes where one or more characters can just say or shout i hate me you it 10 12 times in a row br br i can't really see either ? or ? two of the main characters showing growth or change nor can i see any of the other characters learning or growing either for that matter i wanted to kick them and tell them to get a bloody life during the first episodes and the feeling didn't change during the last ones ? truly possesses the kind of helpless ? that makes people angry rather than ? and ? is such an ? know it all that i wanted to smash the tv screen every time she came into view oh and more than anyone else these two hate everything and say it ? often br br i'm otherwise a big fan of ? and manga and never before have i disliked one so much i read that the series creator writer wrote this while suffering from a depression and i can believe that it made me depressed to watch it is that the aim of this series i'm honestly asking is it designed to make the viewer confused and annoyed and if suffering from a depression why just not write a book or biography about it instead of mixing it up with aliens and ? this alien war plot as far as i could tell lead to absolutely nowhere br br finally since i'm truly fascinated by how many people claim to love this ? of dead end plots i can't help but wonder how many of them actually find it good and how many say they do because they've been told it is\"),\n",
       " (1041,\n",
       "  \"? shaggy scooby doo get a clue it's like watching a much loved relative in the final throws of a ? illness clearly the work of people with no soul no love or respect for the original work what in the name of all that's holy were they thinking of it seems they were trying to go all post modern and ironic instead it's just abysmal ? what's the point in taking up a successful franchise like ? ? if you just going to ? it down the toilet my son loves the original series and even some of the spin off movies but he can't stand this drivel and let's face it you can't argue against the tastes of a seven year old\"),\n",
       " (1042,\n",
       "  \"? i'm writing this 9 years after the final episode was aired and i am still ? from the impact ? has had on me br br it has effectively gone where numerous other cop dramas have gone and succeeded but it took it further and didn't stray from the realism of the streets often portraying life events and characters down to a t br br i am sorely missing this series instead we have are given the stupid ? which is over ? and acted creating a whole load of american esquire garbage br br ? stayed true to the ? of sydney and for that i am truly ? to this wonderful series the acting was a grade and it's a shame to see only a few actors have ? their career whilst others have faded into obscurity br br i don't want australia to forget this wonderful piece of their television history thus i ask the abc to release the complete series on dvd not the first three give this series the ending it deserves\"),\n",
       " (1043,\n",
       "  '? watching josh kornbluth ? in this movie reminds me of my ? tv production class where the ? ? had the chance to prove just how unfunny they really were br br obvious is the word that comes to mind when i try to ? this wannabe comedy the jokes are ? and ? the delivery is painfully bad ? the writing is simply ? it is akin to a bob ? show br br watching this movie is as painful as watching a one and a half hour long saturday night live skit post belushi br br i hated this movie and want my money back'),\n",
       " (1044,\n",
       "  '? the sea is watching has been made from an original ? kurosawa script and it is indeed a lush and warm film watching it will be a pleasure br br ? ? as director is certainly no equal to the old but ? master particularly the mass scenes in the beginning of the film has some terrible acting but the overall mood and scenery is very enjoyable another thing that is missed here kurosawa always managed to let the characters be so much more then what they are actually showing and doing br br probably that was his magic on set while shooting and just maybe this script was not fully up to par yet br br maybe we just miss the eye of the master br br this is one lovely and sweet film but it is no kurosawa to expect that might well be very silly'),\n",
       " (1045,\n",
       "  \"? i don't really know whether cabin fever is supposed to be a joke or a film but as far as i know it's much closer to being a joke than anything else a few years ago the community of horror film makers decided to take a new step and make fun of the genre thus giving birth to the scream series a list was given in scream of all the stupid things horror film characters will do that are predictable and the characters in scream ended up doing exactly the same things which added a lot of humor and irony to this analysis of the genre and led to hope that horror films from now on would show a bit different either full of irony towards the genre self ? towards the film itself or at least different in their dramatic process than all the old films that ? to the same tired ? in seeing cabin fever alas many will see how unoriginal serious pretentious boring and even not scary some supposedly scary films are now even a few years later first of all this film lacks originality in a way few others do it has been said several times how little imagination horror directors have today ? remakes of foreign sequels but setting the film in a cabin in the woods just doesn't seem to be an ? to anything it seems to be simply a ripoff whoever wishes to be surprised by other factors of the film's story won't be once again we are dealing with a film whose characters are all in their early ? who won't think ? when placed in front of a problem will rather argue for hours and pick up fights than try to think and do something about it not much excitement there either for the ? time in a horror film they are tempted to kiss make love and just basically have fun all sorts of things that don't really make them any different than any other horror film victims seen previously secondly this film is ? serious every situation the characters are in every dialog every situation in the film is treated with such seriousness that any viewer with a little sense of ? will be ? when some characters finally end up dying nothing in the way the film is directed written or acted shows any sign of humor or sarcasm which is quite amazing considering the film is about an invisible never heard of before flesh eating virus no laughs please i won't even bring up the acting since there are no actors in this film the cast was most certainly hired for being friends or neighbors with the director ? and this will strike whoever has seen a good horror film before the screenplay is absolutely empty nothing really happens some actions are repeated several times let's try to get help nothing makes sense either in the facts the psychology of the characters or even the hilariously lame last sequence of the film which is probably supposed to be funny according to the director and screenwriters in the end i will only remark that a horror film is supposed to have something scary in it ? of fake blood whether they are being ? ? from severed limbs or simply dripping from wounds never were enough to scare an audience such major features as screenplay ideas and even cruelty are ? for whoever claims to have shot something scary if i wasn't considering it to be a total failure i would agree to ? that the film has one talent it is filthy disgusting to watch yet being ? out and being scared are two very different feelings let it be known br br i would like to encourage anyone a tad curious or interested in seeing this film to check older major horror films first why not from the 60s the 70s the 80s films made by wes craven ? ? sam ? stanley kubrick david lynch roger corman william ? john carpenter it might not only give a good definition of what is scary or self ? horror but also convince viewers that new isn't necessarily better a good example related to the film is the few tracks composer ? ? provided for this film even although they are ? close to his previous compositions they are below anything he has ever done before\"),\n",
       " (1046,\n",
       "  \"? i have grown up ? over the ? stories of the ? in time chronicles my dream was that one day a screenwriter would come across their child sitting in a large ? reading a ? in time and would think what an amazing movie this would make sadly enough that screenwriter failed changing characters throwing in lame humor and all out destroying the plot i know that it is a hard task to change a well loved novel into a movie but why can't you stay true to the book why must you change the way characters think and act for those of you who have not read the book pick it up find a soft couch and let your imagination run wild\"),\n",
       " (1047,\n",
       "  \"? this film is really only bill ? interpretation of religion there are several funny moments and some interesting points but don't go into this expecting an even handed discussion of religion this is what i consider to be the worst kind of documentary everything is arranged ahead of time and in editing to provide you with the opinion of the director rather than letting you make your own decision br br editing it's very chopped up inter spliced with clips from pop culture and the media to ? the point the ? barely has a chance to finish a sentence before he is interrupted by the editing the only people given a fair chance to speak their mind are those who say what bill ? wants them to say once someone ? from the ? according to ? they get edited br br ? they are meant to represent the absolute most ? ? from the tv ? to the ultimate jewish stereotype to a truck stop ? seriously a truck stop ? he's picked the worst money ? the heavy ? and those who don't have the budget to say no to pick on and when he does get a good person to interview he edits the hell out of them br br stereotyping all ? are portrayed as stereotypes especially hard hit are the muslims during the muslim segment he barely gives anyone the chance to speak before ? them either himself or through editing in pieces with suicide ? all muslims are portrayed as gun ? ? through the editing and none of the people interviewed is edited fairly br br ending the message at the end is incredibly heavy handed and while it is an interesting idea it's not presented with fairness to the countless people who are not religious ? bill ? explains himself while clips of destruction play in the ? this literally gives the message that religion is stupid and dangerous and that it will destroy the world he also states that everyone involved in religion is stupid br br with the faults to the film it has some good points and the humor while very unfair is actually funny but know going in it is a very one sided view bill ? view of religion he's not discovering anything he's telling you what he thinks br br 4 10 some good moments but heavy handed with an extremely irresponsible documentary style\"),\n",
       " (1048,\n",
       "  '? i watched the show 10 years ago and loved it am now in possession of the dvd and was watching the series and waiting for scenes i knew were in the show when lucas confronts ? in his house and realized it was missing all of a sudden i was watching the seduction without the lead up then i went on line to check out all the ? of the stars and came across the comments about the shows being out of order thank you but there seems to be some conflict some comments state ? number 19 then triangle 20 when another had them around the other way and also ? boy 5 and dead to the world 6 were ? as well can someone ?'),\n",
       " (1049,\n",
       "  \"? the girl from ? arrives in new york city knowing exactly what she wants to amount to something solid by marrying a millionaire without losing her virginity with her ? good looks she quickly catches the eye of the playboy son of a ? but by staying true to her virtue will she also discover true love br br jean harlow ? in this excellent little comedy with her ? hair gorgeous ? she is a ? but her beauty should not obscure the fact that she was also a very good actress she has rightfully earned her spot at the very top of the hollywood ? br br an excellent cast gives harlow fine support lionel barrymore as the ? old ? wise to ? ways handsome ? tone as his son smitten with love ? ? kelly stealing her scenes as ? sidekick ? alan ? as a well mannered english lord elderly clara ? as ? ? secretary ? hale hamilton as a rich man with an eye for the ladies muscular ? ? as a ? who catches kelly's ? eye and lewis stone unforgettable in a small role as a ? businessman br br it should be noted that this film was produced soon after hollywood's production code was ? a comparison with red headed woman made two years earlier would be fascinating in which ? character goes after the same ends but uses very different means\"),\n",
       " (1050,\n",
       "  \"? i loved this movie it is rare to get a glimpse of post ? vietnam and this movie sans combat scenes and exciting bombs and ? did it i had no idea i'd be so affected by it what an amazing look at how alien vets feel it was tough to watch quite frankly we all understand the fighting and the apocalypse now type of drama but this is so so different what happens when they come back and try to live a life they can't it made me very aware of a large group of men that are ? around lost in america not able to relate can't sleep can't have love affairs can't deal with normal society they feel totally apart this is a huge tragedy and one that isn't addressed enough yeah we've changed our attitude about vietnam vets we like them now but so what it doesn't seem to have made any difference to them it's too late so it was a great film but i cried a lot i have no other criticisms\"),\n",
       " (1051,\n",
       "  \"? i'm 14 years old and i love this cartoon burt reynolds and dom ? make a great pair this movie is really funny and i love the songs my favorite songs are you can't keep a good dog down and that song about sharing i think it's called what's mine is yours this was the last movie with ? ? who played the voice of anne marie my favorite character is charlie but i find ? voice is so fun to hear although some scenes i actually found scary i still have a hard time watching the scene with charlie's dream and carface scares the crap out of me other characters like king ? i found really funny the ending was adorable and was actually sad made me cry a little i give this movie 7 10\"),\n",
       " (1052,\n",
       "  \"? my favorite movie genre is the western it's really the only movie genre that is of american origin and despite sergio ? no one does them quite like americans br br right at the top of my list of ten favorites westerns is winchester 73 it was the first pairing and only black and white film of the ? of director anthony mann and actor james stewart it was also a landmark film in which stewart ? for a ? of the ? instead of a straight ? from universal many such deals followed for players making them as rich as the ? who employed them br br anthony mann up to this point had done mostly b pictures noir type stuff with no real budgets just before winchester 73 mann had done a fine western with robert taylor devil's ? that never gets enough praise i'm sure james stewart must have seen it and decided mann was the person he decided to partner with br br in this film mann also developed a mini stock company the way john ford was legendary for besides stewart others in the cast like ? mitchell steve ? dan duryea john mcintire jay c ? and rock hudson would appear in future mann films br br it's a simple plot james stewart is obsessed with finding a man named dutch henry brown and killing him why i won't say but up to this point we had never seen such cold fury out of james stewart on screen anthony mann reached into jimmy stewart's soul and dragged out some demons all of us are afraid we have br br the hate is ? demonstrated in a great moment towards the beginning of the film after stewart and sidekick ? mitchell are ? by ? ? played by will ? because guns aren't carried in ? dodge city there's a shooting contest for a winchester rifle in dodge city and the ? favorite is dutch henry brown played with menace by stephen ? stewart mitchell and ? go into the saloon and stewart and ? spot each other at the same instant and reach to draw for weapons that aren't there look at the closeups of stewart and ? they say more than 10 pages of dialog br br another character stewart runs into in the film is ? johnny dean played by dan duryea who almost steals the film this may have been ? finest moment on screen he's a ? outlaw killer who's deadly as a left handed draw even though he sports two six guns br br another person stewart meets is shelley winters who's fiancé is ? into a showdown by duryea and killed her best scenes are with duryea who's taken a fancy to her she plays for time until she can safely get away from him guess who she ultimately winds up with br br there are some wonderful performances in some small roles there ain't a sour note in the cast john mcintire as a ? indian ? jay c ? as the ? army sergeant and rock hudson got his first real notice as a young indian chief even john alexander best known as ? ? in ? and old ? has a brief but impressive role as the owner of a ? post where both ? and stewart stop at different times br br mann and stewart did eight films together five of them westerns and were ready to do a sixth western night passage when they ? and mann walked off the set the end of a beautiful ? that produced some quality films\"),\n",
       " (1053,\n",
       "  \"? i avoided watching this film for the longest time long before it was even released i had ? it as an over hyped over blown overly ? piece of hollywood ? and i wanted nothing to do with it i never watched it in the theatre i ? my head in disbelief at the 11 academy awards even though i had never seen it then i was asked to be a judge at a high school public speaking contest one of the girls spoke about this movie it was so great she said you really felt like you were on the ship nonsense i thought i shared my feelings with my fellow judges one looked at me and said you might be right but if she liked the movie that much maybe she'll want to learn more about the real titanic the movie must have done something right to get her so interested well maybe thought i then it finally appeared on pay tv ok i thought i'll give it a look see i didn't want to like it and i didn't i loved it what a great movie br br where to start first the directing my high school public speaking contestant was right james cameron does a superb job of creating an almost you are there type of atmosphere the ? of life aboard the most elegant ship in the world the ? as news of the iceberg first ? then the rising sense of panic you don't just watch it you really do feel it then the performances the lead performances from kate ? as rose and ? ? as jack are excellent ? being the superior i thought but both were good they had their rich girl poor boy characters down to a perfect t i thought in my opinion though stealing the show was frances fisher as ? mother she was perfect as the ? aristocrat and you could feel the fear and loathing she felt every time she looked at jack then the details i'm no expert on the sinking of the titanic but i have a reasonable general knowledge and this film does a super job of ? the historical details accurately and then ? them ? around the fictional romance very impressive indeed then the song who can watch this movie and not be taken with celine ? performance of my heart goes on br br problems well the romance was perhaps too contrived in the sense that i just don't accept that jack could have moved so effortlessly from ? to first class i know he was invited the first time but he seems to keep getting into first class without being stopped until he's been there for a while the realities of the ? of the social classes were much more realistically portrayed i thought when the ? passengers were going to be left locked down there after the ship hit the iceberg while the first class folks got to enjoy half empty ? br br a minor ? though this is truly an excellent movie my only regret is not seeing it in the theatre where i think it would have been so much more impressive br br 9 10\"),\n",
       " (1054,\n",
       "  \"? i like many die hard ? or ? i don't care suffered through seven seasons of star trek voyager dreaming of a better show when it was over ? the end of deep space nine in 1999 ? answered enterprise is fantastic fresh perspective ? different characters stunning new visuals a pop song for the intro i was shocked i can't think of anything i didn't like sign me up for 10 seasons of this show star trek is back voyager nobody misses you keep on ? br br\"),\n",
       " (1055,\n",
       "  \"? the amazing mr williams stars melvyn douglas who did five films in 1939 one of which was ? with garbo his co star was joan blondell ? who also did five films that year three of which they made together douglas is lt williams and he and his co ? are presented with a dead body and they must figure out what really happened viewers will recognize his co workers the actors clarence ? donald ? don ? always played positions of authority ? bank ? policemen this who ? has a flair of comedy to it the policemen are always throwing ? at each other and even williams and his girlfriend are battling ? some fun gags williams even takes the man they arrested along on a date with his girlfriend there's a lot of fun stuff in here so get past the slow beginning and wait for the funnier stuff later on don't want to give away any spoilers so you'll have to catch it on turner classic movies director alexander hall made mostly comedies and was reportedly engaged to lucy at some point\"),\n",
       " (1056,\n",
       "  \"? if it were not for the oh so ? ? ? this b movie would not have been worth one ? of my ? ? space in what low rent back lot warehouse was the supposed space ? filmed in continuity people it's a basic principle in real movie making by night an alleged space ? and by day night and day on a space station a warehouse people please the only thing i will ? this movie for is the wardrobe ? for continuously keeping ? in those tight shape revealing outfits even the women who saw this bomb had to appreciate the outfits that she obviously spent some time getting into each day of filming the sci fi channel would have been better off showing ? at least there would have been some real humor in watching something so unbelievable br br p s michael ? please fire your agent ? you are so much better of an actor to be even associated with this level of movie making\"),\n",
       " (1057,\n",
       "  \"? run away from this movie even by b movie standards this movie is dreadful it is also ? in it's theme the main theme is that people who reject society and have no respect for anything are cool and worth ? people who treat others with respect are losers ? is a movie that speaks for the ? a lot better than this movie see it instead br br no normal kid would do what ? does state troopers do not work as they do in this film etc seeing this movie makes you realize why writers use the hooker with a heart of gold cliche ? is a completely unsympathetic hooker who yes has had a terrible life however she is such a terrible person the audience cannot identify with her br br usually there is one thing a movie can be recommended for in this case there is none it is such a ridiculous movie it insults the person who tries to identify with the main characters the acting is adequate by b movie standards and the direction presents nothing new or interesting\"),\n",
       " (1058,\n",
       "  \"? the cover of the box makes this movie look really good don't be fooled splatter university came out in 1984 which was the last good year for horror but this movie sucks the characters are so annoying only the teacher is cool there is like no plot to this movie who the hell would ever produce this waste of a film br br spoilers up ahead br br the teacher dies in this and it was a female we all know that we must have a female ? if you're going to break the rules do it in a good horror flick not this waste\"),\n",
       " (1059,\n",
       "  '? this is without a doubt the worst movie i have ever seen it is not funny it is not interesting and should not have been made'),\n",
       " (1060,\n",
       "  '? this movie is about a ? family but not just any dysfunctional family it is about the family of the father of our nation india although the film focuses mainly on the estranged relationship between ? gandhi and his ? son harilal gandhi it shows how the ? had to kill m k gandhi how he had to sacrifice his family life in order to achieve our freedom every time ? ? gandhi and his son would try to get close the ? would come between them this is a beautifully done film ? ? has proved himself to be a top actor he expressed emotions very naturally ? ? who mainly stars in plays ? ? lawyer in guru has portrayed gandhi wonderfully as a real human being unlike ben kingsley who made him look like a god ? shah the girl from ? wedding has also done a really good job of showing how ? gandhi was torn between father and son this movie is touching and so is its soundtrack ? ? sung in a very unique manner i saw this movie just 3 hours ago it released in ? a day earlier on the 2nd and when the movie was over there was pin drop silence and while ? out of the theatre not one person pushed another can you imagine us indians not pushing not one there was a sacred silence'),\n",
       " (1061,\n",
       "  '? this is just usual indian garbage that gets turned out as cinema as indians we can proudly ? that we have the biggest cinema industry however it also the worst br br how can other poor countries have films with real characters that challenge the views of their respective societies and we just keep on ? out garbage take a look at russia iran china and latin america look at the brilliant films they have and we get crap like ? br br get real people no wonder the international community in general laughs at indian cinema'),\n",
       " (1062,\n",
       "  '? this movie was made in ? i think anyway the countryside is gorgeous the people who play the ? folks were totally fascinating their ? is awesome i got more into the native people the farm life and how heroic they were trying to hide brady from the evil nazis who where looking for these ? they even sacrificed their life in several instances the young orphan ? that brady befriends was a sweet kid you will marvel at the riding i think and the action of trying to ? the nazis it is entertaining and comic in some spots and very tragic in others ladies have ? handy as you will be ? at the end i own it and have watched it several times in other words not just a one time around flick its a keeper'),\n",
       " (1063,\n",
       "  '? i saw this movie once in or close to its release year ? years ago 1969 although i can now only remember bits of it i long to see it again the parts i remember rightly or wrongly include ? gas in the ? and ? ? as a german spy offering some bloke sexual ? in the back of an ? truck to get military information from him the music score was especially memorable and emotion stirring in the league of gone with the wind and i would love to hear it again there must be some commercial or ? reason why this movie is not available anyone know why i doubt its anything to do with a lack of quality or interest'),\n",
       " (1064,\n",
       "  \"? from the opening dialog and scenes i knew i knew i was in for a train wreck didn't want to look but couldn't turn away if it weren't for the ? eye candy of this film i would have given one star the fact that the interaction between characters and relationship behavior were so far fetched added by poor direction and horrible story make this movie nothing more than a low budget disaster money is definitely not a necessity to make a good film but this movie fails so horribly there was no chance to ? br br if you were stuck out in the woods your childhood best friend dying from an unknown disease other friends dying around you stranded in a strange place what would you do br br a run away from everyone and try your luck on your own b have sex with your friends girlfriend c take a hot bath to relax your ? to include ? your legs d bash in the head your childhood best friend and life long crush with a ? e all of the above br br according to eli roth none of these answers are that far fetched in fact all are plausible and well represented in cabin fever the total lack of reality and illogical attempt at explaining what people would do in traumatic situations throws this film in the ? bin at your local rental store stay away stay far away\"),\n",
       " (1065,\n",
       "  \"? what more could anyone want he's a history lesson foreign language ? ? representative and ? to ? dressed in a nice ? ? and heels i laughed so hard i left a ? his ? about ? ? public school and done in several languages made the absolute finest stand up routine i have ever seen i think about it now years later when i see cake tea and cake or death and hear something translated into french the mouse is under the table the cat is on the chair and the monkey is on the branch i like his versions of what jerry ? could have been named before he settled on ? ? i really hope to see a lot more from this wonderful guy he has a lot to teach us and a wonderful way of telling it thanks for your time\"),\n",
       " (1066,\n",
       "  \"? i went into this movie after having read it was a drama about a man with a supernatural gift who was made into a monster by society suffice to say i was expecting something entirely different from what i got but it was a happy surprise my friend and i both thought the movie was very romantic the fact that the male lead isn't bad to look at surely helped and there was enough plot development action and even humor the fact that it takes them until the 3rd part of the movie to now each other's name had the whole ? laughing to keep you entertained and invested in the story so in short not what i expected but a very good surprise indeed i'll definitely buy this movie when it comes out on dvd\"),\n",
       " (1067,\n",
       "  \"? ? ? or black mask in english was a disappointment i was told that it was a sort of japanese version of the matrix imagine my disappointment the film was either badly dubbed or the soundtrack didn't time well with the film another thing is that the dialogue was pretty much bad there was very little thought put into the english version of this film and it appeals only to the senseless action genre not a film i would want to see again\"),\n",
       " (1068,\n",
       "  \"? after being sent to prison for no less then 10 nor more then 40 years for being ? with drugs and ? to give up her ? jackie ? ? of russ ? ? and beyond the valley of the dolls in her last film role has to get ? to life in the big ? house or at least try to in this early film by jonathan ? due to it's ? nature and sheer ? i would also rank this as one of his best films right below silence of the ? and stop making sense but so far above any of his other movies this minor classic is just campy sleazy and fun enough to be an amazingly good guilty pleasure and thankfully never once goes overboard into all out parody of the women in prison genre it almost washed out the ? bad taste of the ? preachy ? from my mouth however the film is not without it's ? the ? show is a huge chore to sit through and goes on far too long ? steele is sadly wasted among other small things but don't let those ? stop you from watching an otherwise enjoyable movie br br my grade b br br dvd extras 5 minute roger corman interview cast crew ? original trailer and trailers for candy ? ? with nudity big bad mama 2 big doll house with nudity crazy mama br br eye candy ? brown ? ? smith ? ? ? collins ella reid ? gold and some others all show skin\"),\n",
       " (1069,\n",
       "  \"? lots of reviews on this page mention that this movie is a little dark for kids that depends on the kid this isn't a movie for a 2 6 year old it's more ? toward the 8 years and older crowd i saw this movie when i was 10 i absolutely loved it at the time most animated movies were a little too childish for my tastes this movie deals with more serious issues and therefore has a little more emotional impact in this movie characters can die and be sent to hell this gives a little more emotional weight to the scenes where characters are ? their lives the good guys aren't always perfectly sweet and nice like other cartoons they have real motivations like revenge and greed but also compassion and friendship shows that things aren't always black and white br br excellent movie\"),\n",
       " (1070,\n",
       "  \"? i notice that most of the people who think this film speaks the truth were either not born before the moon ? 1969 1972 or not old enough to appreciate them i think it is much easier to question an historic event if you did not live through it br br i was a ? at the time of apollo but i was old enough to understand what was going on the entire world followed the moon ? our families gathered around the tv to watch the launch newspaper ? screamed the latest goings on each day from launch to landing from ? to moon ? all the way to ? in a ? of languages in school some classes were cancelled so we could watch the main events on tv during apollo 13 the world ? and held its collective breath as the men ? home to an uncertain fate you couldn't go anywhere without someone asking what the latest was the world was truly one community br br now with a ? of 30 odd years after the fact it is easy to claim fraud because worldwide enthusiasm and interest has died down we are left with our history books and anybody can claim that history is wrong and attempt to prove it with a bunch of lies and made up facts while completely ignoring the ? of evidence showing otherwise not to mention the proof that ? in the souls and memories of those who lived through these wonderfully ? and fantastic days\"),\n",
       " (1071,\n",
       "  \"? i am guessing the reason this movie did so well at the box office is of course eddie murphy i think this was his first movie since beverly hills cop so at the time he was hot considering that one made over two hundred million and it was r and this one made about 80 million and it was pg does say it was not all that popular i have never been a big eddie murphy fan so that is probably another reason i didn't care for it much at all this one has eddie as some sort of ? of lost kids he must find the golden child or the world is in terrible peril the plot is very bad but as bad as it is it does not compare to the special effects i had seen better stuff done in the 70's than some of the stuff this one offers ray ? did better stuff still the main reason you see a movie like this is because of eddie unfortunately he is not very funny in this one at all and it just seems stupid to put him in the ? of the lost ? type scenes i guess they were hoping for a fish out of water effect but to me it just did not work\"),\n",
       " (1072,\n",
       "  \"? for whoever play games video games here did anybody notice that the ? vice city mansion inside the game and some other things including weapons from the movie that are connected to this movie and this movie inspired the makers of the game ? games to copy some things from this movie and by the way this is one of the best 80's movies out there i recommend this for anybody who still didn't see it 10 10 no questions asked\"),\n",
       " (1073,\n",
       "  '? actually this movie was not so bad it contains action comedy and excitement there are good actors in this film for instance doug ? ? from the green mile who plays ? another well known actor is jamie kennedy from scream and three kings the main characters are played by jamie foxx as alvin who was pretty good and also funny but the one who most surprised me was david morse as edgar ? he plays a different character than he usually does because in other films like the green mile indian runner the ? or the ? he plays a very sympathetic person and in bait the plays almost the opposite a man without any emotions which was nice to see the only really negative thing about this film are the several pictures of the world trade center which makes this film perhaps look a little dated overall i thought this was a pretty good little film'),\n",
       " (1074,\n",
       "  \"? this program is really overrated a detective like danny ? hot headed character would have been transferred to the rubber gun squad years ago the whole squad is made up of ? ? who judge people whose actions go back decades by the standards of 2007 every vietnam veteran character they've ever had has turned out to be the killer unless it was another vietnam veteran there has only been one black murderer and he was put up to it by his white boss the only hispanic killer was a race ? who killed another hispanic to frame a hispanic street kid for a crime that naturally two rich white kids committed what a bunch of propaganda hey screenwriters ? and poor people commit murder too only on this show are most murderers upper class whites br br what's more the ? of people in their 70s 80s and 90s for crimes they committed 50 60 years ago are a joke no real life da will push for murder one because it means the state will be stuck with their ? medical bills until they finally kick the state would be doing their families and insurance companies a favor the ? will just ? them to ? ? and they won't serve a day the only really old criminals who go to prison are either organized crime figures or ex nazis whose high profile ? boost ? careers\"),\n",
       " (1075,\n",
       "  \"? the kids aged 7 to 14 got such a huge kick out of this film that we gave a copy to all of the other kids on our birthday list this year they all loved it kids from 2 to 7 watch it repeatedly and frequently and we get a kick out of watching it with them br br it's rare that a film entertains the kids for so long and offers laughs for the adults too most enjoy it more than the first br br top quality production and an excellent cast led by christopher ? as a superior george athletic energetic and wholly credible with a lovable innocence and a particular knack of taking a tree in the face well supported by the ? christina ? as the evil mother in law thomas ? church as the evil jerk rival and everybody else this is fun\"),\n",
       " (1076,\n",
       "  \"? 6 10 acting not great but some good acting br br 4 10 director makes some stupid decisions for this film br br 2 10 writer story makes no sense at all and has huge amount of flaws br br 4 10 overall score for this movie br br don't waste your time with this film it's not worth it i gave 4 for this movie and it may be too much characters are so over exaggerated than they can ever be in real life and some pretty ? stuff happens ? not in good way because of the style this film has been filmed you get bored after 30 minutes too many special effects slow motions and camera shakes and fast ? it's always good that movie uses music to make the story go smooth but there's too many tracks in this one in the first hour there is almost 50 50 dialogs and ?\"),\n",
       " (1077,\n",
       "  \"? this is a movie that relies solely on the somewhat controversial image of incest and ? to get noticed that is it the dialogs are pathetic and the ? of the sex scenes is absolutely absent the acting and the dialog are more suited for high school children yet the subject is intended for adult audiences it is a ? and shallow movie it could have been way better if it had a story and more drama ah and on top of that one more thing why are inner monologues so ? used makes it seem so cheap all in all an embarrassing movie for romanian cinema as well as for mature audiences attempting to view it i know the means are ? but that is not always an excuse for a movie ? as this one does and please start using some good actors in your movies and stop ? them from musicians ? ? they can't act\"),\n",
       " (1078,\n",
       "  \"? this movie is a perfect adaptation of the english flick ? ? plays the role of richard gere ? that of olivier and ? the perfect cheating wife role of lane they have changed the second half of the film to adapt for the indian masses br br even then the movie has got the full ? of ? though it couldn't catch up with the original it was a cheap soft porn of the bollywood lovers where ? showed a lot more skin than anyone ? to show ? did more roles like this and was even ? the serial killer in the future if the indian directors plan to remake a english movie then they have to look into the ? of the plot with the indian censors though the film bombed at the box office the actors got the ? recognition in future the directors should be a little more careful in ? a oscar nominated film br br all said this is not a family film so take the extra caution while watching it at home with family\"),\n",
       " (1079,\n",
       "  \"? the excruciatingly slow pace of this film was probably the director's express intention in order to convey what life was like growing up as a village teen in china however i found the combination of the ? slow ? and the general filming style so ? as to be totally ? particularly to a western audience at times i actually had trouble telling some characters apart as they were filmed from such a distance two hours in and i was totally past caring as someone who is not only interested in music but is also very into the history and culture of china and is by the way no stranger to chinese cinema i couldn't engage with a single character and found nothing to get my teeth into it begs the question if i disliked it who on earth would like it give me zhang ? give me ? ? give me the work of just about any other chinese director i've ever seen this sorry effort just doesn't measure up at all i'd be sorry to see chinese cinema judged against this ?\"),\n",
       " (1080,\n",
       "  \"? the woman in black 1989 is a tv adaptation of susan ? modern classic ghost story published only a few years earlier than the film was made sadly this film has not been released on dvd and as far as i am aware it has been deleted on vhs it's ? is in direct contrast to it's popularity amongst those in the know about horror films the story revolves around events in a ? community in the early 20th century where a young ? is sent by his firm to conclude the affairs of a recently deceased widow who died on her isolated ? estate what he thought would be a routine and probably tedious task turns into a nightmare as he discovers that the old woman was haunted to her death and that the ghosts of her past are not content to rest the story is told in a subtle but ? way never being self indulgent flashy or over ? the obviously tight budget may have contributed to the no nonsense approach but it's just what the story needs and why it works so well it's what you don't see that scares having said that there is one particularly terrifying scene that relies on the visual and it works to perfection i watched this film during the day and it still gave me nightmares nearly a week later if you love being terrified do what you must to get hold of and watch a copy of the woman in black\"),\n",
       " (1081,\n",
       "  '? college student alex ? nicholas ? is plagued by nightmares of a ? ? ? at ? he dreams of cutting off his own hand spitting up a worm a ? ripping open his chest and being ? over an open fire after his friends see him ? 6 feet over his bed a helpful occult obsessed teacher donna ? suggests that they sneak into ? to face his fears of course they go in the middle of the night when no one is around to help when things get out of hand br br the group become stranded ? brother richard tom ? becomes possessed and starts killing everyone toni basil of mickey fame shows up as the helpful ghost of sammy mitchell lead singer of the group ? she teaches alex how to ? out of his body and does a rock music dance ? with repeat nightmare footage to pad out the running time all of the victims show up as ? ghosts a la the ? dunne character in an american werewolf in london the script is full of plot holes cheesy dialogue and lame attempts at comedy good fx work and cool opening credits both by ernest d ? are the only things gaining any merit basil and ? whip it do some songs on the soundtrack br br score 2 out of 10'),\n",
       " (1082,\n",
       "  \"? i wanted to read the other comments before leaving my review and the majority ? rules this movie is ? from the acting to the non realistic animation to the countless errors i was actually hoping that the ? would have been extended by a stretch of the imagination can't ? ? without ? the landing gear cannot be ? unless you have electricity that tiny little fan that was going was not sufficient by any stretch to lower the landing gear the one thing i thought was quite peculiar is when they landed the back ? touched down and then the nose one broke off thus ? the plane with both back ? in the air how did the captain apply left and right ? to ? that weren't touching the ground did they forget the spoilers word to the director find out all you can about planes before attempting a plane movie sorry for the technical rant but i give this movie 1 10\"),\n",
       " (1083,\n",
       "  \"? while the story is sweet and the dancing and singing in the main part of the film are a joy the ? of the film and what makes it a masterpiece is the dream sequence it features the combination of the highest form of truly american music gershwin the engaging beauty of french ? art kelly's enthralling choreography including his ? ? de ? ? really a separate genre with the most magnificent palette of color ever ? for the set matching the ? music and the visual explosion with those dances was a true work of a creative genius and a great artist\"),\n",
       " (1084,\n",
       "  \"? ? la ? is still gerard ? most popular part and it began the ? ? which ? in the french cinema in the 1955 1965 years it made gina ? a star ? and ? would team up again in ? ? s ? de ? the same year br br ? la ? is completely mad sometimes ? on absurd ? ? witty lines full of dark irony were probably influenced by ? and ? ? often comes to the ? these ? ? ? de ? and ? de ? when necessary joy of life and joy of death it becomes necessary to ? men when the ? ? the survivors you won the battle without the thousands of deaths you had promised me king louis ? complains but no matter let's wait for the next time br br a voice over comments the story at the beginning and at the end and history is given a rough ride height of irony it's a genuine ? who speaks br br christian ? directs the movie with gusto and he knows only one ? ? br br remake in 2003 with vincent ? and penelope ? i have not seen it but i do not think it had to be made in the first place\"),\n",
       " (1085,\n",
       "  '? gone in 60 seconds is a very good action comedy film that made over 100 million but got ? by most critics i personally thought this was a great film the story was believable and has ? the greatest cast ever for this type of movie including 3 academy award winners nicolas cage robert duvall and the very hot ? jolie other than the lame stunt at the end this is a perfect blend of action comedy and drama my score is out of'),\n",
       " (1086,\n",
       "  \"? scott henderson alan curtis meets a mystery woman fay ? in a bar and invites her to see a show with him she agrees on condition that they don't ? any information about each other not even names sometimes these are the best kind of dates however when he returns to his apartment inspector burgess thomas ? and his team are waiting for him scott's wife has been murdered his ? is the mystery woman but no one can remember seeing her and as a result of this scott is sentenced to die for the murder of his wife his secretary kansas ella raines is not convinced of his guilt and sets out to find the woman who can save him from the death penalty br br this is a good film and the viewer is 100 behind the attempts of kansas to get to the truth we follow her through some memorable scenes ? her pursuit of mac the bartender andrew ? at night and the claustrophobic ? where cliff the drummer elisha cook jr takes her to hang out drink and dance while he ? with his friends this is such a blatant depiction of sexual desire that it is a stand out part of the film as everyone ? intensely and ? for the duration of the scene ella raines is good in the female lead role and thomas ? makes a likable policeman alan curtis started well as the confused innocent man but once he is arrested his performance took a left turn as he became thoroughly unpleasant to kansas for no reason god knows why she stuck by him br br the film doesn't keep you guessing as to who the murderer is as we know from about halfway through the film but this doesn't matter in fact it adds to the tension and dramatic development of the story as we will kansas to discover what is going on and then to get the hell out it's a good film with some great scenes but although elisha cook jr has a memorable role i just never like him in anything that i see him in someone hand me a neck tie\"),\n",
       " (1087,\n",
       "  \"? ? was the very first john ? film i saw and i have to say that it was also the worst movie i had seen up to that point br br ? group of talent included several people who i am sure worked for food and were willing to say the lines waters wrote every thing about the movie is terrible acting camera editing and the story about a woman played by 300 ? ? divine was purely absurd br br that said i have to recommend this film because it is very funny and you won't believe the crap that happens to poor ? her son ? ? and ? unsuspecting women's feet at the ? store her daughter is the ? slut in town her husband is a ? a hole of a ? who does everything in his power to embarrass and ? poor ? br br ? only friend is played by edith massey possibly the worst actress ever edith looks and sounds like she is reading the lines off a cue card and has never seen the script prior to filming br br despite all of ? ? waters ? up a fabulous hollywood ending and everyone who survives lives happily ever after\"),\n",
       " (1088,\n",
       "  \"? i'll be blunt i'm not one for politically correct movies where the woman plays the bad ass who's not going to take any crap from anyone if any one of the cast members wanted to they could have just taken her out in a ? it was entertaining on ? ? but don't rent the real version trust me have i ever ? to you\"),\n",
       " (1089,\n",
       "  '? i thought this was a wonderful movie it touches every ? of a human being the love in the film is very intense i thought it was ? best performance to date great directing liked the editing music was great good use of flashback this is the kind of movie everyone should go see i hope people will get something wonderful from this overall excellent movie i think hollywood should make more movies with substance even action films can have a caring story i like the fact that will was very subtle in his acting he had a purpose and a dedication that is rare to see i would suggest watching this alone or with someone that you really care about for me i found that the world stopped and my only focus was on the film the outside world was suspended for a moment it was a nice feeling with all this chaos going on in this world and with this me generation it was great to see something someone that cared about other people more than himself'),\n",
       " (1090,\n",
       "  \"? this movie was way over hyped a lot of the viewers who thought this was amazing must have been into the old school movies cause the whole movie is set in the past at first i thought the movie was just showing something from the past so i was expecting that faded dreamy like lighting on the characters to pass but it just going basically this was a movie trying to mix the future with the past and the 2 don't mix very well in this movie even with special effects you could actually see the blue screen the actors were working with there are too many movies out there that do exactly what this movie did so there is no reason for critics to hype this movie up saying it's the greatest movie ever done it's just crap on a stick it also didn't help that the story line was ? crappy i don't understand why hollywood agreed to have this movie produced and i also don't understand how actors actresses in this movie are willing to be in a movie like this it's almost as though everybody read the script and forgot to read the fine print it will all be done on a computer this was a movie that should have been on a movie network because nothing about this movie was revolutionary i'm very upset with myself for paying money to see this whatever you do don't waste your time and money on this movie today or tomorrow\"),\n",
       " (1091,\n",
       "  '? contrary to most other comments about ? on the imdb web site i and my family found watching this film on dvd at home a complete waste of time and space br br in short this was a film based on a script whose writer was being too clever by far rather than trying to tell a complex story in an intelligent and clear manner it was assumed that constantly throwing mostly vague and hard to connect with each other 30 second vignettes of different story lines from a dozen or so story lines at the audience made for great and clear viewing no sir it does not what does make for great viewing is total clarity ? plots and story lines and ? which have a beginning a middle and an end br br this kind of cinematic presentation akin to the dim sum experience in a chinese restaurant is pretentious and ? in the extreme br br thank goodness then for the tv and dvd ? of the hollywood and british film ? of the 1940s and 1950s whose writers director and actors knew the value of clear story telling ? and acting that meant something br br this is one dvd that this family will not be sitting through again'),\n",
       " (1092,\n",
       "  \"? the short that starts this film is the true footage of a guy named gary apparently it was taken randomly in the parking lot of a television station where gary works in the town of ? gary is a little different he is an ? and drives an old chevy named farrah after fawcett lo and behold the filmmaker gets a letter from gary some time later ? him to return to ? to get some footage of the local talent contest he has put together including ? ? ? as olivia ? dawn oh my the two shorts that follow are ? story the same one you just witnessed only the first is portrayed by sean penn and the second by ? glover titled the ? kid if you are in the mood for making fun of someone this is definitely the film to watch i was ? over with laughter through most of it especially ? performance which could definitely stand on it's own when it was over i had to ? the film to once again watch the real gary and all his shining idiocy although olivia was the focus i would have liked to have seen one of the ? shorts take a ? at ? barry ? ? ? h was equally ridiculous\"),\n",
       " (1093,\n",
       "  \"? well i am delighted to hear a ? that this may finally be ? on dvd when that will happen i don't know but i will grab it when it's released br br in my humble opinion this is errol ? most entertaining film especially when gentleman jim ? ring career begins in the film then it goes from a good film to a great one br br few people could play arrogant men and still come off as a likable good guy as well as flynn could and this film is a perfect example of that reportedly this was ? favorite role and i believe that you can just sense how much fun he was having here ward bond also looks like he was really enjoying his role playing the famous john l sullivan bond too was never better br br there is just the right amount of action boxing scenes in here and they are pretty well done too ? family is fun to watch too as they carry on in the stands during ? matches out of the ? ? family's constant arguments and yelling can get a little too loud and annoying but they set the stage for a fitting conclusion br br and speaking of the conclusion ? speech to corbett after the big fight is very touching and the highlight of the film some mean spirited critics variety for example didn't like that ending nor the fact that much of the film is ? but duh most films are ? like it or not and in this case it made for a nice story and nice ending in real life corbett was a very soft spoken true gentleman not anything like ? portrayal but flynn still make him a good guy br br this is one of the more entertaining classic films i have ever watched and i eagerly wait for the dvd\"),\n",
       " (1094,\n",
       "  \"? this film has a very simple but somehow very bad plot the entire movie is about a girl getting sucked through a gate to another dimension then years later it gets opened again by a witch while a group of friends including the lead actor who is having trouble getting over his ex girlfriend who is one of the other ? along with her new partner another girl that's right they're lesbians and there is some nudity of course for no particular reason unfortunately demon follows the now adult girl back through also unfortunately none of this is ever explained where exactly were they where did the demon come from how did she survive as a child in a place full of evil demons who the hell trained her and made her a gladiator type outfit the acting is terrible i think but it's hard to tell because the writing is so bad maybe there was just nothing they could do with it i give it a three because the wrestler was pretty good and the effects were pretty fun even though they were very cheap i would not recommend it it wasn't quite bad enough to be funny\"),\n",
       " (1095,\n",
       "  '? there are so many good things to say about this ? movie br br ? maybe in connections but not in ? this is about the best of its genre that i have ever seen a grade a effort by universal the script is well done imaginative and without fault writing credits howard ? original story douglas ? story john ? screenplay director ? ? handled the complex story and story locations very well no ? on the loads of extras and locations i loved ? ? jimmy ? mother in ? a wonderful ? the ? lead frances drake is a beauty and handled her part with grace and pathos for her karloff husband lugosi likewise was correctly ? i think this is the best part i remember seeing him in as i said there were so many good things the african discovery of the ? ? the melting of the stone ? somewhat reminiscent of the ten little indians in and then there were none agatha christie the barry fitzgerald version the glowing of ? in the dark ? mother played by ? ? cooper with ? and because of all these virtues i found myself believing in the science it portrayed i guess ? the mark of a good piece of art'),\n",
       " (1096,\n",
       "  \"? winchester '73 is a great story and that's what i like about it it's not your everyday western it uses a rifle which passes hands from various characters as a ? for telling the story about these people rock hudson plays an indian chief jimmy stewart plays a great leading man with heart and strength and ? winters plays a gal who has to cope with the realities of her husband and the wild west it's important to note for those politically correct types they kill a lot of indians in this movie without ? by today's standards it's still pretty violent but it's a great story and worth watching enjoy\"),\n",
       " (1097,\n",
       "  '? i was not expecting much going in to this but still came away disappointed this was my least favorite ? production i have seen i thought it was supposed to be a comedy but i only ? at 3 or 4 jokes is it really a funny gag to see a fat guy eating ? and falling down over and over what was up with the janitor in heaven scene fred ? has been hilarious with some of his christopher guest ? but this did not work they must have spent all the budget on getting known actors to appear in this because there was no lighting budget it looked like it was filmed with a video camera and most scenes were very dark does it really take that much film to show someone actually shoot and make a basket as opposed to cutting away and editing a ball ? through a basket i try not to be too critical of low budget comedies but if you want to see something funny go to a real church basketball game instead of this movie'),\n",
       " (1098,\n",
       "  \"? rodney ? isn't the main character of this movie he's barely in it most of the screen time is dominated by unfunny jokes one running gag is that a character is named jerk off there are also lots of ? jokes where the punch line is someone has an ? this movie is as funny as ? ? british accent is convincing br br this movie started off like a weak action movie five minutes of back story and then ? unfunny jokes but aside from the terrible writing the movie is also poorly directed and the acting is terrible also this movie does the old bad comedy cliché of having lots of well known b movie actors ? williams gilbert ? randy quaid and phil la ? these are just some of the people that spend more time on the screen than rodney even though he's billed as the main character don't be surprised to find this movie at a drug store selling for five bucks even that is too much\"),\n",
       " (1099,\n",
       "  \"? first animated feature film from ireland is also one of the best animated films i've ever seen its a real ? and all story that is unlike any of the other oscar ? and any other film from this year or any other year br br the plot of the film has the ? of kells a village in ireland building a wall around his town to prevent the ? from destroying the town should they ever attack his nephew ? is a young monk who does the best he can but meets the ? of his uncle by doing things in his own time when a legendary ? ? arrives from a destroyed monastery ? ? towards him and his warm personality much to his ? ? ? offers to teach ? how to ? in order to help ? work on his great book saved from his destroyed monastery brendan goes out into the forest to get material to make ? while outside the walls he meets ashley a forest spirit with whom he develops a friendship unfortunately the ? finds out that he went outside the wall and there is hell to pay but lurking in the distance are the ? br br forget what you think you know about this film you're wrong even what i've explained doesn't do this film justice its a simple story with so much more going on this is a wonderful movie about trying to find your way in the world over coming demons and finding the beauty of the world outside of the walls as the film says the world is a dangerous place and doesn't ? to be even if you build walls br br its a film that treats its audience as adults and deals with all of life including the darkness there is death and destruction and joy and happiness its not sugar ? people die monsters ? it freaked out some of the kids but in the end there is hope frankly the darkness in this film is completely unlike anything in any recent american film forget the sadness in a pixar film this is the real thing and its refreshing and it shows how ? even pixar has become br br its a ? ? esquire samurai jack animated film who's look is actually based upon the the ? art of the period its a film that looks unlike any other here again is another film that takes the movie frame and uses it in every way possible the images are designed to fill the available space as much as possible often the film manipulated things to make it look like a page in the legendary book of kells its stunningly beautiful and best described as art come to life br br director ? moore has fashioned a film that is a masterpiece i can't say more than that its a masterpiece its one of the best animated films i've ever run across\")]"
      ]
     },
     "execution_count": 5,
     "metadata": {},
     "output_type": "execute_result"
    }
   ],
   "source": [
    "article_list"
   ]
  },
  {
   "cell_type": "code",
   "execution_count": 7,
   "id": "a0b89188",
   "metadata": {},
   "outputs": [
    {
     "name": "stdout",
     "output_type": "stream",
     "text": [
      "[0, 0, 1, 0, 1, 0, 1, 0, 1, 1, 0, 1, 0, 1, 0, 0, 1, 0, 1, 1, 1, 0, 1, 0, 1, 0, 0, 0, 1, 0, 0, 0, 1, 0, 1, 0, 1, 0, 0, 1, 1, 0, 1, 1, 1, 1, 0, 0, 0, 1, 0, 1, 0, 0, 1, 1, 0, 0, 1, 0, 0, 0, 1, 0, 0, 1, 0, 1, 0, 0, 1, 1, 1, 0, 1, 0, 0, 1, 1, 1, 1, 0, 1, 0, 0, 1, 0, 1, 0, 0, 0, 1, 0, 0, 0, 1, 1, 1, 0, 0] "
     ]
    }
   ],
   "source": [
    "self_labels = [0, 0, 1, 0, 1, 0, 1, 0, 1, 1, 0, 1, 0, 1, 0, 0, 1, 0, 1, 1, 1, 0,\n",
    "       1, 0, 1, 0, 0, 0, 1, 0, 0, 0, 1, 0, 1, 0, 1, 0, 0, 1, 1, 0, 1, 1,\n",
    "       1, 1, 0, 0, 0, 1, 0, 1, 0, 0, 1, 1, 0, 0, 1, 0, 0, 0, 1, 0, 0, 1,\n",
    "       0, 1, 0, 0, 1, 1, 1, 0, 1, 0, 0, 1, 1, 1, 1, 0, 1, 0, 0, 1, 0, 1,\n",
    "       0, 0, 0, 1, 0, 0, 0, 1, 1, 1, 0, 0]\n",
    "\n",
    "print(self_labels,end=\" \")"
   ]
  },
  {
   "cell_type": "code",
   "execution_count": 8,
   "id": "c684a589",
   "metadata": {},
   "outputs": [
    {
     "name": "stdout",
     "output_type": "stream",
     "text": [
      "[ True False False False False  True False False  True  True False False\n",
      "  True  True False False False False False False False  True  True  True\n",
      "  True False  True False  True False False False False False  True False\n",
      "  True  True  True  True False  True  True False  True False  True  True\n",
      " False  True False  True False False  True  True  True  True False  True\n",
      " False  True  True False  True  True False False False False False False\n",
      "  True False False False  True False False False  True  True False False\n",
      " False  True False False  True False  True False False False  True  True\n",
      "  True False  True False]\n"
     ]
    }
   ],
   "source": [
    "print(train_labels[1000:1100] == self_labels)"
   ]
  },
  {
   "cell_type": "code",
   "execution_count": 9,
   "id": "f26e609a",
   "metadata": {},
   "outputs": [
    {
     "name": "stdout",
     "output_type": "stream",
     "text": [
      "44\n"
     ]
    }
   ],
   "source": [
    "\n",
    "print(sum(train_labels[1000:1100] == self_labels))"
   ]
  },
  {
   "cell_type": "code",
   "execution_count": 10,
   "id": "70ac832f",
   "metadata": {},
   "outputs": [
    {
     "name": "stdout",
     "output_type": "stream",
     "text": [
      "56\n"
     ]
    }
   ],
   "source": [
    "\n",
    "print(sum(train_labels[1000:1100] != self_labels))"
   ]
  },
  {
   "cell_type": "code",
   "execution_count": 11,
   "id": "2470eb71",
   "metadata": {},
   "outputs": [],
   "source": [
    "from tensorflow.keras.datasets import imdb\n",
    "(train_data, train_labels), (test_data, test_labels) = imdb.load_data(num_words=10000)"
   ]
  },
  {
   "cell_type": "code",
   "execution_count": 12,
   "id": "0ad3fffd",
   "metadata": {},
   "outputs": [
    {
     "data": {
      "text/plain": [
       "[1,\n",
       " 14,\n",
       " 22,\n",
       " 16,\n",
       " 43,\n",
       " 530,\n",
       " 973,\n",
       " 1622,\n",
       " 1385,\n",
       " 65,\n",
       " 458,\n",
       " 4468,\n",
       " 66,\n",
       " 3941,\n",
       " 4,\n",
       " 173,\n",
       " 36,\n",
       " 256,\n",
       " 5,\n",
       " 25,\n",
       " 100,\n",
       " 43,\n",
       " 838,\n",
       " 112,\n",
       " 50,\n",
       " 670,\n",
       " 2,\n",
       " 9,\n",
       " 35,\n",
       " 480,\n",
       " 284,\n",
       " 5,\n",
       " 150,\n",
       " 4,\n",
       " 172,\n",
       " 112,\n",
       " 167,\n",
       " 2,\n",
       " 336,\n",
       " 385,\n",
       " 39,\n",
       " 4,\n",
       " 172,\n",
       " 4536,\n",
       " 1111,\n",
       " 17,\n",
       " 546,\n",
       " 38,\n",
       " 13,\n",
       " 447,\n",
       " 4,\n",
       " 192,\n",
       " 50,\n",
       " 16,\n",
       " 6,\n",
       " 147,\n",
       " 2025,\n",
       " 19,\n",
       " 14,\n",
       " 22,\n",
       " 4,\n",
       " 1920,\n",
       " 4613,\n",
       " 469,\n",
       " 4,\n",
       " 22,\n",
       " 71,\n",
       " 87,\n",
       " 12,\n",
       " 16,\n",
       " 43,\n",
       " 530,\n",
       " 38,\n",
       " 76,\n",
       " 15,\n",
       " 13,\n",
       " 1247,\n",
       " 4,\n",
       " 22,\n",
       " 17,\n",
       " 515,\n",
       " 17,\n",
       " 12,\n",
       " 16,\n",
       " 626,\n",
       " 18,\n",
       " 2,\n",
       " 5,\n",
       " 62,\n",
       " 386,\n",
       " 12,\n",
       " 8,\n",
       " 316,\n",
       " 8,\n",
       " 106,\n",
       " 5,\n",
       " 4,\n",
       " 2223,\n",
       " 5244,\n",
       " 16,\n",
       " 480,\n",
       " 66,\n",
       " 3785,\n",
       " 33,\n",
       " 4,\n",
       " 130,\n",
       " 12,\n",
       " 16,\n",
       " 38,\n",
       " 619,\n",
       " 5,\n",
       " 25,\n",
       " 124,\n",
       " 51,\n",
       " 36,\n",
       " 135,\n",
       " 48,\n",
       " 25,\n",
       " 1415,\n",
       " 33,\n",
       " 6,\n",
       " 22,\n",
       " 12,\n",
       " 215,\n",
       " 28,\n",
       " 77,\n",
       " 52,\n",
       " 5,\n",
       " 14,\n",
       " 407,\n",
       " 16,\n",
       " 82,\n",
       " 2,\n",
       " 8,\n",
       " 4,\n",
       " 107,\n",
       " 117,\n",
       " 5952,\n",
       " 15,\n",
       " 256,\n",
       " 4,\n",
       " 2,\n",
       " 7,\n",
       " 3766,\n",
       " 5,\n",
       " 723,\n",
       " 36,\n",
       " 71,\n",
       " 43,\n",
       " 530,\n",
       " 476,\n",
       " 26,\n",
       " 400,\n",
       " 317,\n",
       " 46,\n",
       " 7,\n",
       " 4,\n",
       " 2,\n",
       " 1029,\n",
       " 13,\n",
       " 104,\n",
       " 88,\n",
       " 4,\n",
       " 381,\n",
       " 15,\n",
       " 297,\n",
       " 98,\n",
       " 32,\n",
       " 2071,\n",
       " 56,\n",
       " 26,\n",
       " 141,\n",
       " 6,\n",
       " 194,\n",
       " 7486,\n",
       " 18,\n",
       " 4,\n",
       " 226,\n",
       " 22,\n",
       " 21,\n",
       " 134,\n",
       " 476,\n",
       " 26,\n",
       " 480,\n",
       " 5,\n",
       " 144,\n",
       " 30,\n",
       " 5535,\n",
       " 18,\n",
       " 51,\n",
       " 36,\n",
       " 28,\n",
       " 224,\n",
       " 92,\n",
       " 25,\n",
       " 104,\n",
       " 4,\n",
       " 226,\n",
       " 65,\n",
       " 16,\n",
       " 38,\n",
       " 1334,\n",
       " 88,\n",
       " 12,\n",
       " 16,\n",
       " 283,\n",
       " 5,\n",
       " 16,\n",
       " 4472,\n",
       " 113,\n",
       " 103,\n",
       " 32,\n",
       " 15,\n",
       " 16,\n",
       " 5345,\n",
       " 19,\n",
       " 178,\n",
       " 32]"
      ]
     },
     "execution_count": 12,
     "metadata": {},
     "output_type": "execute_result"
    }
   ],
   "source": [
    "train_data[0]"
   ]
  },
  {
   "cell_type": "code",
   "execution_count": 13,
   "id": "a4958808",
   "metadata": {},
   "outputs": [
    {
     "data": {
      "text/plain": [
       "9999"
      ]
     },
     "execution_count": 13,
     "metadata": {},
     "output_type": "execute_result"
    }
   ],
   "source": [
    "max([max(sequence) for sequence in train_data])"
   ]
  },
  {
   "cell_type": "code",
   "execution_count": 14,
   "id": "a8781f56",
   "metadata": {},
   "outputs": [],
   "source": [
    "\n",
    "word_index = imdb.get_word_index() #1\n",
    "reverse_word_index = dict(\n",
    " [(value, key) for (key, value) in word_index.items()]) #2\n",
    "decoded_review = \" \".join(\n",
    " [reverse_word_index.get(i - 3, \"?\") for i in train_data[0]]) #3 解析第一篇\n"
   ]
  },
  {
   "cell_type": "code",
   "execution_count": 15,
   "id": "a4c8bcbf",
   "metadata": {},
   "outputs": [
    {
     "data": {
      "text/plain": [
       "\"? this film was just brilliant casting location scenery story direction everyone's really suited the part they played and you could just imagine being there robert ? is an amazing actor and now the same being director ? father came from the same scottish island as myself so i loved the fact there was a real connection with this film the witty remarks throughout the film were great it was just brilliant so much that i bought the film as soon as it was released for ? and would recommend it to everyone to watch and the fly fishing was amazing really cried at the end it was so sad and you know what they say if you cry at a film it must have been good and this definitely was also ? to the two little boy's that played the ? of norman and paul they were just brilliant children are often left out of the ? list i think because the stars that play them all grown up are such a big profile for the whole film but these children are amazing and should be praised for what they have done don't you think the whole story was so lovely because it was true and was someone's life after all that was shared with us all\""
      ]
     },
     "execution_count": 15,
     "metadata": {},
     "output_type": "execute_result"
    }
   ],
   "source": [
    "decoded_review"
   ]
  },
  {
   "cell_type": "code",
   "execution_count": 16,
   "id": "e6eb14f2",
   "metadata": {},
   "outputs": [],
   "source": [
    "import numpy as np\n",
    "def vectorize_sequences(sequences, dimension=10000):\n",
    "    results = np.zeros((len(sequences), dimension)) #1\n",
    "    for i, sequence in enumerate(sequences):\n",
    "        for j in sequence:\n",
    "            results[i, j] = 1. #2\n",
    "    return results\n",
    "x_train = vectorize_sequences(train_data) #3\n",
    "x_test = vectorize_sequences(test_data) #4"
   ]
  },
  {
   "cell_type": "code",
   "execution_count": 17,
   "id": "ecd11df7",
   "metadata": {},
   "outputs": [
    {
     "data": {
      "text/plain": [
       "array([0., 1., 1., ..., 0., 0., 0.])"
      ]
     },
     "execution_count": 17,
     "metadata": {},
     "output_type": "execute_result"
    }
   ],
   "source": [
    "x_train[0]\n"
   ]
  },
  {
   "cell_type": "code",
   "execution_count": 18,
   "id": "c21ab686",
   "metadata": {},
   "outputs": [],
   "source": [
    "y_train = np.asarray(train_labels).astype(\"float32\")\n",
    "y_test = np.asarray(test_labels).astype(\"float32\")\n"
   ]
  },
  {
   "cell_type": "code",
   "execution_count": 19,
   "id": "23502f19",
   "metadata": {},
   "outputs": [],
   "source": [
    "from tensorflow import keras\n",
    "from tensorflow.keras import layers\n",
    "model = keras.Sequential([\n",
    " layers.Dense(16, activation=\"relu\"),\n",
    " layers.Dense(16, activation=\"relu\"),\n",
    " layers.Dense(1, activation=\"sigmoid\")\n",
    "])"
   ]
  },
  {
   "cell_type": "code",
   "execution_count": 20,
   "id": "c15d79c9",
   "metadata": {},
   "outputs": [],
   "source": [
    "model.compile(optimizer=\"rmsprop\",\n",
    "              loss=\"binary_crossentropy\",\n",
    "              metrics=[\"accuracy\"])"
   ]
  },
  {
   "cell_type": "code",
   "execution_count": 21,
   "id": "04355455",
   "metadata": {},
   "outputs": [],
   "source": [
    "x_val = x_train[:10000]\n",
    "partial_x_train = x_train[10000:]\n",
    "y_val = y_train[:10000]\n",
    "partial_y_train = y_train[10000:]"
   ]
  },
  {
   "cell_type": "code",
   "execution_count": 22,
   "id": "2a5e677f",
   "metadata": {
    "scrolled": true
   },
   "outputs": [
    {
     "name": "stdout",
     "output_type": "stream",
     "text": [
      "Epoch 1/20\n",
      "30/30 [==============================] - 2s 33ms/step - loss: 0.5119 - accuracy: 0.7863 - val_loss: 0.3836 - val_accuracy: 0.8689\n",
      "Epoch 2/20\n",
      "30/30 [==============================] - 1s 20ms/step - loss: 0.2994 - accuracy: 0.9041 - val_loss: 0.2990 - val_accuracy: 0.8865\n",
      "Epoch 3/20\n",
      "30/30 [==============================] - 1s 18ms/step - loss: 0.2219 - accuracy: 0.9255 - val_loss: 0.2762 - val_accuracy: 0.8902\n",
      "Epoch 4/20\n",
      "30/30 [==============================] - 1s 18ms/step - loss: 0.1743 - accuracy: 0.9423 - val_loss: 0.2748 - val_accuracy: 0.8901\n",
      "Epoch 5/20\n",
      "30/30 [==============================] - 1s 22ms/step - loss: 0.1438 - accuracy: 0.9526 - val_loss: 0.2908 - val_accuracy: 0.8864\n",
      "Epoch 6/20\n",
      "30/30 [==============================] - 1s 20ms/step - loss: 0.1200 - accuracy: 0.9629 - val_loss: 0.3152 - val_accuracy: 0.8825\n",
      "Epoch 7/20\n",
      "30/30 [==============================] - 1s 19ms/step - loss: 0.1004 - accuracy: 0.9693 - val_loss: 0.3204 - val_accuracy: 0.8788\n",
      "Epoch 8/20\n",
      "30/30 [==============================] - 1s 18ms/step - loss: 0.0857 - accuracy: 0.9737 - val_loss: 0.3358 - val_accuracy: 0.8777\n",
      "Epoch 9/20\n",
      "30/30 [==============================] - 1s 19ms/step - loss: 0.0716 - accuracy: 0.9791 - val_loss: 0.3731 - val_accuracy: 0.8771\n",
      "Epoch 10/20\n",
      "30/30 [==============================] - 1s 19ms/step - loss: 0.0580 - accuracy: 0.9853 - val_loss: 0.3890 - val_accuracy: 0.8734\n",
      "Epoch 11/20\n",
      "30/30 [==============================] - 1s 19ms/step - loss: 0.0479 - accuracy: 0.9883 - val_loss: 0.4420 - val_accuracy: 0.8648\n",
      "Epoch 12/20\n",
      "30/30 [==============================] - 1s 19ms/step - loss: 0.0403 - accuracy: 0.9900 - val_loss: 0.4315 - val_accuracy: 0.8748\n",
      "Epoch 13/20\n",
      "30/30 [==============================] - 1s 19ms/step - loss: 0.0324 - accuracy: 0.9934 - val_loss: 0.4852 - val_accuracy: 0.8720\n",
      "Epoch 14/20\n",
      "30/30 [==============================] - 1s 17ms/step - loss: 0.0267 - accuracy: 0.9946 - val_loss: 0.5157 - val_accuracy: 0.8701\n",
      "Epoch 15/20\n",
      "30/30 [==============================] - 1s 18ms/step - loss: 0.0223 - accuracy: 0.9957 - val_loss: 0.5290 - val_accuracy: 0.8691\n",
      "Epoch 16/20\n",
      "30/30 [==============================] - 1s 18ms/step - loss: 0.0176 - accuracy: 0.9977 - val_loss: 0.5635 - val_accuracy: 0.8672\n",
      "Epoch 17/20\n",
      "30/30 [==============================] - 1s 18ms/step - loss: 0.0137 - accuracy: 0.9985 - val_loss: 0.6579 - val_accuracy: 0.8618\n",
      "Epoch 18/20\n",
      "30/30 [==============================] - 1s 17ms/step - loss: 0.0111 - accuracy: 0.9989 - val_loss: 0.6414 - val_accuracy: 0.8672\n",
      "Epoch 19/20\n",
      "30/30 [==============================] - 1s 17ms/step - loss: 0.0098 - accuracy: 0.9985 - val_loss: 0.6712 - val_accuracy: 0.8676\n",
      "Epoch 20/20\n",
      "30/30 [==============================] - 0s 16ms/step - loss: 0.0071 - accuracy: 0.9993 - val_loss: 0.7017 - val_accuracy: 0.8646\n"
     ]
    }
   ],
   "source": [
    "history = model.fit(partial_x_train,\n",
    " partial_y_train,\n",
    " epochs=20,\n",
    " batch_size=512,\n",
    " validation_data=(x_val, y_val))"
   ]
  },
  {
   "cell_type": "code",
   "execution_count": 23,
   "id": "cbb6fea3",
   "metadata": {},
   "outputs": [
    {
     "data": {
      "text/plain": [
       "dict_keys(['loss', 'accuracy', 'val_loss', 'val_accuracy'])"
      ]
     },
     "execution_count": 23,
     "metadata": {},
     "output_type": "execute_result"
    }
   ],
   "source": [
    "history_dict = history.history\n",
    "history_dict.keys()"
   ]
  },
  {
   "cell_type": "code",
   "execution_count": 24,
   "id": "d417536f",
   "metadata": {},
   "outputs": [
    {
     "data": {
      "image/png": "[encoded data removed]",
      "text/plain": [
       "<Figure size 432x288 with 1 Axes>"
      ]
     },
     "metadata": {
      "needs_background": "light"
     },
     "output_type": "display_data"
    }
   ],
   "source": [
    "import matplotlib.pyplot as plt\n",
    "history_dict = history.history\n",
    "loss_values = history_dict[\"loss\"]\n",
    "val_loss_values = history_dict[\"val_loss\"]\n",
    "epochs = range(1, len(loss_values) + 1)\n",
    "plt.plot(epochs, loss_values, \"bo\", label=\"Training loss\") #1\n",
    "plt.plot(epochs, val_loss_values, \"b\", label=\"Validation loss\") #2\n",
    "plt.title(\"Training and validation loss\")\n",
    "plt.xlabel(\"Epochs\")\n",
    "plt.ylabel(\"Loss\")\n",
    "plt.legend()\n",
    "plt.show()"
   ]
  },
  {
   "cell_type": "code",
   "execution_count": 25,
   "id": "41fdf6dc",
   "metadata": {},
   "outputs": [
    {
     "data": {
      "image/png": "[encoded data removed]",
      "text/plain": [
       "<Figure size 432x288 with 1 Axes>"
      ]
     },
     "metadata": {
      "needs_background": "light"
     },
     "output_type": "display_data"
    }
   ],
   "source": [
    "plt.clf() #1\n",
    "acc = history_dict[\"accuracy\"]\n",
    "val_acc = history_dict[\"val_accuracy\"]\n",
    "plt.plot(epochs, acc, \"bo\", label=\"Training acc\")\n",
    "plt.plot(epochs, val_acc, \"b\", label=\"Validation acc\")\n",
    "plt.title(\"Training and validation accuracy\")\n",
    "plt.xlabel(\"Epochs\")\n",
    "plt.ylabel(\"Accuracy\")\n",
    "plt.legend()\n",
    "plt.show()"
   ]
  },
  {
   "cell_type": "code",
   "execution_count": 26,
   "id": "65430dad",
   "metadata": {},
   "outputs": [
    {
     "name": "stdout",
     "output_type": "stream",
     "text": [
      "Epoch 1/4\n",
      "49/49 [==============================] - 1s 12ms/step - loss: 0.4611 - accuracy: 0.8242\n",
      "Epoch 2/4\n",
      "49/49 [==============================] - 1s 13ms/step - loss: 0.2643 - accuracy: 0.9064\n",
      "Epoch 3/4\n",
      "49/49 [==============================] - 1s 14ms/step - loss: 0.2013 - accuracy: 0.9284\n",
      "Epoch 4/4\n",
      "49/49 [==============================] - 1s 11ms/step - loss: 0.1676 - accuracy: 0.9414\n",
      "782/782 [==============================] - 1s 1ms/step - loss: 0.2919 - accuracy: 0.8853\n"
     ]
    }
   ],
   "source": [
    "model = keras.Sequential([\n",
    " layers.Dense(16, activation=\"relu\"),\n",
    " layers.Dense(16, activation=\"relu\"),\n",
    " layers.Dense(1, activation=\"sigmoid\")\n",
    "])\n",
    "model.compile(optimizer=\"rmsprop\",\n",
    " loss=\"binary_crossentropy\",\n",
    " metrics=[\"accuracy\"])\n",
    "model.fit(x_train, y_train, epochs=4, batch_size=512)\n",
    "results = model.evaluate(x_test, y_test)"
   ]
  },
  {
   "cell_type": "code",
   "execution_count": 27,
   "id": "a68deacc",
   "metadata": {},
   "outputs": [
    {
     "data": {
      "text/plain": [
       "[0.29190805554389954, 0.8853200078010559]"
      ]
     },
     "execution_count": 27,
     "metadata": {},
     "output_type": "execute_result"
    }
   ],
   "source": [
    "results"
   ]
  },
  {
   "cell_type": "code",
   "execution_count": 29,
   "id": "433adf32",
   "metadata": {},
   "outputs": [
    {
     "name": "stdout",
     "output_type": "stream",
     "text": [
      "782/782 [==============================] - 1s 1ms/step\n"
     ]
    },
    {
     "data": {
      "text/plain": [
       "array([[0.17682652],\n",
       "       [0.9999591 ],\n",
       "       [0.89951533],\n",
       "       ...,\n",
       "       [0.11693659],\n",
       "       [0.07088152],\n",
       "       [0.49156424]], dtype=float32)"
      ]
     },
     "execution_count": 29,
     "metadata": {},
     "output_type": "execute_result"
    }
   ],
   "source": [
    "model.predict(x_test)"
   ]
  },
  {
   "cell_type": "code",
   "execution_count": 30,
   "id": "9fa211fc",
   "metadata": {},
   "outputs": [
    {
     "name": "stdout",
     "output_type": "stream",
     "text": [
      "Downloading data from https://storage.googleapis.com/tensorflow/tf-keras-datasets/reuters.npz\n",
      "2110848/2110848 [==============================] - 0s 0us/step\n"
     ]
    }
   ],
   "source": [
    "from tensorflow.keras.datasets import reuters\n",
    "(train_data, train_labels), (test_data, test_labels) = reuters.load_data(num_words=10000)"
   ]
  },
  {
   "cell_type": "code",
   "execution_count": 31,
   "id": "a81bf14c",
   "metadata": {},
   "outputs": [
    {
     "data": {
      "text/plain": [
       "(8982, 2246)"
      ]
     },
     "execution_count": 31,
     "metadata": {},
     "output_type": "execute_result"
    }
   ],
   "source": [
    "len(train_data), len(test_data)"
   ]
  },
  {
   "cell_type": "code",
   "execution_count": 32,
   "id": "90eaac46",
   "metadata": {
    "scrolled": true
   },
   "outputs": [
    {
     "data": {
      "text/plain": [
       "[1,\n",
       " 245,\n",
       " 273,\n",
       " 207,\n",
       " 156,\n",
       " 53,\n",
       " 74,\n",
       " 160,\n",
       " 26,\n",
       " 14,\n",
       " 46,\n",
       " 296,\n",
       " 26,\n",
       " 39,\n",
       " 74,\n",
       " 2979,\n",
       " 3554,\n",
       " 14,\n",
       " 46,\n",
       " 4689,\n",
       " 4329,\n",
       " 86,\n",
       " 61,\n",
       " 3499,\n",
       " 4795,\n",
       " 14,\n",
       " 61,\n",
       " 451,\n",
       " 4329,\n",
       " 17,\n",
       " 12]"
      ]
     },
     "execution_count": 32,
     "metadata": {},
     "output_type": "execute_result"
    }
   ],
   "source": [
    "train_data[10]"
   ]
  },
  {
   "cell_type": "code",
   "execution_count": 33,
   "id": "e6504f2a",
   "metadata": {},
   "outputs": [
    {
     "name": "stdout",
     "output_type": "stream",
     "text": [
      "Downloading data from https://storage.googleapis.com/tensorflow/tf-keras-datasets/reuters_word_index.json\n",
      "550378/550378 [==============================] - 0s 0us/step\n"
     ]
    }
   ],
   "source": [
    "word_index = reuters.get_word_index()\n",
    "reverse_word_index = dict(\n",
    " [(value, key) for (key, value) in word_index.items()])\n",
    "decoded_newswire = \" \".join(\n",
    " [reverse_word_index.get(i - 3, \"?\") for i in train_data[0]])"
   ]
  },
  {
   "cell_type": "code",
   "execution_count": 34,
   "id": "fb7546ae",
   "metadata": {},
   "outputs": [
    {
     "data": {
      "text/plain": [
       "3"
      ]
     },
     "execution_count": 34,
     "metadata": {},
     "output_type": "execute_result"
    }
   ],
   "source": [
    "train_labels[10]"
   ]
  },
  {
   "cell_type": "code",
   "execution_count": 35,
   "id": "3cbb1de9",
   "metadata": {},
   "outputs": [],
   "source": [
    "x_train = vectorize_sequences(train_data) #1\n",
    "x_test = vectorize_sequences(test_data) #2"
   ]
  },
  {
   "cell_type": "code",
   "execution_count": 36,
   "id": "26ed418c",
   "metadata": {},
   "outputs": [],
   "source": [
    "def to_one_hot(labels, dimension=46):\n",
    "    results = np.zeros((len(labels), dimension))\n",
    "    for i, label in enumerate(labels):\n",
    "        results[i, label] = 1.\n",
    "    return results\n",
    "y_train = to_one_hot(train_labels) #1\n",
    "y_test = to_one_hot(test_labels) #2"
   ]
  },
  {
   "cell_type": "code",
   "execution_count": 37,
   "id": "5c50c4a8",
   "metadata": {},
   "outputs": [],
   "source": [
    "from tensorflow.keras.utils import to_categorical\n",
    "y_train = to_categorical(train_labels)\n",
    "y_test = to_categorical(test_labels)"
   ]
  },
  {
   "cell_type": "code",
   "execution_count": 38,
   "id": "55e2878f",
   "metadata": {},
   "outputs": [],
   "source": [
    "model = keras.Sequential([\n",
    " layers.Dense(64, activation=\"relu\"),\n",
    " layers.Dense(64, activation=\"relu\"),\n",
    " layers.Dense(46, activation=\"softmax\")\n",
    "])"
   ]
  },
  {
   "cell_type": "code",
   "execution_count": 39,
   "id": "cc36657c",
   "metadata": {},
   "outputs": [],
   "source": [
    "model.compile(optimizer=\"rmsprop\",\n",
    " loss=\"categorical_crossentropy\",\n",
    " metrics=[\"accuracy\"])"
   ]
  },
  {
   "cell_type": "code",
   "execution_count": 41,
   "id": "d0ad968d",
   "metadata": {},
   "outputs": [],
   "source": [
    "x_val = x_train[:1000]\n",
    "partial_x_train = x_train[1000:]\n",
    "y_val = y_train[:1000]\n",
    "partial_y_train = y_train[1000:]\n"
   ]
  },
  {
   "cell_type": "code",
   "execution_count": 42,
   "id": "282ccdfb",
   "metadata": {
    "scrolled": true
   },
   "outputs": [
    {
     "name": "stdout",
     "output_type": "stream",
     "text": [
      "Epoch 1/20\n",
      "16/16 [==============================] - 1s 30ms/step - loss: 2.5549 - accuracy: 0.4865 - val_loss: 1.6950 - val_accuracy: 0.6430\n",
      "Epoch 2/20\n",
      "16/16 [==============================] - 0s 21ms/step - loss: 1.4062 - accuracy: 0.7070 - val_loss: 1.3057 - val_accuracy: 0.7090\n",
      "Epoch 3/20\n",
      "16/16 [==============================] - 0s 20ms/step - loss: 1.0543 - accuracy: 0.7783 - val_loss: 1.1349 - val_accuracy: 0.7540\n",
      "Epoch 4/20\n",
      "16/16 [==============================] - 0s 20ms/step - loss: 0.8283 - accuracy: 0.8239 - val_loss: 1.0367 - val_accuracy: 0.7870\n",
      "Epoch 5/20\n",
      "16/16 [==============================] - 0s 20ms/step - loss: 0.6546 - accuracy: 0.8631 - val_loss: 0.9748 - val_accuracy: 0.7960\n",
      "Epoch 6/20\n",
      "16/16 [==============================] - 0s 21ms/step - loss: 0.5240 - accuracy: 0.8909 - val_loss: 0.9967 - val_accuracy: 0.7890\n",
      "Epoch 7/20\n",
      "16/16 [==============================] - 0s 20ms/step - loss: 0.4231 - accuracy: 0.9146 - val_loss: 0.9169 - val_accuracy: 0.8050\n",
      "Epoch 8/20\n",
      "16/16 [==============================] - 0s 20ms/step - loss: 0.3469 - accuracy: 0.9290 - val_loss: 0.9233 - val_accuracy: 0.7990\n",
      "Epoch 9/20\n",
      "16/16 [==============================] - 0s 21ms/step - loss: 0.2837 - accuracy: 0.9400 - val_loss: 0.9016 - val_accuracy: 0.8070\n",
      "Epoch 10/20\n",
      "16/16 [==============================] - 0s 20ms/step - loss: 0.2435 - accuracy: 0.9441 - val_loss: 0.8962 - val_accuracy: 0.8130\n",
      "Epoch 11/20\n",
      "16/16 [==============================] - 0s 20ms/step - loss: 0.2053 - accuracy: 0.9485 - val_loss: 0.9671 - val_accuracy: 0.8040\n",
      "Epoch 12/20\n",
      "16/16 [==============================] - 0s 19ms/step - loss: 0.1890 - accuracy: 0.9504 - val_loss: 0.9362 - val_accuracy: 0.8080\n",
      "Epoch 13/20\n",
      "16/16 [==============================] - 0s 19ms/step - loss: 0.1646 - accuracy: 0.9540 - val_loss: 0.9608 - val_accuracy: 0.8020\n",
      "Epoch 14/20\n",
      "16/16 [==============================] - 0s 19ms/step - loss: 0.1501 - accuracy: 0.9554 - val_loss: 1.0176 - val_accuracy: 0.7980\n",
      "Epoch 15/20\n",
      "16/16 [==============================] - 0s 20ms/step - loss: 0.1400 - accuracy: 0.9559 - val_loss: 0.9647 - val_accuracy: 0.8100\n",
      "Epoch 16/20\n",
      "16/16 [==============================] - 0s 20ms/step - loss: 0.1299 - accuracy: 0.9570 - val_loss: 1.0001 - val_accuracy: 0.8090\n",
      "Epoch 17/20\n",
      "16/16 [==============================] - 0s 19ms/step - loss: 0.1262 - accuracy: 0.9562 - val_loss: 1.0317 - val_accuracy: 0.8100\n",
      "Epoch 18/20\n",
      "16/16 [==============================] - 0s 19ms/step - loss: 0.1190 - accuracy: 0.9567 - val_loss: 1.0632 - val_accuracy: 0.7980\n",
      "Epoch 19/20\n",
      "16/16 [==============================] - 0s 19ms/step - loss: 0.1160 - accuracy: 0.9573 - val_loss: 1.0662 - val_accuracy: 0.8080\n",
      "Epoch 20/20\n",
      "16/16 [==============================] - 0s 16ms/step - loss: 0.1144 - accuracy: 0.9568 - val_loss: 1.1216 - val_accuracy: 0.7890\n"
     ]
    }
   ],
   "source": [
    "history = model.fit(partial_x_train,\n",
    " partial_y_train,\n",
    " epochs=20,\n",
    " batch_size=512,\n",
    " validation_data=(x_val, y_val))"
   ]
  },
  {
   "cell_type": "code",
   "execution_count": 43,
   "id": "418be70d",
   "metadata": {},
   "outputs": [
    {
     "data": {
      "image/png": "[encoded data removed]",
      "text/plain": [
       "<Figure size 432x288 with 1 Axes>"
      ]
     },
     "metadata": {
      "needs_background": "light"
     },
     "output_type": "display_data"
    }
   ],
   "source": [
    "loss = history.history[\"loss\"]\n",
    "val_loss = history.history[\"val_loss\"]\n",
    "epochs = range(1, len(loss) + 1)\n",
    "plt.plot(epochs, loss, \"bo\", label=\"Training loss\")\n",
    "plt.plot(epochs, val_loss, \"b\", label=\"Validation loss\")\n",
    "plt.title(\"Training and validation loss\")\n",
    "plt.xlabel(\"Epochs\")\n",
    "plt.ylabel(\"Loss\")\n",
    "plt.legend()\n",
    "plt.show()"
   ]
  },
  {
   "cell_type": "code",
   "execution_count": 44,
   "id": "ba945a13",
   "metadata": {},
   "outputs": [
    {
     "data": {
      "image/png": "[encoded data removed]",
      "text/plain": [
       "<Figure size 432x288 with 1 Axes>"
      ]
     },
     "metadata": {
      "needs_background": "light"
     },
     "output_type": "display_data"
    }
   ],
   "source": [
    "plt.clf() #1\n",
    "acc = history.history[\"accuracy\"]\n",
    "val_acc = history.history[\"val_accuracy\"]\n",
    "plt.plot(epochs, acc, \"bo\", label=\"Training accuracy\")\n",
    "plt.plot(epochs, val_acc, \"b\", label=\"Validation accuracy\")\n",
    "plt.title(\"Training and validation accuracy\")\n",
    "plt.xlabel(\"Epochs\")\n",
    "plt.ylabel(\"Accuracy\")\n",
    "plt.legend()\n",
    "plt.show()"
   ]
  },
  {
   "cell_type": "code",
   "execution_count": 45,
   "id": "58bc8efc",
   "metadata": {
    "scrolled": true
   },
   "outputs": [
    {
     "name": "stdout",
     "output_type": "stream",
     "text": [
      "Epoch 1/9\n",
      "18/18 [==============================] - 1s 17ms/step - loss: 2.6456 - accuracy: 0.5421\n",
      "Epoch 2/9\n",
      "18/18 [==============================] - 0s 18ms/step - loss: 1.4160 - accuracy: 0.7064\n",
      "Epoch 3/9\n",
      "18/18 [==============================] - 0s 18ms/step - loss: 1.0466 - accuracy: 0.7798\n",
      "Epoch 4/9\n",
      "18/18 [==============================] - 0s 17ms/step - loss: 0.8114 - accuracy: 0.8340\n",
      "Epoch 5/9\n",
      "18/18 [==============================] - 0s 18ms/step - loss: 0.6313 - accuracy: 0.8753\n",
      "Epoch 6/9\n",
      "18/18 [==============================] - 0s 19ms/step - loss: 0.5015 - accuracy: 0.8979\n",
      "Epoch 7/9\n",
      "18/18 [==============================] - 0s 18ms/step - loss: 0.4059 - accuracy: 0.9173\n",
      "Epoch 8/9\n",
      "18/18 [==============================] - 0s 18ms/step - loss: 0.3280 - accuracy: 0.9322\n",
      "Epoch 9/9\n",
      "18/18 [==============================] - 0s 16ms/step - loss: 0.2774 - accuracy: 0.9385\n",
      "71/71 [==============================] - 0s 2ms/step - loss: 0.9741 - accuracy: 0.7921\n"
     ]
    }
   ],
   "source": [
    "model = keras.Sequential([\n",
    " layers.Dense(64, activation=\"relu\"),\n",
    " layers.Dense(64, activation=\"relu\"),\n",
    " layers.Dense(46, activation=\"softmax\")\n",
    "])\n",
    "model.compile(optimizer=\"rmsprop\",\n",
    " loss=\"categorical_crossentropy\",\n",
    " metrics=[\"accuracy\"])\n",
    "model.fit(x_train,\n",
    " y_train,\n",
    " epochs=9,\n",
    " batch_size=512)\n",
    "results = model.evaluate(x_test, y_test)"
   ]
  },
  {
   "cell_type": "code",
   "execution_count": 46,
   "id": "b0e4d7e3",
   "metadata": {},
   "outputs": [
    {
     "data": {
      "text/plain": [
       "[0.9741228222846985, 0.7920747995376587]"
      ]
     },
     "execution_count": 46,
     "metadata": {},
     "output_type": "execute_result"
    }
   ],
   "source": [
    "results"
   ]
  },
  {
   "cell_type": "code",
   "execution_count": 47,
   "id": "a3968259",
   "metadata": {},
   "outputs": [
    {
     "data": {
      "text/plain": [
       "0.1798753339269813"
      ]
     },
     "execution_count": 47,
     "metadata": {},
     "output_type": "execute_result"
    }
   ],
   "source": [
    "import copy\n",
    "test_labels_copy = copy.copy(test_labels)\n",
    "np.random.shuffle(test_labels_copy)\n",
    "hits_array = np.array(test_labels) == np.array(test_labels_copy)\n",
    "hits_array.mean()"
   ]
  },
  {
   "cell_type": "code",
   "execution_count": 48,
   "id": "443cf750",
   "metadata": {},
   "outputs": [
    {
     "name": "stdout",
     "output_type": "stream",
     "text": [
      "71/71 [==============================] - 0s 2ms/step\n"
     ]
    }
   ],
   "source": [
    "predictions = model.predict(x_test)"
   ]
  },
  {
   "cell_type": "code",
   "execution_count": 49,
   "id": "c975a1bb",
   "metadata": {},
   "outputs": [
    {
     "data": {
      "text/plain": [
       "(46,)"
      ]
     },
     "execution_count": 49,
     "metadata": {},
     "output_type": "execute_result"
    }
   ],
   "source": [
    "predictions[0].shape"
   ]
  },
  {
   "cell_type": "code",
   "execution_count": 50,
   "id": "94eeb803",
   "metadata": {},
   "outputs": [
    {
     "data": {
      "text/plain": [
       "1.0"
      ]
     },
     "execution_count": 50,
     "metadata": {},
     "output_type": "execute_result"
    }
   ],
   "source": [
    "\n",
    "np.sum(predictions[0])"
   ]
  },
  {
   "cell_type": "code",
   "execution_count": 51,
   "id": "b4ff6419",
   "metadata": {},
   "outputs": [
    {
     "data": {
      "text/plain": [
       "4"
      ]
     },
     "execution_count": 51,
     "metadata": {},
     "output_type": "execute_result"
    }
   ],
   "source": [
    "\n",
    "np.argmax(predictions[0])"
   ]
  },
  {
   "cell_type": "code",
   "execution_count": 52,
   "id": "eef62247",
   "metadata": {},
   "outputs": [],
   "source": [
    "y_train = np.array(train_labels)\n",
    "y_test = np.array(test_labels)"
   ]
  },
  {
   "cell_type": "code",
   "execution_count": 53,
   "id": "70a37713",
   "metadata": {},
   "outputs": [],
   "source": [
    "model.compile(optimizer=\"rmsprop\",\n",
    "              loss=\"sparse_categorical_crossentropy\",\n",
    "              metrics=[\"accuracy\"])"
   ]
  },
  {
   "cell_type": "code",
   "execution_count": 54,
   "id": "fa9a540d",
   "metadata": {
    "scrolled": true
   },
   "outputs": [
    {
     "name": "stdout",
     "output_type": "stream",
     "text": [
      "Epoch 1/20\n",
      "63/63 [==============================] - 1s 13ms/step - loss: 2.9088 - accuracy: 0.3099 - val_loss: 2.1146 - val_accuracy: 0.5590\n",
      "Epoch 2/20\n",
      "63/63 [==============================] - 1s 10ms/step - loss: 1.7332 - accuracy: 0.5734 - val_loss: 1.5885 - val_accuracy: 0.5780\n",
      "Epoch 3/20\n",
      "63/63 [==============================] - 1s 10ms/step - loss: 1.4058 - accuracy: 0.6019 - val_loss: 1.4737 - val_accuracy: 0.6200\n",
      "Epoch 4/20\n",
      "63/63 [==============================] - 1s 10ms/step - loss: 1.2314 - accuracy: 0.6721 - val_loss: 1.3985 - val_accuracy: 0.6540\n",
      "Epoch 5/20\n",
      "63/63 [==============================] - 1s 11ms/step - loss: 1.1043 - accuracy: 0.6956 - val_loss: 1.3770 - val_accuracy: 0.6510\n",
      "Epoch 6/20\n",
      "63/63 [==============================] - 1s 10ms/step - loss: 1.0080 - accuracy: 0.7091 - val_loss: 1.3670 - val_accuracy: 0.6620\n",
      "Epoch 7/20\n",
      "63/63 [==============================] - 1s 10ms/step - loss: 0.9280 - accuracy: 0.7362 - val_loss: 1.3899 - val_accuracy: 0.6720\n",
      "Epoch 8/20\n",
      "63/63 [==============================] - 1s 10ms/step - loss: 0.8569 - accuracy: 0.7741 - val_loss: 1.4006 - val_accuracy: 0.6960\n",
      "Epoch 9/20\n",
      "63/63 [==============================] - 1s 10ms/step - loss: 0.7954 - accuracy: 0.7987 - val_loss: 1.4142 - val_accuracy: 0.7030\n",
      "Epoch 10/20\n",
      "63/63 [==============================] - 1s 11ms/step - loss: 0.7403 - accuracy: 0.8133 - val_loss: 1.4127 - val_accuracy: 0.7110\n",
      "Epoch 11/20\n",
      "63/63 [==============================] - 1s 11ms/step - loss: 0.6954 - accuracy: 0.8222 - val_loss: 1.4757 - val_accuracy: 0.7030\n",
      "Epoch 12/20\n",
      "63/63 [==============================] - 1s 11ms/step - loss: 0.6566 - accuracy: 0.8277 - val_loss: 1.5030 - val_accuracy: 0.6990\n",
      "Epoch 13/20\n",
      "63/63 [==============================] - 1s 10ms/step - loss: 0.6230 - accuracy: 0.8346 - val_loss: 1.5721 - val_accuracy: 0.6990\n",
      "Epoch 14/20\n",
      "63/63 [==============================] - 1s 11ms/step - loss: 0.5960 - accuracy: 0.8371 - val_loss: 1.6028 - val_accuracy: 0.7020\n",
      "Epoch 15/20\n",
      "63/63 [==============================] - 1s 10ms/step - loss: 0.5704 - accuracy: 0.8401 - val_loss: 1.6855 - val_accuracy: 0.6940\n",
      "Epoch 16/20\n",
      "63/63 [==============================] - 1s 10ms/step - loss: 0.5498 - accuracy: 0.8425 - val_loss: 1.7057 - val_accuracy: 0.6980\n",
      "Epoch 17/20\n",
      "63/63 [==============================] - 1s 11ms/step - loss: 0.5285 - accuracy: 0.8431 - val_loss: 1.7259 - val_accuracy: 0.7030\n",
      "Epoch 18/20\n",
      "63/63 [==============================] - 1s 10ms/step - loss: 0.5095 - accuracy: 0.8460 - val_loss: 1.7572 - val_accuracy: 0.7010\n",
      "Epoch 19/20\n",
      "63/63 [==============================] - 1s 11ms/step - loss: 0.4947 - accuracy: 0.8479 - val_loss: 1.7990 - val_accuracy: 0.7000\n",
      "Epoch 20/20\n",
      "63/63 [==============================] - 1s 11ms/step - loss: 0.4783 - accuracy: 0.8498 - val_loss: 1.8665 - val_accuracy: 0.6950\n"
     ]
    },
    {
     "data": {
      "text/plain": [
       "<keras.callbacks.History at 0x2844394cd00>"
      ]
     },
     "execution_count": 54,
     "metadata": {},
     "output_type": "execute_result"
    }
   ],
   "source": [
    "model = keras.Sequential([\n",
    "    layers.Dense(64, activation=\"relu\"),\n",
    "    layers.Dense(4, activation=\"relu\"),\n",
    "    layers.Dense(46, activation=\"softmax\")\n",
    "])\n",
    "model.compile(optimizer=\"rmsprop\",\n",
    "              loss=\"categorical_crossentropy\",\n",
    "              metrics=[\"accuracy\"])\n",
    "model.fit(partial_x_train,\n",
    "          partial_y_train,\n",
    "          epochs=20,\n",
    "          batch_size=128,\n",
    "          validation_data=(x_val, y_val))"
   ]
  },
  {
   "cell_type": "code",
   "execution_count": 55,
   "id": "d32eb4d9",
   "metadata": {},
   "outputs": [
    {
     "name": "stdout",
     "output_type": "stream",
     "text": [
      "Downloading data from https://storage.googleapis.com/tensorflow/tf-keras-datasets/boston_housing.npz\n",
      "57026/57026 [==============================] - 0s 0us/step\n"
     ]
    }
   ],
   "source": [
    "from tensorflow.keras.datasets import boston_housing\n",
    "(train_data, train_targets), (test_data, test_targets) = boston_housing.load_data()"
   ]
  },
  {
   "cell_type": "code",
   "execution_count": 56,
   "id": "0fa64cbf",
   "metadata": {},
   "outputs": [
    {
     "data": {
      "text/plain": [
       "(404, 13)"
      ]
     },
     "execution_count": 56,
     "metadata": {},
     "output_type": "execute_result"
    }
   ],
   "source": [
    "train_data.shape"
   ]
  },
  {
   "cell_type": "code",
   "execution_count": 57,
   "id": "3df9e2b5",
   "metadata": {},
   "outputs": [
    {
     "data": {
      "text/plain": [
       "(102, 13)"
      ]
     },
     "execution_count": 57,
     "metadata": {},
     "output_type": "execute_result"
    }
   ],
   "source": [
    "test_data.shape"
   ]
  },
  {
   "cell_type": "code",
   "execution_count": 58,
   "id": "907f9e5e",
   "metadata": {},
   "outputs": [
    {
     "data": {
      "text/plain": [
       "array([15.2, 42.3, 50. , 21.1, 17.7, 18.5, 11.3, 15.6, 15.6, 14.4, 12.1,\n",
       "       17.9, 23.1, 19.9, 15.7,  8.8, 50. , 22.5, 24.1, 27.5, 10.9, 30.8,\n",
       "       32.9, 24. , 18.5, 13.3, 22.9, 34.7, 16.6, 17.5, 22.3, 16.1, 14.9,\n",
       "       23.1, 34.9, 25. , 13.9, 13.1, 20.4, 20. , 15.2, 24.7, 22.2, 16.7,\n",
       "       12.7, 15.6, 18.4, 21. , 30.1, 15.1, 18.7,  9.6, 31.5, 24.8, 19.1,\n",
       "       22. , 14.5, 11. , 32. , 29.4, 20.3, 24.4, 14.6, 19.5, 14.1, 14.3,\n",
       "       15.6, 10.5,  6.3, 19.3, 19.3, 13.4, 36.4, 17.8, 13.5, 16.5,  8.3,\n",
       "       14.3, 16. , 13.4, 28.6, 43.5, 20.2, 22. , 23. , 20.7, 12.5, 48.5,\n",
       "       14.6, 13.4, 23.7, 50. , 21.7, 39.8, 38.7, 22.2, 34.9, 22.5, 31.1,\n",
       "       28.7, 46. , 41.7, 21. , 26.6, 15. , 24.4, 13.3, 21.2, 11.7, 21.7,\n",
       "       19.4, 50. , 22.8, 19.7, 24.7, 36.2, 14.2, 18.9, 18.3, 20.6, 24.6,\n",
       "       18.2,  8.7, 44. , 10.4, 13.2, 21.2, 37. , 30.7, 22.9, 20. , 19.3,\n",
       "       31.7, 32. , 23.1, 18.8, 10.9, 50. , 19.6,  5. , 14.4, 19.8, 13.8,\n",
       "       19.6, 23.9, 24.5, 25. , 19.9, 17.2, 24.6, 13.5, 26.6, 21.4, 11.9,\n",
       "       22.6, 19.6,  8.5, 23.7, 23.1, 22.4, 20.5, 23.6, 18.4, 35.2, 23.1,\n",
       "       27.9, 20.6, 23.7, 28. , 13.6, 27.1, 23.6, 20.6, 18.2, 21.7, 17.1,\n",
       "        8.4, 25.3, 13.8, 22.2, 18.4, 20.7, 31.6, 30.5, 20.3,  8.8, 19.2,\n",
       "       19.4, 23.1, 23. , 14.8, 48.8, 22.6, 33.4, 21.1, 13.6, 32.2, 13.1,\n",
       "       23.4, 18.9, 23.9, 11.8, 23.3, 22.8, 19.6, 16.7, 13.4, 22.2, 20.4,\n",
       "       21.8, 26.4, 14.9, 24.1, 23.8, 12.3, 29.1, 21. , 19.5, 23.3, 23.8,\n",
       "       17.8, 11.5, 21.7, 19.9, 25. , 33.4, 28.5, 21.4, 24.3, 27.5, 33.1,\n",
       "       16.2, 23.3, 48.3, 22.9, 22.8, 13.1, 12.7, 22.6, 15. , 15.3, 10.5,\n",
       "       24. , 18.5, 21.7, 19.5, 33.2, 23.2,  5. , 19.1, 12.7, 22.3, 10.2,\n",
       "       13.9, 16.3, 17. , 20.1, 29.9, 17.2, 37.3, 45.4, 17.8, 23.2, 29. ,\n",
       "       22. , 18. , 17.4, 34.6, 20.1, 25. , 15.6, 24.8, 28.2, 21.2, 21.4,\n",
       "       23.8, 31. , 26.2, 17.4, 37.9, 17.5, 20. ,  8.3, 23.9,  8.4, 13.8,\n",
       "        7.2, 11.7, 17.1, 21.6, 50. , 16.1, 20.4, 20.6, 21.4, 20.6, 36.5,\n",
       "        8.5, 24.8, 10.8, 21.9, 17.3, 18.9, 36.2, 14.9, 18.2, 33.3, 21.8,\n",
       "       19.7, 31.6, 24.8, 19.4, 22.8,  7.5, 44.8, 16.8, 18.7, 50. , 50. ,\n",
       "       19.5, 20.1, 50. , 17.2, 20.8, 19.3, 41.3, 20.4, 20.5, 13.8, 16.5,\n",
       "       23.9, 20.6, 31.5, 23.3, 16.8, 14. , 33.8, 36.1, 12.8, 18.3, 18.7,\n",
       "       19.1, 29. , 30.1, 50. , 50. , 22. , 11.9, 37.6, 50. , 22.7, 20.8,\n",
       "       23.5, 27.9, 50. , 19.3, 23.9, 22.6, 15.2, 21.7, 19.2, 43.8, 20.3,\n",
       "       33.2, 19.9, 22.5, 32.7, 22. , 17.1, 19. , 15. , 16.1, 25.1, 23.7,\n",
       "       28.7, 37.2, 22.6, 16.4, 25. , 29.8, 22.1, 17.4, 18.1, 30.3, 17.5,\n",
       "       24.7, 12.6, 26.5, 28.7, 13.3, 10.4, 24.4, 23. , 20. , 17.8,  7. ,\n",
       "       11.8, 24.4, 13.8, 19.4, 25.2, 19.4, 19.4, 29.1])"
      ]
     },
     "execution_count": 58,
     "metadata": {},
     "output_type": "execute_result"
    }
   ],
   "source": [
    "train_targets\n"
   ]
  },
  {
   "cell_type": "code",
   "execution_count": 59,
   "id": "ce590438",
   "metadata": {},
   "outputs": [],
   "source": [
    "mean = train_data.mean(axis=0)\n",
    "train_data -= mean\n",
    "std = train_data.std(axis=0)\n",
    "train_data /= std\n",
    "test_data -= mean\n",
    "test_data /= std"
   ]
  },
  {
   "cell_type": "code",
   "execution_count": 60,
   "id": "fea438a6",
   "metadata": {},
   "outputs": [],
   "source": [
    "def build_model():\n",
    "    model = keras.Sequential([\n",
    "        layers.Dense(64, activation=\"relu\"),\n",
    "        layers.Dense(64, activation=\"relu\"),\n",
    "        layers.Dense(1)\n",
    "    ])\n",
    "    model.compile(optimizer=\"rmsprop\", loss=\"mse\", metrics=[\"mae\"])\n",
    "    return model"
   ]
  },
  {
   "cell_type": "code",
   "execution_count": 61,
   "id": "848c92e5",
   "metadata": {
    "scrolled": true
   },
   "outputs": [
    {
     "name": "stdout",
     "output_type": "stream",
     "text": [
      "Processing fold #0\n",
      "Processing fold #1\n",
      "Processing fold #2\n",
      "Processing fold #3\n"
     ]
    }
   ],
   "source": [
    "k = 4\n",
    "num_val_samples = len(train_data) // k\n",
    "num_epochs = 100\n",
    "all_scores = []\n",
    "for i in range(k):\n",
    "    print(f\"Processing fold #{i}\")\n",
    "    val_data = train_data[i * num_val_samples: (i + 1) * num_val_samples]\n",
    "    val_targets = train_targets[i * num_val_samples: (i + 1) * num_val_samples]\n",
    "    partial_train_data = np.concatenate(\n",
    "        [train_data[:i * num_val_samples],\n",
    "         train_data[(i + 1) * num_val_samples:]],\n",
    "        axis=0)\n",
    "    partial_train_targets = np.concatenate(\n",
    "        [train_targets[:i * num_val_samples],\n",
    "         train_targets[(i + 1) * num_val_samples:]],\n",
    "        axis=0)\n",
    "    model = build_model()\n",
    "    model.fit(partial_train_data, partial_train_targets,\n",
    "              epochs=num_epochs, batch_size=16, verbose=0)\n",
    "    val_mse, val_mae = model.evaluate(val_data, val_targets, verbose=0)\n",
    "    all_scores.append(val_mae)"
   ]
  },
  {
   "cell_type": "code",
   "execution_count": 62,
   "id": "95329a5d",
   "metadata": {},
   "outputs": [
    {
     "data": {
      "text/plain": [
       "[1.8915438652038574, 2.5206515789031982, 2.4071309566497803, 2.499885082244873]"
      ]
     },
     "execution_count": 62,
     "metadata": {},
     "output_type": "execute_result"
    }
   ],
   "source": [
    "all_scores"
   ]
  },
  {
   "cell_type": "code",
   "execution_count": 63,
   "id": "0c0d8a1e",
   "metadata": {},
   "outputs": [
    {
     "data": {
      "text/plain": [
       "2.3298028707504272"
      ]
     },
     "execution_count": 63,
     "metadata": {},
     "output_type": "execute_result"
    }
   ],
   "source": [
    "np.mean(all_scores)\n"
   ]
  },
  {
   "cell_type": "code",
   "execution_count": 64,
   "id": "38f640b6",
   "metadata": {},
   "outputs": [
    {
     "name": "stdout",
     "output_type": "stream",
     "text": [
      "Processing fold #0\n",
      "Processing fold #1\n",
      "Processing fold #2\n",
      "Processing fold #3\n"
     ]
    }
   ],
   "source": [
    "num_epochs = 500\n",
    "all_mae_histories = []\n",
    "for i in range(k):\n",
    "    print(f\"Processing fold #{i}\")\n",
    "    val_data = train_data[i * num_val_samples: (i + 1) * num_val_samples]\n",
    "    val_targets = train_targets[i * num_val_samples: (i + 1) * num_val_samples]\n",
    "    partial_train_data = np.concatenate(\n",
    "        [train_data[:i * num_val_samples],\n",
    "         train_data[(i + 1) * num_val_samples:]],\n",
    "        axis=0)\n",
    "    partial_train_targets = np.concatenate(\n",
    "        [train_targets[:i * num_val_samples],\n",
    "         train_targets[(i + 1) * num_val_samples:]],\n",
    "        axis=0)\n",
    "    model = build_model()\n",
    "    history = model.fit(partial_train_data, partial_train_targets,\n",
    "                        validation_data=(val_data, val_targets),\n",
    "                        epochs=num_epochs, batch_size=16, verbose=0)\n",
    "    mae_history = history.history[\"val_mae\"]\n",
    "    all_mae_histories.append(mae_history)"
   ]
  },
  {
   "cell_type": "code",
   "execution_count": 65,
   "id": "0c99fdca",
   "metadata": {},
   "outputs": [],
   "source": [
    "average_mae_history = [\n",
    "    np.mean([x[i] for x in all_mae_histories]) for i in range(num_epochs)]"
   ]
  },
  {
   "cell_type": "code",
   "execution_count": 66,
   "id": "5b01eb34",
   "metadata": {},
   "outputs": [
    {
     "data": {
      "image/png": "[encoded data removed]",
      "text/plain": [
       "<Figure size 432x288 with 1 Axes>"
      ]
     },
     "metadata": {
      "needs_background": "light"
     },
     "output_type": "display_data"
    }
   ],
   "source": [
    "truncated_mae_history = average_mae_history[10:]\n",
    "plt.plot(range(1, len(truncated_mae_history) + 1), truncated_mae_history)\n",
    "plt.xlabel(\"Epochs\")\n",
    "plt.ylabel(\"Validation MAE\")\n",
    "plt.show()"
   ]
  },
  {
   "cell_type": "code",
   "execution_count": 67,
   "id": "b04714f3",
   "metadata": {},
   "outputs": [
    {
     "name": "stdout",
     "output_type": "stream",
     "text": [
      "4/4 [==============================] - 0s 998us/step - loss: 15.9988 - mae: 2.6870\n"
     ]
    }
   ],
   "source": [
    "model = build_model()\n",
    "model.fit(train_data, train_targets,\n",
    "          epochs=130, batch_size=16, verbose=0)\n",
    "test_mse_score, test_mae_score = model.evaluate(test_data, test_targets)"
   ]
  },
  {
   "cell_type": "code",
   "execution_count": 68,
   "id": "c7b28ced",
   "metadata": {},
   "outputs": [
    {
     "data": {
      "text/plain": [
       "2.686983108520508"
      ]
     },
     "execution_count": 68,
     "metadata": {},
     "output_type": "execute_result"
    }
   ],
   "source": [
    "test_mae_score"
   ]
  },
  {
   "cell_type": "code",
   "execution_count": 69,
   "id": "0d5e554f",
   "metadata": {},
   "outputs": [
    {
     "name": "stdout",
     "output_type": "stream",
     "text": [
      "4/4 [==============================] - 0s 998us/step\n"
     ]
    },
    {
     "data": {
      "text/plain": [
       "array([9.530574], dtype=float32)"
      ]
     },
     "execution_count": 69,
     "metadata": {},
     "output_type": "execute_result"
    }
   ],
   "source": [
    "predictions = model.predict(test_data)\n",
    "predictions[0]"
   ]
  },
  {
   "cell_type": "code",
   "execution_count": null,
   "id": "bb67d5f9",
   "metadata": {},
   "outputs": [],
   "source": []
  }
 ],
 "metadata": {
  "kernelspec": {
   "display_name": "Python 3 (ipykernel)",
   "language": "python",
   "name": "python3"
  },
  "language_info": {
   "codemirror_mode": {
    "name": "ipython",
    "version": 3
   },
   "file_extension": ".py",
   "mimetype": "text/x-python",
   "name": "python",
   "nbconvert_exporter": "python",
   "pygments_lexer": "ipython3",
   "version": "3.9.12"
  }
 },
 "nbformat": 4,
 "nbformat_minor": 5
}

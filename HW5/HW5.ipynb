{
 "cells": [
  {
   "cell_type": "markdown",
   "metadata": {
    "colab_type": "text"
   },
   "source": [
    "**Adding white-noise channels or all-zeros channels to MNIST**"
   ]
  },
  {
   "cell_type": "code",
   "execution_count": 1,
   "metadata": {
    "colab_type": "code"
   },
   "outputs": [],
   "source": [
    "from tensorflow.keras.datasets import mnist\n",
    "import numpy as np\n",
    "\n",
    "(train_images, train_labels), _ = mnist.load_data()\n",
    "train_images = train_images.reshape((60000, 28 * 28))\n",
    "train_images = train_images.astype(\"float32\") / 255\n",
    "\n",
    "train_images_with_noise_channels = np.concatenate(\n",
    "    [train_images, np.random.random((len(train_images), 784))], axis=1)\n",
    "\n",
    "train_images_with_zeros_channels = np.concatenate(\n",
    "    [train_images, np.zeros((len(train_images), 784))], axis=1)"
   ]
  },
  {
   "cell_type": "markdown",
   "metadata": {
    "colab_type": "text"
   },
   "source": [
    "**Training the same model on MNIST data with noise channels or all-zero channels**"
   ]
  },
  {
   "cell_type": "code",
   "execution_count": null,
   "metadata": {
    "colab_type": "code"
   },
   "outputs": [
    {
     "name": "stdout",
     "output_type": "stream",
     "text": [
      "Train on 48000 samples, validate on 12000 samples\n",
      "Epoch 1/10\n",
      "48000/48000 [==============================] - 39s 821us/step - loss: 0.6298 - acc: 0.8112 - val_loss: 0.3014 - val_acc: 0.9114\n",
      "Epoch 2/10\n",
      "48000/48000 [==============================] - 42s 872us/step - loss: 0.2468 - acc: 0.9242 - val_loss: 0.1817 - val_acc: 0.9457\n",
      "Epoch 3/10\n",
      "48000/48000 [==============================] - 48s 990us/step - loss: 0.1662 - acc: 0.9493 - val_loss: 0.1852 - val_acc: 0.9436\n",
      "Epoch 4/10\n",
      "48000/48000 [==============================] - 46s 956us/step - loss: 0.1172 - acc: 0.9639 - val_loss: 0.1239 - val_acc: 0.9617\n",
      "Epoch 5/10\n",
      "48000/48000 [==============================] - 46s 949us/step - loss: 0.0854 - acc: 0.9734 - val_loss: 0.1432 - val_acc: 0.9572\n",
      "Epoch 6/10\n",
      "48000/48000 [==============================] - 45s 940us/step - loss: 0.0661 - acc: 0.9788 - val_loss: 0.1226 - val_acc: 0.9636\n",
      "Epoch 7/10\n",
      "48000/48000 [==============================] - 48s 1ms/step - loss: 0.0478 - acc: 0.9849 - val_loss: 0.1209 - val_acc: 0.9677\n",
      "Epoch 8/10\n",
      "48000/48000 [==============================] - 46s 955us/step - loss: 0.0366 - acc: 0.9883 - val_loss: 0.1253 - val_acc: 0.9664\n",
      "Epoch 9/10\n",
      "48000/48000 [==============================] - 47s 970us/step - loss: 0.0277 - acc: 0.9910 - val_loss: 0.1273 - val_acc: 0.9673\n",
      "Epoch 10/10\n",
      "48000/48000 [==============================] - 45s 947us/step - loss: 0.0213 - acc: 0.9931 - val_loss: 0.1501 - val_acc: 0.9636\n",
      "Train on 48000 samples, validate on 12000 samples\n",
      "Epoch 1/10\n",
      "18560/48000 [==========>...................] - ETA: 26s - loss: 0.4341 - acc: 0.8720"
     ]
    }
   ],
   "source": [
    "from tensorflow import keras\n",
    "from tensorflow.keras import layers\n",
    "\n",
    "def get_model():\n",
    "    model = keras.Sequential([\n",
    "        layers.Dense(512, activation=\"relu\"),\n",
    "        layers.Dense(10, activation=\"softmax\")\n",
    "    ])\n",
    "    model.compile(optimizer=\"rmsprop\",\n",
    "                  loss=\"sparse_categorical_crossentropy\",\n",
    "                  metrics=[\"accuracy\"])\n",
    "    return model\n",
    "\n",
    "model = get_model()\n",
    "history_noise = model.fit(\n",
    "    train_images_with_noise_channels, train_labels,\n",
    "    epochs=10,\n",
    "    batch_size=128,\n",
    "    validation_split=0.2)\n",
    "\n",
    "model = get_model()\n",
    "history_zeros = model.fit(\n",
    "    train_images_with_zeros_channels, train_labels,\n",
    "    epochs=10,\n",
    "    batch_size=128,\n",
    "    validation_split=0.2)"
   ]
  },
  {
   "cell_type": "markdown",
   "metadata": {
    "colab_type": "text"
   },
   "source": [
    "**Plotting a validation accuracy comparison**"
   ]
  },
  {
   "cell_type": "code",
   "execution_count": null,
   "metadata": {
    "colab_type": "code"
   },
   "outputs": [],
   "source": [
    "import matplotlib.pyplot as plt\n",
    "val_acc_noise = history_noise.history[\"val_acc\"]\n",
    "val_acc_zeros = history_zeros.history[\"val_acc\"]\n",
    "epochs = range(1, 11)\n",
    "plt.plot(epochs, val_acc_noise, \"b-\",\n",
    "         label=\"Validation accuracy with noise channels\")\n",
    "plt.plot(epochs, val_acc_zeros, \"b--\",\n",
    "         label=\"Validation accuracy with zeros channels\")\n",
    "plt.title(\"Effect of noise channels on validation accuracy\")\n",
    "plt.xlabel(\"Epochs\")\n",
    "plt.ylabel(\"Accuracy\")\n",
    "plt.legend()"
   ]
  },
  {
   "cell_type": "markdown",
   "metadata": {
    "colab_type": "text"
   },
   "source": [
    "### The nature of generalization in deep learning"
   ]
  },
  {
   "cell_type": "markdown",
   "metadata": {
    "colab_type": "text"
   },
   "source": [
    "**Fitting a MNIST model with randomly shuffled labels**"
   ]
  },
  {
   "cell_type": "code",
   "execution_count": null,
   "metadata": {
    "colab_type": "code"
   },
   "outputs": [],
   "source": [
    "(train_images, train_labels), _ = mnist.load_data()\n",
    "train_images = train_images.reshape((60000, 28 * 28))\n",
    "train_images = train_images.astype(\"float32\") / 255\n",
    "\n",
    "random_train_labels = train_labels[:]\n",
    "np.random.shuffle(random_train_labels)\n",
    "\n",
    "model = keras.Sequential([\n",
    "    layers.Dense(512, activation=\"relu\"),\n",
    "    layers.Dense(10, activation=\"softmax\")\n",
    "])\n",
    "\n",
    "#print(dir(model))\n",
    "\n",
    "model.compile(optimizer=\"rmsprop\",\n",
    "              loss=\"sparse_categorical_crossentropy\",\n",
    "              metrics=[\"accuracy\"])\n",
    "model.fit(train_images, random_train_labels,\n",
    "          epochs=100,\n",
    "          batch_size=128,\n",
    "          validation_split=0.2)"
   ]
  },
  {
   "cell_type": "markdown",
   "metadata": {
    "colab_type": "text"
   },
   "source": [
    "## Improving model fit"
   ]
  },
  {
   "cell_type": "markdown",
   "metadata": {
    "colab_type": "text"
   },
   "source": [
    "### Tuning key gradient descent parameters"
   ]
  },
  {
   "cell_type": "markdown",
   "metadata": {
    "colab_type": "text"
   },
   "source": [
    "**Training a MNIST model with an incorrectly high learning rate**"
   ]
  },
  {
   "cell_type": "code",
   "execution_count": 5,
   "metadata": {
    "colab_type": "code"
   },
   "outputs": [
    {
     "name": "stdout",
     "output_type": "stream",
     "text": [
      "Train on 48000 samples, validate on 12000 samples\n",
      "Epoch 1/10\n",
      "48000/48000 [==============================] - 1s 16us/sample - loss: 14.4310 - acc: 0.1026 - val_loss: 14.4499 - val_acc: 0.1035\n",
      "Epoch 2/10\n",
      "48000/48000 [==============================] - 1s 13us/sample - loss: 14.4764 - acc: 0.1019 - val_loss: 14.4499 - val_acc: 0.1035\n",
      "Epoch 3/10\n",
      "48000/48000 [==============================] - 1s 14us/sample - loss: 14.4764 - acc: 0.1019 - val_loss: 14.4499 - val_acc: 0.1035\n",
      "Epoch 4/10\n",
      "48000/48000 [==============================] - 1s 14us/sample - loss: 14.4764 - acc: 0.1019 - val_loss: 14.4499 - val_acc: 0.1035\n",
      "Epoch 5/10\n",
      "48000/48000 [==============================] - 1s 13us/sample - loss: 14.4764 - acc: 0.1019 - val_loss: 14.4499 - val_acc: 0.1035\n",
      "Epoch 6/10\n",
      "48000/48000 [==============================] - 1s 13us/sample - loss: 14.4764 - acc: 0.1019 - val_loss: 14.4499 - val_acc: 0.1035\n",
      "Epoch 7/10\n",
      "48000/48000 [==============================] - 1s 13us/sample - loss: 14.4764 - acc: 0.1019 - val_loss: 14.4499 - val_acc: 0.1035\n",
      "Epoch 8/10\n",
      "48000/48000 [==============================] - 1s 13us/sample - loss: 14.4764 - acc: 0.1019 - val_loss: 14.4499 - val_acc: 0.1035\n",
      "Epoch 9/10\n",
      "48000/48000 [==============================] - 1s 13us/sample - loss: 14.4764 - acc: 0.1019 - val_loss: 14.4499 - val_acc: 0.1035\n",
      "Epoch 10/10\n",
      "48000/48000 [==============================] - 1s 14us/sample - loss: 14.4764 - acc: 0.1019 - val_loss: 14.4499 - val_acc: 0.1035\n"
     ]
    },
    {
     "data": {
      "text/plain": [
       "<tensorflow.python.keras.callbacks.History at 0x2588ca3f988>"
      ]
     },
     "execution_count": 5,
     "metadata": {},
     "output_type": "execute_result"
    }
   ],
   "source": [
    "(train_images, train_labels), _ = mnist.load_data()\n",
    "train_images = train_images.reshape((60000, 28 * 28))\n",
    "train_images = train_images.astype(\"float32\") / 255\n",
    "\n",
    "model = keras.Sequential([\n",
    "    layers.Dense(512, activation=\"relu\"),\n",
    "    layers.Dense(10, activation=\"softmax\")\n",
    "])\n",
    "model.compile(optimizer=keras.optimizers.RMSprop(1.),\n",
    "              loss=\"sparse_categorical_crossentropy\",\n",
    "              metrics=[\"accuracy\"])\n",
    "model.fit(train_images, train_labels,\n",
    "          epochs=10,\n",
    "          batch_size=128,\n",
    "          validation_split=0.2)"
   ]
  },
  {
   "cell_type": "markdown",
   "metadata": {
    "colab_type": "text"
   },
   "source": [
    "**The same model with a more appropriate learning rate**"
   ]
  },
  {
   "cell_type": "code",
   "execution_count": 6,
   "metadata": {
    "colab_type": "code"
   },
   "outputs": [
    {
     "name": "stdout",
     "output_type": "stream",
     "text": [
      "Train on 48000 samples, validate on 12000 samples\n",
      "Epoch 1/10\n",
      "48000/48000 [==============================] - 1s 15us/sample - loss: 0.4411 - acc: 0.9067 - val_loss: 0.1829 - val_acc: 0.9506\n",
      "Epoch 2/10\n",
      "48000/48000 [==============================] - 1s 13us/sample - loss: 0.1463 - acc: 0.9639 - val_loss: 0.1659 - val_acc: 0.9643\n",
      "Epoch 3/10\n",
      "48000/48000 [==============================] - 1s 13us/sample - loss: 0.1172 - acc: 0.9729 - val_loss: 0.1542 - val_acc: 0.9700\n",
      "Epoch 4/10\n",
      "48000/48000 [==============================] - 1s 13us/sample - loss: 0.1020 - acc: 0.9780 - val_loss: 0.2199 - val_acc: 0.9625\n",
      "Epoch 5/10\n",
      "48000/48000 [==============================] - 1s 12us/sample - loss: 0.0909 - acc: 0.9812 - val_loss: 0.2030 - val_acc: 0.9677\n",
      "Epoch 6/10\n",
      "48000/48000 [==============================] - 1s 12us/sample - loss: 0.0860 - acc: 0.9837 - val_loss: 0.2244 - val_acc: 0.9693\n",
      "Epoch 7/10\n",
      "48000/48000 [==============================] - 1s 12us/sample - loss: 0.0867 - acc: 0.9850 - val_loss: 0.2260 - val_acc: 0.9735\n",
      "Epoch 8/10\n",
      "48000/48000 [==============================] - 1s 13us/sample - loss: 0.0776 - acc: 0.9868 - val_loss: 0.2200 - val_acc: 0.9743\n",
      "Epoch 9/10\n",
      "48000/48000 [==============================] - 1s 13us/sample - loss: 0.0797 - acc: 0.9873 - val_loss: 0.2216 - val_acc: 0.9734\n",
      "Epoch 10/10\n",
      "48000/48000 [==============================] - 1s 12us/sample - loss: 0.0697 - acc: 0.9890 - val_loss: 0.2156 - val_acc: 0.9744\n"
     ]
    },
    {
     "data": {
      "text/plain": [
       "<tensorflow.python.keras.callbacks.History at 0x2588cdded88>"
      ]
     },
     "execution_count": 6,
     "metadata": {},
     "output_type": "execute_result"
    }
   ],
   "source": [
    "model = keras.Sequential([\n",
    "    layers.Dense(512, activation=\"relu\"),\n",
    "    layers.Dense(10, activation=\"softmax\")\n",
    "])\n",
    "model.compile(optimizer=keras.optimizers.RMSprop(1e-2),\n",
    "              loss=\"sparse_categorical_crossentropy\",\n",
    "              metrics=[\"accuracy\"])\n",
    "model.fit(train_images, train_labels,\n",
    "          epochs=10,\n",
    "          batch_size=128,\n",
    "          validation_split=0.2)"
   ]
  },
  {
   "cell_type": "markdown",
   "metadata": {
    "colab_type": "text"
   },
   "source": [
    "### Leveraging better architecture priors"
   ]
  },
  {
   "cell_type": "markdown",
   "metadata": {
    "colab_type": "text"
   },
   "source": [
    "### Increasing model capacity"
   ]
  },
  {
   "cell_type": "markdown",
   "metadata": {
    "colab_type": "text"
   },
   "source": [
    "**A simple logistic regression on MNIST**"
   ]
  },
  {
   "cell_type": "code",
   "execution_count": 7,
   "metadata": {
    "colab_type": "code"
   },
   "outputs": [
    {
     "name": "stdout",
     "output_type": "stream",
     "text": [
      "Train on 48000 samples, validate on 12000 samples\n",
      "Epoch 1/20\n",
      "48000/48000 [==============================] - 1s 13us/sample - loss: 0.6735 - acc: 0.8324 - val_loss: 0.3594 - val_acc: 0.9047\n",
      "Epoch 2/20\n",
      "48000/48000 [==============================] - 1s 12us/sample - loss: 0.3514 - acc: 0.9030 - val_loss: 0.3083 - val_acc: 0.9144\n",
      "Epoch 3/20\n",
      "48000/48000 [==============================] - 1s 12us/sample - loss: 0.3154 - acc: 0.9125 - val_loss: 0.2935 - val_acc: 0.9181\n",
      "Epoch 4/20\n",
      "48000/48000 [==============================] - 1s 12us/sample - loss: 0.2995 - acc: 0.9164 - val_loss: 0.2827 - val_acc: 0.9208\n",
      "Epoch 5/20\n",
      "48000/48000 [==============================] - 1s 12us/sample - loss: 0.2898 - acc: 0.9185 - val_loss: 0.2766 - val_acc: 0.9241\n",
      "Epoch 6/20\n",
      "48000/48000 [==============================] - 1s 12us/sample - loss: 0.2831 - acc: 0.9209 - val_loss: 0.2729 - val_acc: 0.9253\n",
      "Epoch 7/20\n",
      "48000/48000 [==============================] - 1s 12us/sample - loss: 0.2780 - acc: 0.9224 - val_loss: 0.2710 - val_acc: 0.9257\n",
      "Epoch 8/20\n",
      "48000/48000 [==============================] - 1s 12us/sample - loss: 0.2742 - acc: 0.9234 - val_loss: 0.2683 - val_acc: 0.9275\n",
      "Epoch 9/20\n",
      "48000/48000 [==============================] - 1s 12us/sample - loss: 0.2710 - acc: 0.9235 - val_loss: 0.2666 - val_acc: 0.9271\n",
      "Epoch 10/20\n",
      "48000/48000 [==============================] - 1s 12us/sample - loss: 0.2687 - acc: 0.9256 - val_loss: 0.2653 - val_acc: 0.9281\n",
      "Epoch 11/20\n",
      "48000/48000 [==============================] - 1s 12us/sample - loss: 0.2663 - acc: 0.9261 - val_loss: 0.2632 - val_acc: 0.9296\n",
      "Epoch 12/20\n",
      "48000/48000 [==============================] - 1s 12us/sample - loss: 0.2645 - acc: 0.9266 - val_loss: 0.2644 - val_acc: 0.9297\n",
      "Epoch 13/20\n",
      "48000/48000 [==============================] - 1s 12us/sample - loss: 0.2629 - acc: 0.9280 - val_loss: 0.2622 - val_acc: 0.9304\n",
      "Epoch 14/20\n",
      "48000/48000 [==============================] - 1s 13us/sample - loss: 0.2614 - acc: 0.9280 - val_loss: 0.2614 - val_acc: 0.9306\n",
      "Epoch 15/20\n",
      "48000/48000 [==============================] - 1s 12us/sample - loss: 0.2601 - acc: 0.9281 - val_loss: 0.2630 - val_acc: 0.9308\n",
      "Epoch 16/20\n",
      "48000/48000 [==============================] - 1s 12us/sample - loss: 0.2588 - acc: 0.9287 - val_loss: 0.2626 - val_acc: 0.9303\n",
      "Epoch 17/20\n",
      "48000/48000 [==============================] - 1s 12us/sample - loss: 0.2578 - acc: 0.9289 - val_loss: 0.2644 - val_acc: 0.9295\n",
      "Epoch 18/20\n",
      "48000/48000 [==============================] - 1s 12us/sample - loss: 0.2570 - acc: 0.9293 - val_loss: 0.2620 - val_acc: 0.9308\n",
      "Epoch 19/20\n",
      "48000/48000 [==============================] - 1s 12us/sample - loss: 0.2561 - acc: 0.9298 - val_loss: 0.2610 - val_acc: 0.9306\n",
      "Epoch 20/20\n",
      "48000/48000 [==============================] - 1s 12us/sample - loss: 0.2549 - acc: 0.9303 - val_loss: 0.2620 - val_acc: 0.9305\n"
     ]
    }
   ],
   "source": [
    "model = keras.Sequential([layers.Dense(10, activation=\"softmax\")])\n",
    "model.compile(optimizer=\"rmsprop\",\n",
    "              loss=\"sparse_categorical_crossentropy\",\n",
    "              metrics=[\"accuracy\"])\n",
    "history_small_model = model.fit(\n",
    "    train_images, train_labels,\n",
    "    epochs=20,\n",
    "    batch_size=128,\n",
    "    validation_split=0.2)"
   ]
  },
  {
   "cell_type": "code",
   "execution_count": 8,
   "metadata": {
    "colab_type": "code"
   },
   "outputs": [
    {
     "data": {
      "text/plain": [
       "<matplotlib.legend.Legend at 0x2588e0cc688>"
      ]
     },
     "execution_count": 8,
     "metadata": {},
     "output_type": "execute_result"
    },
    {
     "data": {
      "image/png": "[encoded data removed]",
      "text/plain": [
       "<Figure size 640x480 with 1 Axes>"
      ]
     },
     "metadata": {},
     "output_type": "display_data"
    }
   ],
   "source": [
    "import matplotlib.pyplot as plt\n",
    "val_loss = history_small_model.history[\"val_loss\"]\n",
    "epochs = range(1, 21)\n",
    "plt.plot(epochs, val_loss, \"b--\",\n",
    "         label=\"Validation loss\")\n",
    "plt.title(\"Effect of insufficient model capacity on validation loss\")\n",
    "plt.xlabel(\"Epochs\")\n",
    "plt.ylabel(\"Loss\")\n",
    "plt.legend()"
   ]
  },
  {
   "cell_type": "code",
   "execution_count": 9,
   "metadata": {
    "colab_type": "code"
   },
   "outputs": [
    {
     "name": "stdout",
     "output_type": "stream",
     "text": [
      "Train on 48000 samples, validate on 12000 samples\n",
      "Epoch 1/20\n",
      "48000/48000 [==============================] - 1s 20us/sample - loss: 0.3511 - acc: 0.8995 - val_loss: 0.1829 - val_acc: 0.9485\n",
      "Epoch 2/20\n",
      "48000/48000 [==============================] - 1s 15us/sample - loss: 0.1566 - acc: 0.9532 - val_loss: 0.1330 - val_acc: 0.9611\n",
      "Epoch 3/20\n",
      "48000/48000 [==============================] - 1s 14us/sample - loss: 0.1098 - acc: 0.9676 - val_loss: 0.1129 - val_acc: 0.9681\n",
      "Epoch 4/20\n",
      "48000/48000 [==============================] - 1s 14us/sample - loss: 0.0845 - acc: 0.9745 - val_loss: 0.1071 - val_acc: 0.9688\n",
      "Epoch 5/20\n",
      "48000/48000 [==============================] - 1s 14us/sample - loss: 0.0674 - acc: 0.9797 - val_loss: 0.1034 - val_acc: 0.9711\n",
      "Epoch 6/20\n",
      "48000/48000 [==============================] - 1s 14us/sample - loss: 0.0561 - acc: 0.9827 - val_loss: 0.0915 - val_acc: 0.9738\n",
      "Epoch 7/20\n",
      "48000/48000 [==============================] - 1s 14us/sample - loss: 0.0463 - acc: 0.9854 - val_loss: 0.0927 - val_acc: 0.9750\n",
      "Epoch 8/20\n",
      "48000/48000 [==============================] - 1s 14us/sample - loss: 0.0388 - acc: 0.9885 - val_loss: 0.0983 - val_acc: 0.9733\n",
      "Epoch 9/20\n",
      "48000/48000 [==============================] - 1s 13us/sample - loss: 0.0322 - acc: 0.9905 - val_loss: 0.1014 - val_acc: 0.9721\n",
      "Epoch 10/20\n",
      "48000/48000 [==============================] - 1s 14us/sample - loss: 0.0275 - acc: 0.9915 - val_loss: 0.1140 - val_acc: 0.9712\n",
      "Epoch 11/20\n",
      "48000/48000 [==============================] - 1s 14us/sample - loss: 0.0223 - acc: 0.9931 - val_loss: 0.0958 - val_acc: 0.9772\n",
      "Epoch 12/20\n",
      "48000/48000 [==============================] - 1s 14us/sample - loss: 0.0191 - acc: 0.9939 - val_loss: 0.1081 - val_acc: 0.9726\n",
      "Epoch 13/20\n",
      "48000/48000 [==============================] - 1s 13us/sample - loss: 0.0156 - acc: 0.9952 - val_loss: 0.1154 - val_acc: 0.9739\n",
      "Epoch 14/20\n",
      "48000/48000 [==============================] - 1s 13us/sample - loss: 0.0132 - acc: 0.9957 - val_loss: 0.1208 - val_acc: 0.9740\n",
      "Epoch 15/20\n",
      "48000/48000 [==============================] - 1s 14us/sample - loss: 0.0119 - acc: 0.9961 - val_loss: 0.1236 - val_acc: 0.9728\n",
      "Epoch 16/20\n",
      "48000/48000 [==============================] - 1s 14us/sample - loss: 0.0096 - acc: 0.9970 - val_loss: 0.1183 - val_acc: 0.9767\n",
      "Epoch 17/20\n",
      "48000/48000 [==============================] - 1s 14us/sample - loss: 0.0087 - acc: 0.9973 - val_loss: 0.1276 - val_acc: 0.9762\n",
      "Epoch 18/20\n",
      "48000/48000 [==============================] - 1s 14us/sample - loss: 0.0079 - acc: 0.9974 - val_loss: 0.1208 - val_acc: 0.9772\n",
      "Epoch 19/20\n",
      "48000/48000 [==============================] - 1s 14us/sample - loss: 0.0064 - acc: 0.9980 - val_loss: 0.1287 - val_acc: 0.9773\n",
      "Epoch 20/20\n",
      "48000/48000 [==============================] - 1s 14us/sample - loss: 0.0061 - acc: 0.9981 - val_loss: 0.1447 - val_acc: 0.9733\n"
     ]
    }
   ],
   "source": [
    "model = keras.Sequential([\n",
    "    layers.Dense(96, activation=\"relu\"),\n",
    "    layers.Dense(96, activation=\"relu\"),\n",
    "    layers.Dense(10, activation=\"softmax\"),\n",
    "])\n",
    "model.compile(optimizer=\"rmsprop\",\n",
    "              loss=\"sparse_categorical_crossentropy\",\n",
    "              metrics=[\"accuracy\"])\n",
    "history_large_model = model.fit(\n",
    "    train_images, train_labels,\n",
    "    epochs=20,\n",
    "    batch_size=128,\n",
    "    validation_split=0.2)"
   ]
  },
  {
   "cell_type": "markdown",
   "metadata": {
    "colab_type": "text"
   },
   "source": [
    "## Improving generalization"
   ]
  },
  {
   "cell_type": "markdown",
   "metadata": {
    "colab_type": "text"
   },
   "source": [
    "### Dataset curation"
   ]
  },
  {
   "cell_type": "markdown",
   "metadata": {
    "colab_type": "text"
   },
   "source": [
    "### Feature engineering"
   ]
  },
  {
   "cell_type": "markdown",
   "metadata": {
    "colab_type": "text"
   },
   "source": [
    "### Using early stopping"
   ]
  },
  {
   "cell_type": "markdown",
   "metadata": {
    "colab_type": "text"
   },
   "source": [
    "### Regularizing your model"
   ]
  },
  {
   "cell_type": "markdown",
   "metadata": {
    "colab_type": "text"
   },
   "source": [
    "#### Reducing the network's size"
   ]
  },
  {
   "cell_type": "markdown",
   "metadata": {
    "colab_type": "text"
   },
   "source": [
    "**Original model**"
   ]
  },
  {
   "cell_type": "code",
   "execution_count": 10,
   "metadata": {
    "colab_type": "code"
   },
   "outputs": [
    {
     "name": "stderr",
     "output_type": "stream",
     "text": [
      "C:\\Users\\user\\anaconda3\\envs\\DL\\lib\\site-packages\\tensorflow\\python\\keras\\datasets\\imdb.py:128: VisibleDeprecationWarning: Creating an ndarray from ragged nested sequences (which is a list-or-tuple of lists-or-tuples-or ndarrays with different lengths or shapes) is deprecated. If you meant to do this, you must specify 'dtype=object' when creating the ndarray.\n",
      "  x_train, y_train = np.array(xs[:idx]), np.array(labels[:idx])\n",
      "C:\\Users\\user\\anaconda3\\envs\\DL\\lib\\site-packages\\tensorflow\\python\\keras\\datasets\\imdb.py:129: VisibleDeprecationWarning: Creating an ndarray from ragged nested sequences (which is a list-or-tuple of lists-or-tuples-or ndarrays with different lengths or shapes) is deprecated. If you meant to do this, you must specify 'dtype=object' when creating the ndarray.\n",
      "  x_test, y_test = np.array(xs[idx:]), np.array(labels[idx:])\n"
     ]
    },
    {
     "name": "stdout",
     "output_type": "stream",
     "text": [
      "Train on 15000 samples, validate on 10000 samples\n",
      "WARNING:tensorflow:From C:\\Users\\user\\anaconda3\\envs\\DL\\lib\\site-packages\\tensorflow\\python\\ops\\math_ops.py:3066: to_int32 (from tensorflow.python.ops.math_ops) is deprecated and will be removed in a future version.\n",
      "Instructions for updating:\n",
      "Use tf.cast instead.\n",
      "Epoch 1/20\n",
      "15000/15000 [==============================] - 2s 120us/sample - loss: 0.5075 - acc: 0.7809 - val_loss: 0.3902 - val_acc: 0.8521\n",
      "Epoch 2/20\n",
      "15000/15000 [==============================] - 1s 95us/sample - loss: 0.2979 - acc: 0.9038 - val_loss: 0.3091 - val_acc: 0.8806\n",
      "Epoch 3/20\n",
      "15000/15000 [==============================] - 1s 86us/sample - loss: 0.2188 - acc: 0.9297 - val_loss: 0.2816 - val_acc: 0.8867\n",
      "Epoch 4/20\n",
      "15000/15000 [==============================] - 1s 88us/sample - loss: 0.1711 - acc: 0.9443 - val_loss: 0.2984 - val_acc: 0.8804\n",
      "Epoch 5/20\n",
      "15000/15000 [==============================] - 1s 87us/sample - loss: 0.1372 - acc: 0.9561 - val_loss: 0.2952 - val_acc: 0.8861\n",
      "Epoch 6/20\n",
      "15000/15000 [==============================] - 1s 85us/sample - loss: 0.1123 - acc: 0.9647 - val_loss: 0.3469 - val_acc: 0.8718\n",
      "Epoch 7/20\n",
      "15000/15000 [==============================] - 1s 88us/sample - loss: 0.0926 - acc: 0.9735 - val_loss: 0.3329 - val_acc: 0.8804\n",
      "Epoch 8/20\n",
      "15000/15000 [==============================] - 1s 99us/sample - loss: 0.0782 - acc: 0.9775 - val_loss: 0.3397 - val_acc: 0.8836\n",
      "Epoch 9/20\n",
      "15000/15000 [==============================] - 1s 87us/sample - loss: 0.0637 - acc: 0.9826 - val_loss: 0.3647 - val_acc: 0.8803\n",
      "Epoch 10/20\n",
      "15000/15000 [==============================] - 1s 87us/sample - loss: 0.0513 - acc: 0.9864 - val_loss: 0.3938 - val_acc: 0.8773\n",
      "Epoch 11/20\n",
      "15000/15000 [==============================] - 1s 95us/sample - loss: 0.0431 - acc: 0.9892 - val_loss: 0.4272 - val_acc: 0.8734\n",
      "Epoch 12/20\n",
      "15000/15000 [==============================] - 1s 82us/sample - loss: 0.0359 - acc: 0.9920 - val_loss: 0.4577 - val_acc: 0.8747\n",
      "Epoch 13/20\n",
      "15000/15000 [==============================] - 1s 95us/sample - loss: 0.0262 - acc: 0.9945 - val_loss: 0.4860 - val_acc: 0.8728\n",
      "Epoch 14/20\n",
      "15000/15000 [==============================] - 1s 85us/sample - loss: 0.0220 - acc: 0.9950 - val_loss: 0.5200 - val_acc: 0.8712\n",
      "Epoch 15/20\n",
      "15000/15000 [==============================] - 1s 98us/sample - loss: 0.0159 - acc: 0.9977 - val_loss: 0.5599 - val_acc: 0.8692\n",
      "Epoch 16/20\n",
      "15000/15000 [==============================] - 1s 85us/sample - loss: 0.0133 - acc: 0.9982 - val_loss: 0.5820 - val_acc: 0.8681\n",
      "Epoch 17/20\n",
      "15000/15000 [==============================] - 1s 89us/sample - loss: 0.0142 - acc: 0.9969 - val_loss: 0.6123 - val_acc: 0.8675\n",
      "Epoch 18/20\n",
      "15000/15000 [==============================] - 1s 99us/sample - loss: 0.0061 - acc: 0.9996 - val_loss: 0.6451 - val_acc: 0.8662\n",
      "Epoch 19/20\n",
      "15000/15000 [==============================] - 1s 88us/sample - loss: 0.0105 - acc: 0.9977 - val_loss: 0.6780 - val_acc: 0.8652\n",
      "Epoch 20/20\n",
      "15000/15000 [==============================] - 1s 87us/sample - loss: 0.0036 - acc: 0.9996 - val_loss: 0.7054 - val_acc: 0.8633\n"
     ]
    }
   ],
   "source": [
    "from tensorflow.keras.datasets import imdb\n",
    "(train_data, train_labels), _ = imdb.load_data(num_words=10000)\n",
    "\n",
    "def vectorize_sequences(sequences, dimension=10000):\n",
    "    results = np.zeros((len(sequences), dimension))\n",
    "    for i, sequence in enumerate(sequences):\n",
    "        results[i, sequence] = 1.\n",
    "    return results\n",
    "train_data = vectorize_sequences(train_data)\n",
    "\n",
    "model = keras.Sequential([\n",
    "    layers.Dense(16, activation=\"relu\"),\n",
    "    layers.Dense(16, activation=\"relu\"),\n",
    "    layers.Dense(1, activation=\"sigmoid\")\n",
    "])\n",
    "model.compile(optimizer=\"rmsprop\",\n",
    "              loss=\"binary_crossentropy\",\n",
    "              metrics=[\"accuracy\"])\n",
    "history_original = model.fit(train_data, train_labels,\n",
    "                             epochs=20, batch_size=512, validation_split=0.4)"
   ]
  },
  {
   "cell_type": "markdown",
   "metadata": {
    "colab_type": "text"
   },
   "source": [
    "**Version of the model with lower capacity**"
   ]
  },
  {
   "cell_type": "code",
   "execution_count": 11,
   "metadata": {
    "colab_type": "code"
   },
   "outputs": [
    {
     "name": "stdout",
     "output_type": "stream",
     "text": [
      "Train on 15000 samples, validate on 10000 samples\n",
      "Epoch 1/20\n",
      "15000/15000 [==============================] - 2s 108us/sample - loss: 0.6223 - acc: 0.6323 - val_loss: 0.5756 - val_acc: 0.6643\n",
      "Epoch 2/20\n",
      "15000/15000 [==============================] - 1s 85us/sample - loss: 0.5297 - acc: 0.7720 - val_loss: 0.5346 - val_acc: 0.7389\n",
      "Epoch 3/20\n",
      "15000/15000 [==============================] - 1s 89us/sample - loss: 0.4794 - acc: 0.8505 - val_loss: 0.4989 - val_acc: 0.8408\n",
      "Epoch 4/20\n",
      "15000/15000 [==============================] - 1s 85us/sample - loss: 0.4436 - acc: 0.8873 - val_loss: 0.4901 - val_acc: 0.8258\n",
      "Epoch 5/20\n",
      "15000/15000 [==============================] - 1s 96us/sample - loss: 0.4159 - acc: 0.9110 - val_loss: 0.4699 - val_acc: 0.8654\n",
      "Epoch 6/20\n",
      "15000/15000 [==============================] - 1s 83us/sample - loss: 0.3926 - acc: 0.9279 - val_loss: 0.4613 - val_acc: 0.8702\n",
      "Epoch 7/20\n",
      "15000/15000 [==============================] - 1s 89us/sample - loss: 0.3714 - acc: 0.9424 - val_loss: 0.4692 - val_acc: 0.8528\n",
      "Epoch 8/20\n",
      "15000/15000 [==============================] - 1s 88us/sample - loss: 0.3510 - acc: 0.9519 - val_loss: 0.4509 - val_acc: 0.8737\n",
      "Epoch 9/20\n",
      "15000/15000 [==============================] - 1s 89us/sample - loss: 0.3330 - acc: 0.9619 - val_loss: 0.4464 - val_acc: 0.8722\n",
      "Epoch 10/20\n",
      "15000/15000 [==============================] - 1s 87us/sample - loss: 0.3167 - acc: 0.9687 - val_loss: 0.4588 - val_acc: 0.8652\n",
      "Epoch 11/20\n",
      "15000/15000 [==============================] - 1s 87us/sample - loss: 0.3008 - acc: 0.9745 - val_loss: 0.4561 - val_acc: 0.8668\n",
      "Epoch 12/20\n",
      "15000/15000 [==============================] - 1s 90us/sample - loss: 0.2849 - acc: 0.9785 - val_loss: 0.4746 - val_acc: 0.8602\n",
      "Epoch 13/20\n",
      "15000/15000 [==============================] - 1s 88us/sample - loss: 0.2708 - acc: 0.9819 - val_loss: 0.4647 - val_acc: 0.8653\n",
      "Epoch 14/20\n",
      "15000/15000 [==============================] - 1s 86us/sample - loss: 0.2572 - acc: 0.9850 - val_loss: 0.4850 - val_acc: 0.8615\n",
      "Epoch 15/20\n",
      "15000/15000 [==============================] - 1s 93us/sample - loss: 0.2435 - acc: 0.9869 - val_loss: 0.4867 - val_acc: 0.8617\n",
      "Epoch 16/20\n",
      "15000/15000 [==============================] - 1s 81us/sample - loss: 0.2309 - acc: 0.9881 - val_loss: 0.4884 - val_acc: 0.8624\n",
      "Epoch 17/20\n",
      "15000/15000 [==============================] - 1s 88us/sample - loss: 0.2191 - acc: 0.9892 - val_loss: 0.4843 - val_acc: 0.8659\n",
      "Epoch 18/20\n",
      "15000/15000 [==============================] - 1s 87us/sample - loss: 0.2069 - acc: 0.9903 - val_loss: 0.5112 - val_acc: 0.8615\n",
      "Epoch 19/20\n",
      "15000/15000 [==============================] - 1s 94us/sample - loss: 0.1961 - acc: 0.9911 - val_loss: 0.4781 - val_acc: 0.8680\n",
      "Epoch 20/20\n",
      "15000/15000 [==============================] - 1s 84us/sample - loss: 0.1853 - acc: 0.9919 - val_loss: 0.6163 - val_acc: 0.8453\n"
     ]
    }
   ],
   "source": [
    "model = keras.Sequential([\n",
    "    layers.Dense(4, activation=\"relu\"),\n",
    "    layers.Dense(4, activation=\"relu\"),\n",
    "    layers.Dense(1, activation=\"sigmoid\")\n",
    "])\n",
    "model.compile(optimizer=\"rmsprop\",\n",
    "              loss=\"binary_crossentropy\",\n",
    "              metrics=[\"accuracy\"])\n",
    "history_smaller_model = model.fit(\n",
    "    train_data, train_labels,\n",
    "    epochs=20, batch_size=512, validation_split=0.4)"
   ]
  },
  {
   "cell_type": "markdown",
   "metadata": {
    "colab_type": "text"
   },
   "source": [
    "**Version of the model with higher capacity**"
   ]
  },
  {
   "cell_type": "code",
   "execution_count": 12,
   "metadata": {
    "colab_type": "code"
   },
   "outputs": [
    {
     "name": "stdout",
     "output_type": "stream",
     "text": [
      "Train on 15000 samples, validate on 10000 samples\n",
      "Epoch 1/20\n",
      "15000/15000 [==============================] - 2s 110us/sample - loss: 0.5534 - acc: 0.7469 - val_loss: 0.3141 - val_acc: 0.8743\n",
      "Epoch 2/20\n",
      "15000/15000 [==============================] - 1s 82us/sample - loss: 0.2494 - acc: 0.9049 - val_loss: 0.3422 - val_acc: 0.8500\n",
      "Epoch 3/20\n",
      "15000/15000 [==============================] - 1s 81us/sample - loss: 0.1507 - acc: 0.9425 - val_loss: 0.2984 - val_acc: 0.8922\n",
      "Epoch 4/20\n",
      "15000/15000 [==============================] - 1s 86us/sample - loss: 0.1047 - acc: 0.9651 - val_loss: 0.3438 - val_acc: 0.8706\n",
      "Epoch 5/20\n",
      "15000/15000 [==============================] - 1s 88us/sample - loss: 0.0811 - acc: 0.9785 - val_loss: 0.3121 - val_acc: 0.8867\n",
      "Epoch 6/20\n",
      "15000/15000 [==============================] - 1s 88us/sample - loss: 0.0069 - acc: 0.9996 - val_loss: 0.4853 - val_acc: 0.8865\n",
      "Epoch 7/20\n",
      "15000/15000 [==============================] - 1s 100us/sample - loss: 8.3856e-04 - acc: 0.9999 - val_loss: 0.5879 - val_acc: 0.8867\n",
      "Epoch 8/20\n",
      "15000/15000 [==============================] - 1s 80us/sample - loss: 9.3391e-05 - acc: 1.0000 - val_loss: 0.6796 - val_acc: 0.8864\n",
      "Epoch 9/20\n",
      "15000/15000 [==============================] - 1s 83us/sample - loss: 1.6351e-05 - acc: 1.0000 - val_loss: 0.7517 - val_acc: 0.8848\n",
      "Epoch 10/20\n",
      "15000/15000 [==============================] - 1s 83us/sample - loss: 3.6843e-06 - acc: 1.0000 - val_loss: 0.8201 - val_acc: 0.8849\n",
      "Epoch 11/20\n",
      "15000/15000 [==============================] - 1s 85us/sample - loss: 1.0815e-06 - acc: 1.0000 - val_loss: 0.8580 - val_acc: 0.8861\n",
      "Epoch 12/20\n",
      "15000/15000 [==============================] - 1s 89us/sample - loss: 3.8547e-07 - acc: 1.0000 - val_loss: 0.9031 - val_acc: 0.8846\n",
      "Epoch 13/20\n",
      "15000/15000 [==============================] - 1s 97us/sample - loss: 1.9707e-07 - acc: 1.0000 - val_loss: 0.9320 - val_acc: 0.8861\n",
      "Epoch 14/20\n",
      "15000/15000 [==============================] - 1s 80us/sample - loss: 1.4160e-07 - acc: 1.0000 - val_loss: 0.9489 - val_acc: 0.8855\n",
      "Epoch 15/20\n",
      "15000/15000 [==============================] - 1s 85us/sample - loss: 1.2485e-07 - acc: 1.0000 - val_loss: 0.9643 - val_acc: 0.8864\n",
      "Epoch 16/20\n",
      "15000/15000 [==============================] - 1s 84us/sample - loss: 1.1878e-07 - acc: 1.0000 - val_loss: 0.9738 - val_acc: 0.8863\n",
      "Epoch 17/20\n",
      "15000/15000 [==============================] - 1s 86us/sample - loss: 1.1556e-07 - acc: 1.0000 - val_loss: 0.9816 - val_acc: 0.8857\n",
      "Epoch 18/20\n",
      "15000/15000 [==============================] - 1s 89us/sample - loss: 1.1390e-07 - acc: 1.0000 - val_loss: 0.9861 - val_acc: 0.8862\n",
      "Epoch 19/20\n",
      "15000/15000 [==============================] - 1s 89us/sample - loss: 1.1287e-07 - acc: 1.0000 - val_loss: 0.9895 - val_acc: 0.8864\n",
      "Epoch 20/20\n",
      "15000/15000 [==============================] - 1s 87us/sample - loss: 1.1207e-07 - acc: 1.0000 - val_loss: 0.9942 - val_acc: 0.8859\n"
     ]
    }
   ],
   "source": [
    "model = keras.Sequential([\n",
    "    layers.Dense(512, activation=\"relu\"),\n",
    "    layers.Dense(512, activation=\"relu\"),\n",
    "    layers.Dense(1, activation=\"sigmoid\")\n",
    "])\n",
    "model.compile(optimizer=\"rmsprop\",\n",
    "              loss=\"binary_crossentropy\",\n",
    "              metrics=[\"accuracy\"])\n",
    "history_larger_model = model.fit(\n",
    "    train_data, train_labels,\n",
    "    epochs=20, batch_size=512, validation_split=0.4)"
   ]
  },
  {
   "cell_type": "markdown",
   "metadata": {
    "colab_type": "text"
   },
   "source": [
    "#### Adding weight regularization"
   ]
  },
  {
   "cell_type": "markdown",
   "metadata": {
    "colab_type": "text"
   },
   "source": [
    "**Adding L2 weight regularization to the model**"
   ]
  },
  {
   "cell_type": "code",
   "execution_count": 13,
   "metadata": {
    "colab_type": "code"
   },
   "outputs": [
    {
     "name": "stdout",
     "output_type": "stream",
     "text": [
      "Train on 15000 samples, validate on 10000 samples\n",
      "Epoch 1/20\n",
      "15000/15000 [==============================] - 1s 97us/sample - loss: 0.6037 - acc: 0.7865 - val_loss: 0.4931 - val_acc: 0.8546\n",
      "Epoch 2/20\n",
      "15000/15000 [==============================] - 1s 93us/sample - loss: 0.4135 - acc: 0.8923 - val_loss: 0.4217 - val_acc: 0.8668\n",
      "Epoch 3/20\n",
      "15000/15000 [==============================] - 1s 85us/sample - loss: 0.3437 - acc: 0.9114 - val_loss: 0.3731 - val_acc: 0.8859\n",
      "Epoch 4/20\n",
      "15000/15000 [==============================] - 1s 100us/sample - loss: 0.3082 - acc: 0.9235 - val_loss: 0.3655 - val_acc: 0.8860\n",
      "Epoch 5/20\n",
      "15000/15000 [==============================] - 1s 86us/sample - loss: 0.2861 - acc: 0.9301 - val_loss: 0.3598 - val_acc: 0.8861\n",
      "Epoch 6/20\n",
      "15000/15000 [==============================] - 1s 88us/sample - loss: 0.2698 - acc: 0.9345 - val_loss: 0.3847 - val_acc: 0.8742\n",
      "Epoch 7/20\n",
      "15000/15000 [==============================] - 1s 85us/sample - loss: 0.2592 - acc: 0.9403 - val_loss: 0.3590 - val_acc: 0.8863\n",
      "Epoch 8/20\n",
      "15000/15000 [==============================] - 1s 91us/sample - loss: 0.2530 - acc: 0.9403 - val_loss: 0.3714 - val_acc: 0.8815\n",
      "Epoch 9/20\n",
      "15000/15000 [==============================] - 1s 86us/sample - loss: 0.2414 - acc: 0.9464 - val_loss: 0.3697 - val_acc: 0.8812\n",
      "Epoch 10/20\n",
      "15000/15000 [==============================] - 1s 86us/sample - loss: 0.2379 - acc: 0.9469 - val_loss: 0.3690 - val_acc: 0.8823\n",
      "Epoch 11/20\n",
      "15000/15000 [==============================] - 2s 100us/sample - loss: 0.2316 - acc: 0.9491 - val_loss: 0.3814 - val_acc: 0.8779\n",
      "Epoch 12/20\n",
      "15000/15000 [==============================] - 1s 89us/sample - loss: 0.2255 - acc: 0.9509 - val_loss: 0.3896 - val_acc: 0.8751\n",
      "Epoch 13/20\n",
      "15000/15000 [==============================] - 1s 87us/sample - loss: 0.2252 - acc: 0.9514 - val_loss: 0.3796 - val_acc: 0.8811\n",
      "Epoch 14/20\n",
      "15000/15000 [==============================] - 1s 93us/sample - loss: 0.2227 - acc: 0.9520 - val_loss: 0.3836 - val_acc: 0.8787\n",
      "Epoch 15/20\n",
      "15000/15000 [==============================] - 1s 90us/sample - loss: 0.2130 - acc: 0.9564 - val_loss: 0.3863 - val_acc: 0.8779\n",
      "Epoch 16/20\n",
      "15000/15000 [==============================] - 1s 89us/sample - loss: 0.2106 - acc: 0.9571 - val_loss: 0.4054 - val_acc: 0.8729\n",
      "Epoch 17/20\n",
      "15000/15000 [==============================] - 1s 89us/sample - loss: 0.2187 - acc: 0.9513 - val_loss: 0.4029 - val_acc: 0.8747\n",
      "Epoch 18/20\n",
      "15000/15000 [==============================] - 1s 90us/sample - loss: 0.2007 - acc: 0.9627 - val_loss: 0.4339 - val_acc: 0.8700\n",
      "Epoch 19/20\n",
      "15000/15000 [==============================] - 1s 89us/sample - loss: 0.2022 - acc: 0.9596 - val_loss: 0.4039 - val_acc: 0.8744\n",
      "Epoch 20/20\n",
      "15000/15000 [==============================] - 1s 95us/sample - loss: 0.2087 - acc: 0.9553 - val_loss: 0.4051 - val_acc: 0.8749\n"
     ]
    }
   ],
   "source": [
    "from tensorflow.keras import regularizers\n",
    "model = keras.Sequential([\n",
    "    layers.Dense(16,\n",
    "                 kernel_regularizer=regularizers.l2(0.002),\n",
    "                 activation=\"relu\"),\n",
    "    layers.Dense(16,\n",
    "                 kernel_regularizer=regularizers.l2(0.002),\n",
    "                 activation=\"relu\"),\n",
    "    layers.Dense(1, activation=\"sigmoid\")\n",
    "])\n",
    "model.compile(optimizer=\"rmsprop\",\n",
    "              loss=\"binary_crossentropy\",\n",
    "              metrics=[\"accuracy\"])\n",
    "history_l2_reg = model.fit(\n",
    "    train_data, train_labels,\n",
    "    epochs=20, batch_size=512, validation_split=0.4)"
   ]
  },
  {
   "cell_type": "markdown",
   "metadata": {
    "colab_type": "text"
   },
   "source": [
    "**Different weight regularizers available in Keras**"
   ]
  },
  {
   "cell_type": "code",
   "execution_count": 14,
   "metadata": {
    "colab_type": "code"
   },
   "outputs": [
    {
     "data": {
      "text/plain": [
       "<tensorflow.python.keras.regularizers.L1L2 at 0x2588ed9cb88>"
      ]
     },
     "execution_count": 14,
     "metadata": {},
     "output_type": "execute_result"
    }
   ],
   "source": [
    "from tensorflow.keras import regularizers\n",
    "regularizers.l1(0.001)\n",
    "regularizers.l1_l2(l1=0.001, l2=0.001)"
   ]
  },
  {
   "cell_type": "markdown",
   "metadata": {
    "colab_type": "text"
   },
   "source": [
    "#### Adding dropout"
   ]
  },
  {
   "cell_type": "markdown",
   "metadata": {
    "colab_type": "text"
   },
   "source": [
    "**Adding dropout to the IMDB model**"
   ]
  },
  {
   "cell_type": "code",
   "execution_count": 15,
   "metadata": {
    "colab_type": "code"
   },
   "outputs": [
    {
     "name": "stdout",
     "output_type": "stream",
     "text": [
      "WARNING:tensorflow:From C:\\Users\\user\\anaconda3\\envs\\DL\\lib\\site-packages\\tensorflow\\python\\keras\\layers\\core.py:143: calling dropout (from tensorflow.python.ops.nn_ops) with keep_prob is deprecated and will be removed in a future version.\n",
      "Instructions for updating:\n",
      "Please use `rate` instead of `keep_prob`. Rate should be set to `rate = 1 - keep_prob`.\n",
      "Train on 15000 samples, validate on 10000 samples\n",
      "Epoch 1/20\n",
      "15000/15000 [==============================] - 2s 108us/sample - loss: 0.6192 - acc: 0.6461 - val_loss: 0.4983 - val_acc: 0.8552\n",
      "Epoch 2/20\n",
      "15000/15000 [==============================] - 1s 99us/sample - loss: 0.4942 - acc: 0.7698 - val_loss: 0.3929 - val_acc: 0.8723\n",
      "Epoch 3/20\n",
      "15000/15000 [==============================] - 1s 96us/sample - loss: 0.4179 - acc: 0.8211 - val_loss: 0.3241 - val_acc: 0.8852\n",
      "Epoch 4/20\n",
      "15000/15000 [==============================] - 1s 97us/sample - loss: 0.3548 - acc: 0.8626 - val_loss: 0.2999 - val_acc: 0.8799\n",
      "Epoch 5/20\n",
      "15000/15000 [==============================] - 1s 96us/sample - loss: 0.3082 - acc: 0.8901 - val_loss: 0.2790 - val_acc: 0.8923\n",
      "Epoch 6/20\n",
      "15000/15000 [==============================] - 1s 100us/sample - loss: 0.2668 - acc: 0.9099 - val_loss: 0.2972 - val_acc: 0.8847\n",
      "Epoch 7/20\n",
      "15000/15000 [==============================] - 1s 96us/sample - loss: 0.2319 - acc: 0.9247 - val_loss: 0.2821 - val_acc: 0.8884\n",
      "Epoch 8/20\n",
      "15000/15000 [==============================] - 1s 98us/sample - loss: 0.2038 - acc: 0.9359 - val_loss: 0.2979 - val_acc: 0.8817\n",
      "Epoch 9/20\n",
      "15000/15000 [==============================] - 1s 96us/sample - loss: 0.1810 - acc: 0.9431 - val_loss: 0.3102 - val_acc: 0.8902\n",
      "Epoch 10/20\n",
      "15000/15000 [==============================] - 1s 96us/sample - loss: 0.1599 - acc: 0.9492 - val_loss: 0.3387 - val_acc: 0.8886\n",
      "Epoch 11/20\n",
      "15000/15000 [==============================] - 1s 96us/sample - loss: 0.1450 - acc: 0.9556 - val_loss: 0.3599 - val_acc: 0.8888\n",
      "Epoch 12/20\n",
      "15000/15000 [==============================] - 1s 97us/sample - loss: 0.1257 - acc: 0.9611 - val_loss: 0.3830 - val_acc: 0.8772\n",
      "Epoch 13/20\n",
      "15000/15000 [==============================] - 1s 98us/sample - loss: 0.1180 - acc: 0.9631 - val_loss: 0.3979 - val_acc: 0.8827\n",
      "Epoch 14/20\n",
      "15000/15000 [==============================] - 1s 97us/sample - loss: 0.1100 - acc: 0.9651 - val_loss: 0.4321 - val_acc: 0.8867\n",
      "Epoch 15/20\n",
      "15000/15000 [==============================] - 1s 97us/sample - loss: 0.0983 - acc: 0.9689 - val_loss: 0.5205 - val_acc: 0.8817\n",
      "Epoch 16/20\n",
      "15000/15000 [==============================] - 1s 96us/sample - loss: 0.0895 - acc: 0.9735 - val_loss: 0.4670 - val_acc: 0.8848\n",
      "Epoch 17/20\n",
      "15000/15000 [==============================] - 1s 98us/sample - loss: 0.0890 - acc: 0.9712 - val_loss: 0.5044 - val_acc: 0.8827\n",
      "Epoch 18/20\n",
      "15000/15000 [==============================] - 1s 96us/sample - loss: 0.0818 - acc: 0.9761 - val_loss: 0.5591 - val_acc: 0.8832\n",
      "Epoch 19/20\n",
      "15000/15000 [==============================] - 1s 99us/sample - loss: 0.0740 - acc: 0.9769 - val_loss: 0.5833 - val_acc: 0.8832\n",
      "Epoch 20/20\n",
      "15000/15000 [==============================] - 1s 96us/sample - loss: 0.0744 - acc: 0.9776 - val_loss: 0.5795 - val_acc: 0.8824\n"
     ]
    }
   ],
   "source": [
    "model = keras.Sequential([\n",
    "    layers.Dense(16, activation=\"relu\"),\n",
    "    layers.Dropout(0.5),\n",
    "    layers.Dense(16, activation=\"relu\"),\n",
    "    layers.Dropout(0.5),\n",
    "    layers.Dense(1, activation=\"sigmoid\")\n",
    "])\n",
    "model.compile(optimizer=\"rmsprop\",\n",
    "              loss=\"binary_crossentropy\",\n",
    "              metrics=[\"accuracy\"])\n",
    "history_dropout = model.fit(\n",
    "    train_data, train_labels,\n",
    "    epochs=20, batch_size=512, validation_split=0.4)"
   ]
  },
  {
   "cell_type": "markdown",
   "metadata": {
    "colab_type": "text"
   },
   "source": [
    "## Summary"
   ]
  },
  {
   "cell_type": "code",
   "execution_count": 21,
   "metadata": {},
   "outputs": [],
   "source": [
    "from tensorflow.keras.datasets import imdb\n",
    "(train_data, train_labels), (test_data, test_labels) = imdb.load_data(num_words=10000)\n",
    "\n",
    "def vectorize_sequences(sequences, dimension=10000):\n",
    "    results = np.zeros((len(sequences), dimension))\n",
    "    for i, sequence in enumerate(sequences):\n",
    "        results[i, sequence] = 1.\n",
    "    return results\n",
    "train_data = vectorize_sequences(train_data)\n",
    "test_data = vectorize_sequences(test_data)"
   ]
  },
  {
   "cell_type": "code",
   "execution_count": 22,
   "metadata": {},
   "outputs": [],
   "source": [
    "def build_model():\n",
    "    model = keras.Sequential([\n",
    "        layers.Dense(64, activation=\"relu\"),\n",
    "        layers.Dense(64, activation=\"relu\"),\n",
    "        layers.Dense(1)\n",
    "    ])\n",
    "    model.compile(optimizer=\"rmsprop\", loss=\"mse\", metrics=[\"mae\"])\n",
    "    return model\n",
    "\n"
   ]
  },
  {
   "cell_type": "code",
   "execution_count": 23,
   "metadata": {},
   "outputs": [
    {
     "name": "stdout",
     "output_type": "stream",
     "text": [
      "25000/25000 [==============================] - 3s 124us/sample - loss: 0.1200 - mean_absolute_error: 0.1832\n"
     ]
    }
   ],
   "source": [
    "model = build_model()\n",
    "model.fit(train_data, train_labels,\n",
    "          epochs=130, batch_size=512, verbose=0)\n",
    "test_mse_score, test_mae_score = model.evaluate(test_data, test_labels)"
   ]
  },
  {
   "cell_type": "code",
   "execution_count": 24,
   "metadata": {},
   "outputs": [
    {
     "data": {
      "text/plain": [
       "0.18316545"
      ]
     },
     "execution_count": 24,
     "metadata": {},
     "output_type": "execute_result"
    }
   ],
   "source": [
    "test_mae_score"
   ]
  },
  {
   "cell_type": "code",
   "execution_count": 25,
   "metadata": {},
   "outputs": [
    {
     "data": {
      "text/plain": [
       "array([0.6595273], dtype=float32)"
      ]
     },
     "execution_count": 25,
     "metadata": {},
     "output_type": "execute_result"
    }
   ],
   "source": [
    "\n",
    "predictions = model.predict(test_data)\n",
    "predictions[0]"
   ]
  },
  {
   "cell_type": "code",
   "execution_count": 27,
   "metadata": {},
   "outputs": [
    {
     "data": {
      "text/plain": [
       "25000"
      ]
     },
     "execution_count": 27,
     "metadata": {},
     "output_type": "execute_result"
    }
   ],
   "source": [
    "len(predictions)"
   ]
  },
  {
   "cell_type": "code",
   "execution_count": null,
   "metadata": {},
   "outputs": [],
   "source": []
  },
  {
   "cell_type": "code",
   "execution_count": null,
   "metadata": {},
   "outputs": [],
   "source": []
  }
 ],
 "metadata": {
  "colab": {
   "collapsed_sections": [],
   "name": "chapter05_fundamentals-of-ml.i",
   "private_outputs": false,
   "provenance": [],
   "toc_visible": true
  },
  "kernelspec": {
   "display_name": "Python 3",
   "language": "python",
   "name": "python3"
  },
  "language_info": {
   "codemirror_mode": {
    "name": "ipython",
    "version": 3
   },
   "file_extension": ".py",
   "mimetype": "text/x-python",
   "name": "python",
   "nbconvert_exporter": "python",
   "pygments_lexer": "ipython3",
   "version": "3.5.6"
  }
 },
 "nbformat": 4,
 "nbformat_minor": 4
}

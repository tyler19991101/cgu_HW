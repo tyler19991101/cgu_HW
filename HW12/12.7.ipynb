{
 "cells": [
  {
   "cell_type": "markdown",
   "metadata": {
    "id": "peiOny872hWR"
   },
   "source": [
    "### Processing words as a sequence: The sequence model approach"
   ]
  },
  {
   "cell_type": "markdown",
   "metadata": {
    "id": "mcEkcBuF2hWS"
   },
   "source": [
    "#### A first practical example"
   ]
  },
  {
   "cell_type": "markdown",
   "metadata": {
    "id": "aG5c9zdP2hWS"
   },
   "source": [
    "**Downloading the data**"
   ]
  },
  {
   "cell_type": "code",
   "execution_count": 1,
   "metadata": {
    "colab": {
     "base_uri": "https://localhost:8080/"
    },
    "executionInfo": {
     "elapsed": 20112,
     "status": "ok",
     "timestamp": 1670337446061,
     "user": {
      "displayName": "何妍霖",
      "userId": "02144169351052031035"
     },
     "user_tz": -480
    },
    "id": "Z7yQdWzm2hWS",
    "outputId": "cb1a7ad9-10f7-4400-d567-09627ed7c003"
   },
   "outputs": [
    {
     "name": "stdout",
     "output_type": "stream",
     "text": [
      "  % Total    % Received % Xferd  Average Speed   Time    Time     Time  Current\n",
      "                                 Dload  Upload   Total   Spent    Left  Speed\n",
      "100 80.2M  100 80.2M    0     0  9255k      0  0:00:08  0:00:08 --:--:-- 16.0M\n"
     ]
    }
   ],
   "source": [
    "!curl -O https://ai.stanford.edu/~amaas/data/sentiment/aclImdb_v1.tar.gz\n",
    "!tar -xf aclImdb_v1.tar.gz\n",
    "!rm -r aclImdb/train/unsup"
   ]
  },
  {
   "cell_type": "markdown",
   "metadata": {
    "id": "Zdrqgwse2hWT"
   },
   "source": [
    "**Preparing the data**"
   ]
  },
  {
   "cell_type": "code",
   "execution_count": 2,
   "metadata": {
    "colab": {
     "base_uri": "https://localhost:8080/"
    },
    "executionInfo": {
     "elapsed": 8599,
     "status": "ok",
     "timestamp": 1670337454653,
     "user": {
      "displayName": "何妍霖",
      "userId": "02144169351052031035"
     },
     "user_tz": -480
    },
    "id": "yfANikS32hWT",
    "outputId": "ed40bb4e-2671-4d29-adcf-d01af04a84c0"
   },
   "outputs": [
    {
     "name": "stdout",
     "output_type": "stream",
     "text": [
      "Found 20000 files belonging to 2 classes.\n",
      "Found 5000 files belonging to 2 classes.\n",
      "Found 25000 files belonging to 2 classes.\n"
     ]
    }
   ],
   "source": [
    "import os, pathlib, shutil, random\n",
    "from tensorflow import keras\n",
    "batch_size = 32\n",
    "base_dir = pathlib.Path(\"aclImdb\")\n",
    "val_dir = base_dir / \"val\"\n",
    "train_dir = base_dir / \"train\"\n",
    "for category in (\"neg\", \"pos\"):\n",
    "    os.makedirs(val_dir / category)\n",
    "    files = os.listdir(train_dir / category)\n",
    "    random.Random(1337).shuffle(files)\n",
    "    num_val_samples = int(0.2 * len(files))\n",
    "    val_files = files[-num_val_samples:]\n",
    "    for fname in val_files:\n",
    "        shutil.move(train_dir / category / fname,\n",
    "                    val_dir / category / fname)\n",
    "\n",
    "train_ds = keras.utils.text_dataset_from_directory(\n",
    "    \"aclImdb/train\", batch_size=batch_size\n",
    ")\n",
    "val_ds = keras.utils.text_dataset_from_directory(\n",
    "    \"aclImdb/val\", batch_size=batch_size\n",
    ")\n",
    "test_ds = keras.utils.text_dataset_from_directory(\n",
    "    \"aclImdb/test\", batch_size=batch_size\n",
    ")\n",
    "text_only_train_ds = train_ds.map(lambda x, y: x)"
   ]
  },
  {
   "cell_type": "markdown",
   "metadata": {
    "id": "0skqzmbJ2hWV"
   },
   "source": [
    "**Preparing integer sequence datasets**"
   ]
  },
  {
   "cell_type": "code",
   "execution_count": 3,
   "metadata": {
    "executionInfo": {
     "elapsed": 5394,
     "status": "ok",
     "timestamp": 1670337460036,
     "user": {
      "displayName": "何妍霖",
      "userId": "02144169351052031035"
     },
     "user_tz": -480
    },
    "id": "SyBOvs7G2hWV"
   },
   "outputs": [],
   "source": [
    "from tensorflow.keras import layers\n",
    "\n",
    "max_length = 600\n",
    "max_tokens = 20000\n",
    "text_vectorization = layers.TextVectorization(\n",
    "    max_tokens=max_tokens,\n",
    "    output_mode=\"int\",\n",
    "    output_sequence_length=max_length,\n",
    ")\n",
    "text_vectorization.adapt(text_only_train_ds)\n",
    "\n",
    "int_train_ds = train_ds.map(\n",
    "    lambda x, y: (text_vectorization(x), y),\n",
    "    num_parallel_calls=4)\n",
    "int_val_ds = val_ds.map(\n",
    "    lambda x, y: (text_vectorization(x), y),\n",
    "    num_parallel_calls=4)\n",
    "int_test_ds = test_ds.map(\n",
    "    lambda x, y: (text_vectorization(x), y),\n",
    "    num_parallel_calls=4)"
   ]
  },
  {
   "cell_type": "markdown",
   "metadata": {
    "id": "m7r9wQFD2hWW"
   },
   "source": [
    "**A sequence model built on one-hot encoded vector sequences**"
   ]
  },
  {
   "cell_type": "code",
   "execution_count": 4,
   "metadata": {
    "colab": {
     "base_uri": "https://localhost:8080/"
    },
    "executionInfo": {
     "elapsed": 704,
     "status": "ok",
     "timestamp": 1670337460715,
     "user": {
      "displayName": "何妍霖",
      "userId": "02144169351052031035"
     },
     "user_tz": -480
    },
    "id": "QpqDIGMr2hWW",
    "outputId": "8cd455dd-b477-4792-ed27-073a41cbff2a"
   },
   "outputs": [
    {
     "name": "stdout",
     "output_type": "stream",
     "text": [
      "Model: \"model\"\n",
      "_________________________________________________________________\n",
      " Layer (type)                Output Shape              Param #   \n",
      "=================================================================\n",
      " input_1 (InputLayer)        [(None, None)]            0         \n",
      "                                                                 \n",
      " tf.one_hot (TFOpLambda)     (None, None, 20000)       0         \n",
      "                                                                 \n",
      " bidirectional (Bidirectiona  (None, 64)               5128448   \n",
      " l)                                                              \n",
      "                                                                 \n",
      " dropout (Dropout)           (None, 64)                0         \n",
      "                                                                 \n",
      " dense (Dense)               (None, 1)                 65        \n",
      "                                                                 \n",
      "=================================================================\n",
      "Total params: 5,128,513\n",
      "Trainable params: 5,128,513\n",
      "Non-trainable params: 0\n",
      "_________________________________________________________________\n"
     ]
    }
   ],
   "source": [
    "import tensorflow as tf\n",
    "inputs = keras.Input(shape=(None,), dtype=\"int64\")\n",
    "embedded = tf.one_hot(inputs, depth=max_tokens)\n",
    "x = layers.Bidirectional(layers.LSTM(32))(embedded)\n",
    "x = layers.Dropout(0.5)(x)\n",
    "outputs = layers.Dense(1, activation=\"sigmoid\")(x)\n",
    "model = keras.Model(inputs, outputs)\n",
    "model.compile(optimizer=\"rmsprop\",\n",
    "              loss=\"binary_crossentropy\",\n",
    "              metrics=[\"accuracy\"])\n",
    "model.summary()"
   ]
  },
  {
   "cell_type": "markdown",
   "metadata": {
    "id": "nFDcehvI2hWW"
   },
   "source": [
    "**Training a first basic sequence model**"
   ]
  },
  {
   "cell_type": "code",
   "execution_count": 5,
   "metadata": {
    "colab": {
     "base_uri": "https://localhost:8080/"
    },
    "executionInfo": {
     "elapsed": 1901692,
     "status": "ok",
     "timestamp": 1670339362395,
     "user": {
      "displayName": "何妍霖",
      "userId": "02144169351052031035"
     },
     "user_tz": -480
    },
    "id": "t3MqfalW2hWX",
    "outputId": "b231ae74-5ecf-49a3-99da-70e8a1feb94a"
   },
   "outputs": [
    {
     "name": "stdout",
     "output_type": "stream",
     "text": [
      "Epoch 1/10\n",
      "625/625 [==============================] - 170s 259ms/step - loss: 0.5255 - accuracy: 0.7535 - val_loss: 0.3715 - val_accuracy: 0.8642\n",
      "Epoch 2/10\n",
      "625/625 [==============================] - 171s 274ms/step - loss: 0.3399 - accuracy: 0.8782 - val_loss: 0.3049 - val_accuracy: 0.8764\n",
      "Epoch 3/10\n",
      "625/625 [==============================] - 172s 275ms/step - loss: 0.2774 - accuracy: 0.9028 - val_loss: 0.3386 - val_accuracy: 0.8686\n",
      "Epoch 4/10\n",
      "625/625 [==============================] - 170s 272ms/step - loss: 0.2299 - accuracy: 0.9208 - val_loss: 0.3215 - val_accuracy: 0.8896\n",
      "Epoch 5/10\n",
      "625/625 [==============================] - 171s 274ms/step - loss: 0.1972 - accuracy: 0.9357 - val_loss: 0.3800 - val_accuracy: 0.8600\n",
      "Epoch 6/10\n",
      "625/625 [==============================] - 169s 270ms/step - loss: 0.1793 - accuracy: 0.9408 - val_loss: 0.2993 - val_accuracy: 0.8914\n",
      "Epoch 7/10\n",
      "625/625 [==============================] - 171s 274ms/step - loss: 0.1629 - accuracy: 0.9477 - val_loss: 0.3509 - val_accuracy: 0.8464\n",
      "Epoch 8/10\n",
      "625/625 [==============================] - 169s 271ms/step - loss: 0.1448 - accuracy: 0.9537 - val_loss: 0.3085 - val_accuracy: 0.8878\n",
      "Epoch 9/10\n",
      "625/625 [==============================] - 173s 276ms/step - loss: 0.1258 - accuracy: 0.9621 - val_loss: 0.3391 - val_accuracy: 0.8904\n",
      "Epoch 10/10\n",
      "625/625 [==============================] - 173s 276ms/step - loss: 0.1072 - accuracy: 0.9674 - val_loss: 0.3937 - val_accuracy: 0.8646\n",
      "782/782 [==============================] - 101s 128ms/step - loss: 0.3463 - accuracy: 0.8783\n",
      "Test acc: 0.878\n"
     ]
    }
   ],
   "source": [
    "callbacks = [\n",
    "    keras.callbacks.ModelCheckpoint(\"one_hot_bidir_lstm.keras\",\n",
    "                                    save_best_only=True)\n",
    "]\n",
    "model.fit(int_train_ds, validation_data=int_val_ds, epochs=10, callbacks=callbacks)\n",
    "model = keras.models.load_model(\"one_hot_bidir_lstm.keras\")\n",
    "print(f\"Test acc: {model.evaluate(int_test_ds)[1]:.3f}\")"
   ]
  },
  {
   "cell_type": "markdown",
   "metadata": {
    "id": "SqPyYBi72hWX"
   },
   "source": [
    "#### Understanding word embeddings"
   ]
  },
  {
   "cell_type": "markdown",
   "metadata": {
    "id": "gYpc6U6d2hWX"
   },
   "source": [
    "#### Learning word embeddings with the Embedding layer"
   ]
  },
  {
   "cell_type": "markdown",
   "metadata": {
    "id": "R_Il76jC2hWX"
   },
   "source": [
    "**Instantiating an `Embedding` layer**"
   ]
  },
  {
   "cell_type": "code",
   "execution_count": 6,
   "metadata": {
    "executionInfo": {
     "elapsed": 7,
     "status": "ok",
     "timestamp": 1670339362395,
     "user": {
      "displayName": "何妍霖",
      "userId": "02144169351052031035"
     },
     "user_tz": -480
    },
    "id": "bd7iGee42hWX"
   },
   "outputs": [],
   "source": [
    "embedding_layer = layers.Embedding(input_dim=max_tokens, output_dim=256)"
   ]
  },
  {
   "cell_type": "markdown",
   "metadata": {
    "id": "xFQPNQzf2hWY"
   },
   "source": [
    "**Model that uses an `Embedding` layer trained from scratch**"
   ]
  },
  {
   "cell_type": "code",
   "execution_count": 7,
   "metadata": {
    "colab": {
     "base_uri": "https://localhost:8080/"
    },
    "executionInfo": {
     "elapsed": 419041,
     "status": "ok",
     "timestamp": 1670339781430,
     "user": {
      "displayName": "何妍霖",
      "userId": "02144169351052031035"
     },
     "user_tz": -480
    },
    "id": "pVHBfhV02hWY",
    "outputId": "02144a1c-fe58-4284-fa49-7fde63b48478"
   },
   "outputs": [
    {
     "name": "stdout",
     "output_type": "stream",
     "text": [
      "Model: \"model_1\"\n",
      "_________________________________________________________________\n",
      " Layer (type)                Output Shape              Param #   \n",
      "=================================================================\n",
      " input_2 (InputLayer)        [(None, None)]            0         \n",
      "                                                                 \n",
      " embedding_1 (Embedding)     (None, None, 256)         5120000   \n",
      "                                                                 \n",
      " bidirectional_1 (Bidirectio  (None, 64)               73984     \n",
      " nal)                                                            \n",
      "                                                                 \n",
      " dropout_1 (Dropout)         (None, 64)                0         \n",
      "                                                                 \n",
      " dense_1 (Dense)             (None, 1)                 65        \n",
      "                                                                 \n",
      "=================================================================\n",
      "Total params: 5,194,049\n",
      "Trainable params: 5,194,049\n",
      "Non-trainable params: 0\n",
      "_________________________________________________________________\n",
      "Epoch 1/10\n",
      "625/625 [==============================] - 37s 55ms/step - loss: 0.4815 - accuracy: 0.7822 - val_loss: 0.4376 - val_accuracy: 0.8224\n",
      "Epoch 2/10\n",
      "625/625 [==============================] - 35s 56ms/step - loss: 0.3071 - accuracy: 0.8866 - val_loss: 0.3210 - val_accuracy: 0.8746\n",
      "Epoch 3/10\n",
      "625/625 [==============================] - 34s 55ms/step - loss: 0.2402 - accuracy: 0.9138 - val_loss: 0.3076 - val_accuracy: 0.8826\n",
      "Epoch 4/10\n",
      "625/625 [==============================] - 35s 56ms/step - loss: 0.2028 - accuracy: 0.9287 - val_loss: 0.3518 - val_accuracy: 0.8522\n",
      "Epoch 5/10\n",
      "625/625 [==============================] - 35s 56ms/step - loss: 0.1718 - accuracy: 0.9423 - val_loss: 0.3368 - val_accuracy: 0.8852\n",
      "Epoch 6/10\n",
      "625/625 [==============================] - 34s 54ms/step - loss: 0.1457 - accuracy: 0.9520 - val_loss: 0.3319 - val_accuracy: 0.8796\n",
      "Epoch 7/10\n",
      "625/625 [==============================] - 34s 55ms/step - loss: 0.1231 - accuracy: 0.9615 - val_loss: 0.3413 - val_accuracy: 0.8846\n",
      "Epoch 8/10\n",
      "625/625 [==============================] - 34s 55ms/step - loss: 0.0967 - accuracy: 0.9697 - val_loss: 0.3721 - val_accuracy: 0.8618\n",
      "Epoch 9/10\n",
      "625/625 [==============================] - 34s 54ms/step - loss: 0.0868 - accuracy: 0.9731 - val_loss: 0.5310 - val_accuracy: 0.8366\n",
      "Epoch 10/10\n",
      "625/625 [==============================] - 34s 54ms/step - loss: 0.0725 - accuracy: 0.9779 - val_loss: 0.4377 - val_accuracy: 0.8810\n",
      "782/782 [==============================] - 26s 32ms/step - loss: 0.3735 - accuracy: 0.8516\n",
      "Test acc: 0.852\n"
     ]
    }
   ],
   "source": [
    "inputs = keras.Input(shape=(None,), dtype=\"int64\")\n",
    "embedded = layers.Embedding(input_dim=max_tokens, output_dim=256)(inputs)\n",
    "x = layers.Bidirectional(layers.LSTM(32))(embedded)\n",
    "x = layers.Dropout(0.5)(x)\n",
    "outputs = layers.Dense(1, activation=\"sigmoid\")(x)\n",
    "model = keras.Model(inputs, outputs)\n",
    "model.compile(optimizer=\"rmsprop\",\n",
    "              loss=\"binary_crossentropy\",\n",
    "              metrics=[\"accuracy\"])\n",
    "model.summary()\n",
    "\n",
    "callbacks = [\n",
    "    keras.callbacks.ModelCheckpoint(\"embeddings_bidir_gru.keras\",\n",
    "                                    save_best_only=True)\n",
    "]\n",
    "model.fit(int_train_ds, validation_data=int_val_ds, epochs=10, callbacks=callbacks)\n",
    "model = keras.models.load_model(\"embeddings_bidir_gru.keras\")\n",
    "print(f\"Test acc: {model.evaluate(int_test_ds)[1]:.3f}\")"
   ]
  },
  {
   "cell_type": "markdown",
   "metadata": {
    "id": "YmcdTpDx2hWY"
   },
   "source": [
    "#### Understanding padding and masking"
   ]
  },
  {
   "cell_type": "markdown",
   "metadata": {
    "id": "smuVQlVR2hWY"
   },
   "source": [
    "**Using an `Embedding` layer with masking enabled**"
   ]
  },
  {
   "cell_type": "code",
   "execution_count": 8,
   "metadata": {
    "colab": {
     "base_uri": "https://localhost:8080/"
    },
    "executionInfo": {
     "elapsed": 423890,
     "status": "ok",
     "timestamp": 1670340205316,
     "user": {
      "displayName": "何妍霖",
      "userId": "02144169351052031035"
     },
     "user_tz": -480
    },
    "id": "to_PYhn52hWZ",
    "outputId": "fad933ca-ea55-4f24-84da-291e572f3650"
   },
   "outputs": [
    {
     "name": "stdout",
     "output_type": "stream",
     "text": [
      "Model: \"model_2\"\n",
      "_________________________________________________________________\n",
      " Layer (type)                Output Shape              Param #   \n",
      "=================================================================\n",
      " input_3 (InputLayer)        [(None, None)]            0         \n",
      "                                                                 \n",
      " embedding_2 (Embedding)     (None, None, 256)         5120000   \n",
      "                                                                 \n",
      " bidirectional_2 (Bidirectio  (None, 64)               73984     \n",
      " nal)                                                            \n",
      "                                                                 \n",
      " dropout_2 (Dropout)         (None, 64)                0         \n",
      "                                                                 \n",
      " dense_2 (Dense)             (None, 1)                 65        \n",
      "                                                                 \n",
      "=================================================================\n",
      "Total params: 5,194,049\n",
      "Trainable params: 5,194,049\n",
      "Non-trainable params: 0\n",
      "_________________________________________________________________\n",
      "Epoch 1/10\n",
      "625/625 [==============================] - 42s 56ms/step - loss: 0.3930 - accuracy: 0.8253 - val_loss: 0.2768 - val_accuracy: 0.8868\n",
      "Epoch 2/10\n",
      "625/625 [==============================] - 36s 57ms/step - loss: 0.2302 - accuracy: 0.9118 - val_loss: 0.2570 - val_accuracy: 0.8994\n",
      "Epoch 3/10\n",
      "625/625 [==============================] - 35s 57ms/step - loss: 0.1687 - accuracy: 0.9387 - val_loss: 0.2857 - val_accuracy: 0.8864\n",
      "Epoch 4/10\n",
      "625/625 [==============================] - 35s 56ms/step - loss: 0.1236 - accuracy: 0.9564 - val_loss: 0.3356 - val_accuracy: 0.8894\n",
      "Epoch 5/10\n",
      "625/625 [==============================] - 35s 56ms/step - loss: 0.0898 - accuracy: 0.9679 - val_loss: 0.3613 - val_accuracy: 0.8640\n",
      "Epoch 6/10\n",
      "625/625 [==============================] - 35s 56ms/step - loss: 0.0654 - accuracy: 0.9776 - val_loss: 0.4167 - val_accuracy: 0.8822\n",
      "Epoch 7/10\n",
      "625/625 [==============================] - 35s 57ms/step - loss: 0.0499 - accuracy: 0.9837 - val_loss: 0.4544 - val_accuracy: 0.8722\n",
      "Epoch 8/10\n",
      "625/625 [==============================] - 35s 56ms/step - loss: 0.0315 - accuracy: 0.9898 - val_loss: 0.5350 - val_accuracy: 0.8816\n",
      "Epoch 9/10\n",
      "625/625 [==============================] - 35s 56ms/step - loss: 0.0249 - accuracy: 0.9926 - val_loss: 0.6274 - val_accuracy: 0.8710\n",
      "Epoch 10/10\n",
      "625/625 [==============================] - 36s 57ms/step - loss: 0.0158 - accuracy: 0.9948 - val_loss: 0.6006 - val_accuracy: 0.8822\n",
      "782/782 [==============================] - 26s 31ms/step - loss: 0.2875 - accuracy: 0.8824\n",
      "Test acc: 0.882\n"
     ]
    }
   ],
   "source": [
    "inputs = keras.Input(shape=(None,), dtype=\"int64\")\n",
    "embedded = layers.Embedding(\n",
    "    input_dim=max_tokens, output_dim=256, mask_zero=True)(inputs)\n",
    "x = layers.Bidirectional(layers.LSTM(32))(embedded)\n",
    "x = layers.Dropout(0.5)(x)\n",
    "outputs = layers.Dense(1, activation=\"sigmoid\")(x)\n",
    "model = keras.Model(inputs, outputs)\n",
    "model.compile(optimizer=\"rmsprop\",\n",
    "              loss=\"binary_crossentropy\",\n",
    "              metrics=[\"accuracy\"])\n",
    "model.summary()\n",
    "\n",
    "callbacks = [\n",
    "    keras.callbacks.ModelCheckpoint(\"embeddings_bidir_gru_with_masking.keras\",\n",
    "                                    save_best_only=True)\n",
    "]\n",
    "model.fit(int_train_ds, validation_data=int_val_ds, epochs=10, callbacks=callbacks)\n",
    "model = keras.models.load_model(\"embeddings_bidir_gru_with_masking.keras\")\n",
    "print(f\"Test acc: {model.evaluate(int_test_ds)[1]:.3f}\")"
   ]
  },
  {
   "cell_type": "markdown",
   "metadata": {
    "id": "lKLbC0n72hWZ"
   },
   "source": [
    "#### Using pretrained word embeddings"
   ]
  },
  {
   "cell_type": "code",
   "execution_count": 9,
   "metadata": {
    "colab": {
     "base_uri": "https://localhost:8080/"
    },
    "executionInfo": {
     "elapsed": 27363,
     "status": "ok",
     "timestamp": 1670340387128,
     "user": {
      "displayName": "何妍霖",
      "userId": "02144169351052031035"
     },
     "user_tz": -480
    },
    "id": "7cfRbEfz2hWZ",
    "outputId": "4eea8341-3abb-42fa-ed6d-c58b653f16d6"
   },
   "outputs": [
    {
     "name": "stdout",
     "output_type": "stream",
     "text": [
      "--2022-12-06 15:23:24--  http://nlp.stanford.edu/data/glove.6B.zip\n",
      "Resolving nlp.stanford.edu (nlp.stanford.edu)... 171.64.67.140\n",
      "Connecting to nlp.stanford.edu (nlp.stanford.edu)|171.64.67.140|:80... connected.\n",
      "HTTP request sent, awaiting response... 302 Found\n",
      "Location: https://nlp.stanford.edu/data/glove.6B.zip [following]\n",
      "--2022-12-06 15:23:25--  https://nlp.stanford.edu/data/glove.6B.zip\n",
      "Connecting to nlp.stanford.edu (nlp.stanford.edu)|171.64.67.140|:443... connected.\n",
      "HTTP request sent, awaiting response... 301 Moved Permanently\n",
      "Location: https://downloads.cs.stanford.edu/nlp/data/glove.6B.zip [following]\n",
      "--2022-12-06 15:23:25--  https://downloads.cs.stanford.edu/nlp/data/glove.6B.zip\n",
      "Resolving downloads.cs.stanford.edu (downloads.cs.stanford.edu)... 171.64.64.22\n",
      "Connecting to downloads.cs.stanford.edu (downloads.cs.stanford.edu)|171.64.64.22|:443... connected.\n",
      "HTTP request sent, awaiting response... 200 OK\n",
      "Length: 862182613 (822M) [application/zip]\n",
      "Saving to: ‘glove.6B.zip’\n",
      "\n",
      "glove.6B.zip        100%[===================>] 822.24M  5.03MB/s    in 2m 39s  \n",
      "\n",
      "2022-12-06 15:26:05 (5.18 MB/s) - ‘glove.6B.zip’ saved [862182613/862182613]\n",
      "\n"
     ]
    }
   ],
   "source": [
    "!wget http://nlp.stanford.edu/data/glove.6B.zip\n",
    "!unzip -q glove.6B.zip"
   ]
  },
  {
   "cell_type": "markdown",
   "metadata": {
    "id": "h7EwDkz82hWZ"
   },
   "source": [
    "**Parsing the GloVe word-embeddings file**"
   ]
  },
  {
   "cell_type": "code",
   "execution_count": 10,
   "metadata": {
    "colab": {
     "base_uri": "https://localhost:8080/"
    },
    "executionInfo": {
     "elapsed": 5853,
     "status": "ok",
     "timestamp": 1670340392980,
     "user": {
      "displayName": "何妍霖",
      "userId": "02144169351052031035"
     },
     "user_tz": -480
    },
    "id": "AvOkWWxI2hWZ",
    "outputId": "43ee19cd-5637-4fa0-dfdd-7e4e7c6e6b96"
   },
   "outputs": [
    {
     "name": "stdout",
     "output_type": "stream",
     "text": [
      "Found 400000 word vectors.\n"
     ]
    }
   ],
   "source": [
    "import numpy as np\n",
    "path_to_glove_file = \"glove.6B.100d.txt\"\n",
    "\n",
    "embeddings_index = {}\n",
    "with open(path_to_glove_file) as f:\n",
    "    for line in f:\n",
    "        word, coefs = line.split(maxsplit=1)\n",
    "        coefs = np.fromstring(coefs, \"f\", sep=\" \")\n",
    "        embeddings_index[word] = coefs\n",
    "\n",
    "print(f\"Found {len(embeddings_index)} word vectors.\")"
   ]
  },
  {
   "cell_type": "markdown",
   "metadata": {
    "id": "oJutvi1g2hWZ"
   },
   "source": [
    "**Preparing the GloVe word-embeddings matrix**"
   ]
  },
  {
   "cell_type": "code",
   "execution_count": 11,
   "metadata": {
    "executionInfo": {
     "elapsed": 1,
     "status": "ok",
     "timestamp": 1670340392980,
     "user": {
      "displayName": "何妍霖",
      "userId": "02144169351052031035"
     },
     "user_tz": -480
    },
    "id": "KAwgMrIU2hWa"
   },
   "outputs": [],
   "source": [
    "embedding_dim = 100\n",
    "\n",
    "vocabulary = text_vectorization.get_vocabulary()\n",
    "word_index = dict(zip(vocabulary, range(len(vocabulary))))\n",
    "\n",
    "embedding_matrix = np.zeros((max_tokens, embedding_dim))\n",
    "for word, i in word_index.items():\n",
    "    if i < max_tokens:\n",
    "        embedding_vector = embeddings_index.get(word)\n",
    "    if embedding_vector is not None:\n",
    "        embedding_matrix[i] = embedding_vector"
   ]
  },
  {
   "cell_type": "code",
   "execution_count": 12,
   "metadata": {
    "executionInfo": {
     "elapsed": 2,
     "status": "ok",
     "timestamp": 1670340392981,
     "user": {
      "displayName": "何妍霖",
      "userId": "02144169351052031035"
     },
     "user_tz": -480
    },
    "id": "7ee6qAW-2hWa"
   },
   "outputs": [],
   "source": [
    "embedding_layer = layers.Embedding(\n",
    "    max_tokens,\n",
    "    embedding_dim,\n",
    "    embeddings_initializer=keras.initializers.Constant(embedding_matrix),\n",
    "    trainable=False,\n",
    "    mask_zero=True,\n",
    ")"
   ]
  },
  {
   "cell_type": "markdown",
   "metadata": {
    "id": "N4yvA0SK2hWa"
   },
   "source": [
    "**Model that uses a pretrained Embedding layer**"
   ]
  },
  {
   "cell_type": "code",
   "execution_count": 14,
   "metadata": {
    "colab": {
     "base_uri": "https://localhost:8080/"
    },
    "executionInfo": {
     "elapsed": 626430,
     "status": "ok",
     "timestamp": 1670341461857,
     "user": {
      "displayName": "何妍霖",
      "userId": "02144169351052031035"
     },
     "user_tz": -480
    },
    "id": "E9W_lPm52hWa",
    "outputId": "ca19a2ea-1596-470e-9d47-a9e057e06bd9"
   },
   "outputs": [
    {
     "name": "stdout",
     "output_type": "stream",
     "text": [
      "Model: \"model_4\"\n",
      "_________________________________________________________________\n",
      " Layer (type)                Output Shape              Param #   \n",
      "=================================================================\n",
      " input_5 (InputLayer)        [(None, None)]            0         \n",
      "                                                                 \n",
      " embedding_3 (Embedding)     (None, None, 100)         2000000   \n",
      "                                                                 \n",
      " bidirectional_4 (Bidirectio  (None, 64)               34048     \n",
      " nal)                                                            \n",
      "                                                                 \n",
      " dropout_4 (Dropout)         (None, 64)                0         \n",
      "                                                                 \n",
      " dense_4 (Dense)             (None, 1)                 65        \n",
      "                                                                 \n",
      "=================================================================\n",
      "Total params: 2,034,113\n",
      "Trainable params: 34,113\n",
      "Non-trainable params: 2,000,000\n",
      "_________________________________________________________________\n",
      "Epoch 1/10\n",
      "625/625 [==============================] - 56s 79ms/step - loss: 0.5679 - accuracy: 0.7045 - val_loss: 0.4452 - val_accuracy: 0.7984\n",
      "Epoch 2/10\n",
      "625/625 [==============================] - 43s 68ms/step - loss: 0.4579 - accuracy: 0.7909 - val_loss: 0.4041 - val_accuracy: 0.8286\n",
      "Epoch 3/10\n",
      "625/625 [==============================] - 43s 69ms/step - loss: 0.4010 - accuracy: 0.8249 - val_loss: 0.3641 - val_accuracy: 0.8436\n",
      "Epoch 4/10\n",
      "625/625 [==============================] - 43s 69ms/step - loss: 0.3700 - accuracy: 0.8422 - val_loss: 0.3485 - val_accuracy: 0.8532\n",
      "Epoch 5/10\n",
      "625/625 [==============================] - 41s 66ms/step - loss: 0.3425 - accuracy: 0.8543 - val_loss: 0.3743 - val_accuracy: 0.8388\n",
      "Epoch 6/10\n",
      "625/625 [==============================] - 42s 67ms/step - loss: 0.3229 - accuracy: 0.8677 - val_loss: 0.3174 - val_accuracy: 0.8638\n",
      "Epoch 7/10\n",
      "625/625 [==============================] - 43s 68ms/step - loss: 0.3035 - accuracy: 0.8737 - val_loss: 0.3114 - val_accuracy: 0.8666\n",
      "Epoch 8/10\n",
      "625/625 [==============================] - 42s 68ms/step - loss: 0.2883 - accuracy: 0.8812 - val_loss: 0.3069 - val_accuracy: 0.8722\n",
      "Epoch 9/10\n",
      "625/625 [==============================] - 41s 65ms/step - loss: 0.2764 - accuracy: 0.8880 - val_loss: 0.3150 - val_accuracy: 0.8716\n",
      "Epoch 10/10\n",
      "625/625 [==============================] - 43s 68ms/step - loss: 0.2582 - accuracy: 0.8968 - val_loss: 0.3022 - val_accuracy: 0.8754\n",
      "782/782 [==============================] - 30s 35ms/step - loss: 0.2991 - accuracy: 0.8747\n",
      "Test acc: 0.875\n"
     ]
    }
   ],
   "source": [
    "inputs = keras.Input(shape=(None,), dtype=\"int64\")\n",
    "embedded = embedding_layer(inputs)\n",
    "x = layers.Bidirectional(layers.LSTM(32))(embedded)\n",
    "x = layers.Dropout(0.5)(x)\n",
    "outputs = layers.Dense(1, activation=\"sigmoid\")(x)\n",
    "model = keras.Model(inputs, outputs)\n",
    "model.compile(optimizer=\"rmsprop\",\n",
    "              loss=\"binary_crossentropy\",\n",
    "              metrics=[\"accuracy\"])\n",
    "model.summary()\n",
    "\n",
    "callbacks = [\n",
    "    keras.callbacks.ModelCheckpoint(\"glove_embeddings_sequence_model.keras\",\n",
    "                                    save_best_only=True)\n",
    "]\n",
    "model.fit(int_train_ds, validation_data=int_val_ds, epochs=10, callbacks=callbacks)\n",
    "model = keras.models.load_model(\"glove_embeddings_sequence_model.keras\")\n",
    "print(f\"Test acc: {model.evaluate(int_test_ds)[1]:.3f}\")"
   ]
  }
 ],
 "metadata": {
  "accelerator": "GPU",
  "colab": {
   "provenance": []
  },
  "gpuClass": "standard",
  "kernelspec": {
   "display_name": "Python 3 (ipykernel)",
   "language": "python",
   "name": "python3"
  },
  "language_info": {
   "codemirror_mode": {
    "name": "ipython",
    "version": 3
   },
   "file_extension": ".py",
   "mimetype": "text/x-python",
   "name": "python",
   "nbconvert_exporter": "python",
   "pygments_lexer": "ipython3",
   "version": "3.7.13"
  }
 },
 "nbformat": 4,
 "nbformat_minor": 1
}

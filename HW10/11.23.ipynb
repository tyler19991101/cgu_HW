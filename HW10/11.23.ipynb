{
 "cells": [
  {
   "cell_type": "markdown",
   "metadata": {
    "colab_type": "text"
   },
   "source": [
    "This is a companion notebook for the book [Deep Learning with Python, Second Edition](https://www.manning.com/books/deep-learning-with-python-second-edition?a_aid=keras&a_bid=76564dff). For readability, it only contains runnable code blocks and section titles, and omits everything else in the book: text paragraphs, figures, and pseudocode.\n",
    "\n",
    "**If you want to be able to follow what's going on, I recommend reading the notebook side by side with your copy of the book.**\n",
    "\n",
    "This notebook was generated for TensorFlow 2.6."
   ]
  },
  {
   "cell_type": "markdown",
   "metadata": {
    "colab_type": "text"
   },
   "source": [
    "# Deep learning for timeseries"
   ]
  },
  {
   "cell_type": "markdown",
   "metadata": {
    "colab_type": "text"
   },
   "source": [
    "## Different kinds of timeseries tasks"
   ]
  },
  {
   "cell_type": "markdown",
   "metadata": {
    "colab_type": "text"
   },
   "source": [
    "## A temperature-forecasting example"
   ]
  },
  {
   "cell_type": "code",
   "execution_count": 4,
   "metadata": {
    "colab_type": "code"
   },
   "outputs": [
    {
     "name": "stderr",
     "output_type": "stream",
     "text": [
      "--2022-12-09 14:54:15--  https://s3.amazonaws.com/keras-datasets/jena_climate_2009_2016.csv.zip\n",
      "Resolving s3.amazonaws.com (s3.amazonaws.com)... 52.216.211.232, 52.217.75.62, 54.231.194.152, ...\n",
      "Connecting to s3.amazonaws.com (s3.amazonaws.com)|52.216.211.232|:443... connected.\n",
      "HTTP request sent, awaiting response... 200 OK\n",
      "Length: 13565642 (13M) [application/zip]\n",
      "Saving to: 'jena_climate_2009_2016.csv.zip.1'\n",
      "\n",
      "     0K .......... .......... .......... .......... ..........  0%  256K 52s\n",
      "    50K .......... .......... .......... .......... ..........  0%  262K 51s\n",
      "   100K .......... .......... .......... .......... ..........  1% 12.5M 34s\n",
      "   150K .......... .......... .......... .......... ..........  1%  261K 38s\n",
      "   200K .......... .......... .......... .......... ..........  1% 27.9M 30s\n",
      "   250K .......... .......... .......... .......... ..........  2% 36.4M 25s\n",
      "   300K .......... .......... .......... .......... ..........  2%  434K 26s\n",
      "   350K .......... .......... .......... .......... ..........  3%  617K 25s\n",
      "   400K .......... .......... .......... .......... ..........  3% 30.1M 22s\n",
      "   450K .......... .......... .......... .......... ..........  3% 32.8M 20s\n",
      "   500K .......... .......... .......... .......... ..........  4% 37.9M 18s\n",
      "   550K .......... .......... .......... .......... ..........  4%  478K 19s\n",
      "   600K .......... .......... .......... .......... ..........  4%  612K 19s\n",
      "   650K .......... .......... .......... .......... ..........  5% 10.3M 18s\n",
      "   700K .......... .......... .......... .......... ..........  5% 40.0M 16s\n",
      "   750K .......... .......... .......... .......... ..........  6% 40.7M 15s\n",
      "   800K .......... .......... .......... .......... ..........  6%  488K 16s\n",
      "   850K .......... .......... .......... .......... ..........  6%  632K 16s\n",
      "   900K .......... .......... .......... .......... ..........  7% 31.5M 15s\n",
      "   950K .......... .......... .......... .......... ..........  7% 15.2M 14s\n",
      "  1000K .......... .......... .......... .......... ..........  7% 16.4M 14s\n",
      "  1050K .......... .......... .......... .......... ..........  8%  257K 15s\n",
      "  1100K .......... .......... .......... .......... ..........  8% 35.9M 14s\n",
      "  1150K .......... .......... .......... .......... ..........  9% 33.5M 14s\n",
      "  1200K .......... .......... .......... .......... ..........  9% 57.1M 13s\n",
      "  1250K .......... .......... .......... .......... ..........  9% 55.0M 13s\n",
      "  1300K .......... .......... .......... .......... .......... 10% 65.6M 12s\n",
      "  1350K .......... .......... .......... .......... .......... 10% 58.6M 12s\n",
      "  1400K .......... .......... .......... .......... .......... 10% 54.5M 11s\n",
      "  1450K .......... .......... .......... .......... .......... 11% 57.2M 11s\n",
      "  1500K .......... .......... .......... .......... .......... 11% 59.8M 10s\n",
      "  1550K .......... .......... .......... .......... .......... 12% 56.0M 10s\n",
      "  1600K .......... .......... .......... .......... .......... 12%  269K 11s\n",
      "  1650K .......... .......... .......... .......... .......... 12% 35.4M 11s\n",
      "  1700K .......... .......... .......... .......... .......... 13% 36.7M 10s\n",
      "  1750K .......... .......... .......... .......... .......... 13% 48.5M 10s\n",
      "  1800K .......... .......... .......... .......... .......... 13% 51.1M 10s\n",
      "  1850K .......... .......... .......... .......... .......... 14% 55.0M 9s\n",
      "  1900K .......... .......... .......... .......... .......... 14% 58.9M 9s\n",
      "  1950K .......... .......... .......... .......... .......... 15% 58.7M 9s\n",
      "  2000K .......... .......... .......... .......... .......... 15% 59.4M 9s\n",
      "  2050K .......... .......... .......... .......... .......... 15% 56.2M 8s\n",
      "  2100K .......... .......... .......... .......... .......... 16% 58.1M 8s\n",
      "  2150K .......... .......... .......... .......... .......... 16%  271K 9s\n",
      "  2200K .......... .......... .......... .......... .......... 16% 32.1M 9s\n",
      "  2250K .......... .......... .......... .......... .......... 17% 38.3M 8s\n",
      "  2300K .......... .......... .......... .......... .......... 17% 48.0M 8s\n",
      "  2350K .......... .......... .......... .......... .......... 18% 55.3M 8s\n",
      "  2400K .......... .......... .......... .......... .......... 18% 56.5M 8s\n",
      "  2450K .......... .......... .......... .......... .......... 18% 58.3M 8s\n",
      "  2500K .......... .......... .......... .......... .......... 19% 51.5M 7s\n",
      "  2550K .......... .......... .......... .......... .......... 19% 66.6M 7s\n",
      "  2600K .......... .......... .......... .......... .......... 20% 65.8M 7s\n",
      "  2650K .......... .......... .......... .......... .......... 20% 55.5M 7s\n",
      "  2700K .......... .......... .......... .......... .......... 20%  619K 7s\n",
      "  2750K .......... .......... .......... .......... .......... 21%  600K 7s\n",
      "  2800K .......... .......... .......... .......... .......... 21% 24.1M 7s\n",
      "  2850K .......... .......... .......... .......... .......... 21% 16.9M 7s\n",
      "  2900K .......... .......... .......... .......... .......... 22% 9.40M 7s\n",
      "  2950K .......... .......... .......... .......... .......... 22% 10.2M 7s\n",
      "  3000K .......... .......... .......... .......... .......... 23% 29.6M 6s\n",
      "  3050K .......... .......... .......... .......... .......... 23%  289K 7s\n",
      "  3100K .......... .......... .......... .......... .......... 23% 12.2M 7s\n",
      "  3150K .......... .......... .......... .......... .......... 24% 25.0M 7s\n",
      "  3200K .......... .......... .......... .......... .......... 24% 34.1M 7s\n",
      "  3250K .......... .......... .......... .......... .......... 24% 10.1M 6s\n",
      "  3300K .......... .......... .......... .......... .......... 25% 11.7M 6s\n",
      "  3350K .......... .......... .......... .......... .......... 25% 33.4M 6s\n",
      "  3400K .......... .......... .......... .......... .......... 26%  528K 6s\n",
      "  3450K .......... .......... .......... .......... .......... 26%  621K 6s\n",
      "  3500K .......... .......... .......... .......... .......... 26% 21.8M 6s\n",
      "  3550K .......... .......... .......... .......... .......... 27% 23.3M 6s\n",
      "  3600K .......... .......... .......... .......... .......... 27% 16.4M 6s\n",
      "  3650K .......... .......... .......... .......... .......... 27% 8.28M 6s\n",
      "  3700K .......... .......... .......... .......... .......... 28% 32.2M 6s\n",
      "  3750K .......... .......... .......... .......... .......... 28% 23.2M 6s\n",
      "  3800K .......... .......... .......... .......... .......... 29%  289K 6s\n",
      "  3850K .......... .......... .......... .......... .......... 29% 16.8M 6s\n",
      "  3900K .......... .......... .......... .......... .......... 29% 21.7M 6s\n",
      "  3950K .......... .......... .......... .......... .......... 30% 15.9M 6s\n",
      "  4000K .......... .......... .......... .......... .......... 30% 11.1M 6s\n",
      "  4050K .......... .......... .......... .......... .......... 30% 26.2M 6s\n",
      "  4100K .......... .......... .......... .......... .......... 31% 47.0M 6s\n",
      "  4150K .......... .......... .......... .......... .......... 31%  290K 6s\n",
      "  4200K .......... .......... .......... .......... .......... 32% 15.5M 6s\n",
      "  4250K .......... .......... .......... .......... .......... 32% 11.8M 6s\n",
      "  4300K .......... .......... .......... .......... .......... 32% 23.7M 6s\n",
      "  4350K .......... .......... .......... .......... .......... 33% 13.0M 5s\n",
      "  4400K .......... .......... .......... .......... .......... 33% 15.3M 5s\n",
      "  4450K .......... .......... .......... .......... .......... 33% 26.8M 5s\n",
      "  4500K .......... .......... .......... .......... .......... 34% 5.70M 5s\n",
      "  4550K .......... .......... .......... .......... .......... 34%  300K 5s\n",
      "  4600K .......... .......... .......... .......... .......... 35% 25.5M 5s\n",
      "  4650K .......... .......... .......... .......... .......... 35%  256K 6s\n",
      "  4700K .......... .......... .......... .......... .......... 35% 43.3M 6s\n",
      "  4750K .......... .......... .......... .......... .......... 36% 36.6M 5s\n",
      "  4800K .......... .......... .......... .......... .......... 36% 85.6M 5s\n",
      "  4850K .......... .......... .......... .......... .......... 36% 69.7M 5s\n",
      "  4900K .......... .......... .......... .......... .......... 37% 78.6M 5s\n",
      "  4950K .......... .......... .......... .......... .......... 37% 87.0M 5s\n",
      "  5000K .......... .......... .......... .......... .......... 38% 85.1M 5s\n",
      "  5050K .......... .......... .......... .......... .......... 38% 70.4M 5s\n",
      "  5100K .......... .......... .......... .......... .......... 38% 21.9M 5s\n",
      "  5150K .......... .......... .......... .......... .......... 39% 20.2M 5s\n",
      "  5200K .......... .......... .......... .......... .......... 39%  291K 5s\n",
      "  5250K .......... .......... .......... .......... .......... 40% 13.7M 5s\n",
      "  5300K .......... .......... .......... .......... .......... 40% 9.02M 5s\n",
      "  5350K .......... .......... .......... .......... .......... 40% 11.0M 5s\n",
      "  5400K .......... .......... .......... .......... .......... 41% 8.59M 5s\n",
      "  5450K .......... .......... .......... .......... .......... 41%  540K 5s\n",
      "  5500K .......... .......... .......... .......... .......... 41%  570K 5s\n",
      "  5550K .......... .......... .......... .......... .......... 42% 10.8M 5s\n",
      "  5600K .......... .......... .......... .......... .......... 42% 17.8M 5s\n",
      "  5650K .......... .......... .......... .......... .......... 43% 6.41M 5s\n",
      "  5700K .......... .......... .......... .......... .......... 43% 16.2M 5s\n",
      "  5750K .......... .......... .......... .......... .......... 43%  295K 5s\n",
      "  5800K .......... .......... .......... .......... .......... 44% 10.5M 5s\n",
      "  5850K .......... .......... .......... .......... .......... 44% 13.2M 5s\n",
      "  5900K .......... .......... .......... .......... .......... 44% 10.4M 4s\n",
      "  5950K .......... .......... .......... .......... .......... 45% 5.99M 4s\n",
      "  6000K .......... .......... .......... .......... .......... 45% 13.3M 4s\n",
      "  6050K .......... .......... .......... .......... .......... 46%  298K 4s\n",
      "  6100K .......... .......... .......... .......... .......... 46% 12.6M 4s\n",
      "  6150K .......... .......... .......... .......... .......... 46% 18.1M 4s\n",
      "  6200K .......... .......... .......... .......... .......... 47% 11.6M 4s\n",
      "  6250K .......... .......... .......... .......... .......... 47% 4.99M 4s\n",
      "  6300K .......... .......... .......... .......... .......... 47% 1.04M 4s\n",
      "  6350K .......... .......... .......... .......... .......... 48%  407K 4s\n",
      "  6400K .......... .......... .......... .......... .......... 48% 12.6M 4s\n",
      "  6450K .......... .......... .......... .......... .......... 49% 15.6M 4s\n",
      "  6500K .......... .......... .......... .......... .......... 49% 5.05M 4s\n",
      "  6550K .......... .......... .......... .......... .......... 49% 10.1M 4s\n",
      "  6600K .......... .......... .......... .......... .......... 50% 7.66M 4s\n",
      "  6650K .......... .......... .......... .......... .......... 50%  308K 4s\n",
      "  6700K .......... .......... .......... .......... .......... 50% 13.5M 4s\n",
      "  6750K .......... .......... .......... .......... .......... 51% 11.6M 4s\n",
      "  6800K .......... .......... .......... .......... .......... 51% 5.12M 4s\n",
      "  6850K .......... .......... .......... .......... .......... 52% 11.1M 4s\n",
      "  6900K .......... .......... .......... .......... .......... 52% 1.02M 4s\n",
      "  6950K .......... .......... .......... .......... .......... 52%  161K 4s\n",
      "  7000K .......... .......... .......... .......... .......... 53% 41.7M 4s\n",
      "  7050K .......... .......... .......... .......... .......... 53% 60.2M 4s\n",
      "  7100K .......... .......... .......... .......... .......... 53% 67.1M 4s\n",
      "  7150K .......... .......... .......... .......... .......... 54% 76.1M 4s\n",
      "  7200K .......... .......... .......... .......... .......... 54% 85.4M 4s\n",
      "  7250K .......... .......... .......... .......... .......... 55% 73.9M 4s\n",
      "  7300K .......... .......... .......... .......... .......... 55% 24.9M 4s\n",
      "  7350K .......... .......... .......... .......... .......... 55% 3.94M 4s\n",
      "  7400K .......... .......... .......... .......... .......... 56% 8.05M 4s\n",
      "  7450K .......... .......... .......... .......... .......... 56%  299K 4s\n",
      "  7500K .......... .......... .......... .......... .......... 56% 10.1M 4s\n",
      "  7550K .......... .......... .......... .......... .......... 57% 4.41M 4s\n",
      "  7600K .......... .......... .......... .......... .......... 57% 6.59M 4s\n",
      "  7650K .......... .......... .......... .......... .......... 58%  303K 4s\n",
      "  7700K .......... .......... .......... .......... .......... 58% 10.3M 4s\n",
      "  7750K .......... .......... .......... .......... .......... 58% 8.72M 3s\n",
      "  7800K .......... .......... .......... .......... .......... 59% 4.99M 3s\n",
      "  7850K .......... .......... .......... .......... .......... 59%  359K 3s\n",
      "  7900K .......... .......... .......... .......... .......... 60% 1.51M 3s\n",
      "  7950K .......... .......... .......... .......... .......... 60% 7.74M 3s\n",
      "  8000K .......... .......... .......... .......... .......... 60% 4.99M 3s\n",
      "  8050K .......... .......... .......... .......... .......... 61% 5.28M 3s\n",
      "  8100K .......... .......... .......... .......... .......... 61%  306K 3s\n",
      "  8150K .......... .......... .......... .......... .......... 61% 6.54M 3s\n",
      "  8200K .......... .......... .......... .......... .......... 62% 11.8M 3s\n",
      "  8250K .......... .......... .......... .......... .......... 62% 4.17M 3s\n",
      "  8300K .......... .......... .......... .......... .......... 63%  570K 3s\n",
      "  8350K .......... .......... .......... .......... .......... 63%  619K 3s\n",
      "  8400K .......... .......... .......... .......... .......... 63% 6.31M 3s\n",
      "  8450K .......... .......... .......... .......... .......... 64% 23.1M 3s\n",
      "  8500K .......... .......... .......... .......... .......... 64% 3.52M 3s\n",
      "  8550K .......... .......... .......... .......... .......... 64%  367K 3s\n",
      "  8600K .......... .......... .......... .......... .......... 65% 1.51M 3s\n",
      "  8650K .......... .......... .......... .......... .......... 65% 6.67M 3s\n",
      "  8700K .......... .......... .......... .......... .......... 66% 3.53M 3s\n",
      "  8750K .......... .......... .......... .......... .......... 66% 10.9M 3s\n",
      "  8800K .......... .......... .......... .......... .......... 66%  313K 3s\n",
      "  8850K .......... .......... .......... .......... .......... 67% 5.16M 3s\n",
      "  8900K .......... .......... .......... .......... .......... 67% 13.4M 3s\n",
      "  8950K .......... .......... .......... .......... .......... 67% 3.62M 3s\n",
      "  9000K .......... .......... .......... .......... .......... 68% 9.72M 3s\n",
      "  9050K .......... .......... .......... .......... .......... 68%  309K 3s\n",
      "  9100K .......... .......... .......... .......... .......... 69% 7.75M 3s\n",
      "  9150K .......... .......... .......... .......... .......... 69% 9.01M 3s\n",
      "  9200K .......... .......... .......... .......... .......... 69% 3.84M 3s\n",
      "  9250K .......... .......... .......... .......... .......... 70% 8.41M 3s\n",
      "  9300K .......... .......... .......... .......... .......... 70%  314K 3s\n",
      "  9350K .......... .......... .......... .......... .......... 70% 6.93M 3s\n",
      "  9400K .......... .......... .......... .......... .......... 71% 15.7M 3s\n",
      "  9450K .......... .......... .......... .......... .......... 71% 2.95M 3s\n",
      "  9500K .......... .......... .......... .......... .......... 72% 6.69M 2s\n",
      "  9550K .......... .......... .......... .......... .......... 72%  158K 3s\n",
      "  9600K .......... .......... .......... .......... .......... 72% 29.8M 2s\n",
      "  9650K .......... .......... .......... .......... .......... 73% 47.8M 2s\n",
      "  9700K .......... .......... .......... .......... .......... 73% 79.8M 2s\n",
      "  9750K .......... .......... .......... .......... .......... 73% 78.8M 2s\n",
      "  9800K .......... .......... .......... .......... .......... 74% 1.72M 2s\n",
      "  9850K .......... .......... .......... .......... .......... 74% 5.19M 2s\n",
      "  9900K .......... .......... .......... .......... .......... 75% 2.96M 2s\n",
      "  9950K .......... .......... .......... .......... .......... 75%  287K 2s\n",
      " 10000K .......... .......... .......... .......... .......... 75% 3.74M 2s\n",
      " 10050K .......... .......... .......... .......... .......... 76%  257K 2s\n",
      " 10100K .......... .......... .......... .......... .......... 76% 34.2M 2s\n",
      " 10150K .......... .......... .......... .......... .......... 76% 51.2M 2s\n",
      " 10200K .......... .......... .......... .......... .......... 77% 50.2M 2s\n",
      " 10250K .......... .......... .......... .......... .......... 77%  523K 2s\n",
      " 10300K .......... .......... .......... .......... .......... 78%  576K 2s\n",
      " 10350K .......... .......... .......... .......... .......... 78% 2.84M 2s\n",
      " 10400K .......... .......... .......... .......... .......... 78%  308K 2s\n",
      " 10450K .......... .......... .......... .......... .......... 79% 3.96M 2s\n",
      " 10500K .......... .......... .......... .......... .......... 79%  254K 2s\n",
      " 10550K .......... .......... .......... .......... .......... 80% 16.2M 2s\n",
      " 10600K .......... .......... .......... .......... .......... 80% 35.2M 2s\n",
      " 10650K .......... .......... .......... .......... .......... 80%  289K 2s\n",
      " 10700K .......... .......... .......... .......... .......... 81% 2.12M 2s\n",
      " 10750K .......... .......... .......... .......... .......... 81%  298K 2s\n",
      " 10800K .......... .......... .......... .......... .......... 81% 2.18M 2s\n",
      " 10850K .......... .......... .......... .......... .......... 82%  298K 2s\n",
      " 10900K .......... .......... .......... .......... .......... 82% 2.18M 2s\n",
      " 10950K .......... .......... .......... .......... .......... 83%  299K 2s\n",
      " 11000K .......... .......... .......... .......... .......... 83% 2.31M 2s\n",
      " 11050K .......... .......... .......... .......... .......... 83%  295K 2s\n",
      " 11100K .......... .......... .......... .......... .......... 84% 2.25M 2s\n",
      " 11150K .......... .......... .......... .......... .......... 84%  298K 2s\n",
      " 11200K .......... .......... .......... .......... .......... 84% 4.78M 2s\n",
      " 11250K .......... .......... .......... .......... .......... 85%  283K 2s\n",
      " 11300K .......... .......... .......... .......... .......... 85% 4.63M 2s\n",
      " 11350K .......... .......... .......... .......... .......... 86% 1.94M 1s\n",
      " 11400K .......... .......... .......... .......... .......... 86%  305K 1s\n",
      " 11450K .......... .......... .......... .......... .......... 86%  471K 1s\n",
      " 11500K .......... .......... .......... .......... .......... 87%  599K 1s\n",
      " 11550K .......... .......... .......... .......... .......... 87% 2.20M 1s\n",
      " 11600K .......... .......... .......... .......... .......... 87%  306K 1s\n",
      " 11650K .......... .......... .......... .......... .......... 88% 2.16M 1s\n",
      " 11700K .......... .......... .......... .......... .......... 88%  305K 1s\n",
      " 11750K .......... .......... .......... .......... .......... 89% 4.66M 1s\n",
      " 11800K .......... .......... .......... .......... .......... 89% 2.06M 1s\n",
      " 11850K .......... .......... .......... .......... .......... 89%  302K 1s\n",
      " 11900K .......... .......... .......... .......... .......... 90% 2.17M 1s\n",
      " 11950K .......... .......... .......... .......... .......... 90%  305K 1s\n",
      " 12000K .......... .......... .......... .......... .......... 90% 2.18M 1s\n",
      " 12050K .......... .......... .......... .......... .......... 91%  300K 1s\n",
      " 12100K .......... .......... .......... .......... .......... 91% 4.99M 1s\n",
      " 12150K .......... .......... .......... .......... .......... 92%  455K 1s\n",
      " 12200K .......... .......... .......... .......... .......... 92%  664K 1s\n",
      " 12250K .......... .......... .......... .......... .......... 92%  431K 1s\n",
      " 12300K .......... .......... .......... .......... .......... 93%  680K 1s\n",
      " 12350K .......... .......... .......... .......... .......... 93% 1.99M 1s\n",
      " 12400K .......... .......... .......... .......... .......... 93%  308K 1s\n",
      " 12450K .......... .......... .......... .......... .......... 94%  255K 1s\n",
      " 12500K .......... .......... .......... .......... .......... 94% 44.3M 1s\n",
      " 12550K .......... .......... .......... .......... .......... 95% 13.7M 1s\n",
      " 12600K .......... .......... .......... .......... .......... 95%  277K 1s\n",
      " 12650K .......... .......... .......... .......... .......... 95%  411K 0s\n",
      " 12700K .......... .......... .......... .......... .......... 96%  633K 0s\n",
      " 12750K .......... .......... .......... .......... .......... 96%  444K 0s\n",
      " 12800K .......... .......... .......... .......... .......... 96%  555K 0s\n",
      " 12850K .......... .......... .......... .......... .......... 97%  298K 0s\n",
      " 12900K .......... .......... .......... .......... .......... 97% 2.10M 0s\n",
      " 12950K .......... .......... .......... .......... .......... 98%  300K 0s\n",
      " 13000K .......... .......... .......... .......... .......... 98% 2.10M 0s\n",
      " 13050K .......... .......... .......... .......... .......... 98%  289K 0s\n",
      " 13100K .......... .......... .......... .......... .......... 99% 2.67M 0s\n",
      " 13150K .......... .......... .......... .......... .......... 99%  300K 0s\n",
      " 13200K .......... .......... .......... .......... .......   100% 3.82M=12s\n",
      "\n",
      "2022-12-09 14:54:28 (1.04 MB/s) - 'jena_climate_2009_2016.csv.zip.1' saved [13565642/13565642]\n",
      "\n"
     ]
    },
    {
     "name": "stderr",
     "output_type": "stream",
     "text": [
      "'unzip' 不是內部或外部命令、可執行的程式或批次檔。\n"
     ]
    }
   ],
   "source": [
    "!wget https://s3.amazonaws.com/keras-datasets/jena_climate_2009_2016.csv.zip\n",
    "!unzip jena_climate_2009_2016.csv.zip"
   ]
  },
  {
   "cell_type": "markdown",
   "metadata": {
    "colab_type": "text"
   },
   "source": [
    "**Inspecting the data of the Jena weather dataset**"
   ]
  },
  {
   "cell_type": "code",
   "execution_count": 6,
   "metadata": {
    "colab_type": "code"
   },
   "outputs": [
    {
     "name": "stdout",
     "output_type": "stream",
     "text": [
      "['\"Date Time\"', '\"p (mbar)\"', '\"T (degC)\"', '\"Tpot (K)\"', '\"Tdew (degC)\"', '\"rh (%)\"', '\"VPmax (mbar)\"', '\"VPact (mbar)\"', '\"VPdef (mbar)\"', '\"sh (g/kg)\"', '\"H2OC (mmol/mol)\"', '\"rho (g/m**3)\"', '\"wv (m/s)\"', '\"max. wv (m/s)\"', '\"wd (deg)\"']\n",
      "420451\n"
     ]
    }
   ],
   "source": [
    "import os\n",
    "fname = os.path.join(\"jena_climate_2009_2016.csv\")\n",
    "\n",
    "with open(fname) as f:\n",
    "    data = f.read()\n",
    "\n",
    "lines = data.split(\"\\n\")\n",
    "header = lines[0].split(\",\")\n",
    "lines = lines[1:]\n",
    "print(header)\n",
    "print(len(lines))"
   ]
  },
  {
   "cell_type": "markdown",
   "metadata": {
    "colab_type": "text"
   },
   "source": [
    "**Parsing the data**"
   ]
  },
  {
   "cell_type": "code",
   "execution_count": 7,
   "metadata": {
    "colab_type": "code"
   },
   "outputs": [],
   "source": [
    "import numpy as np\n",
    "temperature = np.zeros((len(lines),))\n",
    "raw_data = np.zeros((len(lines), len(header) - 1))\n",
    "for i, line in enumerate(lines):\n",
    "    values = [float(x) for x in line.split(\",\")[1:]]\n",
    "    temperature[i] = values[1]\n",
    "    raw_data[i, :] = values[:]"
   ]
  },
  {
   "cell_type": "markdown",
   "metadata": {
    "colab_type": "text"
   },
   "source": [
    "**Plotting the temperature timeseries**"
   ]
  },
  {
   "cell_type": "code",
   "execution_count": 8,
   "metadata": {
    "colab_type": "code"
   },
   "outputs": [
    {
     "data": {
      "text/plain": [
       "[<matplotlib.lines.Line2D at 0x239cba9c748>]"
      ]
     },
     "execution_count": 8,
     "metadata": {},
     "output_type": "execute_result"
    },
    {
     "data": {
      "image/png": "[encoded data removed]",
      "text/plain": [
       "<Figure size 432x288 with 1 Axes>"
      ]
     },
     "metadata": {
      "needs_background": "light"
     },
     "output_type": "display_data"
    }
   ],
   "source": [
    "from matplotlib import pyplot as plt\n",
    "plt.plot(range(len(temperature)), temperature)"
   ]
  },
  {
   "cell_type": "markdown",
   "metadata": {
    "colab_type": "text"
   },
   "source": [
    "**Plotting the first 10 days of the temperature timeseries**"
   ]
  },
  {
   "cell_type": "code",
   "execution_count": 9,
   "metadata": {
    "colab_type": "code"
   },
   "outputs": [
    {
     "data": {
      "text/plain": [
       "[<matplotlib.lines.Line2D at 0x239cbd4a108>]"
      ]
     },
     "execution_count": 9,
     "metadata": {},
     "output_type": "execute_result"
    },
    {
     "data": {
      "image/png": "[encoded data removed]",
      "text/plain": [
       "<Figure size 432x288 with 1 Axes>"
      ]
     },
     "metadata": {
      "needs_background": "light"
     },
     "output_type": "display_data"
    }
   ],
   "source": [
    "plt.plot(range(1440), temperature[:1440])"
   ]
  },
  {
   "cell_type": "markdown",
   "metadata": {
    "colab_type": "text"
   },
   "source": [
    "**Computing the number of samples we'll use for each data split**"
   ]
  },
  {
   "cell_type": "code",
   "execution_count": 10,
   "metadata": {
    "colab_type": "code"
   },
   "outputs": [
    {
     "name": "stdout",
     "output_type": "stream",
     "text": [
      "num_train_samples: 210225\n",
      "num_val_samples: 105112\n",
      "num_test_samples: 105114\n"
     ]
    }
   ],
   "source": [
    "num_train_samples = int(0.5 * len(raw_data))\n",
    "num_val_samples = int(0.25 * len(raw_data))\n",
    "num_test_samples = len(raw_data) - num_train_samples - num_val_samples\n",
    "print(\"num_train_samples:\", num_train_samples)\n",
    "print(\"num_val_samples:\", num_val_samples)\n",
    "print(\"num_test_samples:\", num_test_samples)"
   ]
  },
  {
   "cell_type": "markdown",
   "metadata": {
    "colab_type": "text"
   },
   "source": [
    "### Preparing the data"
   ]
  },
  {
   "cell_type": "markdown",
   "metadata": {
    "colab_type": "text"
   },
   "source": [
    "**Normalizing the data**"
   ]
  },
  {
   "cell_type": "code",
   "execution_count": 11,
   "metadata": {
    "colab_type": "code"
   },
   "outputs": [],
   "source": [
    "mean = raw_data[:num_train_samples].mean(axis=0)\n",
    "raw_data -= mean\n",
    "std = raw_data[:num_train_samples].std(axis=0)\n",
    "raw_data /= std"
   ]
  },
  {
   "cell_type": "code",
   "execution_count": 12,
   "metadata": {
    "colab_type": "code"
   },
   "outputs": [
    {
     "name": "stdout",
     "output_type": "stream",
     "text": [
      "[0, 1, 2] 3\n",
      "[1, 2, 3] 4\n",
      "[2, 3, 4] 5\n",
      "[3, 4, 5] 6\n",
      "[4, 5, 6] 7\n"
     ]
    }
   ],
   "source": [
    "import numpy as np\n",
    "from tensorflow import keras\n",
    "int_sequence = np.arange(10)\n",
    "dummy_dataset = keras.utils.timeseries_dataset_from_array(\n",
    "    data=int_sequence[:-3],\n",
    "    targets=int_sequence[3:],\n",
    "    sequence_length=3,\n",
    "    batch_size=2,\n",
    ")\n",
    "\n",
    "for inputs, targets in dummy_dataset:\n",
    "    for i in range(inputs.shape[0]):\n",
    "        print([int(x) for x in inputs[i]], int(targets[i]))"
   ]
  },
  {
   "cell_type": "markdown",
   "metadata": {
    "colab_type": "text"
   },
   "source": [
    "**Instantiating datasets for training, validation, and testing**"
   ]
  },
  {
   "cell_type": "code",
   "execution_count": 13,
   "metadata": {
    "colab_type": "code"
   },
   "outputs": [],
   "source": [
    "sampling_rate = 6\n",
    "sequence_length = 120\n",
    "delay = sampling_rate * (sequence_length + 24 - 1)\n",
    "batch_size = 256\n",
    "\n",
    "train_dataset = keras.utils.timeseries_dataset_from_array(\n",
    "    raw_data[:-delay],\n",
    "    targets=temperature[delay:],\n",
    "    sampling_rate=sampling_rate,\n",
    "    sequence_length=sequence_length,\n",
    "    shuffle=True,\n",
    "    batch_size=batch_size,\n",
    "    start_index=0,\n",
    "    end_index=num_train_samples)\n",
    "\n",
    "val_dataset = keras.utils.timeseries_dataset_from_array(\n",
    "    raw_data[:-delay],\n",
    "    targets=temperature[delay:],\n",
    "    sampling_rate=sampling_rate,\n",
    "    sequence_length=sequence_length,\n",
    "    shuffle=True,\n",
    "    batch_size=batch_size,\n",
    "    start_index=num_train_samples,\n",
    "    end_index=num_train_samples + num_val_samples)\n",
    "\n",
    "test_dataset = keras.utils.timeseries_dataset_from_array(\n",
    "    raw_data[:-delay],\n",
    "    targets=temperature[delay:],\n",
    "    sampling_rate=sampling_rate,\n",
    "    sequence_length=sequence_length,\n",
    "    shuffle=True,\n",
    "    batch_size=batch_size,\n",
    "    start_index=num_train_samples + num_val_samples)"
   ]
  },
  {
   "cell_type": "markdown",
   "metadata": {
    "colab_type": "text"
   },
   "source": [
    "**Inspecting the output of one of our datasets**"
   ]
  },
  {
   "cell_type": "code",
   "execution_count": 14,
   "metadata": {
    "colab_type": "code"
   },
   "outputs": [
    {
     "name": "stdout",
     "output_type": "stream",
     "text": [
      "samples shape: (256, 120, 14)\n",
      "targets shape: (256,)\n"
     ]
    }
   ],
   "source": [
    "for samples, targets in train_dataset:\n",
    "    print(\"samples shape:\", samples.shape)\n",
    "    print(\"targets shape:\", targets.shape)\n",
    "    break"
   ]
  },
  {
   "cell_type": "markdown",
   "metadata": {
    "colab_type": "text"
   },
   "source": [
    "### A common-sense, non-machine-learning baseline"
   ]
  },
  {
   "cell_type": "markdown",
   "metadata": {
    "colab_type": "text"
   },
   "source": [
    "**Computing the common-sense baseline MAE**"
   ]
  },
  {
   "cell_type": "code",
   "execution_count": 15,
   "metadata": {
    "colab_type": "code"
   },
   "outputs": [
    {
     "name": "stdout",
     "output_type": "stream",
     "text": [
      "Validation MAE: 2.44\n",
      "Test MAE: 2.62\n"
     ]
    }
   ],
   "source": [
    "def evaluate_naive_method(dataset):\n",
    "    total_abs_err = 0.\n",
    "    samples_seen = 0\n",
    "    for samples, targets in dataset:\n",
    "        preds = samples[:, -1, 1] * std[1] + mean[1]\n",
    "        total_abs_err += np.sum(np.abs(preds - targets))\n",
    "        samples_seen += samples.shape[0]\n",
    "    return total_abs_err / samples_seen\n",
    "\n",
    "print(f\"Validation MAE: {evaluate_naive_method(val_dataset):.2f}\")\n",
    "print(f\"Test MAE: {evaluate_naive_method(test_dataset):.2f}\")"
   ]
  },
  {
   "cell_type": "markdown",
   "metadata": {
    "colab_type": "text"
   },
   "source": [
    "### Let's try a basic machine-learning model"
   ]
  },
  {
   "cell_type": "markdown",
   "metadata": {
    "colab_type": "text"
   },
   "source": [
    "**Training and evaluating a densely connected model**"
   ]
  },
  {
   "cell_type": "code",
   "execution_count": 16,
   "metadata": {
    "colab_type": "code"
   },
   "outputs": [
    {
     "name": "stdout",
     "output_type": "stream",
     "text": [
      "Epoch 1/10\n",
      "819/819 [==============================] - 9s 9ms/step - loss: 13.1383 - mae: 2.7911 - val_loss: 11.0932 - val_mae: 2.6279\n",
      "Epoch 2/10\n",
      "819/819 [==============================] - 7s 9ms/step - loss: 8.7863 - mae: 2.3265 - val_loss: 11.5993 - val_mae: 2.7045\n",
      "Epoch 3/10\n",
      "819/819 [==============================] - 7s 9ms/step - loss: 8.0529 - mae: 2.2296 - val_loss: 12.9234 - val_mae: 2.8465\n",
      "Epoch 4/10\n",
      "819/819 [==============================] - 7s 9ms/step - loss: 7.6025 - mae: 2.1673 - val_loss: 13.4523 - val_mae: 2.9220\n",
      "Epoch 5/10\n",
      "819/819 [==============================] - 7s 9ms/step - loss: 7.3135 - mae: 2.1263 - val_loss: 11.6978 - val_mae: 2.7017\n",
      "Epoch 6/10\n",
      "819/819 [==============================] - 7s 9ms/step - loss: 7.0888 - mae: 2.0950 - val_loss: 12.1153 - val_mae: 2.7638\n",
      "Epoch 7/10\n",
      "819/819 [==============================] - 7s 9ms/step - loss: 6.8782 - mae: 2.0632 - val_loss: 10.3748 - val_mae: 2.5385\n",
      "Epoch 8/10\n",
      "819/819 [==============================] - 8s 9ms/step - loss: 6.7401 - mae: 2.0445 - val_loss: 11.0851 - val_mae: 2.6360\n",
      "Epoch 9/10\n",
      "819/819 [==============================] - 8s 9ms/step - loss: 6.6114 - mae: 2.0250 - val_loss: 10.5625 - val_mae: 2.5684\n",
      "Epoch 10/10\n",
      "819/819 [==============================] - 7s 9ms/step - loss: 6.5142 - mae: 2.0097 - val_loss: 11.0273 - val_mae: 2.6104\n",
      "405/405 [==============================] - 2s 6ms/step - loss: 11.7409 - mae: 2.6901\n",
      "Test MAE: 2.69\n"
     ]
    }
   ],
   "source": [
    "from tensorflow import keras\n",
    "from tensorflow.keras import layers\n",
    "\n",
    "inputs = keras.Input(shape=(sequence_length, raw_data.shape[-1]))\n",
    "x = layers.Flatten()(inputs)\n",
    "x = layers.Dense(16, activation=\"relu\")(x)\n",
    "outputs = layers.Dense(1)(x)\n",
    "model = keras.Model(inputs, outputs)\n",
    "\n",
    "callbacks = [\n",
    "    keras.callbacks.ModelCheckpoint(\"jena_dense.keras\",\n",
    "                                    save_best_only=True)\n",
    "]\n",
    "model.compile(optimizer=\"rmsprop\", loss=\"mse\", metrics=[\"mae\"])\n",
    "history = model.fit(train_dataset,\n",
    "                    epochs=10,\n",
    "                    validation_data=val_dataset,\n",
    "                    callbacks=callbacks)\n",
    "\n",
    "model = keras.models.load_model(\"jena_dense.keras\")\n",
    "print(f\"Test MAE: {model.evaluate(test_dataset)[1]:.2f}\")"
   ]
  },
  {
   "cell_type": "markdown",
   "metadata": {
    "colab_type": "text"
   },
   "source": [
    "**Plotting results**"
   ]
  },
  {
   "cell_type": "code",
   "execution_count": 17,
   "metadata": {
    "colab_type": "code"
   },
   "outputs": [
    {
     "data": {
      "image/png": "[encoded data removed]",
      "text/plain": [
       "<Figure size 432x288 with 1 Axes>"
      ]
     },
     "metadata": {
      "needs_background": "light"
     },
     "output_type": "display_data"
    }
   ],
   "source": [
    "import matplotlib.pyplot as plt\n",
    "loss = history.history[\"mae\"]\n",
    "val_loss = history.history[\"val_mae\"]\n",
    "epochs = range(1, len(loss) + 1)\n",
    "plt.figure()\n",
    "plt.plot(epochs, loss, \"bo\", label=\"Training MAE\")\n",
    "plt.plot(epochs, val_loss, \"b\", label=\"Validation MAE\")\n",
    "plt.title(\"Training and validation MAE\")\n",
    "plt.legend()\n",
    "plt.show()"
   ]
  },
  {
   "cell_type": "markdown",
   "metadata": {
    "colab_type": "text"
   },
   "source": [
    "### Let's try a 1D convolutional model"
   ]
  },
  {
   "cell_type": "code",
   "execution_count": 18,
   "metadata": {
    "colab_type": "code"
   },
   "outputs": [
    {
     "name": "stdout",
     "output_type": "stream",
     "text": [
      "Epoch 1/10\n",
      "819/819 [==============================] - 21s 25ms/step - loss: 21.0503 - mae: 3.6094 - val_loss: 15.2092 - val_mae: 3.0879\n",
      "Epoch 2/10\n",
      "819/819 [==============================] - 20s 25ms/step - loss: 15.2363 - mae: 3.0872 - val_loss: 14.9726 - val_mae: 3.0790\n",
      "Epoch 3/10\n",
      "819/819 [==============================] - 19s 23ms/step - loss: 13.7833 - mae: 2.9315 - val_loss: 15.6436 - val_mae: 3.1275\n",
      "Epoch 4/10\n",
      "819/819 [==============================] - 21s 25ms/step - loss: 12.9218 - mae: 2.8385 - val_loss: 19.0194 - val_mae: 3.4973\n",
      "Epoch 5/10\n",
      "819/819 [==============================] - 20s 24ms/step - loss: 12.3205 - mae: 2.7719 - val_loss: 16.3441 - val_mae: 3.1898\n",
      "Epoch 6/10\n",
      "819/819 [==============================] - 19s 23ms/step - loss: 11.8452 - mae: 2.7179 - val_loss: 15.1993 - val_mae: 3.0737\n",
      "Epoch 7/10\n",
      "819/819 [==============================] - 19s 24ms/step - loss: 11.4511 - mae: 2.6742 - val_loss: 16.8996 - val_mae: 3.2673\n",
      "Epoch 8/10\n",
      "819/819 [==============================] - 19s 23ms/step - loss: 11.0845 - mae: 2.6319 - val_loss: 15.3517 - val_mae: 3.0894\n",
      "Epoch 9/10\n",
      "819/819 [==============================] - 19s 24ms/step - loss: 10.7886 - mae: 2.5974 - val_loss: 14.8945 - val_mae: 3.0464\n",
      "Epoch 10/10\n",
      "819/819 [==============================] - 19s 23ms/step - loss: 10.5171 - mae: 2.5650 - val_loss: 18.5622 - val_mae: 3.3891\n",
      "405/405 [==============================] - 3s 7ms/step - loss: 15.7386 - mae: 3.1339\n",
      "Test MAE: 3.13\n"
     ]
    }
   ],
   "source": [
    "inputs = keras.Input(shape=(sequence_length, raw_data.shape[-1]))\n",
    "x = layers.Conv1D(8, 24, activation=\"relu\")(inputs)\n",
    "x = layers.MaxPooling1D(2)(x)\n",
    "x = layers.Conv1D(8, 12, activation=\"relu\")(x)\n",
    "x = layers.MaxPooling1D(2)(x)\n",
    "x = layers.Conv1D(8, 6, activation=\"relu\")(x)\n",
    "x = layers.GlobalAveragePooling1D()(x)\n",
    "outputs = layers.Dense(1)(x)\n",
    "model = keras.Model(inputs, outputs)\n",
    "\n",
    "callbacks = [\n",
    "    keras.callbacks.ModelCheckpoint(\"jena_conv.keras\",\n",
    "                                    save_best_only=True)\n",
    "]\n",
    "model.compile(optimizer=\"rmsprop\", loss=\"mse\", metrics=[\"mae\"])\n",
    "history = model.fit(train_dataset,\n",
    "                    epochs=10,\n",
    "                    validation_data=val_dataset,\n",
    "                    callbacks=callbacks)\n",
    "\n",
    "model = keras.models.load_model(\"jena_conv.keras\")\n",
    "print(f\"Test MAE: {model.evaluate(test_dataset)[1]:.2f}\")"
   ]
  },
  {
   "cell_type": "markdown",
   "metadata": {
    "colab_type": "text"
   },
   "source": [
    "### A first recurrent baseline"
   ]
  },
  {
   "cell_type": "markdown",
   "metadata": {
    "colab_type": "text"
   },
   "source": [
    "**A simple LSTM-based model**"
   ]
  },
  {
   "cell_type": "code",
   "execution_count": 19,
   "metadata": {
    "colab_type": "code"
   },
   "outputs": [
    {
     "name": "stdout",
     "output_type": "stream",
     "text": [
      "Epoch 1/10\n",
      "819/819 [==============================] - 33s 37ms/step - loss: 44.4447 - mae: 4.8714 - val_loss: 13.1387 - val_mae: 2.7384\n",
      "Epoch 2/10\n",
      "819/819 [==============================] - 30s 37ms/step - loss: 11.1040 - mae: 2.5930 - val_loss: 9.5429 - val_mae: 2.3982\n",
      "Epoch 3/10\n",
      "819/819 [==============================] - 30s 37ms/step - loss: 9.8629 - mae: 2.4505 - val_loss: 9.5476 - val_mae: 2.4081\n",
      "Epoch 4/10\n",
      "819/819 [==============================] - 32s 39ms/step - loss: 9.4318 - mae: 2.3902 - val_loss: 9.5233 - val_mae: 2.3980\n",
      "Epoch 5/10\n",
      "819/819 [==============================] - 31s 37ms/step - loss: 9.0225 - mae: 2.3388 - val_loss: 9.5029 - val_mae: 2.3989\n",
      "Epoch 6/10\n",
      "819/819 [==============================] - 31s 38ms/step - loss: 8.7393 - mae: 2.3015 - val_loss: 9.5181 - val_mae: 2.4002\n",
      "Epoch 7/10\n",
      "819/819 [==============================] - 33s 40ms/step - loss: 8.5078 - mae: 2.2715 - val_loss: 9.8690 - val_mae: 2.4530\n",
      "Epoch 8/10\n",
      "819/819 [==============================] - 33s 40ms/step - loss: 8.3596 - mae: 2.2523 - val_loss: 9.7856 - val_mae: 2.4491\n",
      "Epoch 9/10\n",
      "819/819 [==============================] - 32s 39ms/step - loss: 8.1853 - mae: 2.2318 - val_loss: 10.1921 - val_mae: 2.4843\n",
      "Epoch 10/10\n",
      "819/819 [==============================] - 32s 40ms/step - loss: 8.0603 - mae: 2.2160 - val_loss: 10.4585 - val_mae: 2.5141\n",
      "405/405 [==============================] - 8s 18ms/step - loss: 10.6232 - mae: 2.5695\n",
      "Test MAE: 2.57\n"
     ]
    }
   ],
   "source": [
    "inputs = keras.Input(shape=(sequence_length, raw_data.shape[-1]))\n",
    "x = layers.LSTM(16)(inputs)\n",
    "outputs = layers.Dense(1)(x)\n",
    "model = keras.Model(inputs, outputs)\n",
    "\n",
    "callbacks = [\n",
    "    keras.callbacks.ModelCheckpoint(\"jena_lstm.keras\",\n",
    "                                    save_best_only=True)\n",
    "]\n",
    "model.compile(optimizer=\"rmsprop\", loss=\"mse\", metrics=[\"mae\"])\n",
    "history = model.fit(train_dataset,\n",
    "                    epochs=10,\n",
    "                    validation_data=val_dataset,\n",
    "                    callbacks=callbacks)\n",
    "\n",
    "model = keras.models.load_model(\"jena_lstm.keras\")\n",
    "print(f\"Test MAE: {model.evaluate(test_dataset)[1]:.2f}\")"
   ]
  },
  {
   "cell_type": "markdown",
   "metadata": {
    "colab_type": "text"
   },
   "source": [
    "## Understanding recurrent neural networks"
   ]
  },
  {
   "cell_type": "markdown",
   "metadata": {
    "colab_type": "text"
   },
   "source": [
    "**NumPy implementation of a simple RNN**"
   ]
  },
  {
   "cell_type": "code",
   "execution_count": 20,
   "metadata": {
    "colab_type": "code"
   },
   "outputs": [],
   "source": [
    "import numpy as np\n",
    "timesteps = 100\n",
    "input_features = 32\n",
    "output_features = 64\n",
    "inputs = np.random.random((timesteps, input_features))\n",
    "state_t = np.zeros((output_features,))\n",
    "W = np.random.random((output_features, input_features))\n",
    "U = np.random.random((output_features, output_features))\n",
    "b = np.random.random((output_features,))\n",
    "successive_outputs = []\n",
    "for input_t in inputs:\n",
    "    output_t = np.tanh(np.dot(W, input_t) + np.dot(U, state_t) + b)\n",
    "    successive_outputs.append(output_t)\n",
    "    state_t = output_t\n",
    "final_output_sequence = np.stack(successive_outputs, axis=0)"
   ]
  },
  {
   "cell_type": "markdown",
   "metadata": {
    "colab_type": "text"
   },
   "source": [
    "### A recurrent layer in Keras"
   ]
  },
  {
   "cell_type": "markdown",
   "metadata": {
    "colab_type": "text"
   },
   "source": [
    "**An RNN layer that can process sequences of any length**"
   ]
  },
  {
   "cell_type": "code",
   "execution_count": 21,
   "metadata": {
    "colab_type": "code"
   },
   "outputs": [],
   "source": [
    "num_features = 14\n",
    "inputs = keras.Input(shape=(None, num_features))\n",
    "outputs = layers.SimpleRNN(16)(inputs)"
   ]
  },
  {
   "cell_type": "markdown",
   "metadata": {
    "colab_type": "text"
   },
   "source": [
    "**An RNN layer that returns only its last output step**"
   ]
  },
  {
   "cell_type": "code",
   "execution_count": 22,
   "metadata": {
    "colab_type": "code"
   },
   "outputs": [
    {
     "name": "stdout",
     "output_type": "stream",
     "text": [
      "(None, 16)\n"
     ]
    }
   ],
   "source": [
    "num_features = 14\n",
    "steps = 120\n",
    "inputs = keras.Input(shape=(steps, num_features))\n",
    "outputs = layers.SimpleRNN(16, return_sequences=False)(inputs)\n",
    "print(outputs.shape)"
   ]
  },
  {
   "cell_type": "markdown",
   "metadata": {
    "colab_type": "text"
   },
   "source": [
    "**An RNN layer that returns its full output sequence**"
   ]
  },
  {
   "cell_type": "code",
   "execution_count": 23,
   "metadata": {
    "colab_type": "code"
   },
   "outputs": [
    {
     "name": "stdout",
     "output_type": "stream",
     "text": [
      "(None, 120, 16)\n"
     ]
    }
   ],
   "source": [
    "num_features = 14\n",
    "steps = 120\n",
    "inputs = keras.Input(shape=(steps, num_features))\n",
    "outputs = layers.SimpleRNN(16, return_sequences=True)(inputs)\n",
    "print(outputs.shape)"
   ]
  },
  {
   "cell_type": "markdown",
   "metadata": {
    "colab_type": "text"
   },
   "source": [
    "**Stacking RNN layers**"
   ]
  },
  {
   "cell_type": "code",
   "execution_count": 24,
   "metadata": {
    "colab_type": "code"
   },
   "outputs": [],
   "source": [
    "inputs = keras.Input(shape=(steps, num_features))\n",
    "x = layers.SimpleRNN(16, return_sequences=True)(inputs)\n",
    "x = layers.SimpleRNN(16, return_sequences=True)(x)\n",
    "outputs = layers.SimpleRNN(16)(x)"
   ]
  },
  {
   "cell_type": "markdown",
   "metadata": {
    "colab_type": "text"
   },
   "source": [
    "## Advanced use of recurrent neural networks"
   ]
  },
  {
   "cell_type": "markdown",
   "metadata": {
    "colab_type": "text"
   },
   "source": [
    "### Using recurrent dropout to fight overfitting"
   ]
  },
  {
   "cell_type": "markdown",
   "metadata": {
    "colab_type": "text"
   },
   "source": [
    "**Training and evaluating a dropout-regularized LSTM**"
   ]
  },
  {
   "cell_type": "code",
   "execution_count": 25,
   "metadata": {
    "colab_type": "code"
   },
   "outputs": [
    {
     "name": "stdout",
     "output_type": "stream",
     "text": [
      "Epoch 1/50\n",
      "819/819 [==============================] - 80s 94ms/step - loss: 30.0134 - mae: 4.0286 - val_loss: 9.7970 - val_mae: 2.4257\n",
      "Epoch 2/50\n",
      "819/819 [==============================] - 79s 96ms/step - loss: 14.8198 - mae: 2.9888 - val_loss: 9.7428 - val_mae: 2.4248\n",
      "Epoch 3/50\n",
      "819/819 [==============================] - 80s 98ms/step - loss: 13.8017 - mae: 2.8820 - val_loss: 9.0706 - val_mae: 2.3281\n",
      "Epoch 4/50\n",
      "819/819 [==============================] - 82s 100ms/step - loss: 13.1881 - mae: 2.8143 - val_loss: 9.1377 - val_mae: 2.3403\n",
      "Epoch 5/50\n",
      "819/819 [==============================] - 82s 100ms/step - loss: 12.7761 - mae: 2.7717 - val_loss: 9.3855 - val_mae: 2.3891\n",
      "Epoch 6/50\n",
      "819/819 [==============================] - 81s 99ms/step - loss: 12.4381 - mae: 2.7348 - val_loss: 9.1248 - val_mae: 2.3539\n",
      "Epoch 7/50\n",
      "819/819 [==============================] - 81s 99ms/step - loss: 12.0771 - mae: 2.6923 - val_loss: 9.3266 - val_mae: 2.3774\n",
      "Epoch 8/50\n",
      "819/819 [==============================] - 81s 99ms/step - loss: 11.7999 - mae: 2.6621 - val_loss: 9.2295 - val_mae: 2.3547\n",
      "Epoch 9/50\n",
      "819/819 [==============================] - 82s 100ms/step - loss: 11.6233 - mae: 2.6434 - val_loss: 8.9939 - val_mae: 2.3318\n",
      "Epoch 10/50\n",
      "819/819 [==============================] - 83s 101ms/step - loss: 11.4228 - mae: 2.6202 - val_loss: 9.5176 - val_mae: 2.3925\n",
      "Epoch 11/50\n",
      "819/819 [==============================] - 83s 101ms/step - loss: 11.2167 - mae: 2.5954 - val_loss: 9.7948 - val_mae: 2.4309\n",
      "Epoch 12/50\n",
      "819/819 [==============================] - 83s 102ms/step - loss: 11.1235 - mae: 2.5856 - val_loss: 9.7361 - val_mae: 2.4189\n",
      "Epoch 13/50\n",
      "819/819 [==============================] - 84s 102ms/step - loss: 10.9137 - mae: 2.5630 - val_loss: 9.6850 - val_mae: 2.4111\n",
      "Epoch 14/50\n",
      "819/819 [==============================] - 84s 102ms/step - loss: 10.7106 - mae: 2.5437 - val_loss: 9.4731 - val_mae: 2.3895\n",
      "Epoch 15/50\n",
      "819/819 [==============================] - 85s 103ms/step - loss: 10.5775 - mae: 2.5246 - val_loss: 9.6596 - val_mae: 2.4102\n",
      "Epoch 16/50\n",
      "819/819 [==============================] - 83s 102ms/step - loss: 10.4819 - mae: 2.5111 - val_loss: 9.9430 - val_mae: 2.4421\n",
      "Epoch 17/50\n",
      "819/819 [==============================] - 83s 101ms/step - loss: 10.3523 - mae: 2.4947 - val_loss: 10.2421 - val_mae: 2.4762\n",
      "Epoch 18/50\n",
      "819/819 [==============================] - 84s 102ms/step - loss: 10.2886 - mae: 2.4874 - val_loss: 10.1550 - val_mae: 2.4814\n",
      "Epoch 19/50\n",
      "819/819 [==============================] - 83s 101ms/step - loss: 10.2057 - mae: 2.4790 - val_loss: 9.9909 - val_mae: 2.4492\n",
      "Epoch 20/50\n",
      "819/819 [==============================] - 83s 102ms/step - loss: 10.1255 - mae: 2.4668 - val_loss: 10.4527 - val_mae: 2.5077\n",
      "Epoch 21/50\n",
      "819/819 [==============================] - 84s 102ms/step - loss: 10.0121 - mae: 2.4556 - val_loss: 10.4825 - val_mae: 2.5151\n",
      "Epoch 22/50\n",
      "819/819 [==============================] - 85s 104ms/step - loss: 9.9127 - mae: 2.4429 - val_loss: 10.4266 - val_mae: 2.5071\n",
      "Epoch 23/50\n",
      "819/819 [==============================] - 85s 103ms/step - loss: 9.8535 - mae: 2.4329 - val_loss: 9.9638 - val_mae: 2.4475\n",
      "Epoch 24/50\n",
      "819/819 [==============================] - 86s 104ms/step - loss: 9.7575 - mae: 2.4225 - val_loss: 10.4367 - val_mae: 2.5045\n",
      "Epoch 25/50\n",
      "819/819 [==============================] - 84s 103ms/step - loss: 9.7699 - mae: 2.4223 - val_loss: 10.6749 - val_mae: 2.5384\n",
      "Epoch 26/50\n",
      "819/819 [==============================] - 83s 101ms/step - loss: 9.6631 - mae: 2.4064 - val_loss: 10.4960 - val_mae: 2.5161\n",
      "Epoch 27/50\n",
      "819/819 [==============================] - 84s 103ms/step - loss: 9.5314 - mae: 2.3948 - val_loss: 10.4766 - val_mae: 2.5163\n",
      "Epoch 28/50\n",
      "819/819 [==============================] - 85s 103ms/step - loss: 9.4607 - mae: 2.3824 - val_loss: 10.7453 - val_mae: 2.5513\n",
      "Epoch 29/50\n",
      "819/819 [==============================] - 84s 102ms/step - loss: 9.4331 - mae: 2.3838 - val_loss: 10.7043 - val_mae: 2.5394\n",
      "Epoch 30/50\n",
      "819/819 [==============================] - 84s 102ms/step - loss: 9.3826 - mae: 2.3750 - val_loss: 10.9182 - val_mae: 2.5656\n",
      "Epoch 31/50\n",
      "819/819 [==============================] - 84s 103ms/step - loss: 9.3815 - mae: 2.3756 - val_loss: 10.6105 - val_mae: 2.5355\n",
      "Epoch 32/50\n",
      "819/819 [==============================] - 84s 103ms/step - loss: 9.2793 - mae: 2.3628 - val_loss: 10.9057 - val_mae: 2.5656\n",
      "Epoch 33/50\n",
      "819/819 [==============================] - 84s 103ms/step - loss: 9.1983 - mae: 2.3524 - val_loss: 10.7754 - val_mae: 2.5430\n",
      "Epoch 34/50\n",
      "819/819 [==============================] - 84s 103ms/step - loss: 9.1729 - mae: 2.3464 - val_loss: 10.9716 - val_mae: 2.5588\n",
      "Epoch 35/50\n",
      "819/819 [==============================] - 85s 103ms/step - loss: 9.1679 - mae: 2.3450 - val_loss: 11.0959 - val_mae: 2.5863\n",
      "Epoch 36/50\n",
      "819/819 [==============================] - 84s 102ms/step - loss: 9.1349 - mae: 2.3425 - val_loss: 10.9917 - val_mae: 2.5620\n",
      "Epoch 37/50\n",
      "819/819 [==============================] - 84s 103ms/step - loss: 9.1360 - mae: 2.3404 - val_loss: 10.9191 - val_mae: 2.5601\n",
      "Epoch 38/50\n",
      "819/819 [==============================] - 84s 103ms/step - loss: 9.0514 - mae: 2.3287 - val_loss: 10.7874 - val_mae: 2.5347\n",
      "Epoch 39/50\n",
      "819/819 [==============================] - 85s 104ms/step - loss: 9.0513 - mae: 2.3283 - val_loss: 11.2152 - val_mae: 2.5959\n",
      "Epoch 40/50\n",
      "819/819 [==============================] - 85s 104ms/step - loss: 8.9649 - mae: 2.3193 - val_loss: 10.7597 - val_mae: 2.5443\n",
      "Epoch 41/50\n",
      "819/819 [==============================] - 86s 104ms/step - loss: 9.0491 - mae: 2.3244 - val_loss: 11.1076 - val_mae: 2.5851\n",
      "Epoch 42/50\n",
      "819/819 [==============================] - 85s 104ms/step - loss: 8.9489 - mae: 2.3143 - val_loss: 11.3252 - val_mae: 2.6080\n",
      "Epoch 43/50\n",
      "819/819 [==============================] - 86s 105ms/step - loss: 8.9099 - mae: 2.3112 - val_loss: 11.3931 - val_mae: 2.6127\n",
      "Epoch 44/50\n",
      "819/819 [==============================] - 85s 104ms/step - loss: 8.8704 - mae: 2.3056 - val_loss: 11.4639 - val_mae: 2.6181\n",
      "Epoch 45/50\n",
      "819/819 [==============================] - 85s 104ms/step - loss: 8.8135 - mae: 2.2991 - val_loss: 11.0551 - val_mae: 2.5790\n",
      "Epoch 46/50\n",
      "819/819 [==============================] - 85s 104ms/step - loss: 8.7736 - mae: 2.2934 - val_loss: 11.0352 - val_mae: 2.5808\n",
      "Epoch 47/50\n",
      "819/819 [==============================] - 86s 105ms/step - loss: 8.8004 - mae: 2.2961 - val_loss: 11.1355 - val_mae: 2.5801\n",
      "Epoch 48/50\n",
      "819/819 [==============================] - 86s 105ms/step - loss: 8.7636 - mae: 2.2888 - val_loss: 11.1520 - val_mae: 2.5864\n",
      "Epoch 49/50\n",
      "819/819 [==============================] - 86s 105ms/step - loss: 8.6919 - mae: 2.2811 - val_loss: 11.3318 - val_mae: 2.6049\n",
      "Epoch 50/50\n",
      "819/819 [==============================] - 86s 105ms/step - loss: 8.6989 - mae: 2.2832 - val_loss: 11.7116 - val_mae: 2.6525\n"
     ]
    }
   ],
   "source": [
    "inputs = keras.Input(shape=(sequence_length, raw_data.shape[-1]))\n",
    "x = layers.LSTM(32, recurrent_dropout=0.25)(inputs)\n",
    "x = layers.Dropout(0.5)(x)\n",
    "outputs = layers.Dense(1)(x)\n",
    "model = keras.Model(inputs, outputs)\n",
    "\n",
    "callbacks = [\n",
    "    keras.callbacks.ModelCheckpoint(\"jena_lstm_dropout.keras\",\n",
    "                                    save_best_only=True)\n",
    "]\n",
    "model.compile(optimizer=\"rmsprop\", loss=\"mse\", metrics=[\"mae\"])\n",
    "history = model.fit(train_dataset,\n",
    "                    epochs=50,\n",
    "                    validation_data=val_dataset,\n",
    "                    callbacks=callbacks)"
   ]
  },
  {
   "cell_type": "code",
   "execution_count": 26,
   "metadata": {
    "colab_type": "code"
   },
   "outputs": [],
   "source": [
    "inputs = keras.Input(shape=(sequence_length, num_features))\n",
    "x = layers.LSTM(32, recurrent_dropout=0.2, unroll=True)(inputs)"
   ]
  },
  {
   "cell_type": "markdown",
   "metadata": {
    "colab_type": "text"
   },
   "source": [
    "### Stacking recurrent layers"
   ]
  },
  {
   "cell_type": "markdown",
   "metadata": {
    "colab_type": "text"
   },
   "source": [
    "**Training and evaluating a dropout-regularized, stacked GRU model**"
   ]
  },
  {
   "cell_type": "code",
   "execution_count": 27,
   "metadata": {
    "colab_type": "code"
   },
   "outputs": [
    {
     "name": "stdout",
     "output_type": "stream",
     "text": [
      "Epoch 1/50\n",
      "819/819 [==============================] - 171s 203ms/step - loss: 24.9209 - mae: 3.6916 - val_loss: 9.2356 - val_mae: 2.3477\n",
      "Epoch 2/50\n",
      "819/819 [==============================] - 169s 206ms/step - loss: 14.0012 - mae: 2.8982 - val_loss: 9.0346 - val_mae: 2.3286\n",
      "Epoch 3/50\n",
      "819/819 [==============================] - 194s 237ms/step - loss: 13.1678 - mae: 2.8148 - val_loss: 9.1332 - val_mae: 2.3478\n",
      "Epoch 4/50\n",
      "819/819 [==============================] - 190s 232ms/step - loss: 12.6307 - mae: 2.7566 - val_loss: 8.8007 - val_mae: 2.2982\n",
      "Epoch 5/50\n",
      "819/819 [==============================] - 202s 247ms/step - loss: 12.1246 - mae: 2.7047 - val_loss: 9.8623 - val_mae: 2.4325\n",
      "Epoch 6/50\n",
      "819/819 [==============================] - 201s 246ms/step - loss: 11.7322 - mae: 2.6599 - val_loss: 9.3067 - val_mae: 2.3644\n",
      "Epoch 7/50\n",
      "819/819 [==============================] - 205s 250ms/step - loss: 11.4495 - mae: 2.6273 - val_loss: 8.9503 - val_mae: 2.3107\n",
      "Epoch 8/50\n",
      "819/819 [==============================] - 204s 249ms/step - loss: 11.0743 - mae: 2.5828 - val_loss: 9.6882 - val_mae: 2.4222\n",
      "Epoch 9/50\n",
      "819/819 [==============================] - 205s 250ms/step - loss: 10.8363 - mae: 2.5542 - val_loss: 9.1126 - val_mae: 2.3286\n",
      "Epoch 10/50\n",
      "819/819 [==============================] - 204s 249ms/step - loss: 10.5269 - mae: 2.5196 - val_loss: 9.1247 - val_mae: 2.3316\n",
      "Epoch 11/50\n",
      "819/819 [==============================] - 205s 250ms/step - loss: 10.2423 - mae: 2.4864 - val_loss: 9.5603 - val_mae: 2.3908\n",
      "Epoch 12/50\n",
      "819/819 [==============================] - 203s 248ms/step - loss: 10.0485 - mae: 2.4622 - val_loss: 9.3554 - val_mae: 2.3552\n",
      "Epoch 13/50\n",
      "819/819 [==============================] - 205s 250ms/step - loss: 9.7774 - mae: 2.4307 - val_loss: 9.3524 - val_mae: 2.3615\n",
      "Epoch 14/50\n",
      "819/819 [==============================] - 205s 250ms/step - loss: 9.6197 - mae: 2.4120 - val_loss: 9.7944 - val_mae: 2.4086\n",
      "Epoch 15/50\n",
      "819/819 [==============================] - 205s 251ms/step - loss: 9.3916 - mae: 2.3837 - val_loss: 9.9762 - val_mae: 2.4371\n",
      "Epoch 16/50\n",
      "819/819 [==============================] - 203s 247ms/step - loss: 9.2049 - mae: 2.3621 - val_loss: 10.1402 - val_mae: 2.4463\n",
      "Epoch 17/50\n",
      "819/819 [==============================] - 203s 247ms/step - loss: 9.0232 - mae: 2.3383 - val_loss: 10.1257 - val_mae: 2.4571\n",
      "Epoch 18/50\n",
      "819/819 [==============================] - 201s 246ms/step - loss: 8.9011 - mae: 2.3211 - val_loss: 10.1751 - val_mae: 2.4609\n",
      "Epoch 19/50\n",
      "819/819 [==============================] - 206s 251ms/step - loss: 8.7712 - mae: 2.3045 - val_loss: 10.7969 - val_mae: 2.5379\n",
      "Epoch 20/50\n",
      "819/819 [==============================] - 206s 251ms/step - loss: 8.6430 - mae: 2.2855 - val_loss: 11.2080 - val_mae: 2.5698\n",
      "Epoch 21/50\n",
      "819/819 [==============================] - 206s 252ms/step - loss: 8.5358 - mae: 2.2724 - val_loss: 11.2963 - val_mae: 2.5738\n",
      "Epoch 22/50\n",
      "819/819 [==============================] - 207s 252ms/step - loss: 8.4514 - mae: 2.2624 - val_loss: 11.8074 - val_mae: 2.6466\n",
      "Epoch 23/50\n",
      "819/819 [==============================] - 207s 253ms/step - loss: 8.3501 - mae: 2.2483 - val_loss: 11.5591 - val_mae: 2.6165\n",
      "Epoch 24/50\n",
      "819/819 [==============================] - 207s 253ms/step - loss: 8.2737 - mae: 2.2338 - val_loss: 11.3695 - val_mae: 2.6067\n",
      "Epoch 25/50\n",
      "819/819 [==============================] - 208s 254ms/step - loss: 8.1681 - mae: 2.2203 - val_loss: 11.4774 - val_mae: 2.5996\n",
      "Epoch 26/50\n",
      "819/819 [==============================] - 209s 255ms/step - loss: 8.1067 - mae: 2.2118 - val_loss: 12.1717 - val_mae: 2.6621\n",
      "Epoch 27/50\n",
      "819/819 [==============================] - 209s 255ms/step - loss: 8.0050 - mae: 2.1964 - val_loss: 12.1583 - val_mae: 2.6645\n",
      "Epoch 28/50\n",
      "819/819 [==============================] - 210s 256ms/step - loss: 7.9250 - mae: 2.1857 - val_loss: 11.6898 - val_mae: 2.6342\n",
      "Epoch 29/50\n",
      "819/819 [==============================] - 209s 255ms/step - loss: 7.8518 - mae: 2.1760 - val_loss: 12.0871 - val_mae: 2.6926\n",
      "Epoch 30/50\n",
      "819/819 [==============================] - 210s 256ms/step - loss: 7.7896 - mae: 2.1679 - val_loss: 12.3756 - val_mae: 2.6991\n",
      "Epoch 31/50\n",
      "819/819 [==============================] - 211s 257ms/step - loss: 7.7251 - mae: 2.1608 - val_loss: 11.8575 - val_mae: 2.6452\n",
      "Epoch 32/50\n",
      "819/819 [==============================] - 211s 257ms/step - loss: 7.7010 - mae: 2.1532 - val_loss: 12.9721 - val_mae: 2.7691\n",
      "Epoch 33/50\n",
      "819/819 [==============================] - 211s 258ms/step - loss: 7.6227 - mae: 2.1443 - val_loss: 13.0713 - val_mae: 2.7789\n",
      "Epoch 34/50\n",
      "819/819 [==============================] - 213s 260ms/step - loss: 7.6224 - mae: 2.1418 - val_loss: 12.3590 - val_mae: 2.7124\n",
      "Epoch 35/50\n",
      "819/819 [==============================] - 212s 259ms/step - loss: 7.5282 - mae: 2.1302 - val_loss: 12.4910 - val_mae: 2.7169\n",
      "Epoch 36/50\n",
      "819/819 [==============================] - 214s 261ms/step - loss: 7.4759 - mae: 2.1223 - val_loss: 12.7394 - val_mae: 2.7501\n",
      "Epoch 37/50\n",
      "819/819 [==============================] - 213s 260ms/step - loss: 7.4750 - mae: 2.1213 - val_loss: 13.2818 - val_mae: 2.8001\n",
      "Epoch 38/50\n",
      "819/819 [==============================] - 212s 259ms/step - loss: 7.4400 - mae: 2.1170 - val_loss: 13.5864 - val_mae: 2.8384\n",
      "Epoch 39/50\n",
      "819/819 [==============================] - 212s 259ms/step - loss: 7.4347 - mae: 2.1112 - val_loss: 12.5080 - val_mae: 2.7257\n",
      "Epoch 40/50\n",
      "819/819 [==============================] - 213s 260ms/step - loss: 7.3532 - mae: 2.1008 - val_loss: 13.0433 - val_mae: 2.7660\n",
      "Epoch 41/50\n",
      "819/819 [==============================] - 213s 260ms/step - loss: 7.2741 - mae: 2.0920 - val_loss: 12.4444 - val_mae: 2.7300\n",
      "Epoch 42/50\n",
      "819/819 [==============================] - 214s 261ms/step - loss: 7.2726 - mae: 2.0920 - val_loss: 12.8086 - val_mae: 2.7659\n",
      "Epoch 43/50\n",
      "819/819 [==============================] - 213s 261ms/step - loss: 7.2248 - mae: 2.0821 - val_loss: 12.7064 - val_mae: 2.7440\n",
      "Epoch 44/50\n",
      "819/819 [==============================] - 214s 261ms/step - loss: 7.2051 - mae: 2.0849 - val_loss: 12.8618 - val_mae: 2.7556\n",
      "Epoch 45/50\n",
      "819/819 [==============================] - 216s 264ms/step - loss: 7.1524 - mae: 2.0719 - val_loss: 12.9977 - val_mae: 2.7865\n",
      "Epoch 46/50\n",
      "819/819 [==============================] - 217s 265ms/step - loss: 7.1284 - mae: 2.0691 - val_loss: 13.3517 - val_mae: 2.8094\n",
      "Epoch 47/50\n",
      "819/819 [==============================] - 217s 265ms/step - loss: 7.0872 - mae: 2.0646 - val_loss: 13.1881 - val_mae: 2.7796\n",
      "Epoch 48/50\n",
      "819/819 [==============================] - 220s 269ms/step - loss: 7.0740 - mae: 2.0586 - val_loss: 12.6881 - val_mae: 2.7464\n",
      "Epoch 49/50\n",
      "819/819 [==============================] - 222s 271ms/step - loss: 7.0353 - mae: 2.0545 - val_loss: 12.9858 - val_mae: 2.7816\n",
      "Epoch 50/50\n",
      "819/819 [==============================] - 220s 269ms/step - loss: 7.0323 - mae: 2.0514 - val_loss: 12.6311 - val_mae: 2.7599\n",
      "405/405 [==============================] - 18s 41ms/step - loss: 9.5355 - mae: 2.4259\n",
      "Test MAE: 2.43\n"
     ]
    }
   ],
   "source": [
    "inputs = keras.Input(shape=(sequence_length, raw_data.shape[-1]))\n",
    "x = layers.GRU(32, recurrent_dropout=0.5, return_sequences=True)(inputs)\n",
    "x = layers.GRU(32, recurrent_dropout=0.5)(x)\n",
    "x = layers.Dropout(0.5)(x)\n",
    "outputs = layers.Dense(1)(x)\n",
    "model = keras.Model(inputs, outputs)\n",
    "\n",
    "callbacks = [\n",
    "    keras.callbacks.ModelCheckpoint(\"jena_stacked_gru_dropout.keras\",\n",
    "                                    save_best_only=True)\n",
    "]\n",
    "model.compile(optimizer=\"rmsprop\", loss=\"mse\", metrics=[\"mae\"])\n",
    "history = model.fit(train_dataset,\n",
    "                    epochs=50,\n",
    "                    validation_data=val_dataset,\n",
    "                    callbacks=callbacks)\n",
    "model = keras.models.load_model(\"jena_stacked_gru_dropout.keras\")\n",
    "print(f\"Test MAE: {model.evaluate(test_dataset)[1]:.2f}\")"
   ]
  },
  {
   "cell_type": "markdown",
   "metadata": {
    "colab_type": "text"
   },
   "source": [
    "### Using bidirectional RNNs"
   ]
  },
  {
   "cell_type": "markdown",
   "metadata": {
    "colab_type": "text"
   },
   "source": [
    "**Training and evaluating a bidirectional LSTM**"
   ]
  },
  {
   "cell_type": "code",
   "execution_count": 28,
   "metadata": {
    "colab_type": "code"
   },
   "outputs": [
    {
     "name": "stdout",
     "output_type": "stream",
     "text": [
      "Epoch 1/10\n",
      "819/819 [==============================] - 53s 60ms/step - loss: 31.9004 - mae: 4.0641 - val_loss: 11.4205 - val_mae: 2.6139\n",
      "Epoch 2/10\n",
      "819/819 [==============================] - 47s 58ms/step - loss: 10.0218 - mae: 2.4738 - val_loss: 9.7955 - val_mae: 2.4183\n",
      "Epoch 3/10\n",
      "819/819 [==============================] - 46s 56ms/step - loss: 9.0063 - mae: 2.3446 - val_loss: 9.5622 - val_mae: 2.3840\n",
      "Epoch 4/10\n",
      "819/819 [==============================] - 46s 56ms/step - loss: 8.5133 - mae: 2.2834 - val_loss: 9.7194 - val_mae: 2.3992\n",
      "Epoch 5/10\n",
      "819/819 [==============================] - 47s 58ms/step - loss: 8.0614 - mae: 2.2195 - val_loss: 9.8495 - val_mae: 2.4147\n",
      "Epoch 6/10\n",
      "819/819 [==============================] - 47s 57ms/step - loss: 7.6380 - mae: 2.1561 - val_loss: 9.8655 - val_mae: 2.4286\n",
      "Epoch 7/10\n",
      "819/819 [==============================] - 48s 59ms/step - loss: 7.3053 - mae: 2.1048 - val_loss: 10.3656 - val_mae: 2.4875\n",
      "Epoch 8/10\n",
      "819/819 [==============================] - 48s 59ms/step - loss: 7.0780 - mae: 2.0706 - val_loss: 10.6160 - val_mae: 2.5206\n",
      "Epoch 9/10\n",
      "819/819 [==============================] - 51s 62ms/step - loss: 6.8712 - mae: 2.0363 - val_loss: 10.7085 - val_mae: 2.5292\n",
      "Epoch 10/10\n",
      "819/819 [==============================] - 59s 72ms/step - loss: 6.7103 - mae: 2.0117 - val_loss: 10.8101 - val_mae: 2.5441\n"
     ]
    }
   ],
   "source": [
    "inputs = keras.Input(shape=(sequence_length, raw_data.shape[-1]))\n",
    "x = layers.Bidirectional(layers.LSTM(16))(inputs)\n",
    "outputs = layers.Dense(1)(x)\n",
    "model = keras.Model(inputs, outputs)\n",
    "\n",
    "model.compile(optimizer=\"rmsprop\", loss=\"mse\", metrics=[\"mae\"])\n",
    "history = model.fit(train_dataset,\n",
    "                    epochs=10,\n",
    "                    validation_data=val_dataset)"
   ]
  },
  {
   "cell_type": "markdown",
   "metadata": {
    "colab_type": "text"
   },
   "source": [
    "### Going even further"
   ]
  },
  {
   "cell_type": "markdown",
   "metadata": {
    "colab_type": "text"
   },
   "source": [
    "## Summary"
   ]
  }
 ],
 "metadata": {
  "colab": {
   "collapsed_sections": [],
   "name": "chapter10_dl-for-timeseries.i",
   "private_outputs": false,
   "provenance": [],
   "toc_visible": true
  },
  "kernelspec": {
   "display_name": "Python 3 (ipykernel)",
   "language": "python",
   "name": "python3"
  },
  "language_info": {
   "codemirror_mode": {
    "name": "ipython",
    "version": 3
   },
   "file_extension": ".py",
   "mimetype": "text/x-python",
   "name": "python",
   "nbconvert_exporter": "python",
   "pygments_lexer": "ipython3",
   "version": "3.7.13"
  }
 },
 "nbformat": 4,
 "nbformat_minor": 1
}

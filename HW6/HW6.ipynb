{
 "cells": [
  {
   "cell_type": "markdown",
   "metadata": {
    "id": "KAzHt50m53-x"
   },
   "source": [
    "This is a companion notebook for the book [Deep Learning with Python, Second Edition](https://www.manning.com/books/deep-learning-with-python-second-edition?a_aid=keras&a_bid=76564dff). For readability, it only contains runnable code blocks and section titles, and omits everything else in the book: text paragraphs, figures, and pseudocode.\n",
    "\n",
    "**If you want to be able to follow what's going on, I recommend reading the notebook side by side with your copy of the book.**\n",
    "\n",
    "This notebook was generated for TensorFlow 2.6."
   ]
  },
  {
   "cell_type": "markdown",
   "metadata": {
    "id": "IwBEQqGe53-z"
   },
   "source": [
    "# Working with Keras: A deep dive"
   ]
  },
  {
   "cell_type": "markdown",
   "metadata": {
    "id": "-XQFhtR-53-0"
   },
   "source": [
    "## A spectrum of workflows"
   ]
  },
  {
   "cell_type": "markdown",
   "metadata": {
    "id": "_NkSBdIi53-1"
   },
   "source": [
    "## Different ways to build Keras models"
   ]
  },
  {
   "cell_type": "markdown",
   "metadata": {
    "id": "D9iylu7553-1"
   },
   "source": [
    "### The Sequential model"
   ]
  },
  {
   "cell_type": "markdown",
   "metadata": {
    "id": "z-YLldvH53-2"
   },
   "source": [
    "**The `Sequential` class**"
   ]
  },
  {
   "cell_type": "code",
   "execution_count": 1,
   "metadata": {
    "colab": {
     "base_uri": "https://localhost:8080/"
    },
    "id": "WNTboTHe53-2",
    "outputId": "10821b3f-e5fa-47e8-a47f-7dcc9eac93b2"
   },
   "outputs": [
    {
     "data": {
      "text/plain": [
       "<tensorflow.python.keras.engine.sequential.Sequential at 0x1cf9124d160>"
      ]
     },
     "execution_count": 1,
     "metadata": {},
     "output_type": "execute_result"
    }
   ],
   "source": [
    "from tensorflow import keras\n",
    "from tensorflow.keras import layers\n",
    "\n",
    "model = keras.Sequential([\n",
    "    layers.Dense(64, activation=\"relu\"),\n",
    "    layers.Dense(10, activation=\"softmax\")\n",
    "])\n",
    "model"
   ]
  },
  {
   "cell_type": "markdown",
   "metadata": {
    "id": "TYwx4r3653-3"
   },
   "source": [
    "**Incrementally building a Sequential model**\n",
    "\n",
    "**建立model**\n",
    "\n",
    "\n"
   ]
  },
  {
   "cell_type": "code",
   "execution_count": 2,
   "metadata": {
    "colab": {
     "base_uri": "https://localhost:8080/"
    },
    "id": "HIKPMYYQ53-3",
    "outputId": "8f40ee71-4375-40a1-f38a-f43fae2e094a"
   },
   "outputs": [
    {
     "data": {
      "text/plain": [
       "<tensorflow.python.keras.engine.sequential.Sequential at 0x1cf9124dcd0>"
      ]
     },
     "execution_count": 2,
     "metadata": {},
     "output_type": "execute_result"
    }
   ],
   "source": [
    "model = keras.Sequential()\n",
    "model.add(layers.Dense(64, activation=\"relu\"))\n",
    "model.add(layers.Dense(10, activation=\"softmax\"))\n",
    "model"
   ]
  },
  {
   "cell_type": "markdown",
   "metadata": {
    "id": "Wqv3adkS53-4"
   },
   "source": [
    "**Calling a model for the first time to build it**\n",
    "\n",
    "**叫出model的weight**\n",
    "\n"
   ]
  },
  {
   "cell_type": "code",
   "execution_count": 3,
   "metadata": {
    "colab": {
     "base_uri": "https://localhost:8080/"
    },
    "id": "Y1WObXaw53-5",
    "outputId": "fdc19568-b7c6-43ed-8149-bd66acc80e47"
   },
   "outputs": [
    {
     "data": {
      "text/plain": [
       "[<tf.Variable 'dense_2/kernel:0' shape=(3, 64) dtype=float32, numpy=\n",
       " array([[ 0.16805881, -0.07436314,  0.07393348,  0.04646578,  0.04590687,\n",
       "          0.05728978, -0.24590084,  0.10218337,  0.11131653,  0.25210285,\n",
       "         -0.09996724, -0.08463253,  0.25095695, -0.19547391,  0.12960711,\n",
       "          0.04624832, -0.11271952,  0.14068985,  0.12651092, -0.1878871 ,\n",
       "         -0.04684293,  0.12269074, -0.03922987, -0.10937968,  0.14773804,\n",
       "         -0.08254619,  0.22751135, -0.05863631, -0.12173213, -0.2332411 ,\n",
       "          0.1774798 , -0.0099377 , -0.07093847, -0.28215206, -0.02752799,\n",
       "         -0.11826536,  0.0630824 , -0.0568323 , -0.2751119 , -0.25845563,\n",
       "          0.27549428,  0.04741693, -0.17621145, -0.20208532,  0.04892358,\n",
       "          0.18495008,  0.27198046, -0.17895183, -0.12847054,  0.05217353,\n",
       "         -0.06914143, -0.02436236,  0.24134457, -0.0943599 ,  0.01160753,\n",
       "         -0.02279708, -0.10882795, -0.12270224,  0.01694545, -0.03311092,\n",
       "         -0.23214227, -0.06749816, -0.02579865,  0.20060992],\n",
       "        [ 0.25460893,  0.09002349, -0.1803987 , -0.24210823, -0.24972449,\n",
       "         -0.27303633, -0.10506894, -0.23974513, -0.19646478, -0.189228  ,\n",
       "          0.18574676,  0.27485365,  0.2569077 , -0.23936892,  0.24077004,\n",
       "         -0.22341114, -0.02750936,  0.01405215,  0.17356631, -0.12466109,\n",
       "         -0.08507061, -0.06580338, -0.24532035,  0.272963  , -0.14633358,\n",
       "         -0.04086268,  0.01651707, -0.27360874,  0.24272537, -0.0850029 ,\n",
       "         -0.07642637, -0.16936709,  0.00782511,  0.26426303, -0.17062125,\n",
       "         -0.09034348,  0.16537392, -0.2423802 ,  0.07464746,  0.09517139,\n",
       "         -0.09457515,  0.26358813, -0.00689465,  0.01505196,  0.16485986,\n",
       "         -0.2768455 , -0.08432631, -0.09226914,  0.0584411 , -0.1938322 ,\n",
       "         -0.09376729, -0.29755083,  0.12063822, -0.03254327,  0.19729775,\n",
       "         -0.01638666,  0.19300494,  0.2622732 , -0.04917729, -0.29493207,\n",
       "          0.0055885 , -0.02232155, -0.1995188 , -0.22879365],\n",
       "        [-0.28933072, -0.07079384, -0.19101077, -0.08162667, -0.11667466,\n",
       "         -0.0008105 , -0.03952706, -0.24481793, -0.07682677, -0.04371092,\n",
       "         -0.03001094, -0.01022345,  0.11120495, -0.18894655,  0.13501653,\n",
       "         -0.28165618,  0.15022194, -0.24340953, -0.08710401,  0.10234433,\n",
       "          0.10395905,  0.10033217,  0.02375397,  0.09181124, -0.19282942,\n",
       "         -0.06284146,  0.08578295, -0.01812938, -0.2746453 , -0.20596063,\n",
       "         -0.0243299 , -0.1350066 , -0.22988555, -0.10357456,  0.01798069,\n",
       "         -0.0237495 , -0.22565958,  0.26707017,  0.18139014,  0.2911058 ,\n",
       "         -0.27098832,  0.15203759,  0.27170044, -0.28430974,  0.20677918,\n",
       "          0.2833203 ,  0.02781481, -0.08054739, -0.20718008,  0.11702019,\n",
       "         -0.02860689,  0.03699693, -0.2591034 , -0.13933831, -0.2282669 ,\n",
       "          0.20924526,  0.03572622, -0.258062  , -0.01995859,  0.02289531,\n",
       "         -0.00341141,  0.2911989 , -0.01412472,  0.11570057]],\n",
       "       dtype=float32)>,\n",
       " <tf.Variable 'dense_2/bias:0' shape=(64,) dtype=float32, numpy=\n",
       " array([0., 0., 0., 0., 0., 0., 0., 0., 0., 0., 0., 0., 0., 0., 0., 0., 0.,\n",
       "        0., 0., 0., 0., 0., 0., 0., 0., 0., 0., 0., 0., 0., 0., 0., 0., 0.,\n",
       "        0., 0., 0., 0., 0., 0., 0., 0., 0., 0., 0., 0., 0., 0., 0., 0., 0.,\n",
       "        0., 0., 0., 0., 0., 0., 0., 0., 0., 0., 0., 0., 0.], dtype=float32)>,\n",
       " <tf.Variable 'dense_3/kernel:0' shape=(64, 10) dtype=float32, numpy=\n",
       " array([[ 0.02521738, -0.11137697, -0.07677928, -0.23600535,  0.20989046,\n",
       "          0.26059207,  0.18296722, -0.15185665,  0.27531013, -0.13423502],\n",
       "        [-0.08956395, -0.07036376,  0.22222146, -0.07508613, -0.07264817,\n",
       "         -0.1760914 ,  0.25160477, -0.19502744,  0.1877344 , -0.25345135],\n",
       "        [-0.06482117, -0.1987189 , -0.16416988, -0.04560903,  0.14495143,\n",
       "          0.00302628,  0.18346241, -0.25833067,  0.05679491,  0.2301887 ],\n",
       "        [ 0.05050662,  0.11896744,  0.12826839,  0.22133818, -0.23985276,\n",
       "          0.08385706, -0.18739161, -0.21094647, -0.2618715 ,  0.2685553 ],\n",
       "        [-0.28451088, -0.0984832 , -0.19236796, -0.24179575, -0.16197619,\n",
       "          0.03673702,  0.23803976, -0.04447617,  0.28082076,  0.1873056 ],\n",
       "        [ 0.19916025,  0.25621995,  0.21957985,  0.16253859,  0.07549468,\n",
       "         -0.21897063, -0.0921423 , -0.16137776, -0.11840872, -0.18426383],\n",
       "        [ 0.00821254,  0.23753569, -0.01153469, -0.1902211 ,  0.22412309,\n",
       "         -0.13348864,  0.19458848, -0.11873282, -0.16560858,  0.19823566],\n",
       "        [ 0.24118754, -0.0099465 , -0.06167424,  0.14797556, -0.11992767,\n",
       "          0.1681306 , -0.27223068, -0.058374  , -0.05593598, -0.04179583],\n",
       "        [-0.16787073, -0.10834749,  0.05273584,  0.02110291,  0.18806303,\n",
       "         -0.26163557,  0.1768471 , -0.052864  ,  0.14940047, -0.04010873],\n",
       "        [ 0.27243814, -0.22073872, -0.15239751, -0.14053851,  0.28302816,\n",
       "         -0.05726205, -0.12991883,  0.15222746, -0.08469887, -0.19310182],\n",
       "        [-0.23946579, -0.27421203,  0.24344513, -0.21599443, -0.14699586,\n",
       "         -0.13626395,  0.26912776,  0.05472171,  0.2646738 ,  0.13789552],\n",
       "        [ 0.18200529,  0.11034241,  0.25022534, -0.15210457,  0.20209035,\n",
       "         -0.05234091,  0.19965443,  0.09248751, -0.10220645,  0.10251358],\n",
       "        [ 0.02189219,  0.03761786,  0.26226988, -0.2725408 , -0.21175238,\n",
       "          0.27501896, -0.11794904, -0.14182141, -0.21173786,  0.16762131],\n",
       "        [-0.08458734, -0.00986931,  0.16062003, -0.27689147, -0.0429437 ,\n",
       "          0.27715656,  0.12551928,  0.20241228,  0.1487076 ,  0.01672378],\n",
       "        [-0.1175521 ,  0.07012609, -0.17749645,  0.18810323, -0.18757343,\n",
       "         -0.27110842, -0.08477478, -0.19493063, -0.15806517, -0.23400065],\n",
       "        [-0.26502115, -0.18949434,  0.26968142,  0.23860118,  0.10221019,\n",
       "          0.2555559 , -0.27928722, -0.10335995, -0.2805883 ,  0.01742929],\n",
       "        [-0.16712219, -0.23126262, -0.10841145,  0.08294734,  0.05104607,\n",
       "         -0.01656425,  0.24097165,  0.02393532,  0.15367696, -0.0612413 ],\n",
       "        [-0.1801281 , -0.06556638,  0.15941155, -0.23407064,  0.16069561,\n",
       "          0.04161483,  0.06066349, -0.2330428 , -0.0023599 , -0.12509511],\n",
       "        [-0.2843125 , -0.15974922,  0.24397561,  0.20993438, -0.18876868,\n",
       "         -0.03482784,  0.00454482,  0.1501166 , -0.16710827,  0.06471112],\n",
       "        [-0.0234873 ,  0.2697505 , -0.0582844 ,  0.2645125 ,  0.21574435,\n",
       "          0.19215852, -0.2106181 ,  0.2769409 ,  0.27174982, -0.04014504],\n",
       "        [ 0.04426333,  0.06568688,  0.05107164,  0.20054966, -0.05427188,\n",
       "         -0.15930164, -0.2772337 ,  0.1806655 , -0.14593591,  0.08333343],\n",
       "        [ 0.12174234,  0.22186336,  0.18369111, -0.02513126, -0.1377738 ,\n",
       "         -0.05256543, -0.04109515, -0.27425024,  0.07813793, -0.15374464],\n",
       "        [ 0.13185734,  0.27826765, -0.21726042,  0.07585505, -0.21119577,\n",
       "          0.27886888, -0.00362316,  0.09486899, -0.06700081,  0.11325485],\n",
       "        [-0.18269023,  0.10311764, -0.00544348, -0.05399652, -0.10139892,\n",
       "          0.14458653, -0.15151408, -0.2463479 , -0.17859271,  0.25661394],\n",
       "        [ 0.25472894, -0.05332978,  0.11907449, -0.25247136,  0.00099918,\n",
       "          0.1356911 , -0.20536532,  0.23558876,  0.05673063, -0.04116365],\n",
       "        [-0.04350372,  0.07099277, -0.11603247, -0.20811394, -0.05739932,\n",
       "          0.23396435,  0.09180692,  0.15372875, -0.00403491, -0.13686185],\n",
       "        [-0.26137435, -0.07942213, -0.15055425, -0.09956631,  0.23039141,\n",
       "         -0.21169135,  0.191663  , -0.1755075 ,  0.01877093, -0.07862715],\n",
       "        [ 0.21450767,  0.2014727 ,  0.23651257,  0.0260506 ,  0.19770214,\n",
       "          0.24549708,  0.0225133 , -0.22233188, -0.17522494,  0.26707205],\n",
       "        [-0.12440455,  0.01326287, -0.23472734,  0.05362421,  0.08137897,\n",
       "         -0.04961856,  0.01570627,  0.18403551,  0.23357382, -0.128917  ],\n",
       "        [ 0.28284553,  0.20572805, -0.00212085, -0.05847082,  0.14385307,\n",
       "          0.0490745 , -0.01409581,  0.2686477 , -0.07160185,  0.27005264],\n",
       "        [ 0.0443275 ,  0.12780437,  0.28002474,  0.03289804,  0.26747647,\n",
       "         -0.1615212 ,  0.05975527, -0.15149194, -0.21425152,  0.11403722],\n",
       "        [ 0.24623814, -0.04110792, -0.00431862, -0.00477654,  0.22531232,\n",
       "          0.08662659,  0.21617803,  0.00598699, -0.18935871, -0.09272207],\n",
       "        [-0.08456588,  0.24720785, -0.21313006, -0.2781629 ,  0.08047462,\n",
       "          0.1976062 ,  0.12407556, -0.06059331, -0.21626729, -0.07655728],\n",
       "        [-0.13182801, -0.1647327 , -0.19362926, -0.08294326, -0.22920734,\n",
       "          0.16847697,  0.08900493,  0.1665037 ,  0.10370272,  0.15326664],\n",
       "        [ 0.11087024, -0.0435048 ,  0.19956127, -0.07523324, -0.18497972,\n",
       "          0.18590456, -0.07970062,  0.22348264,  0.0724453 ,  0.07279134],\n",
       "        [ 0.23672786,  0.02226368, -0.0202989 ,  0.24259731,  0.01960045,\n",
       "         -0.15847956,  0.07808587, -0.24537621,  0.05456075,  0.17656568],\n",
       "        [-0.0127303 ,  0.2654759 ,  0.1799691 , -0.24906035,  0.18844873,\n",
       "         -0.08165725,  0.06668833, -0.24901344, -0.13512103, -0.12269808],\n",
       "        [ 0.03271121,  0.07635722, -0.20283896,  0.0386675 ,  0.05554044,\n",
       "          0.10519901,  0.05240834, -0.18429221, -0.2121532 ,  0.03097656],\n",
       "        [ 0.13967639,  0.27218595,  0.00958309,  0.15567106, -0.07432657,\n",
       "         -0.12175843, -0.17424612,  0.0092243 ,  0.02735448,  0.24155125],\n",
       "        [ 0.15575308, -0.06046492,  0.06003886, -0.1134184 ,  0.02127141,\n",
       "          0.10840803,  0.075012  , -0.1276882 , -0.08537051,  0.22473678],\n",
       "        [-0.0259138 , -0.2630085 ,  0.07172847, -0.1856935 ,  0.10549718,\n",
       "          0.14298612, -0.03475969,  0.101253  , -0.00899374,  0.16623011],\n",
       "        [-0.20590463, -0.03591345,  0.08397904, -0.02139115,  0.09687892,\n",
       "          0.09715319,  0.0194312 , -0.06188001, -0.13396081,  0.01459485],\n",
       "        [ 0.16665232,  0.0919539 , -0.21410102,  0.1821087 ,  0.28113106,\n",
       "         -0.1641333 ,  0.17985734, -0.11303347, -0.2625495 , -0.27862236],\n",
       "        [ 0.1323232 , -0.03711489, -0.20644557,  0.2809569 , -0.00388324,\n",
       "         -0.08151841,  0.10275555, -0.12698393,  0.28219292,  0.13394678],\n",
       "        [-0.06478356, -0.01125139, -0.00473553, -0.20747435, -0.10244957,\n",
       "         -0.21521664, -0.00282696,  0.20624015, -0.00252935,  0.03459999],\n",
       "        [-0.17323703, -0.23861867, -0.17659345, -0.11461684, -0.13642885,\n",
       "         -0.21742147,  0.13877088, -0.2724186 ,  0.27725103,  0.07043782],\n",
       "        [ 0.0386942 ,  0.23816374,  0.21712872,  0.08489677,  0.21456239,\n",
       "          0.04469797, -0.01242968,  0.08475387, -0.08847426, -0.19869535],\n",
       "        [ 0.21215782,  0.19886282,  0.03086549,  0.00933814, -0.0427822 ,\n",
       "         -0.11956623,  0.13599268, -0.08789183,  0.18735829, -0.17226519],\n",
       "        [ 0.08098602,  0.09766454, -0.17627993, -0.16552746, -0.12371567,\n",
       "         -0.18891199, -0.0276705 , -0.20757246, -0.00139871,  0.1414519 ],\n",
       "        [-0.0190374 , -0.21976744, -0.1178669 , -0.22078536,  0.09296763,\n",
       "          0.27756742, -0.26683262, -0.1455435 , -0.2367429 , -0.18389356],\n",
       "        [ 0.05135936, -0.15036859, -0.1518411 ,  0.0958887 , -0.00614947,\n",
       "         -0.00827852,  0.16448632,  0.22418526,  0.08005011,  0.04966038],\n",
       "        [ 0.0077672 ,  0.24051574,  0.10761029, -0.2735579 ,  0.25451878,\n",
       "          0.25860712,  0.13566843,  0.10324475, -0.03508446,  0.01985353],\n",
       "        [ 0.10703507,  0.18937513, -0.24930686, -0.13576652,  0.17806324,\n",
       "          0.16632542, -0.06736809, -0.09447449, -0.01415536,  0.11170983],\n",
       "        [ 0.09173715, -0.14195326,  0.22501507, -0.06421633, -0.02034453,\n",
       "          0.13553244, -0.05818534, -0.1024943 , -0.2580188 ,  0.09977296],\n",
       "        [ 0.21168917,  0.16177407,  0.25542882,  0.24641827, -0.0737295 ,\n",
       "          0.08666876,  0.1669361 , -0.11995719, -0.05740896,  0.10936666],\n",
       "        [ 0.09419554, -0.22556747, -0.20288968, -0.11511488,  0.0706647 ,\n",
       "          0.18952918,  0.25992897,  0.2398468 ,  0.17774323,  0.27553633],\n",
       "        [-0.13685757,  0.19597685,  0.22048971,  0.23301628,  0.21795574,\n",
       "          0.06868798, -0.20671448,  0.18107218,  0.0367516 , -0.17543425],\n",
       "        [ 0.09895322,  0.09618339,  0.15201849, -0.02413586,  0.2579274 ,\n",
       "         -0.26578426, -0.01453626, -0.19502336, -0.14998943, -0.19744076],\n",
       "        [-0.0843001 , -0.2777671 ,  0.02836615,  0.05634657,  0.2112686 ,\n",
       "         -0.11687531,  0.20644182, -0.16233091,  0.23014715,  0.18155688],\n",
       "        [-0.17206322, -0.16719441, -0.05802329,  0.2717832 , -0.26254618,\n",
       "         -0.19249083, -0.25976157, -0.11833595,  0.13475662,  0.09877655],\n",
       "        [-0.06683652,  0.0258303 ,  0.18714544, -0.24127924,  0.06331024,\n",
       "          0.13206652,  0.03418526, -0.14060743,  0.08715796,  0.15788844],\n",
       "        [ 0.16053903, -0.0934108 , -0.06760773,  0.11309457,  0.04803464,\n",
       "         -0.13778298,  0.05561805,  0.2398099 , -0.17791261, -0.09405047],\n",
       "        [ 0.01121968, -0.0998473 , -0.19282877, -0.04802364, -0.10249329,\n",
       "         -0.0877344 ,  0.11191222,  0.15392122,  0.1317915 ,  0.04464188],\n",
       "        [ 0.00594524,  0.18566206, -0.119261  , -0.00400674,  0.00197646,\n",
       "          0.20955604,  0.20082977, -0.17038241,  0.17848635, -0.02518535]],\n",
       "       dtype=float32)>,\n",
       " <tf.Variable 'dense_3/bias:0' shape=(10,) dtype=float32, numpy=array([0., 0., 0., 0., 0., 0., 0., 0., 0., 0.], dtype=float32)>]"
      ]
     },
     "execution_count": 3,
     "metadata": {},
     "output_type": "execute_result"
    }
   ],
   "source": [
    "model.build(input_shape=(None, 3))\n",
    "model.weights\n"
   ]
  },
  {
   "cell_type": "code",
   "execution_count": 4,
   "metadata": {
    "colab": {
     "base_uri": "https://localhost:8080/"
    },
    "id": "6EnPIfWJ9W99",
    "outputId": "e0036e6f-1cbc-45fa-93fe-6bd011549ec7"
   },
   "outputs": [
    {
     "data": {
      "text/plain": [
       "<tensorflow.python.keras.engine.sequential.Sequential at 0x1cf9124dcd0>"
      ]
     },
     "execution_count": 4,
     "metadata": {},
     "output_type": "execute_result"
    }
   ],
   "source": [
    "model"
   ]
  },
  {
   "cell_type": "markdown",
   "metadata": {
    "id": "MMLQDwtS53-5"
   },
   "source": [
    "**The summary method**\n",
    "\n",
    "**輸出各層的參數**"
   ]
  },
  {
   "cell_type": "code",
   "execution_count": 5,
   "metadata": {
    "colab": {
     "base_uri": "https://localhost:8080/"
    },
    "id": "nKl8EWaj53-6",
    "outputId": "e51078d2-413c-4a52-99f0-5884cf13cb77"
   },
   "outputs": [
    {
     "name": "stdout",
     "output_type": "stream",
     "text": [
      "Model: \"sequential_1\"\n",
      "_________________________________________________________________\n",
      "Layer (type)                 Output Shape              Param #   \n",
      "=================================================================\n",
      "dense_2 (Dense)              (None, 64)                256       \n",
      "_________________________________________________________________\n",
      "dense_3 (Dense)              (None, 10)                650       \n",
      "=================================================================\n",
      "Total params: 906\n",
      "Trainable params: 906\n",
      "Non-trainable params: 0\n",
      "_________________________________________________________________\n"
     ]
    }
   ],
   "source": [
    "model.summary()"
   ]
  },
  {
   "cell_type": "code",
   "execution_count": 6,
   "metadata": {
    "colab": {
     "base_uri": "https://localhost:8080/"
    },
    "id": "t6cBS_hX9fZR",
    "outputId": "085b59e7-a0b9-403d-afed-a7ef23237583"
   },
   "outputs": [
    {
     "data": {
      "text/plain": [
       "<tensorflow.python.keras.engine.sequential.Sequential at 0x1cf9124dcd0>"
      ]
     },
     "execution_count": 6,
     "metadata": {},
     "output_type": "execute_result"
    }
   ],
   "source": [
    "model"
   ]
  },
  {
   "cell_type": "markdown",
   "metadata": {
    "id": "fCUrSqKP53-6"
   },
   "source": [
    "**Naming models and layers with the `name` argument**\n",
    "\n",
    "**給model跟各層給名字，名稱不能輸入中文或空白鍵**"
   ]
  },
  {
   "cell_type": "code",
   "execution_count": 7,
   "metadata": {
    "colab": {
     "base_uri": "https://localhost:8080/"
    },
    "id": "j4VSCAh853-7",
    "outputId": "66d51178-aca7-44cf-92e4-6064bd0e3c8d"
   },
   "outputs": [
    {
     "name": "stdout",
     "output_type": "stream",
     "text": [
      "Model: \"my_model_1\"\n",
      "_________________________________________________________________\n",
      "Layer (type)                 Output Shape              Param #   \n",
      "=================================================================\n",
      "first_layer (Dense)          (None, 64)                256       \n",
      "_________________________________________________________________\n",
      "last_layer (Dense)           (None, 10)                650       \n",
      "=================================================================\n",
      "Total params: 906\n",
      "Trainable params: 906\n",
      "Non-trainable params: 0\n",
      "_________________________________________________________________\n"
     ]
    }
   ],
   "source": [
    "model = keras.Sequential(name=\"my_model_1\")\n",
    "model.add(layers.Dense(64, activation=\"relu\", name=\"first_layer\"))\n",
    "model.add(layers.Dense(10, activation=\"softmax\", name=\"last_layer\"))\n",
    "model.build((None, 3))\n",
    "model.summary()"
   ]
  },
  {
   "cell_type": "markdown",
   "metadata": {
    "id": "wo7qBA9G53-7"
   },
   "source": [
    "**Specifying the input shape of your model in advance**\n",
    "\n",
    "**給定輸入**\n"
   ]
  },
  {
   "cell_type": "code",
   "execution_count": 8,
   "metadata": {
    "id": "0DBZ9-Bw53-8"
   },
   "outputs": [
    {
     "name": "stdout",
     "output_type": "stream",
     "text": [
      "WARNING:tensorflow:Please add `keras.layers.InputLayer` instead of `keras.Input` to Sequential model. `keras.Input` is intended to be used by Functional model.\n"
     ]
    }
   ],
   "source": [
    "model = keras.Sequential()\n",
    "model.add(keras.Input(shape=(3,)))\n",
    "model.add(layers.Dense(64, activation=\"relu\", name=\"first_layer\"))"
   ]
  },
  {
   "cell_type": "code",
   "execution_count": 9,
   "metadata": {
    "colab": {
     "base_uri": "https://localhost:8080/"
    },
    "id": "YfvG8TEx53-8",
    "outputId": "04d259a8-71cf-4c96-ef21-333630a5c536"
   },
   "outputs": [
    {
     "name": "stdout",
     "output_type": "stream",
     "text": [
      "Model: \"sequential_2\"\n",
      "_________________________________________________________________\n",
      "Layer (type)                 Output Shape              Param #   \n",
      "=================================================================\n",
      "first_layer (Dense)          (None, 64)                256       \n",
      "=================================================================\n",
      "Total params: 256\n",
      "Trainable params: 256\n",
      "Non-trainable params: 0\n",
      "_________________________________________________________________\n"
     ]
    }
   ],
   "source": [
    "model.summary()"
   ]
  },
  {
   "cell_type": "code",
   "execution_count": 10,
   "metadata": {
    "colab": {
     "base_uri": "https://localhost:8080/"
    },
    "id": "7_5pUK9X53-9",
    "outputId": "259361b0-cffd-462d-ba77-b0951fe0f052"
   },
   "outputs": [
    {
     "name": "stdout",
     "output_type": "stream",
     "text": [
      "Model: \"sequential_2\"\n",
      "_________________________________________________________________\n",
      "Layer (type)                 Output Shape              Param #   \n",
      "=================================================================\n",
      "first_layer (Dense)          (None, 64)                256       \n",
      "_________________________________________________________________\n",
      "dense_4 (Dense)              (None, 10)                650       \n",
      "=================================================================\n",
      "Total params: 906\n",
      "Trainable params: 906\n",
      "Non-trainable params: 0\n",
      "_________________________________________________________________\n"
     ]
    }
   ],
   "source": [
    "model.add(layers.Dense(10, activation=\"softmax\"))\n",
    "model.summary()"
   ]
  },
  {
   "cell_type": "markdown",
   "metadata": {
    "id": "Qf8VJTJB53-9"
   },
   "source": [
    "### The Functional API"
   ]
  },
  {
   "cell_type": "markdown",
   "metadata": {
    "id": "xhGBBrxk53--",
    "tags": []
   },
   "source": [
    "#### A simple example"
   ]
  },
  {
   "cell_type": "markdown",
   "metadata": {
    "id": "nwZ-OKkQ53--"
   },
   "source": [
    "**A simple Functional model with two `Dense` layers**\n",
    "\n",
    "**有兩層Dense的model和參數**"
   ]
  },
  {
   "cell_type": "code",
   "execution_count": 11,
   "metadata": {
    "id": "gHsrH9b753--"
   },
   "outputs": [],
   "source": [
    "inputs = keras.Input(shape=(3,), name=\"my_input\")\n",
    "features = layers.Dense(64, activation=\"relu\")(inputs)\n",
    "outputs = layers.Dense(10, activation=\"softmax\")(features)\n",
    "model = keras.Model(inputs=inputs, outputs=outputs)"
   ]
  },
  {
   "cell_type": "code",
   "execution_count": 12,
   "metadata": {
    "id": "3mWTUieH53--"
   },
   "outputs": [],
   "source": [
    "inputs = keras.Input(shape=(3,), name=\"my_input\")"
   ]
  },
  {
   "cell_type": "code",
   "execution_count": 13,
   "metadata": {
    "colab": {
     "base_uri": "https://localhost:8080/"
    },
    "id": "flNxyoRm53-_",
    "outputId": "d3d5dfcb-5546-49d5-9e13-fb64f865d1e8"
   },
   "outputs": [
    {
     "data": {
      "text/plain": [
       "TensorShape([None, 3])"
      ]
     },
     "execution_count": 13,
     "metadata": {},
     "output_type": "execute_result"
    }
   ],
   "source": [
    "inputs.shape"
   ]
  },
  {
   "cell_type": "code",
   "execution_count": 14,
   "metadata": {
    "colab": {
     "base_uri": "https://localhost:8080/"
    },
    "id": "jsOox5hR53-_",
    "outputId": "fa96de68-1bbd-4b9c-a662-c7ae8101cb5b"
   },
   "outputs": [
    {
     "data": {
      "text/plain": [
       "tf.float32"
      ]
     },
     "execution_count": 14,
     "metadata": {},
     "output_type": "execute_result"
    }
   ],
   "source": [
    "inputs.dtype"
   ]
  },
  {
   "cell_type": "code",
   "execution_count": 15,
   "metadata": {
    "id": "6LB1mwjC53_A"
   },
   "outputs": [],
   "source": [
    "features = layers.Dense(64, activation=\"relu\")(inputs)"
   ]
  },
  {
   "cell_type": "code",
   "execution_count": 16,
   "metadata": {
    "colab": {
     "base_uri": "https://localhost:8080/"
    },
    "id": "d0FsmmrX53_A",
    "outputId": "c157aa07-1f25-42f2-e876-3532f23740ef"
   },
   "outputs": [
    {
     "data": {
      "text/plain": [
       "TensorShape([None, 64])"
      ]
     },
     "execution_count": 16,
     "metadata": {},
     "output_type": "execute_result"
    }
   ],
   "source": [
    "features.shape"
   ]
  },
  {
   "cell_type": "code",
   "execution_count": 17,
   "metadata": {
    "id": "UBlsY4Ew53_A"
   },
   "outputs": [],
   "source": [
    "outputs = layers.Dense(10, activation=\"softmax\")(features)\n",
    "model = keras.Model(inputs=inputs, outputs=outputs, name=\"example_1\")"
   ]
  },
  {
   "cell_type": "code",
   "execution_count": 18,
   "metadata": {
    "colab": {
     "base_uri": "https://localhost:8080/"
    },
    "id": "SSOu-VcC53_A",
    "outputId": "79995025-8728-4f53-a3f9-e4f8152c3643"
   },
   "outputs": [
    {
     "name": "stdout",
     "output_type": "stream",
     "text": [
      "Model: \"example_1\"\n",
      "_________________________________________________________________\n",
      "Layer (type)                 Output Shape              Param #   \n",
      "=================================================================\n",
      "my_input (InputLayer)        [(None, 3)]               0         \n",
      "_________________________________________________________________\n",
      "dense_7 (Dense)              (None, 64)                256       \n",
      "_________________________________________________________________\n",
      "dense_8 (Dense)              (None, 10)                650       \n",
      "=================================================================\n",
      "Total params: 906\n",
      "Trainable params: 906\n",
      "Non-trainable params: 0\n",
      "_________________________________________________________________\n"
     ]
    }
   ],
   "source": [
    "model.summary()"
   ]
  },
  {
   "cell_type": "markdown",
   "metadata": {
    "id": "clCJy66c53_B"
   },
   "source": [
    "#### Multi-input, multi-output models"
   ]
  },
  {
   "cell_type": "markdown",
   "metadata": {
    "id": "1VvepSSb53_B"
   },
   "source": [
    "**A multi-input, multi-output Functional model**\n",
    "\n",
    "**多重輸入輸出的model**\n"
   ]
  },
  {
   "cell_type": "code",
   "execution_count": 19,
   "metadata": {
    "colab": {
     "base_uri": "https://localhost:8080/"
    },
    "id": "noCcHVeg53_B",
    "outputId": "d6576134-2fbe-4762-a56e-46a007fd53a6"
   },
   "outputs": [
    {
     "name": "stdout",
     "output_type": "stream",
     "text": [
      "Model: \"model_1\"\n",
      "__________________________________________________________________________________________________\n",
      "Layer (type)                    Output Shape         Param #     Connected to                     \n",
      "==================================================================================================\n",
      "title (InputLayer)              [(None, 10000)]      0                                            \n",
      "__________________________________________________________________________________________________\n",
      "text_body (InputLayer)          [(None, 10000)]      0                                            \n",
      "__________________________________________________________________________________________________\n",
      "tags (InputLayer)               [(None, 100)]        0                                            \n",
      "__________________________________________________________________________________________________\n",
      "concatenate (Concatenate)       (None, 20100)        0           title[0][0]                      \n",
      "                                                                 text_body[0][0]                  \n",
      "                                                                 tags[0][0]                       \n",
      "__________________________________________________________________________________________________\n",
      "dense_9 (Dense)                 (None, 64)           1286464     concatenate[0][0]                \n",
      "__________________________________________________________________________________________________\n",
      "priority (Dense)                (None, 1)            65          dense_9[0][0]                    \n",
      "__________________________________________________________________________________________________\n",
      "department (Dense)              (None, 4)            260         dense_9[0][0]                    \n",
      "==================================================================================================\n",
      "Total params: 1,286,789\n",
      "Trainable params: 1,286,789\n",
      "Non-trainable params: 0\n",
      "__________________________________________________________________________________________________\n"
     ]
    }
   ],
   "source": [
    "vocabulary_size = 10000\n",
    "num_tags = 100\n",
    "num_departments = 4\n",
    "\n",
    "title = keras.Input(shape=(vocabulary_size,), name=\"title\")\n",
    "text_body = keras.Input(shape=(vocabulary_size,), name=\"text_body\")\n",
    "tags = keras.Input(shape=(num_tags,), name=\"tags\")\n",
    "\n",
    "features = layers.Concatenate()([title, text_body, tags])\n",
    "features = layers.Dense(64, activation=\"relu\")(features)\n",
    "\n",
    "priority = layers.Dense(1, activation=\"sigmoid\", name=\"priority\")(features)\n",
    "department = layers.Dense(\n",
    "    num_departments, activation=\"softmax\", name=\"department\")(features)\n",
    "\n",
    "model = keras.Model(inputs=[title, text_body, tags], outputs=[priority, department])\n",
    "model.summary()"
   ]
  },
  {
   "cell_type": "markdown",
   "metadata": {
    "id": "1DTBh56S53_C"
   },
   "source": [
    "#### Training a multi-input, multi-output model\n",
    "\n",
    "訓練"
   ]
  },
  {
   "cell_type": "markdown",
   "metadata": {
    "id": "oYGfDKtD53_C"
   },
   "source": [
    "**Training a model by providing lists of input & target arrays**"
   ]
  },
  {
   "cell_type": "code",
   "execution_count": 20,
   "metadata": {
    "id": "MyUPuhD153_C"
   },
   "outputs": [],
   "source": [
    "#np.random.randint(low, high=None, size=None, dtype='int'))\n",
    "#生成從low到high-1的數\n",
    "\n",
    "import numpy as np\n",
    "\n",
    "num_samples = 1280\n",
    "\n",
    "title_data = np.random.randint(0, 2, size=(num_samples, vocabulary_size))\n",
    "text_body_data = np.random.randint(0, 2, size=(num_samples, vocabulary_size))\n",
    "tags_data = np.random.randint(0, 2, size=(num_samples, num_tags))\n",
    "\n",
    "\n"
   ]
  },
  {
   "cell_type": "code",
   "execution_count": 21,
   "metadata": {
    "colab": {
     "base_uri": "https://localhost:8080/"
    },
    "id": "SjJUMhFSDl3x",
    "outputId": "6565e23d-4240-4571-d9d4-78cacaa7fb7d"
   },
   "outputs": [
    {
     "data": {
      "text/plain": [
       "array([[0, 1, 0, ..., 0, 1, 0],\n",
       "       [1, 0, 1, ..., 1, 0, 0],\n",
       "       [0, 1, 0, ..., 1, 0, 0],\n",
       "       ...,\n",
       "       [1, 0, 1, ..., 1, 0, 1],\n",
       "       [0, 1, 1, ..., 1, 0, 1],\n",
       "       [1, 0, 1, ..., 0, 0, 1]])"
      ]
     },
     "execution_count": 21,
     "metadata": {},
     "output_type": "execute_result"
    }
   ],
   "source": [
    "tags_data"
   ]
  },
  {
   "cell_type": "code",
   "execution_count": 22,
   "metadata": {
    "colab": {
     "base_uri": "https://localhost:8080/"
    },
    "id": "GNM4n8wyMZKa",
    "outputId": "6ddb48de-bf7b-4e48-c95b-e8ffaaf1fefe"
   },
   "outputs": [
    {
     "data": {
      "text/plain": [
       "array([[54, 15, 23, 86],\n",
       "       [30, 63, 63, 66],\n",
       "       [89, 86,  2,  7],\n",
       "       [37, 82, 98, 24],\n",
       "       [46, 25, 94, 94]])"
      ]
     },
     "execution_count": 22,
     "metadata": {},
     "output_type": "execute_result"
    }
   ],
   "source": [
    "np.random.randint(0, high=100, size=(5,4))"
   ]
  },
  {
   "cell_type": "code",
   "execution_count": 23,
   "metadata": {
    "id": "Yv9k5kB_De88"
   },
   "outputs": [],
   "source": [
    "priority_data = np.random.random(size=(num_samples, 1))\n",
    "department_data = np.random.randint(0, 2, size=(num_samples, num_departments))\n"
   ]
  },
  {
   "cell_type": "code",
   "execution_count": 24,
   "metadata": {
    "colab": {
     "base_uri": "https://localhost:8080/",
     "height": 444
    },
    "id": "pp0ZhvsgDfjr",
    "outputId": "a5b27618-795c-43d0-9f73-464420d784b3"
   },
   "outputs": [
    {
     "name": "stdout",
     "output_type": "stream",
     "text": [
      "40/40 [==============================] - 1s 9ms/step - loss: 26.1202 - priority_loss: 0.3115 - department_loss: 25.8087 - priority_mean_absolute_error: 0.4759 - department_accuracy: 0.3086\n",
      "40/40 [==============================] - 0s 3ms/step - loss: 5.9691 - priority_loss: 0.3290 - department_loss: 5.6400 - priority_mean_absolute_error: 0.4928 - department_accuracy: 0.2516\n"
     ]
    },
    {
     "data": {
      "image/png": "[encoded data removed]",
      "text/plain": [
       "<IPython.core.display.Image object>"
      ]
     },
     "execution_count": 24,
     "metadata": {},
     "output_type": "execute_result"
    }
   ],
   "source": [
    "model.compile(optimizer=\"rmsprop\",\n",
    "              loss=[\"mean_squared_error\", \n",
    "                    \"categorical_crossentropy\"],\n",
    "              metrics=[[\"mean_absolute_error\"], \n",
    "                       [\"accuracy\"]])\n",
    "\n",
    "model.fit([title_data, \n",
    "           text_body_data, \n",
    "           tags_data],\n",
    "          [priority_data, \n",
    "           department_data],\n",
    "          epochs=1)\n",
    "model.evaluate([title_data, text_body_data, tags_data],\n",
    "               [priority_data, department_data])\n",
    "priority_preds, department_preds = model.predict([title_data, text_body_data, tags_data])\n",
    "\n",
    "keras.utils.plot_model(model, \"ticket_classifier.png\")"
   ]
  },
  {
   "cell_type": "markdown",
   "metadata": {
    "id": "yCqbfbI553_D"
   },
   "source": [
    "**Training a model by providing dicts of input & target arrays**"
   ]
  },
  {
   "cell_type": "code",
   "execution_count": 25,
   "metadata": {
    "colab": {
     "base_uri": "https://localhost:8080/"
    },
    "id": "4cvK808h53_D",
    "outputId": "652e7d04-8d24-4ac6-8b1d-7ee77815b96f"
   },
   "outputs": [
    {
     "name": "stdout",
     "output_type": "stream",
     "text": [
      "40/40 [==============================] - 1s 9ms/step - loss: 27.0499 - priority_loss: 0.3290 - department_loss: 26.7209 - priority_mean_absolute_error: 0.4928 - department_accuracy: 0.2969\n",
      "40/40 [==============================] - 0s 3ms/step - loss: 33.6241 - priority_loss: 0.3290 - department_loss: 33.2951 - priority_mean_absolute_error: 0.4928 - department_accuracy: 0.0562\n"
     ]
    }
   ],
   "source": [
    "model.compile(optimizer=\"rmsprop\",\n",
    "              loss={\"priority\": \"mean_squared_error\", \n",
    "                    \"department\": \"categorical_crossentropy\"},\n",
    "              metrics={\"priority\": [\"mean_absolute_error\"], \n",
    "                       \"department\": [\"accuracy\"]})\n",
    "\n",
    "model.fit({\"title\": title_data, \n",
    "           \"text_body\": text_body_data, \n",
    "           \"tags\": tags_data},\n",
    "          {\"priority\": priority_data, \n",
    "           \"department\": department_data},\n",
    "          epochs=1)\n",
    "\n",
    "model.evaluate({\"title\": title_data, \n",
    "                \"text_body\": text_body_data, \n",
    "                \"tags\": tags_data},\n",
    "               {\"priority\": priority_data, \n",
    "                \"department\": department_data})\n",
    "priority_preds, department_preds = model.predict(\n",
    "    {\"title\": title_data, \"text_body\": text_body_data, \"tags\": tags_data})"
   ]
  },
  {
   "cell_type": "markdown",
   "metadata": {
    "id": "si7VrNY-53_D"
   },
   "source": [
    "#### The power of the Functional API: Access to layer connectivity\n",
    "\n",
    "**查看layer**"
   ]
  },
  {
   "cell_type": "code",
   "execution_count": 26,
   "metadata": {
    "colab": {
     "base_uri": "https://localhost:8080/",
     "height": 369
    },
    "id": "IE3RGdi-53_D",
    "outputId": "d6b7278d-607e-4dee-f45e-c6757f51b5f0"
   },
   "outputs": [
    {
     "data": {
      "image/png": "[encoded data removed]",
      "text/plain": [
       "<IPython.core.display.Image object>"
      ]
     },
     "execution_count": 26,
     "metadata": {},
     "output_type": "execute_result"
    }
   ],
   "source": [
    "keras.utils.plot_model(model, \"ticket_classifier.png\")"
   ]
  },
  {
   "cell_type": "code",
   "execution_count": 27,
   "metadata": {
    "colab": {
     "base_uri": "https://localhost:8080/",
     "height": 422
    },
    "id": "g7kHHTfU53_E",
    "outputId": "2369ae57-2209-439e-cf6a-f58b1056bc19"
   },
   "outputs": [
    {
     "data": {
      "image/png": "[encoded data removed]",
      "text/plain": [
       "<IPython.core.display.Image object>"
      ]
     },
     "execution_count": 27,
     "metadata": {},
     "output_type": "execute_result"
    }
   ],
   "source": [
    "#把show_shapes設true觀察shape變化\n",
    "keras.utils.plot_model(model, \"ticket_classifier_with_shape_info.png\", show_shapes=True)"
   ]
  },
  {
   "cell_type": "markdown",
   "metadata": {
    "id": "d_oHGRjl53_E"
   },
   "source": [
    "**Retrieving the inputs or outputs of a layer in a Functional model**\n",
    "\n",
    "**使用model.layer查看全部或是各層的layer**"
   ]
  },
  {
   "cell_type": "code",
   "execution_count": 28,
   "metadata": {
    "colab": {
     "base_uri": "https://localhost:8080/"
    },
    "id": "WM1nkOM953_E",
    "outputId": "123dbb74-2abe-4c44-e1da-7185adb69a92"
   },
   "outputs": [
    {
     "data": {
      "text/plain": [
       "[<tensorflow.python.keras.engine.input_layer.InputLayer at 0x1cf97494fd0>,\n",
       " <tensorflow.python.keras.engine.input_layer.InputLayer at 0x1cf97494be0>,\n",
       " <tensorflow.python.keras.engine.input_layer.InputLayer at 0x1cf974990a0>,\n",
       " <tensorflow.python.keras.layers.merge.Concatenate at 0x1cf97499430>,\n",
       " <tensorflow.python.keras.layers.core.Dense at 0x1cf97499760>,\n",
       " <tensorflow.python.keras.layers.core.Dense at 0x1cf91468cd0>,\n",
       " <tensorflow.python.keras.layers.core.Dense at 0x1cf974842e0>]"
      ]
     },
     "execution_count": 28,
     "metadata": {},
     "output_type": "execute_result"
    }
   ],
   "source": [
    "model.layers"
   ]
  },
  {
   "cell_type": "code",
   "execution_count": 29,
   "metadata": {
    "colab": {
     "base_uri": "https://localhost:8080/"
    },
    "id": "MYthrrGq53_E",
    "outputId": "2477ba29-e4b0-419d-ef06-8c6336b7e447"
   },
   "outputs": [
    {
     "data": {
      "text/plain": [
       "[<KerasTensor: shape=(None, 10000) dtype=float32 (created by layer 'title')>,\n",
       " <KerasTensor: shape=(None, 10000) dtype=float32 (created by layer 'text_body')>,\n",
       " <KerasTensor: shape=(None, 100) dtype=float32 (created by layer 'tags')>]"
      ]
     },
     "execution_count": 29,
     "metadata": {},
     "output_type": "execute_result"
    }
   ],
   "source": [
    "model.layers[3].input"
   ]
  },
  {
   "cell_type": "code",
   "execution_count": 30,
   "metadata": {
    "colab": {
     "base_uri": "https://localhost:8080/"
    },
    "id": "18p0-z6s53_F",
    "outputId": "10496387-ac65-438a-e047-729c32cf7df9"
   },
   "outputs": [
    {
     "data": {
      "text/plain": [
       "<KerasTensor: shape=(None, 20100) dtype=float32 (created by layer 'concatenate')>"
      ]
     },
     "execution_count": 30,
     "metadata": {},
     "output_type": "execute_result"
    }
   ],
   "source": [
    "model.layers[3].output"
   ]
  },
  {
   "cell_type": "markdown",
   "metadata": {
    "id": "lSftpNVI53_F"
   },
   "source": [
    "**Creating a new model by reusing intermediate layer outputs**\n",
    "\n",
    "**修改中間的layer後生成一個新的model**"
   ]
  },
  {
   "cell_type": "code",
   "execution_count": 33,
   "metadata": {
    "id": "wTAfex-j53_F"
   },
   "outputs": [],
   "source": [
    "features = model.layers[4].output\n",
    "difficulty = layers.Dense(3, activation=\"softmax\", name=\"difficulty\")(features)\n",
    "\n",
    "new_model = keras.Model(\n",
    "    inputs=[title, text_body, tags],\n",
    "    outputs=[priority, department, difficulty])"
   ]
  },
  {
   "cell_type": "code",
   "execution_count": 34,
   "metadata": {
    "colab": {
     "base_uri": "https://localhost:8080/",
     "height": 422
    },
    "id": "UFtC4nyp53_F",
    "outputId": "4615aefc-45d9-42b7-d192-b415c7bc7a16"
   },
   "outputs": [
    {
     "data": {
      "image/png": "[encoded data removed]",
      "text/plain": [
       "<IPython.core.display.Image object>"
      ]
     },
     "execution_count": 34,
     "metadata": {},
     "output_type": "execute_result"
    }
   ],
   "source": [
    "keras.utils.plot_model(new_model, \"updated_ticket_classifier.png\", show_shapes=True)"
   ]
  },
  {
   "cell_type": "markdown",
   "metadata": {
    "id": "K3rCMeNt53_G"
   },
   "source": [
    "### Subclassing the Model class"
   ]
  },
  {
   "cell_type": "markdown",
   "metadata": {
    "id": "DuxHJmxg53_G"
   },
   "source": [
    "#### Rewriting our previous example as a subclassed model"
   ]
  },
  {
   "cell_type": "markdown",
   "metadata": {
    "id": "NIj5oOYi53_G"
   },
   "source": [
    "**A simple subclassed model**\n",
    "\n",
    "**使用class**"
   ]
  },
  {
   "cell_type": "code",
   "execution_count": 43,
   "metadata": {
    "id": "Rfc_P9yf53_G"
   },
   "outputs": [],
   "source": [
    "class CustomerTicketModel(keras.Model):\n",
    "\n",
    "    def __init__(self, num_departments):\n",
    "        super().__init__()\n",
    "        self.concat_layer = layers.Concatenate()\n",
    "        self.mixing_layer = layers.Dense(64, activation=\"relu\")\n",
    "        self.priority_scorer = layers.Dense(1, activation=\"sigmoid\")\n",
    "        self.department_classifier = layers.Dense(\n",
    "            num_departments, activation=\"softmax\")\n",
    "\n",
    "    def call(self, inputs):\n",
    "        title = inputs[\"title\"]\n",
    "        text_body = inputs[\"text_body\"]\n",
    "        tags = inputs[\"tags\"]\n",
    "\n",
    "        features = self.concat_layer([title, text_body, tags])\n",
    "        features = self.mixing_layer(features)\n",
    "        priority = self.priority_scorer(features)\n",
    "        department = self.department_classifier(features)\n",
    "        return priority, department"
   ]
  },
  {
   "cell_type": "code",
   "execution_count": 44,
   "metadata": {
    "id": "-ql9mD9O53_G"
   },
   "outputs": [],
   "source": [
    "model = CustomerTicketModel(num_departments=4)\n",
    "\n",
    "priority, department = model(\n",
    "    {\"title\": title_data, \"text_body\": text_body_data, \"tags\": tags_data})"
   ]
  },
  {
   "cell_type": "code",
   "execution_count": 45,
   "metadata": {
    "colab": {
     "base_uri": "https://localhost:8080/"
    },
    "id": "iBoS8vuC53_H",
    "outputId": "7949d5f9-1c07-4d07-e548-72bd1f846b8f"
   },
   "outputs": [
    {
     "name": "stdout",
     "output_type": "stream",
     "text": [
      "40/40 [==============================] - 1s 8ms/step - loss: 33.1221 - output_1_loss: 0.3266 - output_2_loss: 32.7955 - output_1_mean_absolute_error: 0.4912 - output_2_accuracy: 0.2688\n",
      "40/40 [==============================] - 0s 3ms/step - loss: 27.1538 - output_1_loss: 0.3290 - output_2_loss: 26.8247 - output_1_mean_absolute_error: 0.4928 - output_2_accuracy: 0.1187\n"
     ]
    }
   ],
   "source": [
    "model.compile(optimizer=\"rmsprop\",\n",
    "              loss=[\"mean_squared_error\", \"categorical_crossentropy\"],\n",
    "              metrics=[[\"mean_absolute_error\"], [\"accuracy\"]])\n",
    "model.fit({\"title\": title_data,\n",
    "           \"text_body\": text_body_data,\n",
    "           \"tags\": tags_data},\n",
    "          [priority_data, department_data],\n",
    "          epochs=1)\n",
    "model.evaluate({\"title\": title_data,\n",
    "                \"text_body\": text_body_data,\n",
    "                \"tags\": tags_data},\n",
    "               [priority_data, department_data])\n",
    "priority_preds, department_preds = model.predict({\"title\": title_data,\n",
    "                                                  \"text_body\": text_body_data,\n",
    "                                                  \"tags\": tags_data})"
   ]
  },
  {
   "cell_type": "code",
   "execution_count": 46,
   "metadata": {
    "colab": {
     "base_uri": "https://localhost:8080/"
    },
    "id": "mhFOta7ZS9qd",
    "outputId": "a957f731-0b3a-4932-a367-3c88a0e0d96d"
   },
   "outputs": [
    {
     "name": "stdout",
     "output_type": "stream",
     "text": [
      "Model: \"customer_ticket_model_1\"\n",
      "_________________________________________________________________\n",
      "Layer (type)                 Output Shape              Param #   \n",
      "=================================================================\n",
      "concatenate_2 (Concatenate)  multiple                  0         \n",
      "_________________________________________________________________\n",
      "dense_13 (Dense)             multiple                  1286464   \n",
      "_________________________________________________________________\n",
      "dense_14 (Dense)             multiple                  65        \n",
      "_________________________________________________________________\n",
      "dense_15 (Dense)             multiple                  260       \n",
      "=================================================================\n",
      "Total params: 1,286,789\n",
      "Trainable params: 1,286,789\n",
      "Non-trainable params: 0\n",
      "_________________________________________________________________\n"
     ]
    }
   ],
   "source": [
    "\n",
    "model.summary()"
   ]
  },
  {
   "cell_type": "markdown",
   "metadata": {
    "id": "WUN8nRew53_H"
   },
   "source": [
    "#### Beware: What subclassed models don't support"
   ]
  },
  {
   "cell_type": "markdown",
   "metadata": {
    "id": "EsWqVeMj53_I"
   },
   "source": [
    "### Mixing and matching different components"
   ]
  },
  {
   "cell_type": "markdown",
   "metadata": {
    "id": "87o-jCuJ53_I"
   },
   "source": [
    "**Creating a Functional model that includes a subclassed model**\n",
    "\n",
    "**包含subclassed model的Functional model**\n",
    "\n"
   ]
  },
  {
   "cell_type": "code",
   "execution_count": 47,
   "metadata": {
    "colab": {
     "base_uri": "https://localhost:8080/"
    },
    "id": "wUopsT6r53_I",
    "outputId": "f0588ada-1e3f-4214-9f5b-c7338d9b5543"
   },
   "outputs": [
    {
     "name": "stdout",
     "output_type": "stream",
     "text": [
      "Model: \"model_4\"\n",
      "_________________________________________________________________\n",
      "Layer (type)                 Output Shape              Param #   \n",
      "=================================================================\n",
      "input_2 (InputLayer)         [(None, 3)]               0         \n",
      "_________________________________________________________________\n",
      "dense_16 (Dense)             (None, 64)                256       \n",
      "_________________________________________________________________\n",
      "classifier (Classifier)      (None, 10)                650       \n",
      "=================================================================\n",
      "Total params: 906\n",
      "Trainable params: 906\n",
      "Non-trainable params: 0\n",
      "_________________________________________________________________\n"
     ]
    }
   ],
   "source": [
    "class Classifier(keras.Model):\n",
    "\n",
    "    def __init__(self, num_classes=2):\n",
    "        super().__init__()\n",
    "        if num_classes == 2:\n",
    "            num_units = 1\n",
    "            activation = \"sigmoid\"\n",
    "        else:\n",
    "            num_units = num_classes\n",
    "            activation = \"softmax\"\n",
    "        self.dense = layers.Dense(num_units, activation=activation)\n",
    "\n",
    "    def call(self, inputs):\n",
    "        return self.dense(inputs)\n",
    "\n",
    "inputs = keras.Input(shape=(3,))\n",
    "features = layers.Dense(64, activation=\"relu\")(inputs)\n",
    "outputs = Classifier(num_classes=10)(features)\n",
    "model = keras.Model(inputs=inputs, outputs=outputs)\n",
    "\n",
    "model.summary()"
   ]
  },
  {
   "cell_type": "markdown",
   "metadata": {
    "id": "Z4NCeXij53_I"
   },
   "source": [
    "**Creating a subclassed model that includes a Functional model**\n",
    "\n",
    "**包含Functional model的subclassed model，跟上面有些不同地方**"
   ]
  },
  {
   "cell_type": "code",
   "execution_count": 50,
   "metadata": {
    "id": "SzXFNYXn53_J"
   },
   "outputs": [],
   "source": [
    "inputs = keras.Input(shape=(64,))\n",
    "outputs = layers.Dense(1, activation=\"sigmoid\")(inputs)\n",
    "binary_classifier = keras.Model(inputs=inputs, outputs=outputs)\n",
    "\n",
    "class MyModel(keras.Model):\n",
    "\n",
    "    def __init__(self, num_classes=2):\n",
    "        super().__init__()\n",
    "        self.dense = layers.Dense(64, activation=\"relu\")\n",
    "        self.classifier = binary_classifier\n",
    "\n",
    "    def call(self, inputs):\n",
    "        features = self.dense(inputs)\n",
    "        return self.classifier(features)\n",
    "\n",
    "model = MyModel()\n"
   ]
  },
  {
   "cell_type": "code",
   "execution_count": 51,
   "metadata": {
    "colab": {
     "base_uri": "https://localhost:8080/",
     "height": 300
    },
    "id": "x29_Z_F7VBBk",
    "outputId": "e4814b56-674f-4138-e768-9ee78d660d5c"
   },
   "outputs": [
    {
     "ename": "ValueError",
     "evalue": "This model has not yet been built. Build the model first by calling `build()` or calling `fit()` with some data, or specify an `input_shape` argument in the first layer(s) for automatic build.",
     "output_type": "error",
     "traceback": [
      "\u001b[1;31m---------------------------------------------------------------------------\u001b[0m",
      "\u001b[1;31mValueError\u001b[0m                                Traceback (most recent call last)",
      "Input \u001b[1;32mIn [51]\u001b[0m, in \u001b[0;36m<cell line: 1>\u001b[1;34m()\u001b[0m\n\u001b[1;32m----> 1\u001b[0m \u001b[43mmodel\u001b[49m\u001b[38;5;241;43m.\u001b[39;49m\u001b[43msummary\u001b[49m\u001b[43m(\u001b[49m\u001b[43m)\u001b[49m\n",
      "File \u001b[1;32m~\\anaconda3\\envs\\DL1\\lib\\site-packages\\tensorflow\\python\\keras\\engine\\training.py:2477\u001b[0m, in \u001b[0;36mModel.summary\u001b[1;34m(self, line_length, positions, print_fn)\u001b[0m\n\u001b[0;32m   2459\u001b[0m \u001b[38;5;124;03m\"\"\"Prints a string summary of the network.\u001b[39;00m\n\u001b[0;32m   2460\u001b[0m \n\u001b[0;32m   2461\u001b[0m \u001b[38;5;124;03mArgs:\u001b[39;00m\n\u001b[1;32m   (...)\u001b[0m\n\u001b[0;32m   2474\u001b[0m \u001b[38;5;124;03m    ValueError: if `summary()` is called before the model is built.\u001b[39;00m\n\u001b[0;32m   2475\u001b[0m \u001b[38;5;124;03m\"\"\"\u001b[39;00m\n\u001b[0;32m   2476\u001b[0m \u001b[38;5;28;01mif\u001b[39;00m \u001b[38;5;129;01mnot\u001b[39;00m \u001b[38;5;28mself\u001b[39m\u001b[38;5;241m.\u001b[39mbuilt:\n\u001b[1;32m-> 2477\u001b[0m   \u001b[38;5;28;01mraise\u001b[39;00m \u001b[38;5;167;01mValueError\u001b[39;00m(\u001b[38;5;124m'\u001b[39m\u001b[38;5;124mThis model has not yet been built. \u001b[39m\u001b[38;5;124m'\u001b[39m\n\u001b[0;32m   2478\u001b[0m                    \u001b[38;5;124m'\u001b[39m\u001b[38;5;124mBuild the model first by calling `build()` or calling \u001b[39m\u001b[38;5;124m'\u001b[39m\n\u001b[0;32m   2479\u001b[0m                    \u001b[38;5;124m'\u001b[39m\u001b[38;5;124m`fit()` with some data, or specify \u001b[39m\u001b[38;5;124m'\u001b[39m\n\u001b[0;32m   2480\u001b[0m                    \u001b[38;5;124m'\u001b[39m\u001b[38;5;124man `input_shape` argument in the first layer(s) for \u001b[39m\u001b[38;5;124m'\u001b[39m\n\u001b[0;32m   2481\u001b[0m                    \u001b[38;5;124m'\u001b[39m\u001b[38;5;124mautomatic build.\u001b[39m\u001b[38;5;124m'\u001b[39m)\n\u001b[0;32m   2482\u001b[0m layer_utils\u001b[38;5;241m.\u001b[39mprint_summary(\u001b[38;5;28mself\u001b[39m,\n\u001b[0;32m   2483\u001b[0m                           line_length\u001b[38;5;241m=\u001b[39mline_length,\n\u001b[0;32m   2484\u001b[0m                           positions\u001b[38;5;241m=\u001b[39mpositions,\n\u001b[0;32m   2485\u001b[0m                           print_fn\u001b[38;5;241m=\u001b[39mprint_fn)\n",
      "\u001b[1;31mValueError\u001b[0m: This model has not yet been built. Build the model first by calling `build()` or calling `fit()` with some data, or specify an `input_shape` argument in the first layer(s) for automatic build."
     ]
    }
   ],
   "source": [
    "model.summary()"
   ]
  },
  {
   "cell_type": "markdown",
   "metadata": {
    "id": "oxJSMcAl53_J"
   },
   "source": [
    "### Remember: Use the right tool for the job"
   ]
  },
  {
   "cell_type": "markdown",
   "metadata": {
    "id": "V79KVGbh53_J"
   },
   "source": [
    "## Using built-in training and evaluation loops\n",
    "\n",
    "訓練和評估的迴圈"
   ]
  },
  {
   "cell_type": "markdown",
   "metadata": {
    "id": "DED3ynPg53_J"
   },
   "source": [
    "**The standard workflow: `compile()`, `fit()`, `evaluate()`, `predict()`**\n",
    "\n",
    "**工作的四個流程**"
   ]
  },
  {
   "cell_type": "code",
   "execution_count": 52,
   "metadata": {
    "colab": {
     "base_uri": "https://localhost:8080/"
    },
    "id": "1LDWIxT253_K",
    "outputId": "ac9fe59e-ab70-4979-93b7-018de70634a5"
   },
   "outputs": [
    {
     "name": "stdout",
     "output_type": "stream",
     "text": [
      "Epoch 1/3\n",
      "1563/1563 [==============================] - 5s 3ms/step - loss: 0.2919 - accuracy: 0.9131 - val_loss: 0.1550 - val_accuracy: 0.9555\n",
      "Epoch 2/3\n",
      "1563/1563 [==============================] - 5s 3ms/step - loss: 0.1665 - accuracy: 0.9545 - val_loss: 0.1211 - val_accuracy: 0.9668\n",
      "Epoch 3/3\n",
      "1563/1563 [==============================] - 5s 3ms/step - loss: 0.1377 - accuracy: 0.9629 - val_loss: 0.1192 - val_accuracy: 0.9691\n",
      "313/313 [==============================] - 0s 506us/step - loss: 0.1088 - accuracy: 0.9719\n"
     ]
    }
   ],
   "source": [
    "from tensorflow.keras.datasets import mnist\n",
    "\n",
    "def get_mnist_model():\n",
    "    inputs = keras.Input(shape=(28 * 28,))\n",
    "    features = layers.Dense(512, activation=\"relu\")(inputs)\n",
    "    features = layers.Dropout(0.5)(features)\n",
    "    outputs = layers.Dense(10, activation=\"softmax\")(features)\n",
    "    model = keras.Model(inputs, outputs)\n",
    "    return model\n",
    "\n",
    "(images, labels), (test_images, test_labels) = mnist.load_data()\n",
    "images = images.reshape((60000, 28 * 28)).astype(\"float32\") / 255\n",
    "test_images = test_images.reshape((10000, 28 * 28)).astype(\"float32\") / 255\n",
    "train_images, val_images = images[10000:], images[:10000]\n",
    "train_labels, val_labels = labels[10000:], labels[:10000]\n",
    "\n",
    "model = get_mnist_model()\n",
    "model.compile(optimizer=\"rmsprop\",\n",
    "              loss=\"sparse_categorical_crossentropy\",\n",
    "              metrics=[\"accuracy\"])\n",
    "model.fit(train_images, train_labels,\n",
    "          epochs=3,\n",
    "          validation_data=(val_images, val_labels))\n",
    "test_metrics = model.evaluate(test_images, test_labels)\n",
    "predictions = model.predict(test_images)"
   ]
  },
  {
   "cell_type": "markdown",
   "metadata": {
    "id": "wUbkZzeb53_K"
   },
   "source": [
    "### Writing your own metrics"
   ]
  },
  {
   "cell_type": "markdown",
   "metadata": {
    "id": "UK7VeyUq53_K"
   },
   "source": [
    "**Implementing a custom metric by subclassing the `Metric` class**\n",
    "\n",
    "使用class觀察上面和下面結果，結果相同\n"
   ]
  },
  {
   "cell_type": "code",
   "execution_count": 53,
   "metadata": {
    "id": "QNEd5y2T53_K"
   },
   "outputs": [],
   "source": [
    "import tensorflow as tf\n",
    "\n",
    "class RootMeanSquaredError(keras.metrics.Metric):\n",
    "\n",
    "    def __init__(self, name=\"rmse\", **kwargs):\n",
    "        super().__init__(name=name, **kwargs)\n",
    "        self.mse_sum = self.add_weight(name=\"mse_sum\", initializer=\"zeros\")\n",
    "        self.total_samples = self.add_weight(\n",
    "            name=\"total_samples\", initializer=\"zeros\", dtype=\"int32\")\n",
    "\n",
    "    def update_state(self, y_true, y_pred, sample_weight=None):\n",
    "        y_true = tf.one_hot(y_true, depth=tf.shape(y_pred)[1])\n",
    "        mse = tf.reduce_sum(tf.square(y_true - y_pred))\n",
    "        self.mse_sum.assign_add(mse)\n",
    "        num_samples = tf.shape(y_pred)[0]\n",
    "        self.total_samples.assign_add(num_samples)\n",
    "\n",
    "    def result(self):\n",
    "        return tf.sqrt(self.mse_sum / tf.cast(self.total_samples, tf.float32))\n",
    "\n",
    "    def reset_state(self):\n",
    "        self.mse_sum.assign(0.)\n",
    "        self.total_samples.assign(0)"
   ]
  },
  {
   "cell_type": "code",
   "execution_count": 54,
   "metadata": {
    "colab": {
     "base_uri": "https://localhost:8080/"
    },
    "id": "8z-23gUP53_L",
    "outputId": "52fb9584-865a-4908-96ac-dd480eca4433"
   },
   "outputs": [
    {
     "name": "stdout",
     "output_type": "stream",
     "text": [
      "Epoch 1/3\n",
      "1563/1563 [==============================] - 5s 3ms/step - loss: 0.2950 - accuracy: 0.9130 - rmse: 7.1857 - val_loss: 0.1484 - val_accuracy: 0.9568 - val_rmse: 7.3572\n",
      "Epoch 2/3\n",
      "1563/1563 [==============================] - 5s 3ms/step - loss: 0.1655 - accuracy: 0.9534 - rmse: 7.3525 - val_loss: 0.1202 - val_accuracy: 0.9671 - val_rmse: 7.4070\n",
      "Epoch 3/3\n",
      "1563/1563 [==============================] - 5s 3ms/step - loss: 0.1377 - accuracy: 0.9620 - rmse: 7.3885 - val_loss: 0.1083 - val_accuracy: 0.9712 - val_rmse: 7.4222\n",
      "313/313 [==============================] - 0s 558us/step - loss: 0.1021 - accuracy: 0.9734 - rmse: 7.4345\n"
     ]
    }
   ],
   "source": [
    "model = get_mnist_model()\n",
    "model.compile(optimizer=\"rmsprop\",\n",
    "              loss=\"sparse_categorical_crossentropy\",\n",
    "              metrics=[\"accuracy\", RootMeanSquaredError()])\n",
    "model.fit(train_images, train_labels,\n",
    "          epochs=3,\n",
    "          validation_data=(val_images, val_labels))\n",
    "test_metrics = model.evaluate(test_images, test_labels)\n",
    "\n",
    "predictions = model.predict(test_images)"
   ]
  },
  {
   "cell_type": "code",
   "execution_count": 55,
   "metadata": {
    "colab": {
     "base_uri": "https://localhost:8080/"
    },
    "id": "lVw_RTPlYb54",
    "outputId": "a87a5d18-c39f-4fde-d98a-cff9ee4516a7"
   },
   "outputs": [
    {
     "data": {
      "text/plain": [
       "array([[2.9736874e-13, 2.0131167e-15, 3.6869119e-10, ..., 1.0000000e+00,\n",
       "        2.7084514e-13, 2.0562914e-10],\n",
       "       [4.4650644e-13, 3.6644806e-12, 1.0000000e+00, ..., 2.0947578e-21,\n",
       "        5.1782047e-12, 4.0429368e-25],\n",
       "       [4.4307957e-09, 9.9993432e-01, 1.4605280e-05, ..., 3.9514784e-05,\n",
       "        5.0141821e-06, 2.7149616e-07],\n",
       "       ...,\n",
       "       [1.0088055e-15, 4.9484852e-12, 1.0540234e-12, ..., 2.5051028e-08,\n",
       "        2.2168693e-07, 6.5642748e-06],\n",
       "       [2.0660694e-10, 4.8519522e-10, 4.0501798e-13, ..., 1.2984929e-11,\n",
       "        9.1414095e-06, 9.5954321e-13],\n",
       "       [9.5853299e-17, 9.0022172e-24, 3.5121151e-14, ..., 3.0119277e-24,\n",
       "        4.4315793e-19, 4.9809078e-18]], dtype=float32)"
      ]
     },
     "execution_count": 55,
     "metadata": {},
     "output_type": "execute_result"
    }
   ],
   "source": [
    "predictions "
   ]
  },
  {
   "cell_type": "markdown",
   "metadata": {
    "id": "MIdMfuAH53_L"
   },
   "source": [
    "### Using callbacks\n",
    "使用callbacks"
   ]
  },
  {
   "cell_type": "markdown",
   "metadata": {
    "id": "SBWgBFUO53_L"
   },
   "source": [
    "#### The EarlyStopping and ModelCheckpoint callbacks"
   ]
  },
  {
   "cell_type": "markdown",
   "metadata": {
    "id": "qiy5qskT53_L"
   },
   "source": [
    "**Using the `callbacks` argument in the `fit()` method**\n",
    "\n",
    "**在fit()用callbacks變數**"
   ]
  },
  {
   "cell_type": "code",
   "execution_count": 56,
   "metadata": {
    "colab": {
     "base_uri": "https://localhost:8080/"
    },
    "id": "oWXn5LC-53_L",
    "outputId": "31ed2da6-5d4a-4134-d720-fe8e8412ada8"
   },
   "outputs": [
    {
     "name": "stdout",
     "output_type": "stream",
     "text": [
      "Epoch 1/100\n",
      "1563/1563 [==============================] - 5s 3ms/step - loss: 0.2935 - accuracy: 0.9133 - val_loss: 0.1552 - val_accuracy: 0.9554\n",
      "Epoch 2/100\n",
      "1563/1563 [==============================] - 5s 3ms/step - loss: 0.1652 - accuracy: 0.9539 - val_loss: 0.1221 - val_accuracy: 0.9666\n",
      "Epoch 3/100\n",
      "1563/1563 [==============================] - 5s 3ms/step - loss: 0.1374 - accuracy: 0.9628 - val_loss: 0.1193 - val_accuracy: 0.9704\n",
      "Epoch 4/100\n",
      "1563/1563 [==============================] - 5s 3ms/step - loss: 0.1276 - accuracy: 0.9678 - val_loss: 0.1123 - val_accuracy: 0.9734\n",
      "Epoch 5/100\n",
      "1563/1563 [==============================] - 5s 3ms/step - loss: 0.1171 - accuracy: 0.9706 - val_loss: 0.1168 - val_accuracy: 0.9732\n",
      "Epoch 6/100\n",
      "1563/1563 [==============================] - 5s 3ms/step - loss: 0.1100 - accuracy: 0.9735 - val_loss: 0.1054 - val_accuracy: 0.9764\n",
      "Epoch 7/100\n",
      "1563/1563 [==============================] - 5s 3ms/step - loss: 0.1078 - accuracy: 0.9748 - val_loss: 0.1216 - val_accuracy: 0.9766\n",
      "Epoch 8/100\n",
      "1563/1563 [==============================] - 5s 3ms/step - loss: 0.1021 - accuracy: 0.9762 - val_loss: 0.1078 - val_accuracy: 0.9774\n",
      "Epoch 9/100\n",
      "1563/1563 [==============================] - 5s 3ms/step - loss: 0.0995 - accuracy: 0.9773 - val_loss: 0.1165 - val_accuracy: 0.9779\n",
      "Epoch 10/100\n",
      "1563/1563 [==============================] - 5s 3ms/step - loss: 0.0941 - accuracy: 0.9788 - val_loss: 0.1246 - val_accuracy: 0.9786\n",
      "Epoch 11/100\n",
      "1563/1563 [==============================] - 5s 3ms/step - loss: 0.0925 - accuracy: 0.9800 - val_loss: 0.1192 - val_accuracy: 0.9776\n",
      "Epoch 12/100\n",
      "1563/1563 [==============================] - 5s 3ms/step - loss: 0.0854 - accuracy: 0.9805 - val_loss: 0.1217 - val_accuracy: 0.9797\n",
      "Epoch 13/100\n",
      "1563/1563 [==============================] - 5s 3ms/step - loss: 0.0903 - accuracy: 0.9814 - val_loss: 0.1249 - val_accuracy: 0.9801\n",
      "Epoch 14/100\n",
      "1563/1563 [==============================] - 5s 3ms/step - loss: 0.0880 - accuracy: 0.9817 - val_loss: 0.1306 - val_accuracy: 0.9790\n",
      "Epoch 15/100\n",
      "1563/1563 [==============================] - 5s 3ms/step - loss: 0.0821 - accuracy: 0.9833 - val_loss: 0.1365 - val_accuracy: 0.9787\n"
     ]
    },
    {
     "data": {
      "text/plain": [
       "<tensorflow.python.keras.callbacks.History at 0x1cfa0797070>"
      ]
     },
     "execution_count": 56,
     "metadata": {},
     "output_type": "execute_result"
    }
   ],
   "source": [
    "#ModelCheckpoint：利用這個 Callback在每一個檢查點(Checkpoint)存檔，假設執行到一半中斷時可以從中斷點繼續訓練。\n",
    "#可以使用model = keras.models.load_model(\"checkpoint_path.keras\")載入\n",
    "#EarlyStopping：設定訓練提早結束的條件，給定patience，當validation accuracy執行的幾個週期還是沒改善就停止訓練。\n",
    "\n",
    "\n",
    "callbacks_list = [\n",
    "    keras.callbacks.EarlyStopping(\n",
    "        monitor=\"val_accuracy\",\n",
    "        patience=2,\n",
    "    ),\n",
    "    keras.callbacks.ModelCheckpoint(\n",
    "        filepath=\"checkpoint_path.keras\",\n",
    "        monitor=\"val_loss\",\n",
    "        save_best_only=True,\n",
    "    )\n",
    "]\n",
    "model = get_mnist_model()\n",
    "model.compile(optimizer=\"rmsprop\",\n",
    "              loss=\"sparse_categorical_crossentropy\",\n",
    "              metrics=[\"accuracy\"])\n",
    "model.fit(train_images, train_labels,\n",
    "          epochs=100,\n",
    "          callbacks=callbacks_list,\n",
    "          validation_data=(val_images, val_labels))"
   ]
  },
  {
   "cell_type": "markdown",
   "metadata": {},
   "source": [
    "這邊將epoch設為100觀察，在epoch 13時val_accuracy達到0.9793，後面兩個epoch的val_accuracy皆沒改善所以在epoch 15停止訓練。"
   ]
  },
  {
   "cell_type": "code",
   "execution_count": 58,
   "metadata": {
    "id": "px1BEsp053_L"
   },
   "outputs": [],
   "source": [
    "#載入checkpoint\n",
    "model = keras.models.load_model(\"checkpoint_path.keras\")"
   ]
  },
  {
   "cell_type": "markdown",
   "metadata": {
    "id": "vzj1Ya2A53_M"
   },
   "source": [
    "### Writing your own callbacks"
   ]
  },
  {
   "cell_type": "markdown",
   "metadata": {
    "id": "Q1VOKRhc53_M"
   },
   "source": [
    "**Creating a custom callback by subclassing the `Callback` class**\n",
    "\n",
    "**寫入callbacks觀察loss**"
   ]
  },
  {
   "cell_type": "code",
   "execution_count": 59,
   "metadata": {
    "colab": {
     "base_uri": "https://localhost:8080/",
     "height": 246
    },
    "id": "YDmcNpS053_M",
    "outputId": "d17279dd-edd9-458a-dc84-1d329558cb82"
   },
   "outputs": [],
   "source": [
    "from matplotlib import pyplot as plt\n",
    "\n",
    "class LossHistory(keras.callbacks.Callback):\n",
    "    def on_train_begin(self, logs):\n",
    "        self.per_batch_losses = []\n",
    "\n",
    "    def on_batch_end(self, batch, logs):\n",
    "        self.per_batch_losses.append(logs.get(\"loss\"))\n",
    "\n",
    "    def on_epoch_end(self, epoch, logs):\n",
    "        plt.clf()\n",
    "        plt.plot(range(len(self.per_batch_losses)), self.per_batch_losses,\n",
    "                 label=\"Training loss for each batch\")\n",
    "        plt.xlabel(f\"Batch (epoch {epoch})\")\n",
    "        plt.ylabel(\"Loss\")\n",
    "        plt.legend()\n",
    "        plt.savefig(f\"plot_at_epoch_{epoch}\")\n",
    "        self.per_batch_losses = []"
   ]
  },
  {
   "cell_type": "code",
   "execution_count": 60,
   "metadata": {
    "colab": {
     "base_uri": "https://localhost:8080/",
     "height": 663
    },
    "id": "ha4_2-n153_M",
    "outputId": "1c7d2e8b-5de6-431e-ad57-6f94f3ee4bce"
   },
   "outputs": [
    {
     "name": "stdout",
     "output_type": "stream",
     "text": [
      "Epoch 1/10\n",
      "1563/1563 [==============================] - 5s 3ms/step - loss: 0.2910 - accuracy: 0.9138 - val_loss: 0.1581 - val_accuracy: 0.9547\n",
      "Epoch 2/10\n",
      "1563/1563 [==============================] - 5s 3ms/step - loss: 0.1647 - accuracy: 0.9535 - val_loss: 0.1235 - val_accuracy: 0.9681\n",
      "Epoch 3/10\n",
      "1563/1563 [==============================] - 5s 3ms/step - loss: 0.1378 - accuracy: 0.9625 - val_loss: 0.1091 - val_accuracy: 0.9735\n",
      "Epoch 4/10\n",
      "1563/1563 [==============================] - 5s 3ms/step - loss: 0.1230 - accuracy: 0.9680 - val_loss: 0.1197 - val_accuracy: 0.9721\n",
      "Epoch 5/10\n",
      "1563/1563 [==============================] - 5s 3ms/step - loss: 0.1153 - accuracy: 0.9713 - val_loss: 0.1095 - val_accuracy: 0.9742\n",
      "Epoch 6/10\n",
      "1563/1563 [==============================] - 5s 3ms/step - loss: 0.1088 - accuracy: 0.9736 - val_loss: 0.1198 - val_accuracy: 0.9748\n",
      "Epoch 7/10\n",
      "1563/1563 [==============================] - 5s 3ms/step - loss: 0.1061 - accuracy: 0.9748 - val_loss: 0.1125 - val_accuracy: 0.9779\n",
      "Epoch 8/10\n",
      "1563/1563 [==============================] - 5s 3ms/step - loss: 0.0982 - accuracy: 0.9768 - val_loss: 0.1180 - val_accuracy: 0.9770\n",
      "Epoch 9/10\n",
      "1563/1563 [==============================] - 5s 3ms/step - loss: 0.0968 - accuracy: 0.9769 - val_loss: 0.1160 - val_accuracy: 0.9768\n",
      "Epoch 10/10\n",
      "1563/1563 [==============================] - 5s 3ms/step - loss: 0.0905 - accuracy: 0.9788 - val_loss: 0.1213 - val_accuracy: 0.9764\n"
     ]
    },
    {
     "data": {
      "text/plain": [
       "<tensorflow.python.keras.callbacks.History at 0x1cfa279b4f0>"
      ]
     },
     "execution_count": 60,
     "metadata": {},
     "output_type": "execute_result"
    },
    {
     "data": {
      "image/png": "[encoded data removed]",
      "text/plain": [
       "<Figure size 640x480 with 1 Axes>"
      ]
     },
     "metadata": {},
     "output_type": "display_data"
    }
   ],
   "source": [
    "model = get_mnist_model()\n",
    "model.compile(optimizer=\"rmsprop\",\n",
    "              loss=\"sparse_categorical_crossentropy\",\n",
    "              metrics=[\"accuracy\"])\n",
    "model.fit(train_images, train_labels,\n",
    "          epochs=10,\n",
    "          callbacks=[LossHistory()],\n",
    "          validation_data=(val_images, val_labels))"
   ]
  },
  {
   "cell_type": "markdown",
   "metadata": {
    "id": "P8DcH_Su53_N"
   },
   "source": [
    "### Monitoring and visualization with TensorBoard\n",
    "使用在jupyter顯示TensorBoard"
   ]
  },
  {
   "cell_type": "code",
   "execution_count": 61,
   "metadata": {
    "colab": {
     "base_uri": "https://localhost:8080/"
    },
    "id": "aDw70J9s53_N",
    "outputId": "3ed4439c-9374-46cf-8c49-b3a5e731cb43"
   },
   "outputs": [
    {
     "name": "stdout",
     "output_type": "stream",
     "text": [
      "Epoch 1/10\n",
      "1563/1563 [==============================] - 6s 3ms/step - loss: 0.2947 - accuracy: 0.9135 - val_loss: 0.1433 - val_accuracy: 0.9575\n",
      "Epoch 2/10\n",
      "1563/1563 [==============================] - 5s 3ms/step - loss: 0.1678 - accuracy: 0.9535 - val_loss: 0.1211 - val_accuracy: 0.9670\n",
      "Epoch 3/10\n",
      "1563/1563 [==============================] - 5s 3ms/step - loss: 0.1395 - accuracy: 0.9628 - val_loss: 0.1100 - val_accuracy: 0.9711\n",
      "Epoch 4/10\n",
      "1563/1563 [==============================] - 5s 3ms/step - loss: 0.1268 - accuracy: 0.9670 - val_loss: 0.1133 - val_accuracy: 0.9730\n",
      "Epoch 5/10\n",
      "1563/1563 [==============================] - 5s 3ms/step - loss: 0.1163 - accuracy: 0.9710 - val_loss: 0.1029 - val_accuracy: 0.9762\n",
      "Epoch 6/10\n",
      "1563/1563 [==============================] - 5s 3ms/step - loss: 0.1089 - accuracy: 0.9736 - val_loss: 0.1311 - val_accuracy: 0.9716\n",
      "Epoch 7/10\n",
      "1563/1563 [==============================] - 5s 3ms/step - loss: 0.1063 - accuracy: 0.9752 - val_loss: 0.1052 - val_accuracy: 0.9764\n",
      "Epoch 8/10\n",
      "1563/1563 [==============================] - 5s 3ms/step - loss: 0.1015 - accuracy: 0.9753 - val_loss: 0.1091 - val_accuracy: 0.9774\n",
      "Epoch 9/10\n",
      "1563/1563 [==============================] - 5s 3ms/step - loss: 0.0972 - accuracy: 0.9778 - val_loss: 0.1194 - val_accuracy: 0.9767\n",
      "Epoch 10/10\n",
      "1563/1563 [==============================] - 5s 3ms/step - loss: 0.0956 - accuracy: 0.9784 - val_loss: 0.1146 - val_accuracy: 0.9783\n"
     ]
    },
    {
     "data": {
      "text/plain": [
       "<tensorflow.python.keras.callbacks.History at 0x1cfa0a1fb20>"
      ]
     },
     "execution_count": 61,
     "metadata": {},
     "output_type": "execute_result"
    }
   ],
   "source": [
    "model = get_mnist_model()\n",
    "model.compile(optimizer=\"rmsprop\",\n",
    "              loss=\"sparse_categorical_crossentropy\",\n",
    "              metrics=[\"accuracy\"])\n",
    "\n",
    "tensorboard = keras.callbacks.TensorBoard(\n",
    "    log_dir=\"/full_path_to_your_log_dir\",\n",
    ")\n",
    "model.fit(train_images, train_labels,\n",
    "          epochs=10,\n",
    "          validation_data=(val_images, val_labels),\n",
    "          callbacks=[tensorboard])"
   ]
  },
  {
   "cell_type": "code",
   "execution_count": 62,
   "metadata": {
    "colab": {
     "base_uri": "https://localhost:8080/",
     "height": 821
    },
    "id": "ugb7t3FA53_N",
    "outputId": "511b7ae6-b6d4-482d-b552-644b15cd7c0f"
   },
   "outputs": [
    {
     "data": {
      "text/html": [
       "\n",
       "      <iframe id=\"tensorboard-frame-32a41b99ff22492f\" width=\"100%\" height=\"800\" frameborder=\"0\">\n",
       "      </iframe>\n",
       "      <script>\n",
       "        (function() {\n",
       "          const frame = document.getElementById(\"tensorboard-frame-32a41b99ff22492f\");\n",
       "          const url = new URL(\"/\", window.location);\n",
       "          const port = 6006;\n",
       "          if (port) {\n",
       "            url.port = port;\n",
       "          }\n",
       "          frame.src = url;\n",
       "        })();\n",
       "      </script>\n",
       "    "
      ],
      "text/plain": [
       "<IPython.core.display.HTML object>"
      ]
     },
     "metadata": {},
     "output_type": "display_data"
    }
   ],
   "source": [
    "%load_ext tensorboard\n",
    "%tensorboard --logdir /full_path_to_your_log_dir"
   ]
  },
  {
   "cell_type": "markdown",
   "metadata": {
    "id": "_3cmaqYZ53_N"
   },
   "source": [
    "## Writing your own training and evaluation loops\n",
    "使用自己的training and evaluation loops"
   ]
  },
  {
   "cell_type": "markdown",
   "metadata": {
    "id": "Q0kWJRiC53_O"
   },
   "source": [
    "### Training versus inference"
   ]
  },
  {
   "cell_type": "markdown",
   "metadata": {
    "id": "9YfrvoVG53_O"
   },
   "source": [
    "### Low-level usage of metrics\n",
    "一些metrics的使用"
   ]
  },
  {
   "cell_type": "code",
   "execution_count": 91,
   "metadata": {
    "id": "xck_L2yY53_O"
   },
   "outputs": [
    {
     "name": "stdout",
     "output_type": "stream",
     "text": [
      "result: 1.00\n"
     ]
    }
   ],
   "source": [
    "#更新state\n",
    "metric = keras.metrics.SparseCategoricalAccuracy()\n",
    "targets = [0, 1, 2]\n",
    "predictions = [[1, 0, 0], [0, 1, 0], [0, 0, 1]]\n",
    "metric.update_state(targets, predictions)\n",
    "current_result = metric.result()\n",
    "print(f\"result: {current_result:.2f}\")\n"
   ]
  },
  {
   "cell_type": "code",
   "execution_count": 92,
   "metadata": {},
   "outputs": [
    {
     "data": {
      "text/plain": [
       "<tf.Tensor: shape=(), dtype=float32, numpy=1.0>"
      ]
     },
     "execution_count": 92,
     "metadata": {},
     "output_type": "execute_result"
    }
   ],
   "source": [
    "current_result"
   ]
  },
  {
   "cell_type": "code",
   "execution_count": 93,
   "metadata": {
    "id": "aCeXgSuc53_O"
   },
   "outputs": [
    {
     "name": "stdout",
     "output_type": "stream",
     "text": [
      "Mean of values: 2.00\n"
     ]
    }
   ],
   "source": [
    "#平均\n",
    "values = [0, 1, 2, 3, 4]\n",
    "mean_tracker = keras.metrics.Mean()\n",
    "for value in values:\n",
    "    mean_tracker.update_state(value)\n",
    "print(f\"Mean of values: {mean_tracker.result():.2f}\")"
   ]
  },
  {
   "cell_type": "code",
   "execution_count": 104,
   "metadata": {},
   "outputs": [
    {
     "name": "stdout",
     "output_type": "stream",
     "text": [
      "Mean of values: 20.67\n"
     ]
    }
   ],
   "source": [
    "##追蹤指標平均\n",
    "values = [10, 20, 30, 40, 50]\n",
    "for value in values:\n",
    "    mean_tracker.update_state(value)\n",
    "print(f\"Mean of values: {mean_tracker.result():.2f}\")"
   ]
  },
  {
   "cell_type": "markdown",
   "metadata": {
    "id": "l_jQracB53_P"
   },
   "source": [
    "### A complete training and evaluation loop\n",
    "完整的訓練和評估"
   ]
  },
  {
   "cell_type": "markdown",
   "metadata": {
    "id": "eGrI3gPA53_P"
   },
   "source": [
    "**Writing a step-by-step training loop: the training step function**"
   ]
  },
  {
   "cell_type": "code",
   "execution_count": 105,
   "metadata": {
    "id": "G0fP-FDw53_P"
   },
   "outputs": [],
   "source": [
    "model = get_mnist_model()\n",
    "\n",
    "loss_fn = keras.losses.SparseCategoricalCrossentropy()\n",
    "optimizer = keras.optimizers.RMSprop()\n",
    "metrics = [keras.metrics.SparseCategoricalAccuracy()]\n",
    "loss_tracking_metric = keras.metrics.Mean()\n",
    "\n",
    "def train_step(inputs, targets):\n",
    "    with tf.GradientTape() as tape:\n",
    "        predictions = model(inputs, training=True)\n",
    "        loss = loss_fn(targets, predictions)\n",
    "    gradients = tape.gradient(loss, model.trainable_weights)\n",
    "    optimizer.apply_gradients(zip(gradients, model.trainable_weights))\n",
    "\n",
    "    logs = {}\n",
    "    for metric in metrics:\n",
    "        metric.update_state(targets, predictions)\n",
    "        logs[metric.name] = metric.result()\n",
    "\n",
    "    loss_tracking_metric.update_state(loss)\n",
    "    logs[\"loss\"] = loss_tracking_metric.result()\n",
    "    return logs"
   ]
  },
  {
   "cell_type": "markdown",
   "metadata": {
    "id": "R1SRMZ0U53_P"
   },
   "source": [
    "**Writing a step-by-step training loop: resetting the metrics**\n",
    "\n",
    "重設metrics"
   ]
  },
  {
   "cell_type": "code",
   "execution_count": 106,
   "metadata": {
    "id": "i7hCsrOK53_Q"
   },
   "outputs": [],
   "source": [
    "def reset_metrics():\n",
    "    for metric in metrics:\n",
    "        metric.reset_state()\n",
    "    loss_tracking_metric.reset_state()"
   ]
  },
  {
   "cell_type": "markdown",
   "metadata": {
    "id": "rlGip1_r53_Q"
   },
   "source": [
    "**Writing a step-by-step training loop: the loop itself**"
   ]
  },
  {
   "cell_type": "code",
   "execution_count": 97,
   "metadata": {
    "id": "8TARRTfe53_Q"
   },
   "outputs": [
    {
     "name": "stdout",
     "output_type": "stream",
     "text": [
      "Results at the end of epoch 0\n",
      "...sparse_categorical_accuracy: 0.9142\n",
      "...loss: 0.2931\n",
      "Results at the end of epoch 1\n",
      "...sparse_categorical_accuracy: 0.9540\n",
      "...loss: 0.1677\n",
      "Results at the end of epoch 2\n",
      "...sparse_categorical_accuracy: 0.9618\n",
      "...loss: 0.1419\n"
     ]
    }
   ],
   "source": [
    "training_dataset = tf.data.Dataset.from_tensor_slices((train_images, train_labels))\n",
    "training_dataset = training_dataset.batch(32)\n",
    "epochs = 3\n",
    "for epoch in range(epochs):\n",
    "    reset_metrics()\n",
    "    for inputs_batch, targets_batch in training_dataset:\n",
    "        logs = train_step(inputs_batch, targets_batch)\n",
    "    print(f\"Results at the end of epoch {epoch}\")\n",
    "    for key, value in logs.items():\n",
    "        print(f\"...{key}: {value:.4f}\")"
   ]
  },
  {
   "cell_type": "markdown",
   "metadata": {
    "id": "XnCdxyBt53_R"
   },
   "source": [
    "**Writing a step-by-step evaluation loop**"
   ]
  },
  {
   "cell_type": "code",
   "execution_count": 98,
   "metadata": {
    "id": "6zI_fmbD53_R"
   },
   "outputs": [
    {
     "name": "stdout",
     "output_type": "stream",
     "text": [
      "Evaluation results:\n",
      "...val_sparse_categorical_accuracy: 0.9664\n",
      "...val_loss: 0.1401\n"
     ]
    }
   ],
   "source": [
    "def test_step(inputs, targets):\n",
    "    predictions = model(inputs, training=False)\n",
    "    loss = loss_fn(targets, predictions)\n",
    "\n",
    "    logs = {}\n",
    "    for metric in metrics:\n",
    "        metric.update_state(targets, predictions)\n",
    "        logs[\"val_\" + metric.name] = metric.result()\n",
    "\n",
    "    loss_tracking_metric.update_state(loss)\n",
    "    logs[\"val_loss\"] = loss_tracking_metric.result()\n",
    "    return logs\n",
    "\n",
    "val_dataset = tf.data.Dataset.from_tensor_slices((val_images, val_labels))\n",
    "val_dataset = val_dataset.batch(32)\n",
    "reset_metrics()\n",
    "for inputs_batch, targets_batch in val_dataset:\n",
    "    logs = test_step(inputs_batch, targets_batch)\n",
    "print(\"Evaluation results:\")\n",
    "for key, value in logs.items():\n",
    "    print(f\"...{key}: {value:.4f}\")"
   ]
  },
  {
   "cell_type": "markdown",
   "metadata": {
    "id": "RyCwPfzo53_R"
   },
   "source": [
    "### Make it fast with tf.function\n",
    "使用 tf.function 加速"
   ]
  },
  {
   "cell_type": "markdown",
   "metadata": {
    "id": "4Ros8x6C53_S"
   },
   "source": [
    "**Adding a `tf.function` decorator to our evaluation-step function**\n",
    "\n",
    "在函數中添加 tf.function "
   ]
  },
  {
   "cell_type": "code",
   "execution_count": 99,
   "metadata": {
    "id": "6nf67ep053_S"
   },
   "outputs": [
    {
     "name": "stdout",
     "output_type": "stream",
     "text": [
      "Evaluation results:\n",
      "...val_sparse_categorical_accuracy: 0.9664\n",
      "...val_loss: 0.1401\n"
     ]
    }
   ],
   "source": [
    "@tf.function\n",
    "def test_step(inputs, targets):\n",
    "    predictions = model(inputs, training=False)\n",
    "    loss = loss_fn(targets, predictions)\n",
    "\n",
    "    logs = {}\n",
    "    for metric in metrics:\n",
    "        metric.update_state(targets, predictions)\n",
    "        logs[\"val_\" + metric.name] = metric.result()\n",
    "\n",
    "    loss_tracking_metric.update_state(loss)\n",
    "    logs[\"val_loss\"] = loss_tracking_metric.result()\n",
    "    return logs\n",
    "\n",
    "val_dataset = tf.data.Dataset.from_tensor_slices((val_images, val_labels))\n",
    "val_dataset = val_dataset.batch(32)\n",
    "reset_metrics()\n",
    "for inputs_batch, targets_batch in val_dataset:\n",
    "    logs = test_step(inputs_batch, targets_batch)\n",
    "print(\"Evaluation results:\")\n",
    "for key, value in logs.items():\n",
    "    print(f\"...{key}: {value:.4f}\")"
   ]
  },
  {
   "cell_type": "markdown",
   "metadata": {
    "id": "h1jkiTtz53_T"
   },
   "source": [
    "### Leveraging fit() with a custom training loop\n",
    "使用fit()來自定義訓練"
   ]
  },
  {
   "cell_type": "markdown",
   "metadata": {
    "id": "pEebApyY53_T"
   },
   "source": [
    "**Implementing a custom training step to use with `fit()`**"
   ]
  },
  {
   "cell_type": "code",
   "execution_count": 100,
   "metadata": {
    "id": "pqzOhlfa53_T"
   },
   "outputs": [],
   "source": [
    "loss_fn = keras.losses.SparseCategoricalCrossentropy()\n",
    "loss_tracker = keras.metrics.Mean(name=\"loss\")\n",
    "\n",
    "class CustomModel(keras.Model):\n",
    "    def train_step(self, data):\n",
    "        inputs, targets = data\n",
    "        with tf.GradientTape() as tape:\n",
    "            predictions = self(inputs, training=True)\n",
    "            loss = loss_fn(targets, predictions)\n",
    "        gradients = tape.gradient(loss, self.trainable_weights)\n",
    "        self.optimizer.apply_gradients(zip(gradients, self.trainable_weights))\n",
    "\n",
    "        loss_tracker.update_state(loss)\n",
    "        return {\"loss\": loss_tracker.result()}\n",
    "\n",
    "    @property\n",
    "    def metrics(self):\n",
    "        return [loss_tracker]"
   ]
  },
  {
   "cell_type": "code",
   "execution_count": 101,
   "metadata": {
    "id": "kIKmRcJR53_U"
   },
   "outputs": [
    {
     "name": "stdout",
     "output_type": "stream",
     "text": [
      "Epoch 1/3\n",
      "1563/1563 [==============================] - 5s 3ms/step - loss: 0.2928\n",
      "Epoch 2/3\n",
      "1563/1563 [==============================] - 4s 3ms/step - loss: 0.1630\n",
      "Epoch 3/3\n",
      "1563/1563 [==============================] - 4s 3ms/step - loss: 0.1388\n"
     ]
    },
    {
     "data": {
      "text/plain": [
       "<tensorflow.python.keras.callbacks.History at 0x1cfa16b38b0>"
      ]
     },
     "execution_count": 101,
     "metadata": {},
     "output_type": "execute_result"
    }
   ],
   "source": [
    "inputs = keras.Input(shape=(28 * 28,))\n",
    "features = layers.Dense(512, activation=\"relu\")(inputs)\n",
    "features = layers.Dropout(0.5)(features)\n",
    "outputs = layers.Dense(10, activation=\"softmax\")(features)\n",
    "model = CustomModel(inputs, outputs)\n",
    "\n",
    "model.compile(optimizer=keras.optimizers.RMSprop())\n",
    "model.fit(train_images, train_labels, epochs=3)"
   ]
  },
  {
   "cell_type": "code",
   "execution_count": 102,
   "metadata": {
    "id": "98H-CV5053_V"
   },
   "outputs": [],
   "source": [
    "class CustomModel(keras.Model):\n",
    "    def train_step(self, data):\n",
    "        inputs, targets = data\n",
    "        with tf.GradientTape() as tape:\n",
    "            predictions = self(inputs, training=True)\n",
    "            loss = self.compiled_loss(targets, predictions)\n",
    "        gradients = tape.gradient(loss, self.trainable_weights)\n",
    "        self.optimizer.apply_gradients(zip(gradients, self.trainable_weights))\n",
    "        self.compiled_metrics.update_state(targets, predictions)\n",
    "        return {m.name: m.result() for m in self.metrics}"
   ]
  },
  {
   "cell_type": "code",
   "execution_count": 103,
   "metadata": {
    "id": "8HFhCgij53_V"
   },
   "outputs": [
    {
     "name": "stdout",
     "output_type": "stream",
     "text": [
      "Epoch 1/3\n",
      "1563/1563 [==============================] - 5s 3ms/step - loss: 0.2931 - sparse_categorical_accuracy: 0.9128\n",
      "Epoch 2/3\n",
      "1563/1563 [==============================] - 5s 3ms/step - loss: 0.1628 - sparse_categorical_accuracy: 0.9550\n",
      "Epoch 3/3\n",
      "1563/1563 [==============================] - 4s 3ms/step - loss: 0.1380 - sparse_categorical_accuracy: 0.9635\n"
     ]
    },
    {
     "data": {
      "text/plain": [
       "<tensorflow.python.keras.callbacks.History at 0x1cfa5aa0610>"
      ]
     },
     "execution_count": 103,
     "metadata": {},
     "output_type": "execute_result"
    }
   ],
   "source": [
    "inputs = keras.Input(shape=(28 * 28,))\n",
    "features = layers.Dense(512, activation=\"relu\")(inputs)\n",
    "features = layers.Dropout(0.5)(features)\n",
    "outputs = layers.Dense(10, activation=\"softmax\")(features)\n",
    "model = CustomModel(inputs, outputs)\n",
    "\n",
    "model.compile(optimizer=keras.optimizers.RMSprop(),\n",
    "              loss=keras.losses.SparseCategoricalCrossentropy(),\n",
    "              metrics=[keras.metrics.SparseCategoricalAccuracy()])\n",
    "model.fit(train_images, train_labels, epochs=3)"
   ]
  },
  {
   "cell_type": "markdown",
   "metadata": {
    "id": "r0P80VpF53_V"
   },
   "source": [
    "## Summary"
   ]
  },
  {
   "cell_type": "code",
   "execution_count": null,
   "metadata": {},
   "outputs": [],
   "source": []
  }
 ],
 "metadata": {
  "accelerator": "GPU",
  "colab": {
   "collapsed_sections": [],
   "provenance": [],
   "toc_visible": true
  },
  "kernelspec": {
   "display_name": "Python 3 (ipykernel)",
   "language": "python",
   "name": "python3"
  },
  "language_info": {
   "codemirror_mode": {
    "name": "ipython",
    "version": 3
   },
   "file_extension": ".py",
   "mimetype": "text/x-python",
   "name": "python",
   "nbconvert_exporter": "python",
   "pygments_lexer": "ipython3",
   "version": "3.8.13"
  }
 },
 "nbformat": 4,
 "nbformat_minor": 4
}
